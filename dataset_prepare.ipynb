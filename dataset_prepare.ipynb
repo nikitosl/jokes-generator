{
 "cells": [
  {
   "cell_type": "markdown",
   "id": "efa05cae",
   "metadata": {
    "heading_collapsed": true
   },
   "source": [
    "## Tg comedy dataset"
   ]
  },
  {
   "cell_type": "code",
   "execution_count": 9,
   "id": "4d6f7807",
   "metadata": {
    "hidden": true
   },
   "outputs": [],
   "source": [
    "import os\n",
    "from glob import glob\n",
    "import re\n",
    "import pandas as pd\n",
    "\n",
    "from tqdm import tqdm\n",
    "tqdm.pandas()"
   ]
  },
  {
   "cell_type": "markdown",
   "id": "89ec6312",
   "metadata": {
    "heading_collapsed": true,
    "hidden": true
   },
   "source": [
    "### Create .txt files"
   ]
  },
  {
   "cell_type": "code",
   "execution_count": 31,
   "id": "657109e1",
   "metadata": {
    "hidden": true
   },
   "outputs": [
    {
     "name": "stdout",
     "output_type": "stream",
     "text": [
      "jokes80.txt\n",
      "jokes81.txt\n",
      "jokes82.txt\n",
      "jokes83.txt\n",
      "jokes84.txt\n",
      "jokes85.txt\n",
      "jokes86.txt\n",
      "jokes87.txt\n",
      "jokes88.txt\n",
      "jokes89.txt\n"
     ]
    }
   ],
   "source": [
    "from pathlib import Path\n",
    "for i in range(80, 90):\n",
    "    Path(f'comedy-news-tg-dataset/jokes{i}.txt').touch()\n",
    "    print(f'jokes{i}.txt')"
   ]
  },
  {
   "cell_type": "markdown",
   "id": "7f524b3f",
   "metadata": {
    "heading_collapsed": true,
    "hidden": true
   },
   "source": [
    "### Convert .txt files to .tsv"
   ]
  },
  {
   "cell_type": "code",
   "execution_count": 32,
   "id": "ae68be54",
   "metadata": {
    "hidden": true
   },
   "outputs": [
    {
     "name": "stdout",
     "output_type": "stream",
     "text": [
      "comedy-news-tg-dataset/jokes79.txt, size: 128\n",
      "comedy-news-tg-dataset/jokes78.txt, size: 123\n",
      "comedy-news-tg-dataset/jokes57.txt, size: 165\n",
      "comedy-news-tg-dataset/jokes80.txt, size: 134\n",
      "comedy-news-tg-dataset/jokes81.txt, size: 134\n",
      "comedy-news-tg-dataset/jokes56.txt, size: 141\n",
      "comedy-news-tg-dataset/jokes68.txt, size: 141\n",
      "comedy-news-tg-dataset/jokes83.txt, size: 133\n",
      "comedy-news-tg-dataset/jokes82.txt, size: 102\n",
      "comedy-news-tg-dataset/jokes69.txt, size: 126\n",
      "comedy-news-tg-dataset/jokes64.txt, size: 198\n",
      "comedy-news-tg-dataset/jokes70.txt, size: 111\n",
      "comedy-news-tg-dataset/jokes58.txt, size: 135\n",
      "comedy-news-tg-dataset/jokes59.txt, size: 178\n",
      "comedy-news-tg-dataset/jokes71.txt, size: 127\n",
      "comedy-news-tg-dataset/jokes65.txt, size: 137\n",
      "comedy-news-tg-dataset/jokes73.txt, size: 137\n",
      "comedy-news-tg-dataset/jokes67.txt, size: 130\n",
      "comedy-news-tg-dataset/jokes66.txt, size: 132\n",
      "comedy-news-tg-dataset/jokes72.txt, size: 131\n",
      "comedy-news-tg-dataset/jokes76.txt, size: 102\n",
      "comedy-news-tg-dataset/jokes62.txt, size: 119\n",
      "comedy-news-tg-dataset/jokes63.txt, size: 108\n",
      "comedy-news-tg-dataset/jokes77.txt, size: 93\n",
      "comedy-news-tg-dataset/jokes61.txt, size: 119\n",
      "comedy-news-tg-dataset/jokes75.txt, size: 130\n",
      "comedy-news-tg-dataset/jokes74.txt, size: 131\n",
      "comedy-news-tg-dataset/jokes60.txt, size: 110\n"
     ]
    }
   ],
   "source": [
    "df = pd.DataFrame()\n",
    "pattern = r\"(.+)\\,\\s\\[.*\\]\\:\\n(.+)\"\n",
    "\n",
    "for filepath in glob('comedy-news-tg-dataset/jokes*.txt'):\n",
    "    \n",
    "    if os.path.getsize(filepath) == 0:\n",
    "        continue\n",
    "        \n",
    "    filenum = re.search('\\d+', filepath)[0]\n",
    "    print(filepath, end=', size: ')\n",
    "    \n",
    "    with open(filepath) as f:\n",
    "        setup = f.readline().replace('\\xa0', ' ').strip()[:-1]\n",
    "        \n",
    "        raw_jokes = f.read().replace('\\xa0', ' ').strip()\n",
    "        raw_jokes = re.sub(r'(Н|н)овость(\\W|\\n)*', '', raw_jokes)\n",
    "        raw_jokes = re.sub(f'{setup}(\\W|\\n)*', '', raw_jokes)\n",
    "        \n",
    "    parsed = re.findall(pattern, raw_jokes)\n",
    "    temp_df = pd.DataFrame(parsed, columns=['author', 'punch'])\n",
    "    temp_df['setup'] = setup\n",
    "    temp_df['mark'] = None\n",
    "    \n",
    "    temp_df = temp_df[['setup', 'author', 'punch', 'mark']]\n",
    "    \n",
    "    temp_df.to_csv(f'comedy-news-tg-dataset/tg_{filenum}.tsv', sep='\\t', index=False)\n",
    "    \n",
    "    print(temp_df.shape[0])\n",
    "    df = df.append(temp_df)"
   ]
  },
  {
   "cell_type": "markdown",
   "id": "9b399cd9",
   "metadata": {
    "hidden": true
   },
   "source": [
    "### Full dataset creation"
   ]
  },
  {
   "cell_type": "code",
   "execution_count": 33,
   "id": "e1754249",
   "metadata": {
    "hidden": true
   },
   "outputs": [],
   "source": [
    "# glob.glob('data/comedy-news-tg-dataset/*.tsv')\n",
    "get_filenum = lambda t: int(re.search('\\d+', t)[0])"
   ]
  },
  {
   "cell_type": "code",
   "execution_count": 34,
   "id": "90879e48",
   "metadata": {
    "hidden": true
   },
   "outputs": [
    {
     "name": "stdout",
     "output_type": "stream",
     "text": [
      "(8547, 6)\n"
     ]
    }
   ],
   "source": [
    "df = pd.DataFrame()\n",
    "for filepath in glob('comedy-news-tg-dataset/marked/tg_*.tsv'):\n",
    "    temp_df = pd.read_csv(filepath, sep='\\t')\n",
    "    temp_df['setup_num'] = get_filenum(filepath)\n",
    "    temp_df['punch_num'] = temp_df.index + 1\n",
    "    \n",
    "    df = df.append(temp_df)\n",
    "    \n",
    "df['mark'] = df['mark'].fillna(0).astype(int)\n",
    "print(df.shape)"
   ]
  },
  {
   "cell_type": "code",
   "execution_count": 35,
   "id": "5774d660",
   "metadata": {
    "hidden": true
   },
   "outputs": [],
   "source": [
    "df.to_csv('comedy-news-tg-dataset/marked/full_dataset.tsv', sep='\\t', index=False)"
   ]
  },
  {
   "cell_type": "code",
   "execution_count": 36,
   "id": "ab5efd99",
   "metadata": {
    "hidden": true,
    "scrolled": false
   },
   "outputs": [
    {
     "data": {
      "text/html": [
       "<div>\n",
       "<style scoped>\n",
       "    .dataframe tbody tr th:only-of-type {\n",
       "        vertical-align: middle;\n",
       "    }\n",
       "\n",
       "    .dataframe tbody tr th {\n",
       "        vertical-align: top;\n",
       "    }\n",
       "\n",
       "    .dataframe thead th {\n",
       "        text-align: right;\n",
       "    }\n",
       "</style>\n",
       "<table border=\"1\" class=\"dataframe\">\n",
       "  <thead>\n",
       "    <tr style=\"text-align: right;\">\n",
       "      <th></th>\n",
       "      <th>setup</th>\n",
       "      <th>author</th>\n",
       "      <th>punch</th>\n",
       "      <th>mark</th>\n",
       "      <th>setup_num</th>\n",
       "      <th>punch_num</th>\n",
       "    </tr>\n",
       "  </thead>\n",
       "  <tbody>\n",
       "    <tr>\n",
       "      <th>0</th>\n",
       "      <td>Семилетняя россиянка Анастасия Радзинская вошл...</td>\n",
       "      <td>Александр Головко</td>\n",
       "      <td>Ее полное имя Анастасия 1Хbet Радзинская</td>\n",
       "      <td>13</td>\n",
       "      <td>22</td>\n",
       "      <td>1</td>\n",
       "    </tr>\n",
       "    <tr>\n",
       "      <th>1</th>\n",
       "      <td>Семилетняя россиянка Анастасия Радзинская вошл...</td>\n",
       "      <td>Хабиб</td>\n",
       "      <td>Лучший родительский стартап</td>\n",
       "      <td>1</td>\n",
       "      <td>22</td>\n",
       "      <td>2</td>\n",
       "    </tr>\n",
       "    <tr>\n",
       "      <th>2</th>\n",
       "      <td>Семилетняя россиянка Анастасия Радзинская вошл...</td>\n",
       "      <td>Ксения Журавлева</td>\n",
       "      <td>И получила по жопе</td>\n",
       "      <td>2</td>\n",
       "      <td>22</td>\n",
       "      <td>3</td>\n",
       "    </tr>\n",
       "    <tr>\n",
       "      <th>3</th>\n",
       "      <td>Семилетняя россиянка Анастасия Радзинская вошл...</td>\n",
       "      <td>Albert</td>\n",
       "      <td>В десятку за семилетку - такой программе даже ...</td>\n",
       "      <td>5</td>\n",
       "      <td>22</td>\n",
       "      <td>4</td>\n",
       "    </tr>\n",
       "    <tr>\n",
       "      <th>4</th>\n",
       "      <td>Семилетняя россиянка Анастасия Радзинская вошл...</td>\n",
       "      <td>Комар</td>\n",
       "      <td>Ее продюсеру за такое продвижение тоже светит ...</td>\n",
       "      <td>2</td>\n",
       "      <td>22</td>\n",
       "      <td>5</td>\n",
       "    </tr>\n",
       "    <tr>\n",
       "      <th>...</th>\n",
       "      <td>...</td>\n",
       "      <td>...</td>\n",
       "      <td>...</td>\n",
       "      <td>...</td>\n",
       "      <td>...</td>\n",
       "      <td>...</td>\n",
       "    </tr>\n",
       "    <tr>\n",
       "      <th>171</th>\n",
       "      <td>Balenciaga выпустил кроссовки на каблуках почт...</td>\n",
       "      <td>Никита Ватолин</td>\n",
       "      <td>Фабрика \"Сударь\" в ответ традиционно ничего не...</td>\n",
       "      <td>1</td>\n",
       "      <td>13</td>\n",
       "      <td>172</td>\n",
       "    </tr>\n",
       "    <tr>\n",
       "      <th>172</th>\n",
       "      <td>Balenciaga выпустил кроссовки на каблуках почт...</td>\n",
       "      <td>Elizabeth 🦦</td>\n",
       "      <td>Миллениалы изобрели сапоги</td>\n",
       "      <td>0</td>\n",
       "      <td>13</td>\n",
       "      <td>173</td>\n",
       "    </tr>\n",
       "    <tr>\n",
       "      <th>173</th>\n",
       "      <td>Balenciaga выпустил кроссовки на каблуках почт...</td>\n",
       "      <td>Комар</td>\n",
       "      <td>За эти шпили у Лили будут шпилли-вилли</td>\n",
       "      <td>1</td>\n",
       "      <td>13</td>\n",
       "      <td>174</td>\n",
       "    </tr>\n",
       "    <tr>\n",
       "      <th>174</th>\n",
       "      <td>Balenciaga выпустил кроссовки на каблуках почт...</td>\n",
       "      <td>Aleksandr Scheglov</td>\n",
       "      <td>Сразу видно, создатели Balenciaga досмотрели м...</td>\n",
       "      <td>0</td>\n",
       "      <td>13</td>\n",
       "      <td>175</td>\n",
       "    </tr>\n",
       "    <tr>\n",
       "      <th>175</th>\n",
       "      <td>Balenciaga выпустил кроссовки на каблуках почт...</td>\n",
       "      <td>Рома Шляк</td>\n",
       "      <td>Единственные кроссовки, в которых пускают в клуб</td>\n",
       "      <td>4</td>\n",
       "      <td>13</td>\n",
       "      <td>176</td>\n",
       "    </tr>\n",
       "  </tbody>\n",
       "</table>\n",
       "<p>8547 rows × 6 columns</p>\n",
       "</div>"
      ],
      "text/plain": [
       "                                                 setup              author  \\\n",
       "0    Семилетняя россиянка Анастасия Радзинская вошл...   Александр Головко   \n",
       "1    Семилетняя россиянка Анастасия Радзинская вошл...               Хабиб   \n",
       "2    Семилетняя россиянка Анастасия Радзинская вошл...    Ксения Журавлева   \n",
       "3    Семилетняя россиянка Анастасия Радзинская вошл...              Albert   \n",
       "4    Семилетняя россиянка Анастасия Радзинская вошл...               Комар   \n",
       "..                                                 ...                 ...   \n",
       "171  Balenciaga выпустил кроссовки на каблуках почт...      Никита Ватолин   \n",
       "172  Balenciaga выпустил кроссовки на каблуках почт...         Elizabeth 🦦   \n",
       "173  Balenciaga выпустил кроссовки на каблуках почт...               Комар   \n",
       "174  Balenciaga выпустил кроссовки на каблуках почт...  Aleksandr Scheglov   \n",
       "175  Balenciaga выпустил кроссовки на каблуках почт...           Рома Шляк   \n",
       "\n",
       "                                                 punch  mark  setup_num  \\\n",
       "0             Ее полное имя Анастасия 1Хbet Радзинская    13         22   \n",
       "1                          Лучший родительский стартап     1         22   \n",
       "2                                   И получила по жопе     2         22   \n",
       "3    В десятку за семилетку - такой программе даже ...     5         22   \n",
       "4    Ее продюсеру за такое продвижение тоже светит ...     2         22   \n",
       "..                                                 ...   ...        ...   \n",
       "171  Фабрика \"Сударь\" в ответ традиционно ничего не...     1         13   \n",
       "172                         Миллениалы изобрели сапоги     0         13   \n",
       "173             За эти шпили у Лили будут шпилли-вилли     1         13   \n",
       "174  Сразу видно, создатели Balenciaga досмотрели м...     0         13   \n",
       "175   Единственные кроссовки, в которых пускают в клуб     4         13   \n",
       "\n",
       "     punch_num  \n",
       "0            1  \n",
       "1            2  \n",
       "2            3  \n",
       "3            4  \n",
       "4            5  \n",
       "..         ...  \n",
       "171        172  \n",
       "172        173  \n",
       "173        174  \n",
       "174        175  \n",
       "175        176  \n",
       "\n",
       "[8547 rows x 6 columns]"
      ]
     },
     "execution_count": 36,
     "metadata": {},
     "output_type": "execute_result"
    }
   ],
   "source": [
    "df"
   ]
  },
  {
   "cell_type": "markdown",
   "id": "f82345e7",
   "metadata": {
    "heading_collapsed": true
   },
   "source": [
    "## English datasets"
   ]
  },
  {
   "cell_type": "code",
   "execution_count": 123,
   "id": "49ce5e4e",
   "metadata": {
    "hidden": true
   },
   "outputs": [],
   "source": [
    "import json\n",
    "import pandas as pd\n",
    "import re\n",
    "from tqdm import tqdm\n",
    "from tqdm.contrib.concurrent import process_map\n",
    "tqdm.pandas()\n",
    "\n",
    "from deep_translator import GoogleTranslator\n",
    "from deep_translator.exceptions import NotValidPayload"
   ]
  },
  {
   "cell_type": "code",
   "execution_count": 114,
   "id": "371945de",
   "metadata": {
    "hidden": true
   },
   "outputs": [],
   "source": [
    "translator = GoogleTranslator(source='en', target='ru')\n",
    "def translate_eng2rus(text):\n",
    "    translated = ''\n",
    "    try:\n",
    "        translated =  translator.translate(text)\n",
    "    except NotValidPayload:\n",
    "        print(f'Broken text: {text}')\n",
    "    \n",
    "    return translated"
   ]
  },
  {
   "cell_type": "code",
   "execution_count": 132,
   "id": "edf141f0",
   "metadata": {
    "hidden": true
   },
   "outputs": [],
   "source": [
    "def remove_special_tokens(text):\n",
    "    result = ''\n",
    "    try:\n",
    "        result = re.sub(r'\\r|\\n|\\t', '', text)\n",
    "    except:\n",
    "        pass\n",
    "    return result"
   ]
  },
  {
   "cell_type": "markdown",
   "id": "7766f730",
   "metadata": {
    "heading_collapsed": true,
    "hidden": true
   },
   "source": [
    "### Reddit"
   ]
  },
  {
   "cell_type": "code",
   "execution_count": 105,
   "id": "005d7d33",
   "metadata": {
    "hidden": true
   },
   "outputs": [],
   "source": [
    "with open('reddit_jokes.json') as f:\n",
    "    reddit_dict = json.load(f)"
   ]
  },
  {
   "cell_type": "raw",
   "id": "4fc5ca86",
   "metadata": {
    "hidden": true
   },
   "source": [
    "reddit_df = pd.DataFrame(reddit_dict) \\\n",
    "    .drop('id', axis=1) \\\n",
    "    .rename(columns={'body': 'punch', \n",
    "                     'title': 'setup', \n",
    "                     'score': 'mark'}) \n",
    "\n",
    "reddit_df.punch = reddit_df.punch.str.replace('\\n', '').replace('\\t', '')\n",
    "reddit_df.setup = reddit_df.setup.str.replace('\\n', '').replace('\\t', '')\n",
    "\n",
    "# Specify len < 500\n",
    "reddit_df = reddit_df.loc[reddit_df.punch.apply(len) <= 500]\n",
    "reddit_df = reddit_df.loc[reddit_df.punch.apply(len) > 5]\n",
    "\n",
    "reddit_df['rus_punch'] = None\n",
    "reddit_df['rus_setup'] = None\n",
    "\n",
    "reddit_df = reddit_df.sort_values('mark', ascending=False) \\\n",
    "    .reset_index(drop=True)"
   ]
  },
  {
   "cell_type": "code",
   "execution_count": 111,
   "id": "5ec90c0c",
   "metadata": {
    "hidden": true
   },
   "outputs": [
    {
     "name": "stderr",
     "output_type": "stream",
     "text": [
      "/Users/naltukhov/Documents/programs/venv/lib/python3.9/site-packages/IPython/core/interactiveshell.py:3169: DtypeWarning: Columns (1,2,3,4) have mixed types.Specify dtype option on import or set low_memory=False.\n",
      "  has_raised = await self.run_ast_nodes(code_ast.body, cell_name,\n"
     ]
    }
   ],
   "source": [
    "reddit_df = pd.read_csv('/Users/naltukhov/Documents/programs/jokes-generator/eng-joke-dataset/reddit-dataset.tsv',\n",
    "                        sep='\\t')"
   ]
  },
  {
   "cell_type": "code",
   "execution_count": 117,
   "id": "0d5f5ba0",
   "metadata": {
    "hidden": true,
    "scrolled": true
   },
   "outputs": [
    {
     "name": "stderr",
     "output_type": "stream",
     "text": [
      "\r",
      "  0%|          | 0/1000 [00:00<?, ?it/s]"
     ]
    },
    {
     "name": "stdout",
     "output_type": "stream",
     "text": [
      "1185056\n"
     ]
    },
    {
     "name": "stderr",
     "output_type": "stream",
     "text": [
      "100%|██████████| 1000/1000 [14:44<00:00,  1.13it/s]\n",
      "  0%|          | 0/1000 [00:00<?, ?it/s]"
     ]
    },
    {
     "name": "stdout",
     "output_type": "stream",
     "text": [
      "Broken text: nan\n",
      "Broken text: nan\n",
      "Broken text: nan\n",
      "Broken text: nan\n"
     ]
    },
    {
     "name": "stderr",
     "output_type": "stream",
     "text": [
      "100%|██████████| 1000/1000 [14:32<00:00,  1.15it/s]\n",
      "  0%|          | 0/1000 [00:00<?, ?it/s]"
     ]
    },
    {
     "name": "stdout",
     "output_type": "stream",
     "text": [
      "1184056\n"
     ]
    },
    {
     "name": "stderr",
     "output_type": "stream",
     "text": [
      "100%|██████████| 1000/1000 [14:42<00:00,  1.13it/s]\n",
      "100%|██████████| 1000/1000 [13:40<00:00,  1.22it/s]\n",
      "  0%|          | 0/1000 [00:00<?, ?it/s]"
     ]
    },
    {
     "name": "stdout",
     "output_type": "stream",
     "text": [
      "1183056\n"
     ]
    },
    {
     "name": "stderr",
     "output_type": "stream",
     "text": [
      "100%|██████████| 1000/1000 [13:01<00:00,  1.28it/s]\n",
      "  2%|▏         | 17/1000 [00:11<07:03,  2.32it/s]"
     ]
    },
    {
     "name": "stdout",
     "output_type": "stream",
     "text": [
      "Broken text: nan\n"
     ]
    },
    {
     "name": "stderr",
     "output_type": "stream",
     "text": [
      " 86%|████████▌ | 858/1000 [11:59<02:04,  1.14it/s] "
     ]
    },
    {
     "name": "stdout",
     "output_type": "stream",
     "text": [
      "Broken text: 69\n"
     ]
    },
    {
     "name": "stderr",
     "output_type": "stream",
     "text": [
      "100%|██████████| 1000/1000 [13:57<00:00,  1.19it/s]\n",
      "  0%|          | 0/1000 [00:00<?, ?it/s]"
     ]
    },
    {
     "name": "stdout",
     "output_type": "stream",
     "text": [
      "1182056\n"
     ]
    },
    {
     "name": "stderr",
     "output_type": "stream",
     "text": [
      "100%|██████████| 1000/1000 [13:34<00:00,  1.23it/s]\n",
      "  8%|▊         | 76/1000 [01:04<12:32,  1.23it/s]"
     ]
    },
    {
     "name": "stdout",
     "output_type": "stream",
     "text": [
      "Broken text: nan\n",
      "Broken text: nan\n"
     ]
    },
    {
     "name": "stderr",
     "output_type": "stream",
     "text": [
      "100%|██████████| 1000/1000 [14:20<00:00,  1.16it/s]\n",
      "  0%|          | 0/1000 [00:00<?, ?it/s]"
     ]
    },
    {
     "name": "stdout",
     "output_type": "stream",
     "text": [
      "1181056\n"
     ]
    },
    {
     "name": "stderr",
     "output_type": "stream",
     "text": [
      "100%|██████████| 1000/1000 [14:20<00:00,  1.16it/s]\n",
      "100%|██████████| 1000/1000 [13:42<00:00,  1.22it/s]\n",
      "  0%|          | 2/1000 [00:00<00:57, 17.33it/s]"
     ]
    },
    {
     "name": "stdout",
     "output_type": "stream",
     "text": [
      "1180056\n"
     ]
    },
    {
     "name": "stderr",
     "output_type": "stream",
     "text": [
      "100%|██████████| 1000/1000 [14:10<00:00,  1.18it/s] \n",
      "100%|██████████| 1000/1000 [15:06<00:00,  1.10it/s]\n",
      "  0%|          | 0/1000 [00:00<?, ?it/s]"
     ]
    },
    {
     "name": "stdout",
     "output_type": "stream",
     "text": [
      "1179056\n"
     ]
    },
    {
     "name": "stderr",
     "output_type": "stream",
     "text": [
      "100%|██████████| 1000/1000 [13:58<00:00,  1.19it/s] \n",
      "100%|██████████| 1000/1000 [14:36<00:00,  1.14it/s] \n",
      "  0%|          | 0/1000 [00:00<?, ?it/s]"
     ]
    },
    {
     "name": "stdout",
     "output_type": "stream",
     "text": [
      "1178056\n"
     ]
    },
    {
     "name": "stderr",
     "output_type": "stream",
     "text": [
      "100%|██████████| 1000/1000 [13:37<00:00,  1.22it/s]\n",
      "100%|██████████| 1000/1000 [14:44<00:00,  1.13it/s] \n",
      "  0%|          | 0/1000 [00:00<?, ?it/s]"
     ]
    },
    {
     "name": "stdout",
     "output_type": "stream",
     "text": [
      "1177056\n"
     ]
    },
    {
     "name": "stderr",
     "output_type": "stream",
     "text": [
      "100%|██████████| 1000/1000 [13:35<00:00,  1.23it/s]\n",
      "100%|██████████| 1000/1000 [13:57<00:00,  1.19it/s]\n",
      "  0%|          | 0/1000 [00:00<?, ?it/s]"
     ]
    },
    {
     "name": "stdout",
     "output_type": "stream",
     "text": [
      "1176056\n"
     ]
    },
    {
     "name": "stderr",
     "output_type": "stream",
     "text": [
      "100%|██████████| 1000/1000 [13:57<00:00,  1.19it/s]\n",
      "100%|██████████| 1000/1000 [13:32<00:00,  1.23it/s] \n",
      "  0%|          | 0/1000 [00:00<?, ?it/s]"
     ]
    },
    {
     "name": "stdout",
     "output_type": "stream",
     "text": [
      "1175056\n"
     ]
    },
    {
     "name": "stderr",
     "output_type": "stream",
     "text": [
      "100%|██████████| 1000/1000 [13:38<00:00,  1.22it/s]\n",
      " 85%|████████▌ | 850/1000 [11:06<02:13,  1.13it/s]"
     ]
    },
    {
     "name": "stdout",
     "output_type": "stream",
     "text": [
      "Broken text: nan\n",
      "Broken text: nan\n",
      "Broken text: nan\n",
      "Broken text: nan\n"
     ]
    },
    {
     "name": "stderr",
     "output_type": "stream",
     "text": [
      "100%|██████████| 1000/1000 [13:01<00:00,  1.28it/s]\n",
      "  0%|          | 0/1000 [00:00<?, ?it/s]"
     ]
    },
    {
     "name": "stdout",
     "output_type": "stream",
     "text": [
      "1174056\n"
     ]
    },
    {
     "name": "stderr",
     "output_type": "stream",
     "text": [
      "100%|██████████| 1000/1000 [13:08<00:00,  1.27it/s]\n",
      "100%|██████████| 1000/1000 [13:46<00:00,  1.21it/s]\n",
      "  0%|          | 0/1000 [00:00<?, ?it/s]"
     ]
    },
    {
     "name": "stdout",
     "output_type": "stream",
     "text": [
      "1173056\n"
     ]
    },
    {
     "name": "stderr",
     "output_type": "stream",
     "text": [
      "100%|██████████| 1000/1000 [13:30<00:00,  1.23it/s] \n",
      "100%|██████████| 1000/1000 [13:19<00:00,  1.25it/s]\n",
      "  0%|          | 2/1000 [00:00<00:56, 17.55it/s]"
     ]
    },
    {
     "name": "stdout",
     "output_type": "stream",
     "text": [
      "1172056\n"
     ]
    },
    {
     "name": "stderr",
     "output_type": "stream",
     "text": [
      "100%|██████████| 1000/1000 [13:16<00:00,  1.26it/s]\n",
      "100%|██████████| 1000/1000 [14:01<00:00,  1.19it/s] \n",
      "  0%|          | 0/1000 [00:00<?, ?it/s]"
     ]
    },
    {
     "name": "stdout",
     "output_type": "stream",
     "text": [
      "1171056\n"
     ]
    },
    {
     "name": "stderr",
     "output_type": "stream",
     "text": [
      "100%|██████████| 1000/1000 [13:45<00:00,  1.21it/s] \n",
      " 80%|████████  | 803/1000 [10:17<02:28,  1.33it/s]"
     ]
    },
    {
     "name": "stdout",
     "output_type": "stream",
     "text": [
      "Broken text: nan\n",
      "Broken text: nan\n",
      "Broken text: nan\n",
      "Broken text: nan\n",
      "Broken text: nan\n"
     ]
    },
    {
     "name": "stderr",
     "output_type": "stream",
     "text": [
      "100%|██████████| 1000/1000 [12:50<00:00,  1.30it/s]\n",
      "  0%|          | 0/1000 [00:00<?, ?it/s]"
     ]
    },
    {
     "name": "stdout",
     "output_type": "stream",
     "text": [
      "1170056\n"
     ]
    },
    {
     "name": "stderr",
     "output_type": "stream",
     "text": [
      "100%|██████████| 1000/1000 [13:01<00:00,  1.28it/s]\n",
      "100%|██████████| 1000/1000 [13:09<00:00,  1.27it/s] \n",
      "  0%|          | 0/1000 [00:00<?, ?it/s]"
     ]
    },
    {
     "name": "stdout",
     "output_type": "stream",
     "text": [
      "1169056\n"
     ]
    },
    {
     "name": "stderr",
     "output_type": "stream",
     "text": [
      "100%|██████████| 1000/1000 [12:56<00:00,  1.29it/s] \n",
      " 21%|██        | 206/1000 [02:52<09:20,  1.42it/s]"
     ]
    },
    {
     "name": "stdout",
     "output_type": "stream",
     "text": [
      "Broken text: nan\n",
      "Broken text: nan\n",
      "Broken text: nan\n"
     ]
    },
    {
     "name": "stderr",
     "output_type": "stream",
     "text": [
      " 38%|███▊      | 384/1000 [05:06<05:55,  1.73it/s]"
     ]
    },
    {
     "name": "stdout",
     "output_type": "stream",
     "text": [
      "Broken text: nan\n"
     ]
    },
    {
     "name": "stderr",
     "output_type": "stream",
     "text": [
      "100%|██████████| 1000/1000 [13:43<00:00,  1.21it/s]\n",
      "  0%|          | 0/1000 [00:00<?, ?it/s]"
     ]
    },
    {
     "name": "stdout",
     "output_type": "stream",
     "text": [
      "1168056\n"
     ]
    },
    {
     "name": "stderr",
     "output_type": "stream",
     "text": [
      "100%|██████████| 1000/1000 [12:46<00:00,  1.31it/s]\n",
      " 57%|█████▋    | 573/1000 [07:36<03:52,  1.84it/s]"
     ]
    },
    {
     "name": "stdout",
     "output_type": "stream",
     "text": [
      "Broken text: nan\n"
     ]
    },
    {
     "name": "stderr",
     "output_type": "stream",
     "text": [
      "100%|██████████| 1000/1000 [13:39<00:00,  1.22it/s]\n",
      "  0%|          | 0/1000 [00:00<?, ?it/s]"
     ]
    },
    {
     "name": "stdout",
     "output_type": "stream",
     "text": [
      "1167056\n"
     ]
    },
    {
     "name": "stderr",
     "output_type": "stream",
     "text": [
      "100%|██████████| 1000/1000 [12:53<00:00,  1.29it/s] \n",
      "100%|██████████| 1000/1000 [13:51<00:00,  1.20it/s]\n",
      "  0%|          | 0/1000 [00:00<?, ?it/s]"
     ]
    },
    {
     "name": "stdout",
     "output_type": "stream",
     "text": [
      "1166056\n"
     ]
    },
    {
     "name": "stderr",
     "output_type": "stream",
     "text": [
      "100%|██████████| 1000/1000 [13:40<00:00,  1.22it/s]\n",
      "100%|██████████| 1000/1000 [13:44<00:00,  1.21it/s]\n",
      "  0%|          | 0/1000 [00:00<?, ?it/s]"
     ]
    },
    {
     "name": "stdout",
     "output_type": "stream",
     "text": [
      "1165056\n"
     ]
    },
    {
     "name": "stderr",
     "output_type": "stream",
     "text": [
      "100%|██████████| 1000/1000 [13:09<00:00,  1.27it/s] \n",
      " 38%|███▊      | 376/1000 [05:20<08:45,  1.19it/s]  "
     ]
    },
    {
     "name": "stdout",
     "output_type": "stream",
     "text": [
      "Broken text: nan\n"
     ]
    },
    {
     "name": "stderr",
     "output_type": "stream",
     "text": [
      "100%|██████████| 1000/1000 [13:41<00:00,  1.22it/s]\n",
      "  0%|          | 0/1000 [00:00<?, ?it/s]"
     ]
    },
    {
     "name": "stdout",
     "output_type": "stream",
     "text": [
      "1164056\n"
     ]
    },
    {
     "name": "stderr",
     "output_type": "stream",
     "text": [
      " 15%|█▌        | 150/1000 [01:58<10:42,  1.32it/s]"
     ]
    },
    {
     "name": "stdout",
     "output_type": "stream",
     "text": [
      "Broken text:               \n"
     ]
    },
    {
     "name": "stderr",
     "output_type": "stream",
     "text": [
      "100%|██████████| 1000/1000 [13:26<00:00,  1.24it/s]\n",
      "100%|██████████| 1000/1000 [13:31<00:00,  1.23it/s]\n",
      "  0%|          | 0/1000 [00:00<?, ?it/s]"
     ]
    },
    {
     "name": "stdout",
     "output_type": "stream",
     "text": [
      "1163056\n"
     ]
    },
    {
     "name": "stderr",
     "output_type": "stream",
     "text": [
      "100%|██████████| 1000/1000 [13:00<00:00,  1.28it/s] \n",
      " 23%|██▎       | 227/1000 [03:07<06:52,  1.87it/s]"
     ]
    },
    {
     "name": "stdout",
     "output_type": "stream",
     "text": [
      "Broken text: ______________________\n"
     ]
    },
    {
     "name": "stderr",
     "output_type": "stream",
     "text": [
      "100%|██████████| 1000/1000 [13:40<00:00,  1.22it/s]\n",
      "  0%|          | 0/1000 [00:00<?, ?it/s]"
     ]
    },
    {
     "name": "stdout",
     "output_type": "stream",
     "text": [
      "1162056\n"
     ]
    },
    {
     "name": "stderr",
     "output_type": "stream",
     "text": [
      "100%|██████████| 1000/1000 [13:51<00:00,  1.20it/s]\n",
      " 27%|██▋       | 271/1000 [03:35<03:04,  3.95it/s]"
     ]
    },
    {
     "name": "stdout",
     "output_type": "stream",
     "text": [
      "Broken text: nan\n",
      "Broken text: nan\n",
      "Broken text: nan\n",
      "Broken text: nan\n"
     ]
    },
    {
     "name": "stderr",
     "output_type": "stream",
     "text": [
      "100%|██████████| 1000/1000 [13:31<00:00,  1.23it/s]\n",
      "  0%|          | 0/1000 [00:00<?, ?it/s]"
     ]
    },
    {
     "name": "stdout",
     "output_type": "stream",
     "text": [
      "1161056\n"
     ]
    },
    {
     "name": "stderr",
     "output_type": "stream",
     "text": [
      " 52%|█████▏    | 518/1000 [06:57<06:57,  1.15it/s]  "
     ]
    },
    {
     "name": "stdout",
     "output_type": "stream",
     "text": [
      "Broken text:              \n"
     ]
    },
    {
     "name": "stderr",
     "output_type": "stream",
     "text": [
      "100%|██████████| 1000/1000 [13:04<00:00,  1.27it/s]\n",
      "100%|██████████| 1000/1000 [13:16<00:00,  1.26it/s] \n",
      "  0%|          | 0/1000 [00:00<?, ?it/s]"
     ]
    },
    {
     "name": "stdout",
     "output_type": "stream",
     "text": [
      "1160056\n"
     ]
    },
    {
     "name": "stderr",
     "output_type": "stream",
     "text": [
      "100%|██████████| 1000/1000 [13:23<00:00,  1.24it/s]\n",
      "100%|██████████| 1000/1000 [13:20<00:00,  1.25it/s]\n",
      "  0%|          | 0/1000 [00:00<?, ?it/s]"
     ]
    },
    {
     "name": "stdout",
     "output_type": "stream",
     "text": [
      "1159056\n"
     ]
    },
    {
     "name": "stderr",
     "output_type": "stream",
     "text": [
      "100%|██████████| 1000/1000 [12:45<00:00,  1.31it/s]\n",
      "100%|██████████| 1000/1000 [12:54<00:00,  1.29it/s] \n",
      "  0%|          | 0/1000 [00:00<?, ?it/s]"
     ]
    },
    {
     "name": "stdout",
     "output_type": "stream",
     "text": [
      "1158056\n"
     ]
    },
    {
     "name": "stderr",
     "output_type": "stream",
     "text": [
      "100%|██████████| 1000/1000 [13:37<00:00,  1.22it/s] \n",
      " 76%|███████▌  | 758/1000 [10:15<03:02,  1.32it/s]"
     ]
    },
    {
     "name": "stdout",
     "output_type": "stream",
     "text": [
      "Broken text: nan\n"
     ]
    },
    {
     "name": "stderr",
     "output_type": "stream",
     "text": [
      "100%|██████████| 1000/1000 [13:37<00:00,  1.22it/s]\n",
      "  0%|          | 0/1000 [00:00<?, ?it/s]"
     ]
    },
    {
     "name": "stdout",
     "output_type": "stream",
     "text": [
      "1157056\n"
     ]
    },
    {
     "name": "stderr",
     "output_type": "stream",
     "text": [
      " 15%|█▌        | 153/1000 [02:04<09:18,  1.52it/s]"
     ]
    },
    {
     "name": "stdout",
     "output_type": "stream",
     "text": [
      "Broken text: nan\n"
     ]
    },
    {
     "name": "stderr",
     "output_type": "stream",
     "text": [
      " 82%|████████▏ | 817/1000 [11:17<02:03,  1.48it/s]"
     ]
    },
    {
     "name": "stdout",
     "output_type": "stream",
     "text": [
      "Broken text:              \n"
     ]
    },
    {
     "name": "stderr",
     "output_type": "stream",
     "text": [
      "100%|██████████| 1000/1000 [13:31<00:00,  1.23it/s]\n",
      " 15%|█▌        | 152/1000 [02:10<12:59,  1.09it/s]"
     ]
    },
    {
     "name": "stdout",
     "output_type": "stream",
     "text": [
      "Broken text: nan\n"
     ]
    },
    {
     "name": "stderr",
     "output_type": "stream",
     "text": [
      "100%|██████████| 1000/1000 [13:48<00:00,  1.21it/s] \n",
      "  0%|          | 0/1000 [00:00<?, ?it/s]"
     ]
    },
    {
     "name": "stdout",
     "output_type": "stream",
     "text": [
      "1156056\n"
     ]
    },
    {
     "name": "stderr",
     "output_type": "stream",
     "text": [
      "100%|██████████| 1000/1000 [15:29<00:00,  1.08it/s]\n",
      "100%|██████████| 1000/1000 [15:01<00:00,  1.11it/s]\n",
      "  0%|          | 2/1000 [00:00<00:51, 19.23it/s]"
     ]
    },
    {
     "name": "stdout",
     "output_type": "stream",
     "text": [
      "1155056\n"
     ]
    },
    {
     "name": "stderr",
     "output_type": "stream",
     "text": [
      "100%|██████████| 1000/1000 [12:59<00:00,  1.28it/s] \n",
      "  7%|▋         | 69/1000 [00:57<15:20,  1.01it/s]"
     ]
    },
    {
     "name": "stdout",
     "output_type": "stream",
     "text": [
      "Broken text: nan\n"
     ]
    },
    {
     "name": "stderr",
     "output_type": "stream",
     "text": [
      " 91%|█████████ | 909/1000 [12:30<00:39,  2.32it/s]  "
     ]
    },
    {
     "name": "stdout",
     "output_type": "stream",
     "text": [
      "Broken text: 59\n"
     ]
    },
    {
     "name": "stderr",
     "output_type": "stream",
     "text": [
      "100%|██████████| 1000/1000 [14:14<00:00,  1.17it/s]\n",
      "  0%|          | 0/1000 [00:00<?, ?it/s]"
     ]
    },
    {
     "name": "stdout",
     "output_type": "stream",
     "text": [
      "1154056\n"
     ]
    },
    {
     "name": "stderr",
     "output_type": "stream",
     "text": [
      "100%|██████████| 1000/1000 [13:26<00:00,  1.24it/s]\n",
      "100%|██████████| 1000/1000 [13:16<00:00,  1.26it/s]\n",
      "  0%|          | 0/1000 [00:00<?, ?it/s]"
     ]
    },
    {
     "name": "stdout",
     "output_type": "stream",
     "text": [
      "1153056\n"
     ]
    },
    {
     "name": "stderr",
     "output_type": "stream",
     "text": [
      "100%|██████████| 1000/1000 [13:39<00:00,  1.22it/s] \n",
      "100%|██████████| 1000/1000 [13:41<00:00,  1.22it/s]\n",
      "  0%|          | 0/1000 [00:00<?, ?it/s]"
     ]
    },
    {
     "name": "stdout",
     "output_type": "stream",
     "text": [
      "1152056\n"
     ]
    },
    {
     "name": "stderr",
     "output_type": "stream",
     "text": [
      "100%|██████████| 1000/1000 [13:33<00:00,  1.23it/s]\n",
      "100%|██████████| 1000/1000 [13:02<00:00,  1.28it/s]\n",
      "  0%|          | 0/1000 [00:00<?, ?it/s]"
     ]
    },
    {
     "name": "stdout",
     "output_type": "stream",
     "text": [
      "1151056\n"
     ]
    },
    {
     "name": "stderr",
     "output_type": "stream",
     "text": [
      "100%|██████████| 1000/1000 [13:03<00:00,  1.28it/s]\n",
      "100%|██████████| 1000/1000 [13:01<00:00,  1.28it/s] \n",
      "  0%|          | 0/1000 [00:00<?, ?it/s]"
     ]
    },
    {
     "name": "stdout",
     "output_type": "stream",
     "text": [
      "1150056\n"
     ]
    },
    {
     "name": "stderr",
     "output_type": "stream",
     "text": [
      "100%|██████████| 1000/1000 [13:38<00:00,  1.22it/s]\n",
      "100%|██████████| 1000/1000 [12:42<00:00,  1.31it/s]\n",
      "  0%|          | 2/1000 [00:00<00:51, 19.50it/s]"
     ]
    },
    {
     "name": "stdout",
     "output_type": "stream",
     "text": [
      "1149056\n"
     ]
    },
    {
     "name": "stderr",
     "output_type": "stream",
     "text": [
      "100%|██████████| 1000/1000 [13:17<00:00,  1.25it/s]\n",
      "100%|██████████| 1000/1000 [13:48<00:00,  1.21it/s] \n",
      "  0%|          | 0/1000 [00:00<?, ?it/s]"
     ]
    },
    {
     "name": "stdout",
     "output_type": "stream",
     "text": [
      "1148056\n"
     ]
    },
    {
     "name": "stderr",
     "output_type": "stream",
     "text": [
      "100%|██████████| 1000/1000 [13:36<00:00,  1.22it/s]\n",
      "  7%|▋         | 70/1000 [00:55<11:06,  1.40it/s]"
     ]
    },
    {
     "name": "stdout",
     "output_type": "stream",
     "text": [
      "Broken text: nan\n"
     ]
    },
    {
     "name": "stderr",
     "output_type": "stream",
     "text": [
      "100%|██████████| 1000/1000 [14:10<00:00,  1.18it/s] \n",
      "  0%|          | 0/1000 [00:00<?, ?it/s]"
     ]
    },
    {
     "name": "stdout",
     "output_type": "stream",
     "text": [
      "1147057\n"
     ]
    },
    {
     "name": "stderr",
     "output_type": "stream",
     "text": [
      "100%|██████████| 1000/1000 [14:08<00:00,  1.18it/s]\n",
      "100%|██████████| 1000/1000 [14:16<00:00,  1.17it/s]\n",
      "  0%|          | 2/1000 [00:00<00:56, 17.75it/s]"
     ]
    },
    {
     "name": "stdout",
     "output_type": "stream",
     "text": [
      "1146058\n"
     ]
    },
    {
     "name": "stderr",
     "output_type": "stream",
     "text": [
      "100%|██████████| 1000/1000 [13:59<00:00,  1.19it/s] \n",
      " 61%|██████    | 609/1000 [08:37<05:00,  1.30it/s]"
     ]
    },
    {
     "name": "stdout",
     "output_type": "stream",
     "text": [
      "Broken text: __________________________________________\n"
     ]
    },
    {
     "name": "stderr",
     "output_type": "stream",
     "text": [
      "100%|██████████| 1000/1000 [14:04<00:00,  1.18it/s]\n",
      "  0%|          | 2/1000 [00:00<00:59, 16.79it/s]"
     ]
    },
    {
     "name": "stdout",
     "output_type": "stream",
     "text": [
      "1145059\n"
     ]
    },
    {
     "name": "stderr",
     "output_type": "stream",
     "text": [
      "100%|██████████| 1000/1000 [15:18<00:00,  1.09it/s]\n",
      "100%|██████████| 1000/1000 [14:09<00:00,  1.18it/s]\n",
      "  0%|          | 2/1000 [00:00<00:56, 17.60it/s]"
     ]
    },
    {
     "name": "stdout",
     "output_type": "stream",
     "text": [
      "1144060\n"
     ]
    },
    {
     "name": "stderr",
     "output_type": "stream",
     "text": [
      "100%|██████████| 1000/1000 [14:10<00:00,  1.18it/s] \n",
      "100%|██████████| 1000/1000 [14:32<00:00,  1.15it/s] \n",
      "  0%|          | 0/1000 [00:00<?, ?it/s]"
     ]
    },
    {
     "name": "stdout",
     "output_type": "stream",
     "text": [
      "1143061\n"
     ]
    },
    {
     "name": "stderr",
     "output_type": "stream",
     "text": [
      "100%|██████████| 1000/1000 [14:00<00:00,  1.19it/s]\n",
      " 28%|██▊       | 283/1000 [04:13<11:16,  1.06it/s]"
     ]
    },
    {
     "name": "stdout",
     "output_type": "stream",
     "text": [
      "Broken text: nan\n"
     ]
    },
    {
     "name": "stderr",
     "output_type": "stream",
     "text": [
      "100%|██████████| 1000/1000 [14:59<00:00,  1.11it/s]\n",
      "  0%|          | 2/1000 [00:00<00:53, 18.54it/s]"
     ]
    },
    {
     "name": "stdout",
     "output_type": "stream",
     "text": [
      "1142062\n"
     ]
    },
    {
     "name": "stderr",
     "output_type": "stream",
     "text": [
      " 78%|███████▊  | 781/1000 [19:29:25<5:27:55, 89.84s/it]\n"
     ]
    },
    {
     "ename": "KeyboardInterrupt",
     "evalue": "",
     "output_type": "error",
     "traceback": [
      "\u001b[0;31m----------------------------------------------\u001b[0m",
      "\u001b[0;31mKeyboardInterrupt\u001b[0mTraceback (most recent call last)",
      "\u001b[0;32m<ipython-input-117-5a8795dccd22>\u001b[0m in \u001b[0;36m<module>\u001b[0;34m\u001b[0m\n\u001b[1;32m     10\u001b[0m \u001b[0;34m\u001b[0m\u001b[0m\n\u001b[1;32m     11\u001b[0m     \u001b[0mreddit_df\u001b[0m\u001b[0;34m.\u001b[0m\u001b[0mloc\u001b[0m\u001b[0;34m[\u001b[0m\u001b[0mneed_translate_index_sample\u001b[0m\u001b[0;34m,\u001b[0m \u001b[0;34m'rus_punch'\u001b[0m\u001b[0;34m]\u001b[0m \u001b[0;34m=\u001b[0m\u001b[0;31m \u001b[0m\u001b[0;31m\\\u001b[0m\u001b[0;34m\u001b[0m\u001b[0;34m\u001b[0m\u001b[0m\n\u001b[0;32m---> 12\u001b[0;31m         \u001b[0mreddit_df\u001b[0m\u001b[0;34m.\u001b[0m\u001b[0mloc\u001b[0m\u001b[0;34m[\u001b[0m\u001b[0mneed_translate_index_sample\u001b[0m\u001b[0;34m,\u001b[0m \u001b[0;34m'punch'\u001b[0m\u001b[0;34m]\u001b[0m\u001b[0;34m.\u001b[0m\u001b[0mprogress_apply\u001b[0m\u001b[0;34m(\u001b[0m\u001b[0mtranslate_eng2rus\u001b[0m\u001b[0;34m)\u001b[0m\u001b[0;34m\u001b[0m\u001b[0;34m\u001b[0m\u001b[0m\n\u001b[0m\u001b[1;32m     13\u001b[0m \u001b[0;34m\u001b[0m\u001b[0m\n\u001b[1;32m     14\u001b[0m     \u001b[0mreddit_df\u001b[0m\u001b[0;34m.\u001b[0m\u001b[0mloc\u001b[0m\u001b[0;34m[\u001b[0m\u001b[0mneed_translate_index_sample\u001b[0m\u001b[0;34m,\u001b[0m \u001b[0;34m'rus_setup'\u001b[0m\u001b[0;34m]\u001b[0m \u001b[0;34m=\u001b[0m\u001b[0;31m \u001b[0m\u001b[0;31m\\\u001b[0m\u001b[0;34m\u001b[0m\u001b[0;34m\u001b[0m\u001b[0m\n",
      "\u001b[0;32m~/Documents/programs/venv/lib/python3.9/site-packages/tqdm/std.py\u001b[0m in \u001b[0;36minner\u001b[0;34m(df, func, *args, **kwargs)\u001b[0m\n\u001b[1;32m    808\u001b[0m                 \u001b[0;31m# on the df using our wrapper (which provides bar updating)\u001b[0m\u001b[0;34m\u001b[0m\u001b[0;34m\u001b[0m\u001b[0;34m\u001b[0m\u001b[0m\n\u001b[1;32m    809\u001b[0m                 \u001b[0;32mtry\u001b[0m\u001b[0;34m:\u001b[0m\u001b[0;34m\u001b[0m\u001b[0;34m\u001b[0m\u001b[0m\n\u001b[0;32m--> 810\u001b[0;31m                     \u001b[0;32mreturn\u001b[0m \u001b[0mgetattr\u001b[0m\u001b[0;34m(\u001b[0m\u001b[0mdf\u001b[0m\u001b[0;34m,\u001b[0m \u001b[0mdf_function\u001b[0m\u001b[0;34m)\u001b[0m\u001b[0;34m(\u001b[0m\u001b[0mwrapper\u001b[0m\u001b[0;34m,\u001b[0m \u001b[0;34m**\u001b[0m\u001b[0mkwargs\u001b[0m\u001b[0;34m)\u001b[0m\u001b[0;34m\u001b[0m\u001b[0;34m\u001b[0m\u001b[0m\n\u001b[0m\u001b[1;32m    811\u001b[0m                 \u001b[0;32mfinally\u001b[0m\u001b[0;34m:\u001b[0m\u001b[0;34m\u001b[0m\u001b[0;34m\u001b[0m\u001b[0m\n\u001b[1;32m    812\u001b[0m                     \u001b[0mt\u001b[0m\u001b[0;34m.\u001b[0m\u001b[0mclose\u001b[0m\u001b[0;34m(\u001b[0m\u001b[0;34m)\u001b[0m\u001b[0;34m\u001b[0m\u001b[0;34m\u001b[0m\u001b[0m\n",
      "\u001b[0;32m~/Documents/programs/venv/lib/python3.9/site-packages/pandas/core/series.py\u001b[0m in \u001b[0;36mapply\u001b[0;34m(self, func, convert_dtype, args, **kwds)\u001b[0m\n\u001b[1;32m   4136\u001b[0m             \u001b[0;32melse\u001b[0m\u001b[0;34m:\u001b[0m\u001b[0;34m\u001b[0m\u001b[0;34m\u001b[0m\u001b[0m\n\u001b[1;32m   4137\u001b[0m                 \u001b[0mvalues\u001b[0m \u001b[0;34m=\u001b[0m \u001b[0mself\u001b[0m\u001b[0;34m.\u001b[0m\u001b[0mastype\u001b[0m\u001b[0;34m(\u001b[0m\u001b[0mobject\u001b[0m\u001b[0;34m)\u001b[0m\u001b[0;34m.\u001b[0m\u001b[0m_values\u001b[0m\u001b[0;34m\u001b[0m\u001b[0;34m\u001b[0m\u001b[0m\n\u001b[0;32m-> 4138\u001b[0;31m                 \u001b[0mmapped\u001b[0m \u001b[0;34m=\u001b[0m \u001b[0mlib\u001b[0m\u001b[0;34m.\u001b[0m\u001b[0mmap_infer\u001b[0m\u001b[0;34m(\u001b[0m\u001b[0mvalues\u001b[0m\u001b[0;34m,\u001b[0m \u001b[0mf\u001b[0m\u001b[0;34m,\u001b[0m \u001b[0mconvert\u001b[0m\u001b[0;34m=\u001b[0m\u001b[0mconvert_dtype\u001b[0m\u001b[0;34m)\u001b[0m\u001b[0;34m\u001b[0m\u001b[0;34m\u001b[0m\u001b[0m\n\u001b[0m\u001b[1;32m   4139\u001b[0m \u001b[0;34m\u001b[0m\u001b[0m\n\u001b[1;32m   4140\u001b[0m         \u001b[0;32mif\u001b[0m \u001b[0mlen\u001b[0m\u001b[0;34m(\u001b[0m\u001b[0mmapped\u001b[0m\u001b[0;34m)\u001b[0m \u001b[0;32mand\u001b[0m \u001b[0misinstance\u001b[0m\u001b[0;34m(\u001b[0m\u001b[0mmapped\u001b[0m\u001b[0;34m[\u001b[0m\u001b[0;36m0\u001b[0m\u001b[0;34m]\u001b[0m\u001b[0;34m,\u001b[0m \u001b[0mSeries\u001b[0m\u001b[0;34m)\u001b[0m\u001b[0;34m:\u001b[0m\u001b[0;34m\u001b[0m\u001b[0;34m\u001b[0m\u001b[0m\n",
      "\u001b[0;32mpandas/_libs/lib.pyx\u001b[0m in \u001b[0;36mpandas._libs.lib.map_infer\u001b[0;34m()\u001b[0m\n",
      "\u001b[0;32m~/Documents/programs/venv/lib/python3.9/site-packages/tqdm/std.py\u001b[0m in \u001b[0;36mwrapper\u001b[0;34m(*args, **kwargs)\u001b[0m\n\u001b[1;32m    803\u001b[0m                     \u001b[0;31m# take a fast or slow code path; so stop when t.total==t.n\u001b[0m\u001b[0;34m\u001b[0m\u001b[0;34m\u001b[0m\u001b[0;34m\u001b[0m\u001b[0m\n\u001b[1;32m    804\u001b[0m                     \u001b[0mt\u001b[0m\u001b[0;34m.\u001b[0m\u001b[0mupdate\u001b[0m\u001b[0;34m(\u001b[0m\u001b[0mn\u001b[0m\u001b[0;34m=\u001b[0m\u001b[0;36m1\u001b[0m \u001b[0;32mif\u001b[0m \u001b[0;32mnot\u001b[0m \u001b[0mt\u001b[0m\u001b[0;34m.\u001b[0m\u001b[0mtotal\u001b[0m \u001b[0;32mor\u001b[0m \u001b[0mt\u001b[0m\u001b[0;34m.\u001b[0m\u001b[0mn\u001b[0m \u001b[0;34m<\u001b[0m \u001b[0mt\u001b[0m\u001b[0;34m.\u001b[0m\u001b[0mtotal\u001b[0m \u001b[0;32melse\u001b[0m \u001b[0;36m0\u001b[0m\u001b[0;34m)\u001b[0m\u001b[0;34m\u001b[0m\u001b[0;34m\u001b[0m\u001b[0m\n\u001b[0;32m--> 805\u001b[0;31m                     \u001b[0;32mreturn\u001b[0m \u001b[0mfunc\u001b[0m\u001b[0;34m(\u001b[0m\u001b[0;34m*\u001b[0m\u001b[0margs\u001b[0m\u001b[0;34m,\u001b[0m \u001b[0;34m**\u001b[0m\u001b[0mkwargs\u001b[0m\u001b[0;34m)\u001b[0m\u001b[0;34m\u001b[0m\u001b[0;34m\u001b[0m\u001b[0m\n\u001b[0m\u001b[1;32m    806\u001b[0m \u001b[0;34m\u001b[0m\u001b[0m\n\u001b[1;32m    807\u001b[0m                 \u001b[0;31m# Apply the provided function (in **kwargs)\u001b[0m\u001b[0;34m\u001b[0m\u001b[0;34m\u001b[0m\u001b[0;34m\u001b[0m\u001b[0m\n",
      "\u001b[0;32m<ipython-input-114-1cd0f7db0f96>\u001b[0m in \u001b[0;36mtranslate_eng2rus\u001b[0;34m(text)\u001b[0m\n\u001b[1;32m      3\u001b[0m     \u001b[0mtranslated\u001b[0m \u001b[0;34m=\u001b[0m \u001b[0;34m''\u001b[0m\u001b[0;34m\u001b[0m\u001b[0;34m\u001b[0m\u001b[0m\n\u001b[1;32m      4\u001b[0m     \u001b[0;32mtry\u001b[0m\u001b[0;34m:\u001b[0m\u001b[0;34m\u001b[0m\u001b[0;34m\u001b[0m\u001b[0m\n\u001b[0;32m----> 5\u001b[0;31m         \u001b[0mtranslated\u001b[0m \u001b[0;34m=\u001b[0m  \u001b[0mtranslator\u001b[0m\u001b[0;34m.\u001b[0m\u001b[0mtranslate\u001b[0m\u001b[0;34m(\u001b[0m\u001b[0mtext\u001b[0m\u001b[0;34m)\u001b[0m\u001b[0;34m\u001b[0m\u001b[0;34m\u001b[0m\u001b[0m\n\u001b[0m\u001b[1;32m      6\u001b[0m     \u001b[0;32mexcept\u001b[0m \u001b[0mNotValidPayload\u001b[0m\u001b[0;34m:\u001b[0m\u001b[0;34m\u001b[0m\u001b[0;34m\u001b[0m\u001b[0m\n\u001b[1;32m      7\u001b[0m         \u001b[0mprint\u001b[0m\u001b[0;34m(\u001b[0m\u001b[0;34mf'Broken text: {text}'\u001b[0m\u001b[0;34m)\u001b[0m\u001b[0;34m\u001b[0m\u001b[0;34m\u001b[0m\u001b[0m\n",
      "\u001b[0;32m~/Documents/programs/venv/lib/python3.9/site-packages/deep_translator/google_trans.py\u001b[0m in \u001b[0;36mtranslate\u001b[0;34m(self, text, **kwargs)\u001b[0m\n\u001b[1;32m    114\u001b[0m                 \u001b[0mself\u001b[0m\u001b[0;34m.\u001b[0m\u001b[0m_url_params\u001b[0m\u001b[0;34m[\u001b[0m\u001b[0mself\u001b[0m\u001b[0;34m.\u001b[0m\u001b[0mpayload_key\u001b[0m\u001b[0;34m]\u001b[0m \u001b[0;34m=\u001b[0m \u001b[0mtext\u001b[0m\u001b[0;34m\u001b[0m\u001b[0;34m\u001b[0m\u001b[0m\n\u001b[1;32m    115\u001b[0m \u001b[0;34m\u001b[0m\u001b[0m\n\u001b[0;32m--> 116\u001b[0;31m             response = requests.get(self.__base_url,\n\u001b[0m\u001b[1;32m    117\u001b[0m                                     \u001b[0mparams\u001b[0m\u001b[0;34m=\u001b[0m\u001b[0mself\u001b[0m\u001b[0;34m.\u001b[0m\u001b[0m_url_params\u001b[0m\u001b[0;34m,\u001b[0m\u001b[0;34m\u001b[0m\u001b[0;34m\u001b[0m\u001b[0m\n\u001b[1;32m    118\u001b[0m                                     proxies=self.proxies)\n",
      "\u001b[0;32m~/Documents/programs/venv/lib/python3.9/site-packages/requests/api.py\u001b[0m in \u001b[0;36mget\u001b[0;34m(url, params, **kwargs)\u001b[0m\n\u001b[1;32m     73\u001b[0m     \"\"\"\n\u001b[1;32m     74\u001b[0m \u001b[0;34m\u001b[0m\u001b[0m\n\u001b[0;32m---> 75\u001b[0;31m     \u001b[0;32mreturn\u001b[0m \u001b[0mrequest\u001b[0m\u001b[0;34m(\u001b[0m\u001b[0;34m'get'\u001b[0m\u001b[0;34m,\u001b[0m \u001b[0murl\u001b[0m\u001b[0;34m,\u001b[0m \u001b[0mparams\u001b[0m\u001b[0;34m=\u001b[0m\u001b[0mparams\u001b[0m\u001b[0;34m,\u001b[0m \u001b[0;34m**\u001b[0m\u001b[0mkwargs\u001b[0m\u001b[0;34m)\u001b[0m\u001b[0;34m\u001b[0m\u001b[0;34m\u001b[0m\u001b[0m\n\u001b[0m\u001b[1;32m     76\u001b[0m \u001b[0;34m\u001b[0m\u001b[0m\n\u001b[1;32m     77\u001b[0m \u001b[0;34m\u001b[0m\u001b[0m\n",
      "\u001b[0;32m~/Documents/programs/venv/lib/python3.9/site-packages/requests/api.py\u001b[0m in \u001b[0;36mrequest\u001b[0;34m(method, url, **kwargs)\u001b[0m\n\u001b[1;32m     59\u001b[0m     \u001b[0;31m# cases, and look like a memory leak in others.\u001b[0m\u001b[0;34m\u001b[0m\u001b[0;34m\u001b[0m\u001b[0;34m\u001b[0m\u001b[0m\n\u001b[1;32m     60\u001b[0m     \u001b[0;32mwith\u001b[0m \u001b[0msessions\u001b[0m\u001b[0;34m.\u001b[0m\u001b[0mSession\u001b[0m\u001b[0;34m(\u001b[0m\u001b[0;34m)\u001b[0m \u001b[0;32mas\u001b[0m \u001b[0msession\u001b[0m\u001b[0;34m:\u001b[0m\u001b[0;34m\u001b[0m\u001b[0;34m\u001b[0m\u001b[0m\n\u001b[0;32m---> 61\u001b[0;31m         \u001b[0;32mreturn\u001b[0m \u001b[0msession\u001b[0m\u001b[0;34m.\u001b[0m\u001b[0mrequest\u001b[0m\u001b[0;34m(\u001b[0m\u001b[0mmethod\u001b[0m\u001b[0;34m=\u001b[0m\u001b[0mmethod\u001b[0m\u001b[0;34m,\u001b[0m \u001b[0murl\u001b[0m\u001b[0;34m=\u001b[0m\u001b[0murl\u001b[0m\u001b[0;34m,\u001b[0m \u001b[0;34m**\u001b[0m\u001b[0mkwargs\u001b[0m\u001b[0;34m)\u001b[0m\u001b[0;34m\u001b[0m\u001b[0;34m\u001b[0m\u001b[0m\n\u001b[0m\u001b[1;32m     62\u001b[0m \u001b[0;34m\u001b[0m\u001b[0m\n\u001b[1;32m     63\u001b[0m \u001b[0;34m\u001b[0m\u001b[0m\n",
      "\u001b[0;32m~/Documents/programs/venv/lib/python3.9/site-packages/requests/sessions.py\u001b[0m in \u001b[0;36mrequest\u001b[0;34m(self, method, url, params, data, headers, cookies, files, auth, timeout, allow_redirects, proxies, hooks, stream, verify, cert, json)\u001b[0m\n\u001b[1;32m    540\u001b[0m         }\n\u001b[1;32m    541\u001b[0m         \u001b[0msend_kwargs\u001b[0m\u001b[0;34m.\u001b[0m\u001b[0mupdate\u001b[0m\u001b[0;34m(\u001b[0m\u001b[0msettings\u001b[0m\u001b[0;34m)\u001b[0m\u001b[0;34m\u001b[0m\u001b[0;34m\u001b[0m\u001b[0m\n\u001b[0;32m--> 542\u001b[0;31m         \u001b[0mresp\u001b[0m \u001b[0;34m=\u001b[0m \u001b[0mself\u001b[0m\u001b[0;34m.\u001b[0m\u001b[0msend\u001b[0m\u001b[0;34m(\u001b[0m\u001b[0mprep\u001b[0m\u001b[0;34m,\u001b[0m \u001b[0;34m**\u001b[0m\u001b[0msend_kwargs\u001b[0m\u001b[0;34m)\u001b[0m\u001b[0;34m\u001b[0m\u001b[0;34m\u001b[0m\u001b[0m\n\u001b[0m\u001b[1;32m    543\u001b[0m \u001b[0;34m\u001b[0m\u001b[0m\n\u001b[1;32m    544\u001b[0m         \u001b[0;32mreturn\u001b[0m \u001b[0mresp\u001b[0m\u001b[0;34m\u001b[0m\u001b[0;34m\u001b[0m\u001b[0m\n",
      "\u001b[0;32m~/Documents/programs/venv/lib/python3.9/site-packages/requests/sessions.py\u001b[0m in \u001b[0;36msend\u001b[0;34m(self, request, **kwargs)\u001b[0m\n\u001b[1;32m    695\u001b[0m \u001b[0;34m\u001b[0m\u001b[0m\n\u001b[1;32m    696\u001b[0m         \u001b[0;32mif\u001b[0m \u001b[0;32mnot\u001b[0m \u001b[0mstream\u001b[0m\u001b[0;34m:\u001b[0m\u001b[0;34m\u001b[0m\u001b[0;34m\u001b[0m\u001b[0m\n\u001b[0;32m--> 697\u001b[0;31m             \u001b[0mr\u001b[0m\u001b[0;34m.\u001b[0m\u001b[0mcontent\u001b[0m\u001b[0;34m\u001b[0m\u001b[0;34m\u001b[0m\u001b[0m\n\u001b[0m\u001b[1;32m    698\u001b[0m \u001b[0;34m\u001b[0m\u001b[0m\n\u001b[1;32m    699\u001b[0m         \u001b[0;32mreturn\u001b[0m \u001b[0mr\u001b[0m\u001b[0;34m\u001b[0m\u001b[0;34m\u001b[0m\u001b[0m\n",
      "\u001b[0;32m~/Documents/programs/venv/lib/python3.9/site-packages/requests/models.py\u001b[0m in \u001b[0;36mcontent\u001b[0;34m(self)\u001b[0m\n\u001b[1;32m    834\u001b[0m                 \u001b[0mself\u001b[0m\u001b[0;34m.\u001b[0m\u001b[0m_content\u001b[0m \u001b[0;34m=\u001b[0m \u001b[0;32mNone\u001b[0m\u001b[0;34m\u001b[0m\u001b[0;34m\u001b[0m\u001b[0m\n\u001b[1;32m    835\u001b[0m             \u001b[0;32melse\u001b[0m\u001b[0;34m:\u001b[0m\u001b[0;34m\u001b[0m\u001b[0;34m\u001b[0m\u001b[0m\n\u001b[0;32m--> 836\u001b[0;31m                 \u001b[0mself\u001b[0m\u001b[0;34m.\u001b[0m\u001b[0m_content\u001b[0m \u001b[0;34m=\u001b[0m \u001b[0;34mb''\u001b[0m\u001b[0;34m.\u001b[0m\u001b[0mjoin\u001b[0m\u001b[0;34m(\u001b[0m\u001b[0mself\u001b[0m\u001b[0;34m.\u001b[0m\u001b[0miter_content\u001b[0m\u001b[0;34m(\u001b[0m\u001b[0mCONTENT_CHUNK_SIZE\u001b[0m\u001b[0;34m)\u001b[0m\u001b[0;34m)\u001b[0m \u001b[0;32mor\u001b[0m \u001b[0;34mb''\u001b[0m\u001b[0;34m\u001b[0m\u001b[0;34m\u001b[0m\u001b[0m\n\u001b[0m\u001b[1;32m    837\u001b[0m \u001b[0;34m\u001b[0m\u001b[0m\n\u001b[1;32m    838\u001b[0m         \u001b[0mself\u001b[0m\u001b[0;34m.\u001b[0m\u001b[0m_content_consumed\u001b[0m \u001b[0;34m=\u001b[0m \u001b[0;32mTrue\u001b[0m\u001b[0;34m\u001b[0m\u001b[0;34m\u001b[0m\u001b[0m\n",
      "\u001b[0;32m~/Documents/programs/venv/lib/python3.9/site-packages/requests/models.py\u001b[0m in \u001b[0;36mgenerate\u001b[0;34m()\u001b[0m\n\u001b[1;32m    756\u001b[0m             \u001b[0;32mif\u001b[0m \u001b[0mhasattr\u001b[0m\u001b[0;34m(\u001b[0m\u001b[0mself\u001b[0m\u001b[0;34m.\u001b[0m\u001b[0mraw\u001b[0m\u001b[0;34m,\u001b[0m \u001b[0;34m'stream'\u001b[0m\u001b[0;34m)\u001b[0m\u001b[0;34m:\u001b[0m\u001b[0;34m\u001b[0m\u001b[0;34m\u001b[0m\u001b[0m\n\u001b[1;32m    757\u001b[0m                 \u001b[0;32mtry\u001b[0m\u001b[0;34m:\u001b[0m\u001b[0;34m\u001b[0m\u001b[0;34m\u001b[0m\u001b[0m\n\u001b[0;32m--> 758\u001b[0;31m                     \u001b[0;32mfor\u001b[0m \u001b[0mchunk\u001b[0m \u001b[0;32min\u001b[0m \u001b[0mself\u001b[0m\u001b[0;34m.\u001b[0m\u001b[0mraw\u001b[0m\u001b[0;34m.\u001b[0m\u001b[0mstream\u001b[0m\u001b[0;34m(\u001b[0m\u001b[0mchunk_size\u001b[0m\u001b[0;34m,\u001b[0m \u001b[0mdecode_content\u001b[0m\u001b[0;34m=\u001b[0m\u001b[0;32mTrue\u001b[0m\u001b[0;34m)\u001b[0m\u001b[0;34m:\u001b[0m\u001b[0;34m\u001b[0m\u001b[0;34m\u001b[0m\u001b[0m\n\u001b[0m\u001b[1;32m    759\u001b[0m                         \u001b[0;32myield\u001b[0m \u001b[0mchunk\u001b[0m\u001b[0;34m\u001b[0m\u001b[0;34m\u001b[0m\u001b[0m\n\u001b[1;32m    760\u001b[0m                 \u001b[0;32mexcept\u001b[0m \u001b[0mProtocolError\u001b[0m \u001b[0;32mas\u001b[0m \u001b[0me\u001b[0m\u001b[0;34m:\u001b[0m\u001b[0;34m\u001b[0m\u001b[0;34m\u001b[0m\u001b[0m\n",
      "\u001b[0;32m~/Documents/programs/venv/lib/python3.9/site-packages/urllib3/response.py\u001b[0m in \u001b[0;36mstream\u001b[0;34m(self, amt, decode_content)\u001b[0m\n\u001b[1;32m    570\u001b[0m         \"\"\"\n\u001b[1;32m    571\u001b[0m         \u001b[0;32mif\u001b[0m \u001b[0mself\u001b[0m\u001b[0;34m.\u001b[0m\u001b[0mchunked\u001b[0m \u001b[0;32mand\u001b[0m \u001b[0mself\u001b[0m\u001b[0;34m.\u001b[0m\u001b[0msupports_chunked_reads\u001b[0m\u001b[0;34m(\u001b[0m\u001b[0;34m)\u001b[0m\u001b[0;34m:\u001b[0m\u001b[0;34m\u001b[0m\u001b[0;34m\u001b[0m\u001b[0m\n\u001b[0;32m--> 572\u001b[0;31m             \u001b[0;32mfor\u001b[0m \u001b[0mline\u001b[0m \u001b[0;32min\u001b[0m \u001b[0mself\u001b[0m\u001b[0;34m.\u001b[0m\u001b[0mread_chunked\u001b[0m\u001b[0;34m(\u001b[0m\u001b[0mamt\u001b[0m\u001b[0;34m,\u001b[0m \u001b[0mdecode_content\u001b[0m\u001b[0;34m=\u001b[0m\u001b[0mdecode_content\u001b[0m\u001b[0;34m)\u001b[0m\u001b[0;34m:\u001b[0m\u001b[0;34m\u001b[0m\u001b[0;34m\u001b[0m\u001b[0m\n\u001b[0m\u001b[1;32m    573\u001b[0m                 \u001b[0;32myield\u001b[0m \u001b[0mline\u001b[0m\u001b[0;34m\u001b[0m\u001b[0;34m\u001b[0m\u001b[0m\n\u001b[1;32m    574\u001b[0m         \u001b[0;32melse\u001b[0m\u001b[0;34m:\u001b[0m\u001b[0;34m\u001b[0m\u001b[0;34m\u001b[0m\u001b[0m\n",
      "\u001b[0;32m~/Documents/programs/venv/lib/python3.9/site-packages/urllib3/response.py\u001b[0m in \u001b[0;36mread_chunked\u001b[0;34m(self, amt, decode_content)\u001b[0m\n\u001b[1;32m    762\u001b[0m \u001b[0;34m\u001b[0m\u001b[0m\n\u001b[1;32m    763\u001b[0m             \u001b[0;32mwhile\u001b[0m \u001b[0;32mTrue\u001b[0m\u001b[0;34m:\u001b[0m\u001b[0;34m\u001b[0m\u001b[0;34m\u001b[0m\u001b[0m\n\u001b[0;32m--> 764\u001b[0;31m                 \u001b[0mself\u001b[0m\u001b[0;34m.\u001b[0m\u001b[0m_update_chunk_length\u001b[0m\u001b[0;34m(\u001b[0m\u001b[0;34m)\u001b[0m\u001b[0;34m\u001b[0m\u001b[0;34m\u001b[0m\u001b[0m\n\u001b[0m\u001b[1;32m    765\u001b[0m                 \u001b[0;32mif\u001b[0m \u001b[0mself\u001b[0m\u001b[0;34m.\u001b[0m\u001b[0mchunk_left\u001b[0m \u001b[0;34m==\u001b[0m \u001b[0;36m0\u001b[0m\u001b[0;34m:\u001b[0m\u001b[0;34m\u001b[0m\u001b[0;34m\u001b[0m\u001b[0m\n\u001b[1;32m    766\u001b[0m                     \u001b[0;32mbreak\u001b[0m\u001b[0;34m\u001b[0m\u001b[0;34m\u001b[0m\u001b[0m\n",
      "\u001b[0;32m~/Documents/programs/venv/lib/python3.9/site-packages/urllib3/response.py\u001b[0m in \u001b[0;36m_update_chunk_length\u001b[0;34m(self)\u001b[0m\n\u001b[1;32m    692\u001b[0m         \u001b[0;32mif\u001b[0m \u001b[0mself\u001b[0m\u001b[0;34m.\u001b[0m\u001b[0mchunk_left\u001b[0m \u001b[0;32mis\u001b[0m \u001b[0;32mnot\u001b[0m \u001b[0;32mNone\u001b[0m\u001b[0;34m:\u001b[0m\u001b[0;34m\u001b[0m\u001b[0;34m\u001b[0m\u001b[0m\n\u001b[1;32m    693\u001b[0m             \u001b[0;32mreturn\u001b[0m\u001b[0;34m\u001b[0m\u001b[0;34m\u001b[0m\u001b[0m\n\u001b[0;32m--> 694\u001b[0;31m         \u001b[0mline\u001b[0m \u001b[0;34m=\u001b[0m \u001b[0mself\u001b[0m\u001b[0;34m.\u001b[0m\u001b[0m_fp\u001b[0m\u001b[0;34m.\u001b[0m\u001b[0mfp\u001b[0m\u001b[0;34m.\u001b[0m\u001b[0mreadline\u001b[0m\u001b[0;34m(\u001b[0m\u001b[0;34m)\u001b[0m\u001b[0;34m\u001b[0m\u001b[0;34m\u001b[0m\u001b[0m\n\u001b[0m\u001b[1;32m    695\u001b[0m         \u001b[0mline\u001b[0m \u001b[0;34m=\u001b[0m \u001b[0mline\u001b[0m\u001b[0;34m.\u001b[0m\u001b[0msplit\u001b[0m\u001b[0;34m(\u001b[0m\u001b[0;34mb\";\"\u001b[0m\u001b[0;34m,\u001b[0m \u001b[0;36m1\u001b[0m\u001b[0;34m)\u001b[0m\u001b[0;34m[\u001b[0m\u001b[0;36m0\u001b[0m\u001b[0;34m]\u001b[0m\u001b[0;34m\u001b[0m\u001b[0;34m\u001b[0m\u001b[0m\n\u001b[1;32m    696\u001b[0m         \u001b[0;32mtry\u001b[0m\u001b[0;34m:\u001b[0m\u001b[0;34m\u001b[0m\u001b[0;34m\u001b[0m\u001b[0m\n",
      "\u001b[0;32m/usr/local/Cellar/python@3.9/3.9.4/Frameworks/Python.framework/Versions/3.9/lib/python3.9/socket.py\u001b[0m in \u001b[0;36mreadinto\u001b[0;34m(self, b)\u001b[0m\n\u001b[1;32m    702\u001b[0m         \u001b[0;32mwhile\u001b[0m \u001b[0;32mTrue\u001b[0m\u001b[0;34m:\u001b[0m\u001b[0;34m\u001b[0m\u001b[0;34m\u001b[0m\u001b[0m\n\u001b[1;32m    703\u001b[0m             \u001b[0;32mtry\u001b[0m\u001b[0;34m:\u001b[0m\u001b[0;34m\u001b[0m\u001b[0;34m\u001b[0m\u001b[0m\n\u001b[0;32m--> 704\u001b[0;31m                 \u001b[0;32mreturn\u001b[0m \u001b[0mself\u001b[0m\u001b[0;34m.\u001b[0m\u001b[0m_sock\u001b[0m\u001b[0;34m.\u001b[0m\u001b[0mrecv_into\u001b[0m\u001b[0;34m(\u001b[0m\u001b[0mb\u001b[0m\u001b[0;34m)\u001b[0m\u001b[0;34m\u001b[0m\u001b[0;34m\u001b[0m\u001b[0m\n\u001b[0m\u001b[1;32m    705\u001b[0m             \u001b[0;32mexcept\u001b[0m \u001b[0mtimeout\u001b[0m\u001b[0;34m:\u001b[0m\u001b[0;34m\u001b[0m\u001b[0;34m\u001b[0m\u001b[0m\n\u001b[1;32m    706\u001b[0m                 \u001b[0mself\u001b[0m\u001b[0;34m.\u001b[0m\u001b[0m_timeout_occurred\u001b[0m \u001b[0;34m=\u001b[0m \u001b[0;32mTrue\u001b[0m\u001b[0;34m\u001b[0m\u001b[0;34m\u001b[0m\u001b[0m\n",
      "\u001b[0;32m/usr/local/Cellar/python@3.9/3.9.4/Frameworks/Python.framework/Versions/3.9/lib/python3.9/ssl.py\u001b[0m in \u001b[0;36mrecv_into\u001b[0;34m(self, buffer, nbytes, flags)\u001b[0m\n\u001b[1;32m   1239\u001b[0m                   \u001b[0;34m\"non-zero flags not allowed in calls to recv_into() on %s\"\u001b[0m \u001b[0;34m%\u001b[0m\u001b[0;34m\u001b[0m\u001b[0;34m\u001b[0m\u001b[0m\n\u001b[1;32m   1240\u001b[0m                   self.__class__)\n\u001b[0;32m-> 1241\u001b[0;31m             \u001b[0;32mreturn\u001b[0m \u001b[0mself\u001b[0m\u001b[0;34m.\u001b[0m\u001b[0mread\u001b[0m\u001b[0;34m(\u001b[0m\u001b[0mnbytes\u001b[0m\u001b[0;34m,\u001b[0m \u001b[0mbuffer\u001b[0m\u001b[0;34m)\u001b[0m\u001b[0;34m\u001b[0m\u001b[0;34m\u001b[0m\u001b[0m\n\u001b[0m\u001b[1;32m   1242\u001b[0m         \u001b[0;32melse\u001b[0m\u001b[0;34m:\u001b[0m\u001b[0;34m\u001b[0m\u001b[0;34m\u001b[0m\u001b[0m\n\u001b[1;32m   1243\u001b[0m             \u001b[0;32mreturn\u001b[0m \u001b[0msuper\u001b[0m\u001b[0;34m(\u001b[0m\u001b[0;34m)\u001b[0m\u001b[0;34m.\u001b[0m\u001b[0mrecv_into\u001b[0m\u001b[0;34m(\u001b[0m\u001b[0mbuffer\u001b[0m\u001b[0;34m,\u001b[0m \u001b[0mnbytes\u001b[0m\u001b[0;34m,\u001b[0m \u001b[0mflags\u001b[0m\u001b[0;34m)\u001b[0m\u001b[0;34m\u001b[0m\u001b[0;34m\u001b[0m\u001b[0m\n",
      "\u001b[0;32m/usr/local/Cellar/python@3.9/3.9.4/Frameworks/Python.framework/Versions/3.9/lib/python3.9/ssl.py\u001b[0m in \u001b[0;36mread\u001b[0;34m(self, len, buffer)\u001b[0m\n\u001b[1;32m   1097\u001b[0m         \u001b[0;32mtry\u001b[0m\u001b[0;34m:\u001b[0m\u001b[0;34m\u001b[0m\u001b[0;34m\u001b[0m\u001b[0m\n\u001b[1;32m   1098\u001b[0m             \u001b[0;32mif\u001b[0m \u001b[0mbuffer\u001b[0m \u001b[0;32mis\u001b[0m \u001b[0;32mnot\u001b[0m \u001b[0;32mNone\u001b[0m\u001b[0;34m:\u001b[0m\u001b[0;34m\u001b[0m\u001b[0;34m\u001b[0m\u001b[0m\n\u001b[0;32m-> 1099\u001b[0;31m                 \u001b[0;32mreturn\u001b[0m \u001b[0mself\u001b[0m\u001b[0;34m.\u001b[0m\u001b[0m_sslobj\u001b[0m\u001b[0;34m.\u001b[0m\u001b[0mread\u001b[0m\u001b[0;34m(\u001b[0m\u001b[0mlen\u001b[0m\u001b[0;34m,\u001b[0m \u001b[0mbuffer\u001b[0m\u001b[0;34m)\u001b[0m\u001b[0;34m\u001b[0m\u001b[0;34m\u001b[0m\u001b[0m\n\u001b[0m\u001b[1;32m   1100\u001b[0m             \u001b[0;32melse\u001b[0m\u001b[0;34m:\u001b[0m\u001b[0;34m\u001b[0m\u001b[0;34m\u001b[0m\u001b[0m\n\u001b[1;32m   1101\u001b[0m                 \u001b[0;32mreturn\u001b[0m \u001b[0mself\u001b[0m\u001b[0;34m.\u001b[0m\u001b[0m_sslobj\u001b[0m\u001b[0;34m.\u001b[0m\u001b[0mread\u001b[0m\u001b[0;34m(\u001b[0m\u001b[0mlen\u001b[0m\u001b[0;34m)\u001b[0m\u001b[0;34m\u001b[0m\u001b[0;34m\u001b[0m\u001b[0m\n",
      "\u001b[0;31mKeyboardInterrupt\u001b[0m: "
     ]
    }
   ],
   "source": [
    "while True:\n",
    "    need_translate_df = reddit_df.loc[reddit_df['rus_punch'].isna()]\n",
    "    \n",
    "    if len(need_translate_df) == 0:\n",
    "        break\n",
    "        \n",
    "    print(len(need_translate_df))\n",
    "    \n",
    "    need_translate_index_sample = need_translate_df.iloc[0: min(1000, len(need_translate_df))].index\n",
    "    \n",
    "    reddit_df.loc[need_translate_index_sample, 'rus_punch'] = \\\n",
    "        reddit_df.loc[need_translate_index_sample, 'punch'].progress_apply(translate_eng2rus)\n",
    "    \n",
    "    reddit_df.loc[need_translate_index_sample, 'rus_setup'] = \\\n",
    "        reddit_df.loc[need_translate_index_sample, 'setup'].progress_apply(translate_eng2rus)"
   ]
  },
  {
   "cell_type": "code",
   "execution_count": 118,
   "id": "34496ccc",
   "metadata": {
    "hidden": true
   },
   "outputs": [
    {
     "data": {
      "text/html": [
       "<div>\n",
       "<style scoped>\n",
       "    .dataframe tbody tr th:only-of-type {\n",
       "        vertical-align: middle;\n",
       "    }\n",
       "\n",
       "    .dataframe tbody tr th {\n",
       "        vertical-align: top;\n",
       "    }\n",
       "\n",
       "    .dataframe thead th {\n",
       "        text-align: right;\n",
       "    }\n",
       "</style>\n",
       "<table border=\"1\" class=\"dataframe\">\n",
       "  <thead>\n",
       "    <tr style=\"text-align: right;\">\n",
       "      <th></th>\n",
       "      <th>punch</th>\n",
       "      <th>mark</th>\n",
       "      <th>setup</th>\n",
       "      <th>rus_punch</th>\n",
       "      <th>rus_setup</th>\n",
       "    </tr>\n",
       "  </thead>\n",
       "  <tbody>\n",
       "    <tr>\n",
       "      <th>0</th>\n",
       "      <td>On the condition he gets to install windows.</td>\n",
       "      <td>48526</td>\n",
       "      <td>Breaking News: Bill Gates has agreed to pay fo...</td>\n",
       "      <td>При условии, что он установит окна.</td>\n",
       "      <td>Срочные новости: Билл Гейтс согласился заплати...</td>\n",
       "    </tr>\n",
       "    <tr>\n",
       "      <th>1</th>\n",
       "      <td>/r/Jokes</td>\n",
       "      <td>45500</td>\n",
       "      <td>I found a place where the recycling rate is 98%</td>\n",
       "      <td>/ г / Шутки</td>\n",
       "      <td>Я нашел место, где уровень утилизации составля...</td>\n",
       "    </tr>\n",
       "    <tr>\n",
       "      <th>2</th>\n",
       "      <td>But its a silly comparison really, its like co...</td>\n",
       "      <td>39570</td>\n",
       "      <td>Steve jobs would have been a better president ...</td>\n",
       "      <td>Но на самом деле это глупое сравнение, это как...</td>\n",
       "      <td>Стив Джобс был бы лучшим президентом, чем Дона...</td>\n",
       "    </tr>\n",
       "    <tr>\n",
       "      <th>3</th>\n",
       "      <td>We went and had some drinks. Cool guy. Wants t...</td>\n",
       "      <td>36421</td>\n",
       "      <td>My girlfriend told me to take the spider out i...</td>\n",
       "      <td>Мы пошли и выпили. Клевый парень. Хочет быть в...</td>\n",
       "      <td>Моя девушка посоветовала мне вытащить паука, а...</td>\n",
       "    </tr>\n",
       "    <tr>\n",
       "      <th>4</th>\n",
       "      <td>Please don't upvote. Her strap-on is huge.</td>\n",
       "      <td>35772</td>\n",
       "      <td>For every upvote this gets, my girlfriend and ...</td>\n",
       "      <td>Пожалуйста, не голосуйте. Ее страпон огромен.</td>\n",
       "      <td>На каждый положительный голос мы с моей девушк...</td>\n",
       "    </tr>\n",
       "  </tbody>\n",
       "</table>\n",
       "</div>"
      ],
      "text/plain": [
       "                                               punch   mark  \\\n",
       "0       On the condition he gets to install windows.  48526   \n",
       "1                                           /r/Jokes  45500   \n",
       "2  But its a silly comparison really, its like co...  39570   \n",
       "3  We went and had some drinks. Cool guy. Wants t...  36421   \n",
       "4        Please don't upvote. Her strap-on is huge.   35772   \n",
       "\n",
       "                                               setup  \\\n",
       "0  Breaking News: Bill Gates has agreed to pay fo...   \n",
       "1    I found a place where the recycling rate is 98%   \n",
       "2  Steve jobs would have been a better president ...   \n",
       "3  My girlfriend told me to take the spider out i...   \n",
       "4  For every upvote this gets, my girlfriend and ...   \n",
       "\n",
       "                                           rus_punch  \\\n",
       "0                При условии, что он установит окна.   \n",
       "1                                        / г / Шутки   \n",
       "2  Но на самом деле это глупое сравнение, это как...   \n",
       "3  Мы пошли и выпили. Клевый парень. Хочет быть в...   \n",
       "4      Пожалуйста, не голосуйте. Ее страпон огромен.   \n",
       "\n",
       "                                           rus_setup  \n",
       "0  Срочные новости: Билл Гейтс согласился заплати...  \n",
       "1  Я нашел место, где уровень утилизации составля...  \n",
       "2  Стив Джобс был бы лучшим президентом, чем Дона...  \n",
       "3  Моя девушка посоветовала мне вытащить паука, а...  \n",
       "4  На каждый положительный голос мы с моей девушк...  "
      ]
     },
     "execution_count": 118,
     "metadata": {},
     "output_type": "execute_result"
    }
   ],
   "source": [
    "reddit_df.head()"
   ]
  },
  {
   "cell_type": "code",
   "execution_count": 119,
   "id": "0d277cc2",
   "metadata": {
    "hidden": true
   },
   "outputs": [],
   "source": [
    "reddit_df.to_csv('/Users/naltukhov/Documents/programs/jokes-generator/eng-joke-dataset/reddit-dataset.tsv',\n",
    "                 sep='\\t', index=False)"
   ]
  },
  {
   "cell_type": "code",
   "execution_count": 135,
   "id": "1b2475f7",
   "metadata": {
    "hidden": true
   },
   "outputs": [],
   "source": [
    "rus_reddit_df = reddit_df.loc[~reddit_df.rus_punch.isna(), \n",
    "                              ['rus_punch', 'rus_setup', 'mark']]\n",
    "rus_reddit_df.columns = ['punch', 'setup', 'mark']\n",
    "\n",
    "rus_reddit_df.punch = rus_reddit_df.punch.apply(remove_special_tokens)\n",
    "rus_reddit_df.setup = rus_reddit_df.setup.apply(remove_special_tokens)"
   ]
  },
  {
   "cell_type": "code",
   "execution_count": 137,
   "id": "651a17cb",
   "metadata": {
    "hidden": true
   },
   "outputs": [
    {
     "data": {
      "text/html": [
       "<div>\n",
       "<style scoped>\n",
       "    .dataframe tbody tr th:only-of-type {\n",
       "        vertical-align: middle;\n",
       "    }\n",
       "\n",
       "    .dataframe tbody tr th {\n",
       "        vertical-align: top;\n",
       "    }\n",
       "\n",
       "    .dataframe thead th {\n",
       "        text-align: right;\n",
       "    }\n",
       "</style>\n",
       "<table border=\"1\" class=\"dataframe\">\n",
       "  <thead>\n",
       "    <tr style=\"text-align: right;\">\n",
       "      <th></th>\n",
       "      <th>punch</th>\n",
       "      <th>setup</th>\n",
       "      <th>mark</th>\n",
       "    </tr>\n",
       "  </thead>\n",
       "  <tbody>\n",
       "    <tr>\n",
       "      <th>0</th>\n",
       "      <td>При условии, что он установит окна.</td>\n",
       "      <td>Срочные новости: Билл Гейтс согласился заплати...</td>\n",
       "      <td>48526</td>\n",
       "    </tr>\n",
       "    <tr>\n",
       "      <th>1</th>\n",
       "      <td>/ г / Шутки</td>\n",
       "      <td>Я нашел место, где уровень утилизации составля...</td>\n",
       "      <td>45500</td>\n",
       "    </tr>\n",
       "    <tr>\n",
       "      <th>2</th>\n",
       "      <td>Но на самом деле это глупое сравнение, это как...</td>\n",
       "      <td>Стив Джобс был бы лучшим президентом, чем Дона...</td>\n",
       "      <td>39570</td>\n",
       "    </tr>\n",
       "    <tr>\n",
       "      <th>3</th>\n",
       "      <td>Мы пошли и выпили. Клевый парень. Хочет быть в...</td>\n",
       "      <td>Моя девушка посоветовала мне вытащить паука, а...</td>\n",
       "      <td>36421</td>\n",
       "    </tr>\n",
       "    <tr>\n",
       "      <th>4</th>\n",
       "      <td>Пожалуйста, не голосуйте. Ее страпон огромен.</td>\n",
       "      <td>На каждый положительный голос мы с моей девушк...</td>\n",
       "      <td>35772</td>\n",
       "    </tr>\n",
       "    <tr>\n",
       "      <th>...</th>\n",
       "      <td>...</td>\n",
       "      <td>...</td>\n",
       "      <td>...</td>\n",
       "    </tr>\n",
       "    <tr>\n",
       "      <th>44990</th>\n",
       "      <td>Те, что писают в душе, и лжецы!</td>\n",
       "      <td>В жизни есть два типа людей</td>\n",
       "      <td>11</td>\n",
       "    </tr>\n",
       "    <tr>\n",
       "      <th>44991</th>\n",
       "      <td>Это объясняет, что случилось с теми килограмма...</td>\n",
       "      <td>[Проблема решена] Говорят, когда вы бреете вол...</td>\n",
       "      <td>11</td>\n",
       "    </tr>\n",
       "    <tr>\n",
       "      <th>44992</th>\n",
       "      <td>Мокрый нос.</td>\n",
       "      <td>В чем разница между близоруким и дальнозорким ...</td>\n",
       "      <td>11</td>\n",
       "    </tr>\n",
       "    <tr>\n",
       "      <th>44993</th>\n",
       "      <td>Вытащил мидию!</td>\n",
       "      <td>Только что вернулся с дискотеки с морепродуктами.</td>\n",
       "      <td>11</td>\n",
       "    </tr>\n",
       "    <tr>\n",
       "      <th>44994</th>\n",
       "      <td>Судья сказал, что не может дать развод по прич...</td>\n",
       "      <td>Вы слышали, что Микки Маус подал на развод с М...</td>\n",
       "      <td>11</td>\n",
       "    </tr>\n",
       "  </tbody>\n",
       "</table>\n",
       "<p>44994 rows × 3 columns</p>\n",
       "</div>"
      ],
      "text/plain": [
       "                                                   punch  \\\n",
       "0                    При условии, что он установит окна.   \n",
       "1                                            / г / Шутки   \n",
       "2      Но на самом деле это глупое сравнение, это как...   \n",
       "3      Мы пошли и выпили. Клевый парень. Хочет быть в...   \n",
       "4          Пожалуйста, не голосуйте. Ее страпон огромен.   \n",
       "...                                                  ...   \n",
       "44990                    Те, что писают в душе, и лжецы!   \n",
       "44991  Это объясняет, что случилось с теми килограмма...   \n",
       "44992                                        Мокрый нос.   \n",
       "44993                                     Вытащил мидию!   \n",
       "44994  Судья сказал, что не может дать развод по прич...   \n",
       "\n",
       "                                                   setup   mark  \n",
       "0      Срочные новости: Билл Гейтс согласился заплати...  48526  \n",
       "1      Я нашел место, где уровень утилизации составля...  45500  \n",
       "2      Стив Джобс был бы лучшим президентом, чем Дона...  39570  \n",
       "3      Моя девушка посоветовала мне вытащить паука, а...  36421  \n",
       "4      На каждый положительный голос мы с моей девушк...  35772  \n",
       "...                                                  ...    ...  \n",
       "44990                        В жизни есть два типа людей     11  \n",
       "44991  [Проблема решена] Говорят, когда вы бреете вол...     11  \n",
       "44992  В чем разница между близоруким и дальнозорким ...     11  \n",
       "44993  Только что вернулся с дискотеки с морепродуктами.     11  \n",
       "44994  Вы слышали, что Микки Маус подал на развод с М...     11  \n",
       "\n",
       "[44994 rows x 3 columns]"
      ]
     },
     "execution_count": 137,
     "metadata": {},
     "output_type": "execute_result"
    }
   ],
   "source": [
    "rus_reddit_df"
   ]
  },
  {
   "cell_type": "code",
   "execution_count": 138,
   "id": "fc364935",
   "metadata": {
    "hidden": true
   },
   "outputs": [],
   "source": [
    "rus_reddit_df.to_csv('/Users/naltukhov/Documents/programs/jokes-generator/eng-joke-dataset/reddit-rus-dataset.tsv',\n",
    "                 sep='\\t', index=False)"
   ]
  },
  {
   "cell_type": "markdown",
   "id": "da251e78",
   "metadata": {
    "heading_collapsed": true,
    "hidden": true
   },
   "source": [
    "### Wocka"
   ]
  },
  {
   "cell_type": "code",
   "execution_count": 19,
   "id": "a591570c",
   "metadata": {
    "hidden": true
   },
   "outputs": [],
   "source": [
    "with open('wocka.json') as f:\n",
    "    wocka_dict = json.load(f)"
   ]
  },
  {
   "cell_type": "code",
   "execution_count": 20,
   "id": "45283be0",
   "metadata": {
    "hidden": true
   },
   "outputs": [
    {
     "data": {
      "text/plain": [
       "{'body': \"What's black and white and red all over?\\r\\n\\r\\nA newspaper.\",\n",
       " 'category': 'Other / Misc',\n",
       " 'id': 4,\n",
       " 'title': 'Black, White and Red'}"
      ]
     },
     "execution_count": 20,
     "metadata": {},
     "output_type": "execute_result"
    }
   ],
   "source": [
    "wocka_dict[2]"
   ]
  },
  {
   "cell_type": "code",
   "execution_count": 25,
   "id": "ad91681b",
   "metadata": {
    "hidden": true
   },
   "outputs": [],
   "source": [
    "wocka_df = pd.DataFrame(wocka_dict) \\\n",
    "    .drop(['id', 'title'], axis=1) \\\n",
    "    .rename(columns={'body': 'punch'}) \n",
    "\n",
    "wocka_df.punch = wocka_df.punch.str.replace('\\n', '').replace('\\t', '')\n",
    "\n",
    "# Specify len < 500\n",
    "wocka_df = wocka_df.loc[wocka_df.punch.apply(len) <= 500]\n",
    "wocka_df = wocka_df.loc[wocka_df.punch.apply(len) > 5]\n",
    "\n",
    "wocka_df['rus_punch'] = None"
   ]
  },
  {
   "cell_type": "code",
   "execution_count": null,
   "id": "8ce09ac5",
   "metadata": {
    "hidden": true
   },
   "outputs": [],
   "source": [
    "wocka_df = pd.read_csv('/Users/naltukhov/Documents/programs/jokes-generator/eng-joke-dataset/wocka-dataset.tsv',\n",
    "                        sep='\\t')"
   ]
  },
  {
   "cell_type": "code",
   "execution_count": null,
   "id": "eaff6e35",
   "metadata": {
    "hidden": true
   },
   "outputs": [],
   "source": [
    "while True:\n",
    "    need_translate_df = wocka_df.loc[wocka_df['rus_punch'].isna()]\n",
    "    \n",
    "    if len(need_translate_df) == 0:\n",
    "        break\n",
    "        \n",
    "    print(len(need_translate_df))\n",
    "    \n",
    "    need_translate_index_sample = need_translate_df.iloc[0: min(1000, len(need_translate_df))].index\n",
    "    \n",
    "    wocka_df.loc[need_translate_index_sample, 'rus_punch'] = \\\n",
    "        wocka_df.loc[need_translate_index_sample, 'punch'].progress_apply(translate_eng2rus)"
   ]
  },
  {
   "cell_type": "code",
   "execution_count": null,
   "id": "dfcf482e",
   "metadata": {
    "hidden": true
   },
   "outputs": [],
   "source": [
    "wocka_df = wocka_df[['rus_punch', 'category']] \\\n",
    "    .rename(columns={'rus_punch': 'joke'})\n",
    "\n",
    "remove_tokens = lambda text: re.sub(r'\\r|\\n|\\t', '', text)\n",
    "\n",
    "wocka_df.joke = wocka_df.joke.apply(remove_tokens)"
   ]
  },
  {
   "cell_type": "code",
   "execution_count": null,
   "id": "19c39a22",
   "metadata": {
    "hidden": true
   },
   "outputs": [],
   "source": [
    "wocka_df.to_csv('/Users/naltukhov/Documents/programs/jokes-generator/eng-joke-dataset/wocka-dataset.tsv',\n",
    "                 sep='\\t', index=False)"
   ]
  },
  {
   "cell_type": "code",
   "execution_count": 28,
   "id": "44884142",
   "metadata": {
    "hidden": true
   },
   "outputs": [
    {
     "data": {
      "text/html": [
       "<div>\n",
       "<style scoped>\n",
       "    .dataframe tbody tr th:only-of-type {\n",
       "        vertical-align: middle;\n",
       "    }\n",
       "\n",
       "    .dataframe tbody tr th {\n",
       "        vertical-align: top;\n",
       "    }\n",
       "\n",
       "    .dataframe thead th {\n",
       "        text-align: right;\n",
       "    }\n",
       "</style>\n",
       "<table border=\"1\" class=\"dataframe\">\n",
       "  <thead>\n",
       "    <tr style=\"text-align: right;\">\n",
       "      <th></th>\n",
       "      <th>punch</th>\n",
       "      <th>category</th>\n",
       "    </tr>\n",
       "  </thead>\n",
       "  <tbody>\n",
       "    <tr>\n",
       "      <th>0</th>\n",
       "      <td>What do you call a cow with no legs?\\r\\n\\r\\nGr...</td>\n",
       "      <td>Animal</td>\n",
       "    </tr>\n",
       "    <tr>\n",
       "      <th>1</th>\n",
       "      <td>What do you call a cow jumping over a barbed w...</td>\n",
       "      <td>Animal</td>\n",
       "    </tr>\n",
       "    <tr>\n",
       "      <th>2</th>\n",
       "      <td>What's black and white and red all over?\\r\\n\\r...</td>\n",
       "      <td>Other / Misc</td>\n",
       "    </tr>\n",
       "    <tr>\n",
       "      <th>3</th>\n",
       "      <td>So, this guy walks into a bar.\\r\\n\\r\\nAnd says...</td>\n",
       "      <td>Bar</td>\n",
       "    </tr>\n",
       "    <tr>\n",
       "      <th>4</th>\n",
       "      <td>If the opposite of pro is con, isn't the oppos...</td>\n",
       "      <td>One Liners</td>\n",
       "    </tr>\n",
       "    <tr>\n",
       "      <th>...</th>\n",
       "      <td>...</td>\n",
       "      <td>...</td>\n",
       "    </tr>\n",
       "    <tr>\n",
       "      <th>10014</th>\n",
       "      <td>(A man comes to my register with a mint chocol...</td>\n",
       "      <td>Men / Women</td>\n",
       "    </tr>\n",
       "    <tr>\n",
       "      <th>10015</th>\n",
       "      <td>(I am shelving DVDs in a library when a man co...</td>\n",
       "      <td>Children</td>\n",
       "    </tr>\n",
       "    <tr>\n",
       "      <th>10016</th>\n",
       "      <td>Me: \"That will be 17.50, please.\"\\r\\n\\r\\nCusto...</td>\n",
       "      <td>Religious</td>\n",
       "    </tr>\n",
       "    <tr>\n",
       "      <th>10017</th>\n",
       "      <td>Me: \"Sir, would you like to use any coupons to...</td>\n",
       "      <td>At Work</td>\n",
       "    </tr>\n",
       "    <tr>\n",
       "      <th>10018</th>\n",
       "      <td>Customer: \"Are you Hispanic?\"\\r\\n\\r\\nMe: \"No.\"...</td>\n",
       "      <td>Insults</td>\n",
       "    </tr>\n",
       "  </tbody>\n",
       "</table>\n",
       "<p>10019 rows × 2 columns</p>\n",
       "</div>"
      ],
      "text/plain": [
       "                                                   punch      category\n",
       "0      What do you call a cow with no legs?\\r\\n\\r\\nGr...        Animal\n",
       "1      What do you call a cow jumping over a barbed w...        Animal\n",
       "2      What's black and white and red all over?\\r\\n\\r...  Other / Misc\n",
       "3      So, this guy walks into a bar.\\r\\n\\r\\nAnd says...           Bar\n",
       "4      If the opposite of pro is con, isn't the oppos...    One Liners\n",
       "...                                                  ...           ...\n",
       "10014  (A man comes to my register with a mint chocol...   Men / Women\n",
       "10015  (I am shelving DVDs in a library when a man co...      Children\n",
       "10016  Me: \"That will be 17.50, please.\"\\r\\n\\r\\nCusto...     Religious\n",
       "10017  Me: \"Sir, would you like to use any coupons to...       At Work\n",
       "10018  Customer: \"Are you Hispanic?\"\\r\\n\\r\\nMe: \"No.\"...       Insults\n",
       "\n",
       "[10019 rows x 2 columns]"
      ]
     },
     "execution_count": 28,
     "metadata": {},
     "output_type": "execute_result"
    }
   ],
   "source": [
    "wocka_df"
   ]
  },
  {
   "cell_type": "markdown",
   "id": "69cf38ad",
   "metadata": {
    "heading_collapsed": true
   },
   "source": [
    "## Twitter dataset"
   ]
  },
  {
   "cell_type": "code",
   "execution_count": 2,
   "id": "8dfb3aef",
   "metadata": {
    "hidden": true
   },
   "outputs": [],
   "source": [
    "import pandas as pd\n",
    "import json"
   ]
  },
  {
   "cell_type": "code",
   "execution_count": 3,
   "id": "d3604e0f",
   "metadata": {
    "hidden": true
   },
   "outputs": [],
   "source": [
    "with open('tweets-dataset/train.json') as f:\n",
    "    train_json = json.load(f)"
   ]
  },
  {
   "cell_type": "code",
   "execution_count": 22,
   "id": "cbdb0b7d",
   "metadata": {
    "hidden": true
   },
   "outputs": [],
   "source": [
    "with open('tweets-dataset/test.json') as f:\n",
    "    test_json = json.load(f)"
   ]
  },
  {
   "cell_type": "code",
   "execution_count": 25,
   "id": "0b14fe8c",
   "metadata": {
    "hidden": true
   },
   "outputs": [],
   "source": [
    "df = pd.concat([\n",
    "    pd.DataFrame(train_json.items(), columns=['joke', 'is_joke']),\n",
    "    pd.DataFrame(test_json.items(), columns=['joke', 'is_joke']),\n",
    "], axis=0)\n",
    "df = df.loc[df.is_joke == 1][['joke']]"
   ]
  },
  {
   "cell_type": "code",
   "execution_count": 26,
   "id": "de2ca7c2",
   "metadata": {
    "hidden": true
   },
   "outputs": [],
   "source": [
    "df.to_csv('tweets-dataset/tweeter_jokes.tsv', sep='\\t', index=False)"
   ]
  },
  {
   "cell_type": "code",
   "execution_count": 27,
   "id": "3a9cb65f",
   "metadata": {
    "hidden": true
   },
   "outputs": [
    {
     "data": {
      "text/plain": [
       "(156605, 1)"
      ]
     },
     "execution_count": 27,
     "metadata": {},
     "output_type": "execute_result"
    }
   ],
   "source": [
    "df.shape"
   ]
  },
  {
   "cell_type": "code",
   "execution_count": 28,
   "id": "82b7018b",
   "metadata": {
    "hidden": true
   },
   "outputs": [
    {
     "data": {
      "text/html": [
       "<div>\n",
       "<style scoped>\n",
       "    .dataframe tbody tr th:only-of-type {\n",
       "        vertical-align: middle;\n",
       "    }\n",
       "\n",
       "    .dataframe tbody tr th {\n",
       "        vertical-align: top;\n",
       "    }\n",
       "\n",
       "    .dataframe thead th {\n",
       "        text-align: right;\n",
       "    }\n",
       "</style>\n",
       "<table border=\"1\" class=\"dataframe\">\n",
       "  <thead>\n",
       "    <tr style=\"text-align: right;\">\n",
       "      <th></th>\n",
       "      <th>joke</th>\n",
       "    </tr>\n",
       "  </thead>\n",
       "  <tbody>\n",
       "    <tr>\n",
       "      <th>68637</th>\n",
       "      <td>- Скажите, Холмс, а почему в Сочи не приедет О...</td>\n",
       "    </tr>\n",
       "  </tbody>\n",
       "</table>\n",
       "</div>"
      ],
      "text/plain": [
       "                                                    joke\n",
       "68637  - Скажите, Холмс, а почему в Сочи не приедет О..."
      ]
     },
     "execution_count": 28,
     "metadata": {},
     "output_type": "execute_result"
    }
   ],
   "source": [
    "df.sample()"
   ]
  },
  {
   "cell_type": "markdown",
   "id": "e70ed095",
   "metadata": {
    "heading_collapsed": true
   },
   "source": [
    "## Anecdote dataset"
   ]
  },
  {
   "cell_type": "code",
   "execution_count": 29,
   "id": "34cd6736",
   "metadata": {
    "hidden": true
   },
   "outputs": [],
   "source": [
    "import pandas as pd"
   ]
  },
  {
   "cell_type": "code",
   "execution_count": 30,
   "id": "876ad800",
   "metadata": {
    "hidden": true
   },
   "outputs": [],
   "source": [
    "df = pd.read_csv('anecdote-dataset/anecdote_dataset.tsv', sep='\\t')"
   ]
  },
  {
   "cell_type": "code",
   "execution_count": 31,
   "id": "3afb5398",
   "metadata": {
    "hidden": true
   },
   "outputs": [
    {
     "data": {
      "text/html": [
       "<div>\n",
       "<style scoped>\n",
       "    .dataframe tbody tr th:only-of-type {\n",
       "        vertical-align: middle;\n",
       "    }\n",
       "\n",
       "    .dataframe tbody tr th {\n",
       "        vertical-align: top;\n",
       "    }\n",
       "\n",
       "    .dataframe thead th {\n",
       "        text-align: right;\n",
       "    }\n",
       "</style>\n",
       "<table border=\"1\" class=\"dataframe\">\n",
       "  <thead>\n",
       "    <tr style=\"text-align: right;\">\n",
       "      <th></th>\n",
       "      <th>joke_text</th>\n",
       "      <th>likes</th>\n",
       "    </tr>\n",
       "  </thead>\n",
       "  <tbody>\n",
       "    <tr>\n",
       "      <th>0</th>\n",
       "      <td>- Все проблемы в Думе решит Максим.\\n- Это кто...</td>\n",
       "      <td>24</td>\n",
       "    </tr>\n",
       "    <tr>\n",
       "      <th>1</th>\n",
       "      <td>Муж с женой в постели. Жена спит, мужу не спит...</td>\n",
       "      <td>17</td>\n",
       "    </tr>\n",
       "    <tr>\n",
       "      <th>2</th>\n",
       "      <td>Никогда не забывай свои корни! Постоянно закра...</td>\n",
       "      <td>18</td>\n",
       "    </tr>\n",
       "    <tr>\n",
       "      <th>3</th>\n",
       "      <td>- Скажите, вы - натуральная блондинка?\\n- Ммм....</td>\n",
       "      <td>12</td>\n",
       "    </tr>\n",
       "    <tr>\n",
       "      <th>4</th>\n",
       "      <td>Ходил с друзьями на курсы по избавлению от мат...</td>\n",
       "      <td>11</td>\n",
       "    </tr>\n",
       "    <tr>\n",
       "      <th>...</th>\n",
       "      <td>...</td>\n",
       "      <td>...</td>\n",
       "    </tr>\n",
       "    <tr>\n",
       "      <th>82895</th>\n",
       "      <td>Купи пять беляшей и собери кошку!</td>\n",
       "      <td>5</td>\n",
       "    </tr>\n",
       "    <tr>\n",
       "      <th>82896</th>\n",
       "      <td>Терапевт с неразборчивым почерком, выписывая р...</td>\n",
       "      <td>3</td>\n",
       "    </tr>\n",
       "    <tr>\n",
       "      <th>82897</th>\n",
       "      <td>Друг не тот, кто помог подняться, а тот, кто н...</td>\n",
       "      <td>12</td>\n",
       "    </tr>\n",
       "    <tr>\n",
       "      <th>82898</th>\n",
       "      <td>Сегодня я расскажу вам о высшем образовании.\\n...</td>\n",
       "      <td>4</td>\n",
       "    </tr>\n",
       "    <tr>\n",
       "      <th>82899</th>\n",
       "      <td>Старушка думала, что завела кота, а кот считал...</td>\n",
       "      <td>35</td>\n",
       "    </tr>\n",
       "  </tbody>\n",
       "</table>\n",
       "<p>82900 rows × 2 columns</p>\n",
       "</div>"
      ],
      "text/plain": [
       "                                               joke_text  likes\n",
       "0      - Все проблемы в Думе решит Максим.\\n- Это кто...     24\n",
       "1      Муж с женой в постели. Жена спит, мужу не спит...     17\n",
       "2      Никогда не забывай свои корни! Постоянно закра...     18\n",
       "3      - Скажите, вы - натуральная блондинка?\\n- Ммм....     12\n",
       "4      Ходил с друзьями на курсы по избавлению от мат...     11\n",
       "...                                                  ...    ...\n",
       "82895                  Купи пять беляшей и собери кошку!      5\n",
       "82896  Терапевт с неразборчивым почерком, выписывая р...      3\n",
       "82897  Друг не тот, кто помог подняться, а тот, кто н...     12\n",
       "82898  Сегодня я расскажу вам о высшем образовании.\\n...      4\n",
       "82899  Старушка думала, что завела кота, а кот считал...     35\n",
       "\n",
       "[82900 rows x 2 columns]"
      ]
     },
     "execution_count": 31,
     "metadata": {},
     "output_type": "execute_result"
    }
   ],
   "source": [
    "df"
   ]
  },
  {
   "cell_type": "markdown",
   "id": "5448848f",
   "metadata": {},
   "source": [
    "## Full jokes dataset"
   ]
  },
  {
   "cell_type": "code",
   "execution_count": 172,
   "id": "1734920f",
   "metadata": {},
   "outputs": [],
   "source": [
    "import pandas as pd\n",
    "import re"
   ]
  },
  {
   "cell_type": "code",
   "execution_count": 186,
   "id": "2cf12d7e",
   "metadata": {},
   "outputs": [],
   "source": [
    "anecdote_df = pd.read_csv('anecdote-dataset/anecdote_dataset.tsv', sep='\\t') \\\n",
    "    .rename(columns={'joke_text': 'joke'})[['joke']]\n",
    "kvn_df = pd.read_csv('kvn-dataset/kvn_dataset.tsv', sep='\\t') \\\n",
    "    .rename(columns={'joke_text': 'joke'})[['joke']]\n",
    "wocka_df = pd.read_csv('eng-joke-dataset/wocka-dataset.tsv', sep='\\t') \\\n",
    "    [['joke']]\n",
    "tweets_df = pd.read_csv('tweets-dataset/tweeter_jokes.tsv', sep='\\t')"
   ]
  },
  {
   "cell_type": "code",
   "execution_count": 188,
   "id": "97e0b9ae",
   "metadata": {},
   "outputs": [
    {
     "data": {
      "text/plain": [
       "(246771, 1)"
      ]
     },
     "execution_count": 188,
     "metadata": {},
     "output_type": "execute_result"
    }
   ],
   "source": [
    "full_joke_df = pd.concat([anecdote_df, kvn_df, wocka_df, tweets_df], axis=0) \\\n",
    "    .reset_index(drop=True)\n",
    "full_joke_df.shape"
   ]
  },
  {
   "cell_type": "markdown",
   "id": "4199f826",
   "metadata": {},
   "source": [
    "### Clean"
   ]
  },
  {
   "cell_type": "code",
   "execution_count": 189,
   "id": "762685d3",
   "metadata": {},
   "outputs": [
    {
     "data": {
      "text/plain": [
       "(241553, 1)"
      ]
     },
     "execution_count": 189,
     "metadata": {},
     "output_type": "execute_result"
    }
   ],
   "source": [
    "def remove_special_tokens(text):\n",
    "    result = ''\n",
    "    try:\n",
    "        result = re.sub(r'\\r|\\n|\\t', '', text)\n",
    "    except:\n",
    "        pass\n",
    "    return result\n",
    "\n",
    "full_joke_df.joke = full_joke_df.joke.apply(remove_special_tokens)\n",
    "full_joke_df = full_joke_df.drop_duplicates(subset=['joke'])\n",
    "full_joke_df.shape"
   ]
  },
  {
   "cell_type": "code",
   "execution_count": 190,
   "id": "51c2ba77",
   "metadata": {},
   "outputs": [
    {
     "data": {
      "text/html": [
       "<div>\n",
       "<style scoped>\n",
       "    .dataframe tbody tr th:only-of-type {\n",
       "        vertical-align: middle;\n",
       "    }\n",
       "\n",
       "    .dataframe tbody tr th {\n",
       "        vertical-align: top;\n",
       "    }\n",
       "\n",
       "    .dataframe thead th {\n",
       "        text-align: right;\n",
       "    }\n",
       "</style>\n",
       "<table border=\"1\" class=\"dataframe\">\n",
       "  <thead>\n",
       "    <tr style=\"text-align: right;\">\n",
       "      <th></th>\n",
       "      <th>joke</th>\n",
       "    </tr>\n",
       "  </thead>\n",
       "  <tbody>\n",
       "    <tr>\n",
       "      <th>181853</th>\n",
       "      <td>Артисты - это профессиональные обманщики, но к...</td>\n",
       "    </tr>\n",
       "    <tr>\n",
       "      <th>148164</th>\n",
       "      <td>Для тех, кому ещё не поздно одуматься: - Один ...</td>\n",
       "    </tr>\n",
       "    <tr>\n",
       "      <th>56100</th>\n",
       "      <td>А я не буду на Новый год смотреть Голубой огон...</td>\n",
       "    </tr>\n",
       "    <tr>\n",
       "      <th>161596</th>\n",
       "      <td>Кого собираются засудить родители детей, расст...</td>\n",
       "    </tr>\n",
       "    <tr>\n",
       "      <th>13224</th>\n",
       "      <td>- Как вас подстричь?- Сначала выравниваете вер...</td>\n",
       "    </tr>\n",
       "  </tbody>\n",
       "</table>\n",
       "</div>"
      ],
      "text/plain": [
       "                                                     joke\n",
       "181853  Артисты - это профессиональные обманщики, но к...\n",
       "148164  Для тех, кому ещё не поздно одуматься: - Один ...\n",
       "56100   А я не буду на Новый год смотреть Голубой огон...\n",
       "161596  Кого собираются засудить родители детей, расст...\n",
       "13224   - Как вас подстричь?- Сначала выравниваете вер..."
      ]
     },
     "execution_count": 190,
     "metadata": {},
     "output_type": "execute_result"
    }
   ],
   "source": [
    "full_joke_df.sample(5)"
   ]
  },
  {
   "cell_type": "markdown",
   "id": "ffc49ddb",
   "metadata": {},
   "source": [
    "### Try to find setup and punch in full joke"
   ]
  },
  {
   "cell_type": "code",
   "execution_count": 191,
   "id": "d4f0e348",
   "metadata": {},
   "outputs": [],
   "source": [
    "def setup_punch_split(text):\n",
    "    parts = re.split(r'\\.{3}|\\.|\\?|\\!|:', text)\n",
    "    \n",
    "    if (len(parts) > 3) or (len(parts) < 2):\n",
    "        return None\n",
    "    \n",
    "    if (len(parts[-1]) == 0):\n",
    "        parts = parts[:-1]\n",
    "        \n",
    "    if (len(parts) == 2) and (len(parts[0]) > 10) and (len(parts[1]) > 10):\n",
    "        return (parts[0].strip(), parts[1].strip())"
   ]
  },
  {
   "cell_type": "code",
   "execution_count": 192,
   "id": "28c3f2a5",
   "metadata": {},
   "outputs": [
    {
     "data": {
      "text/plain": [
       "(62684, 2)"
      ]
     },
     "execution_count": 192,
     "metadata": {},
     "output_type": "execute_result"
    }
   ],
   "source": [
    "punch_setup_df = full_joke_df.copy()\n",
    "punch_setup_df['setup_punch'] = punch_setup_df.joke.apply(setup_punch_split)\n",
    "punch_setup_df = punch_setup_df.loc[~punch_setup_df.setup_punch.isna()]\n",
    "punch_setup_df.shape"
   ]
  },
  {
   "cell_type": "code",
   "execution_count": 193,
   "id": "203d075a",
   "metadata": {},
   "outputs": [],
   "source": [
    "punch_setup_df = pd.DataFrame(punch_setup_df.setup_punch.tolist(), columns=['setup', 'punch'])"
   ]
  },
  {
   "cell_type": "code",
   "execution_count": 194,
   "id": "41a4eda2",
   "metadata": {},
   "outputs": [
    {
     "data": {
      "text/plain": [
       "(178869, 1)"
      ]
     },
     "execution_count": 194,
     "metadata": {},
     "output_type": "execute_result"
    }
   ],
   "source": [
    "# Remove setup-punch from full\n",
    "full_joke_df = full_joke_df.loc[~full_joke_df.index.isin(punch_setup_df.index)]\n",
    "full_joke_df.shape"
   ]
  },
  {
   "cell_type": "code",
   "execution_count": 195,
   "id": "77135dce",
   "metadata": {},
   "outputs": [],
   "source": [
    "# Save\n",
    "punch_setup_df.to_csv('setup-punch-agg-dataset/setup-punch-from-full-jokes.tsv', sep='\\t', index=False)\n",
    "full_joke_df.to_csv('full-text-agg-dataset/full-text-agg-dataset.tsv', sep='\\t', index=False)"
   ]
  },
  {
   "cell_type": "markdown",
   "id": "520e3e87",
   "metadata": {},
   "source": [
    "## Setup-punch datasets"
   ]
  },
  {
   "cell_type": "code",
   "execution_count": 198,
   "id": "1ba9b325",
   "metadata": {},
   "outputs": [],
   "source": [
    "reddit_df = pd.read_csv('eng-joke-dataset/reddit-rus-dataset.tsv', sep='\\t') \\\n",
    "    [['setup', 'punch']]\n",
    "from_full_df = pd.read_csv('setup-punch-agg-dataset/setup-punch-from-full-jokes.tsv', sep='\\t')"
   ]
  },
  {
   "cell_type": "code",
   "execution_count": 200,
   "id": "c3453355",
   "metadata": {},
   "outputs": [],
   "source": [
    "setup_punch_df = pd.concat([from_full_df, reddit_df], axis=0)"
   ]
  },
  {
   "cell_type": "markdown",
   "id": "abdc4513",
   "metadata": {},
   "source": [
    "### Clean"
   ]
  },
  {
   "cell_type": "code",
   "execution_count": 201,
   "id": "6fb85337",
   "metadata": {},
   "outputs": [
    {
     "data": {
      "text/plain": [
       "(98718, 2)"
      ]
     },
     "execution_count": 201,
     "metadata": {},
     "output_type": "execute_result"
    }
   ],
   "source": [
    "def remove_special_tokens(text):\n",
    "    result = ''\n",
    "    try:\n",
    "        result = re.sub(r'\\r|\\n|\\t', '', text)\n",
    "    except:\n",
    "        pass\n",
    "    return result\n",
    "\n",
    "setup_punch_df.setup = setup_punch_df.setup.apply(remove_special_tokens)\n",
    "setup_punch_df.punch = setup_punch_df.punch.apply(remove_special_tokens)\n",
    "\n",
    "setup_punch_df = setup_punch_df.drop_duplicates(subset=['setup'])\n",
    "setup_punch_df.shape"
   ]
  },
  {
   "cell_type": "code",
   "execution_count": 202,
   "id": "0f7e3b29",
   "metadata": {},
   "outputs": [
    {
     "data": {
      "text/html": [
       "<div>\n",
       "<style scoped>\n",
       "    .dataframe tbody tr th:only-of-type {\n",
       "        vertical-align: middle;\n",
       "    }\n",
       "\n",
       "    .dataframe tbody tr th {\n",
       "        vertical-align: top;\n",
       "    }\n",
       "\n",
       "    .dataframe thead th {\n",
       "        text-align: right;\n",
       "    }\n",
       "</style>\n",
       "<table border=\"1\" class=\"dataframe\">\n",
       "  <thead>\n",
       "    <tr style=\"text-align: right;\">\n",
       "      <th></th>\n",
       "      <th>setup</th>\n",
       "      <th>punch</th>\n",
       "    </tr>\n",
       "  </thead>\n",
       "  <tbody>\n",
       "    <tr>\n",
       "      <th>34719</th>\n",
       "      <td>Эй, Великобритания! Ты отлично выглядишь!</td>\n",
       "      <td>Вы потеряли несколько фунтов?</td>\n",
       "    </tr>\n",
       "    <tr>\n",
       "      <th>17769</th>\n",
       "      <td>Что общего между банджи-джампингом и проститут...</td>\n",
       "      <td>Они оба дешевы, быстры, и если резина порвется...</td>\n",
       "    </tr>\n",
       "    <tr>\n",
       "      <th>7048</th>\n",
       "      <td>какая разница между конгрессом и презервативом?</td>\n",
       "      <td>В презерватив можно поместить только один член.</td>\n",
       "    </tr>\n",
       "    <tr>\n",
       "      <th>41711</th>\n",
       "      <td>Я стал называть свой пенис \"Локоть\"</td>\n",
       "      <td>Потому что это сложно, гибко и неприлично выст...</td>\n",
       "    </tr>\n",
       "    <tr>\n",
       "      <th>16741</th>\n",
       "      <td>Проктолог</td>\n",
       "      <td>Парень идет к своему проктологу на колоноскопи...</td>\n",
       "    </tr>\n",
       "  </tbody>\n",
       "</table>\n",
       "</div>"
      ],
      "text/plain": [
       "                                                   setup  \\\n",
       "34719          Эй, Великобритания! Ты отлично выглядишь!   \n",
       "17769  Что общего между банджи-джампингом и проститут...   \n",
       "7048     какая разница между конгрессом и презервативом?   \n",
       "41711                Я стал называть свой пенис \"Локоть\"   \n",
       "16741                                          Проктолог   \n",
       "\n",
       "                                                   punch  \n",
       "34719                      Вы потеряли несколько фунтов?  \n",
       "17769  Они оба дешевы, быстры, и если резина порвется...  \n",
       "7048     В презерватив можно поместить только один член.  \n",
       "41711  Потому что это сложно, гибко и неприлично выст...  \n",
       "16741  Парень идет к своему проктологу на колоноскопи...  "
      ]
     },
     "execution_count": 202,
     "metadata": {},
     "output_type": "execute_result"
    }
   ],
   "source": [
    "setup_punch_df.sample(5)"
   ]
  },
  {
   "cell_type": "code",
   "execution_count": 203,
   "id": "46360cca",
   "metadata": {},
   "outputs": [],
   "source": [
    "setup_punch_df.to_csv('setup-punch-agg-dataset/setup-punch-agg-dataset.tsv', sep='\\t', index=False)"
   ]
  }
 ],
 "metadata": {
  "kernelspec": {
   "display_name": "Python 3",
   "language": "python",
   "name": "python3"
  },
  "language_info": {
   "codemirror_mode": {
    "name": "ipython",
    "version": 3
   },
   "file_extension": ".py",
   "mimetype": "text/x-python",
   "name": "python",
   "nbconvert_exporter": "python",
   "pygments_lexer": "ipython3",
   "version": "3.9.4"
  }
 },
 "nbformat": 4,
 "nbformat_minor": 5
}
