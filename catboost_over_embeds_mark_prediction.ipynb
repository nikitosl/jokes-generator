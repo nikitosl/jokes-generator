{
 "cells": [
  {
   "cell_type": "raw",
   "id": "a4395d05",
   "metadata": {},
   "source": [
    "!pip install -U sentence-transformers"
   ]
  },
  {
   "cell_type": "raw",
   "id": "c043afa1",
   "metadata": {},
   "source": [
    "!pip install ipywidgets"
   ]
  },
  {
   "cell_type": "raw",
   "id": "6e9742a7",
   "metadata": {},
   "source": [
    "!jupyter nbextension enable --py widgetsnbextension"
   ]
  },
  {
   "cell_type": "code",
   "execution_count": 4,
   "id": "1ac39492",
   "metadata": {},
   "outputs": [],
   "source": [
    "import os\n",
    "from glob import glob\n",
    "import re\n",
    "import pandas as pd\n",
    "\n",
    "from tqdm import tqdm\n",
    "tqdm.pandas()\n",
    "\n",
    "# Bert\n",
    "from sentence_transformers import SentenceTransformer\n",
    "\n",
    "# Catboost for regression\n",
    "import catboost"
   ]
  },
  {
   "cell_type": "markdown",
   "id": "7e04482d",
   "metadata": {},
   "source": [
    "### Dataset"
   ]
  },
  {
   "cell_type": "code",
   "execution_count": null,
   "id": "495c6a79",
   "metadata": {},
   "outputs": [],
   "source": [
    "df = pd.read_csv('comedy-news-tg-dataset/marked/full_dataset.tsv', sep='\\t')"
   ]
  },
  {
   "cell_type": "code",
   "execution_count": 86,
   "id": "80d50bba",
   "metadata": {},
   "outputs": [
    {
     "data": {
      "text/plain": [
       "0    2989\n",
       "1     643\n",
       "Name: good_punch, dtype: int64"
      ]
     },
     "execution_count": 86,
     "metadata": {},
     "output_type": "execute_result"
    }
   ],
   "source": [
    "# Categorical target\n",
    "df['good_punch'] = (df.mark >= 5).astype(int)\n",
    "df['good_punch'].value_counts()"
   ]
  },
  {
   "cell_type": "code",
   "execution_count": 87,
   "id": "b906da79",
   "metadata": {},
   "outputs": [],
   "source": [
    "# Is_valid is_test\n",
    "df['is_valid'] = 0\n",
    "df.loc[df.setup == 'Balenciaga выпустил кроссовки на каблуках почти за 100 тысяч рублей', 'is_valid'] = 1\n",
    "df['is_test'] = 0\n",
    "df.loc[df.setup == 'Клип на «Baby Shark» стал первым роликом на ютьюбе, набравшим 10 млрд просмотров', 'is_test'] = 1"
   ]
  },
  {
   "cell_type": "code",
   "execution_count": 88,
   "id": "ae65cd7a",
   "metadata": {},
   "outputs": [],
   "source": [
    "# Length\n",
    "df['punch_len'] = df.punch.apply(len)\n",
    "df['setup_len'] = df.setup.apply(len)"
   ]
  },
  {
   "cell_type": "markdown",
   "id": "2136666d",
   "metadata": {},
   "source": [
    "### Generate embeddings"
   ]
  },
  {
   "cell_type": "code",
   "execution_count": 3,
   "id": "4959ce01",
   "metadata": {
    "scrolled": true
   },
   "outputs": [
    {
     "name": "stderr",
     "output_type": "stream",
     "text": [
      "WARNING:root:No sentence-transformers model found with name models/DeepPavlov_rubert-base-cased-sentence/. Creating a new one with MEAN pooling.\n"
     ]
    }
   ],
   "source": [
    "model = SentenceTransformer('models/DeepPavlov_rubert-base-cased-sentence/')"
   ]
  },
  {
   "cell_type": "code",
   "execution_count": 4,
   "id": "3735bb89",
   "metadata": {},
   "outputs": [
    {
     "name": "stderr",
     "output_type": "stream",
     "text": [
      "100%|██████████| 3632/3632 [04:39<00:00, 12.98it/s]\n"
     ]
    }
   ],
   "source": [
    "# Embeddings for punches\n",
    "df['punch_embedding'] = df['punch'].progress_apply(model.encode)"
   ]
  },
  {
   "cell_type": "code",
   "execution_count": 5,
   "id": "033ba466",
   "metadata": {},
   "outputs": [
    {
     "name": "stderr",
     "output_type": "stream",
     "text": [
      "100%|██████████| 18/18 [00:01<00:00, 12.26it/s]\n"
     ]
    }
   ],
   "source": [
    "# Embeddings for setups\n",
    "setup_embed_df = pd.DataFrame(df.setup.unique(), columns=['setup'])\n",
    "setup_embed_df['setup_embedding'] = setup_embed_df['setup'].progress_apply(model.encode)"
   ]
  },
  {
   "cell_type": "code",
   "execution_count": 6,
   "id": "43f60059",
   "metadata": {},
   "outputs": [],
   "source": [
    "df = df.merge(setup_embed_df)"
   ]
  },
  {
   "cell_type": "code",
   "execution_count": 89,
   "id": "3850d552",
   "metadata": {},
   "outputs": [],
   "source": [
    "# Split embeddings to columns\n",
    "punch_embeddings = pd.DataFrame(df['punch_embedding'].tolist())\n",
    "punch_embeddings.columns = [f'punch_emb_{c}' for c in punch_embeddings.columns]\n",
    "\n",
    "setup_embeddings = pd.DataFrame(df['setup_embedding'].tolist())\n",
    "setup_embeddings.columns = [f'setup_emb_{c}' for c in setup_embeddings.columns]\n",
    "\n",
    "embeddings_df = pd.concat([punch_embeddings, setup_embeddings], axis=1)\n",
    "\n",
    "# Contact to one df\n",
    "res_df = pd.concat([df, embeddings_df], axis=1)"
   ]
  },
  {
   "cell_type": "markdown",
   "id": "8e2ddaa7",
   "metadata": {},
   "source": [
    "### Train"
   ]
  },
  {
   "cell_type": "code",
   "execution_count": 90,
   "id": "ce2e02fa",
   "metadata": {},
   "outputs": [],
   "source": [
    "# columns\n",
    "embeddings_columns = embeddings_df.columns.tolist()\n",
    "len_columns = ['punch_len', 'setup_len']\n",
    "\n",
    "\n",
    "train_columns = embeddings_columns + len_columns\n",
    "# target_column = 'mark'\n",
    "target_column = 'good_punch'\n",
    "valid_test_columns = ['is_valid', 'is_test']"
   ]
  },
  {
   "cell_type": "code",
   "execution_count": 91,
   "id": "22c8c88f",
   "metadata": {},
   "outputs": [],
   "source": [
    "X_train = res_df.loc[(res_df.is_valid == 0) & (res_df.is_test == 0), train_columns]\n",
    "y_train = res_df.loc[(res_df.is_valid == 0) & (res_df.is_test == 0), target_column]\n",
    "train_pool = catboost.Pool(X_train, y_train)\n",
    "\n",
    "X_valid = res_df.loc[res_df.is_valid == 1, train_columns]\n",
    "y_valid = res_df.loc[res_df.is_valid == 1, target_column]\n",
    "valid_pool = catboost.Pool(X_valid, y_valid)\n",
    "\n",
    "X_test = res_df.loc[res_df.is_test == 1, train_columns]\n",
    "y_test = res_df.loc[res_df.is_test == 1, target_column]\n",
    "test_pool = catboost.Pool(X_test, y_test)"
   ]
  },
  {
   "cell_type": "raw",
   "id": "6ea2489b",
   "metadata": {},
   "source": [
    "mark_model = catboost.CatBoostRegressor(\n",
    "    iterations=1000,\n",
    "    learning_rate=0.03,\n",
    "    depth=5,\n",
    "    l2_leaf_reg=2,\n",
    "    loss_function='MAE',\n",
    ")"
   ]
  },
  {
   "cell_type": "code",
   "execution_count": 95,
   "id": "d54e10cf",
   "metadata": {},
   "outputs": [],
   "source": [
    "mark_model = catboost.CatBoostClassifier(iterations=3000)"
   ]
  },
  {
   "cell_type": "code",
   "execution_count": 97,
   "id": "6bd05e3c",
   "metadata": {},
   "outputs": [
    {
     "name": "stdout",
     "output_type": "stream",
     "text": [
      "Learning rate set to 0.026358\n",
      "0:\tlearn: 0.6794310\ttest: 0.6810012\tbest: 0.6810012 (0)\ttotal: 63.8ms\tremaining: 3m 11s\n",
      "100:\tlearn: 0.4120680\ttest: 0.5008359\tbest: 0.4994377 (95)\ttotal: 4.22s\tremaining: 2m 1s\n",
      "200:\tlearn: 0.3582975\ttest: 0.5030154\tbest: 0.4994377 (95)\ttotal: 8.31s\tremaining: 1m 55s\n",
      "300:\tlearn: 0.3135026\ttest: 0.5096922\tbest: 0.4994377 (95)\ttotal: 12.5s\tremaining: 1m 52s\n",
      "400:\tlearn: 0.2703955\ttest: 0.5175338\tbest: 0.4994377 (95)\ttotal: 16.8s\tremaining: 1m 48s\n",
      "500:\tlearn: 0.2304185\ttest: 0.5315628\tbest: 0.4994377 (95)\ttotal: 21.1s\tremaining: 1m 45s\n",
      "600:\tlearn: 0.1968304\ttest: 0.5381262\tbest: 0.4994377 (95)\ttotal: 25.4s\tremaining: 1m 41s\n",
      "700:\tlearn: 0.1690263\ttest: 0.5433157\tbest: 0.4994377 (95)\ttotal: 29.8s\tremaining: 1m 37s\n",
      "800:\tlearn: 0.1460404\ttest: 0.5477343\tbest: 0.4994377 (95)\ttotal: 34.2s\tremaining: 1m 33s\n",
      "900:\tlearn: 0.1262621\ttest: 0.5544544\tbest: 0.4994377 (95)\ttotal: 38.6s\tremaining: 1m 29s\n",
      "1000:\tlearn: 0.1104314\ttest: 0.5640705\tbest: 0.4994377 (95)\ttotal: 43s\tremaining: 1m 25s\n",
      "1100:\tlearn: 0.0962862\ttest: 0.5723084\tbest: 0.4994377 (95)\ttotal: 47.5s\tremaining: 1m 21s\n",
      "1200:\tlearn: 0.0845795\ttest: 0.5769261\tbest: 0.4994377 (95)\ttotal: 51.9s\tremaining: 1m 17s\n",
      "1300:\tlearn: 0.0744996\ttest: 0.5871818\tbest: 0.4994377 (95)\ttotal: 56.6s\tremaining: 1m 13s\n",
      "1400:\tlearn: 0.0661600\ttest: 0.5940130\tbest: 0.4994377 (95)\ttotal: 1m\tremaining: 1m 9s\n",
      "1500:\tlearn: 0.0588717\ttest: 0.6066882\tbest: 0.4994377 (95)\ttotal: 1m 5s\tremaining: 1m 5s\n",
      "1600:\tlearn: 0.0524785\ttest: 0.6149121\tbest: 0.4994377 (95)\ttotal: 1m 9s\tremaining: 1m\n",
      "1700:\tlearn: 0.0469975\ttest: 0.6256929\tbest: 0.4994377 (95)\ttotal: 1m 14s\tremaining: 56.6s\n",
      "1800:\tlearn: 0.0420803\ttest: 0.6368912\tbest: 0.4994377 (95)\ttotal: 1m 18s\tremaining: 52.2s\n",
      "1900:\tlearn: 0.0377517\ttest: 0.6438079\tbest: 0.4994377 (95)\ttotal: 1m 22s\tremaining: 47.9s\n",
      "2000:\tlearn: 0.0341613\ttest: 0.6535591\tbest: 0.4994377 (95)\ttotal: 1m 27s\tremaining: 43.5s\n",
      "2100:\tlearn: 0.0310780\ttest: 0.6647145\tbest: 0.4994377 (95)\ttotal: 1m 31s\tremaining: 39.1s\n",
      "2200:\tlearn: 0.0282873\ttest: 0.6752551\tbest: 0.4994377 (95)\ttotal: 1m 35s\tremaining: 34.8s\n",
      "2300:\tlearn: 0.0259081\ttest: 0.6817755\tbest: 0.4994377 (95)\ttotal: 1m 40s\tremaining: 30.4s\n",
      "2400:\tlearn: 0.0238022\ttest: 0.6920430\tbest: 0.4994377 (95)\ttotal: 1m 44s\tremaining: 26s\n",
      "2500:\tlearn: 0.0218171\ttest: 0.7032613\tbest: 0.4994377 (95)\ttotal: 1m 48s\tremaining: 21.7s\n",
      "2600:\tlearn: 0.0201938\ttest: 0.7107281\tbest: 0.4994377 (95)\ttotal: 1m 53s\tremaining: 17.3s\n",
      "2700:\tlearn: 0.0186830\ttest: 0.7198647\tbest: 0.4994377 (95)\ttotal: 1m 57s\tremaining: 13s\n",
      "2800:\tlearn: 0.0173029\ttest: 0.7296782\tbest: 0.4994377 (95)\ttotal: 2m 1s\tremaining: 8.64s\n",
      "2900:\tlearn: 0.0160550\ttest: 0.7393410\tbest: 0.4994377 (95)\ttotal: 2m 5s\tremaining: 4.29s\n",
      "2999:\tlearn: 0.0149740\ttest: 0.7488980\tbest: 0.4994377 (95)\ttotal: 2m 10s\tremaining: 0us\n",
      "\n",
      "bestTest = 0.4994376993\n",
      "bestIteration = 95\n",
      "\n",
      "Shrink model to first 96 iterations.\n"
     ]
    },
    {
     "data": {
      "text/plain": [
       "<catboost.core.CatBoostClassifier at 0x1432e49a0>"
      ]
     },
     "execution_count": 97,
     "metadata": {},
     "output_type": "execute_result"
    }
   ],
   "source": [
    "mark_model.fit(\n",
    "    train_pool,\n",
    "    eval_set=valid_pool,\n",
    "    verbose=100\n",
    ")"
   ]
  }
 ],
 "metadata": {
  "kernelspec": {
   "display_name": "Python 3",
   "language": "python",
   "name": "python3"
  },
  "language_info": {
   "codemirror_mode": {
    "name": "ipython",
    "version": 3
   },
   "file_extension": ".py",
   "mimetype": "text/x-python",
   "name": "python",
   "nbconvert_exporter": "python",
   "pygments_lexer": "ipython3",
   "version": "3.9.4"
  }
 },
 "nbformat": 4,
 "nbformat_minor": 5
}
