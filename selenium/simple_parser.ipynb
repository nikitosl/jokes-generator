{
 "cells": [
  {
   "cell_type": "code",
   "execution_count": 1,
   "id": "9c3174f6",
   "metadata": {
    "pycharm": {
     "name": "#%%\n"
    }
   },
   "outputs": [],
   "source": [
    "import re\n",
    "from time import sleep\n",
    "import random\n",
    "import pandas as pd\n",
    "import warnings\n",
    "warnings.filterwarnings(\"ignore\")"
   ]
  },
  {
   "cell_type": "code",
   "execution_count": 2,
   "id": "b357edce",
   "metadata": {
    "pycharm": {
     "name": "#%%\n"
    }
   },
   "outputs": [],
   "source": [
    "import selenium\n",
    "from selenium import webdriver\n",
    "from selenium.common.exceptions import (NoSuchElementException,\n",
    "                                        StaleElementReferenceException)\n",
    "from selenium.webdriver.common.action_chains import ActionChains\n",
    "from selenium.webdriver.common.keys import Keys\n",
    "\n",
    "from selenium.webdriver.support.ui import WebDriverWait\n",
    "from selenium.webdriver.support import expected_conditions as EC\n",
    "from selenium.webdriver.common.by import By\n",
    "from webdriver_manager.chrome import ChromeDriverManager\n",
    "\n"
   ]
  },
  {
   "cell_type": "markdown",
   "id": "df2cb9ea",
   "metadata": {
    "heading_collapsed": true,
    "pycharm": {
     "name": "#%% md\n"
    }
   },
   "source": [
    "## KVN"
   ]
  },
  {
   "cell_type": "code",
   "execution_count": 32,
   "id": "cfe1b9f7",
   "metadata": {
    "hidden": true,
    "pycharm": {
     "name": "#%%\n"
    }
   },
   "outputs": [],
   "source": [
    "driver = webdriver.Chrome('/Users/naltukhov/Documents/programs/jokes-generator/selenium/chromedriver')\n",
    "action = webdriver.ActionChains(driver)\n",
    "driver.get('https://kvn.ru/jokes')\n",
    "\n",
    "body = driver.find_element_by_css_selector('body')"
   ]
  },
  {
   "cell_type": "code",
   "execution_count": 31,
   "id": "7db7a330",
   "metadata": {
    "hidden": true,
    "scrolled": true,
    "pycharm": {
     "name": "#%%\n"
    }
   },
   "outputs": [
    {
     "name": "stdout",
     "output_type": "stream",
     "text": [
      "Number of jokes: 0\n",
      "Number of jokes: 6\n",
      "Number of jokes: 6\n",
      "Number of jokes: 6\n",
      "Number of jokes: 6\n",
      "Number of jokes: 6\n",
      "Number of jokes: 6\n",
      "Number of jokes: 6\n",
      "Number of jokes: 6\n",
      "Number of jokes: 6\n",
      "Number of jokes: 6\n",
      "Number of jokes: 6\n",
      "Number of jokes: 6\n",
      "Number of jokes: 6\n",
      "Number of jokes: 6\n",
      "Number of jokes: 6\n",
      "Number of jokes: 6\n",
      "Number of jokes: 6\n",
      "Number of jokes: 6\n",
      "Number of jokes: 6\n",
      "Number of jokes: 6\n",
      "Number of jokes: 6\n",
      "Number of jokes: 6\n",
      "Number of jokes: 6\n",
      "Number of jokes: 6\n",
      "Number of jokes: 6\n",
      "Number of jokes: 6\n",
      "Number of jokes: 6\n",
      "Number of jokes: 6\n",
      "Number of jokes: 6\n",
      "Number of jokes: 6\n",
      "Number of jokes: 6\n",
      "Number of jokes: 6\n",
      "Number of jokes: 6\n",
      "Number of jokes: 6\n",
      "Number of jokes: 6\n",
      "Number of jokes: 6\n",
      "Number of jokes: 6\n",
      "Number of jokes: 6\n",
      "Number of jokes: 6\n",
      "Number of jokes: 6\n",
      "Number of jokes: 6\n",
      "Number of jokes: 6\n",
      "Number of jokes: 6\n",
      "Number of jokes: 6\n",
      "Number of jokes: 6\n",
      "Number of jokes: 6\n",
      "Number of jokes: 6\n",
      "Number of jokes: 6\n",
      "Number of jokes: 6\n",
      "Number of jokes: 6\n",
      "Number of jokes: 6\n",
      "Number of jokes: 6\n",
      "Number of jokes: 6\n",
      "Number of jokes: 6\n",
      "Number of jokes: 6\n",
      "Number of jokes: 6\n",
      "Number of jokes: 6\n",
      "Number of jokes: 6\n",
      "Number of jokes: 12\n",
      "Number of jokes: 23\n",
      "Number of jokes: 35\n",
      "Number of jokes: 47\n",
      "Number of jokes: 59\n",
      "Number of jokes: 71\n",
      "Number of jokes: 83\n",
      "Number of jokes: 95\n",
      "Number of jokes: 107\n",
      "Number of jokes: 119\n",
      "Number of jokes: 131\n",
      "Number of jokes: 143\n",
      "Number of jokes: 155\n",
      "Number of jokes: 167\n",
      "Number of jokes: 179\n",
      "Number of jokes: 191\n",
      "Number of jokes: 203\n",
      "Number of jokes: 215\n",
      "Number of jokes: 227\n",
      "Number of jokes: 239\n",
      "Number of jokes: 246\n",
      "Number of jokes: 256\n",
      "Number of jokes: 263\n",
      "Number of jokes: 275\n",
      "Number of jokes: 287\n",
      "Number of jokes: 299\n",
      "Number of jokes: 311\n",
      "Number of jokes: 323\n",
      "Number of jokes: 335\n",
      "Number of jokes: 347\n",
      "Number of jokes: 359\n",
      "Number of jokes: 371\n",
      "Number of jokes: 383\n",
      "Number of jokes: 395\n",
      "Number of jokes: 407\n",
      "Number of jokes: 419\n",
      "Number of jokes: 431\n",
      "Number of jokes: 431\n",
      "Number of jokes: 431\n",
      "Number of jokes: 431\n",
      "Number of jokes: 431\n",
      "Number of jokes: 431\n",
      "Number of jokes: 431\n",
      "Number of jokes: 431\n",
      "Number of jokes: 431\n",
      "Number of jokes: 431\n",
      "Number of jokes: 431\n",
      "Number of jokes: 431\n",
      "Number of jokes: 431\n",
      "Number of jokes: 431\n",
      "Number of jokes: 431\n",
      "Number of jokes: 431\n",
      "Number of jokes: 431\n",
      "Number of jokes: 431\n",
      "Number of jokes: 431\n",
      "Number of jokes: 431\n",
      "Number of jokes: 431\n",
      "Number of jokes: 431\n",
      "Number of jokes: 431\n",
      "Number of jokes: 431\n",
      "Number of jokes: 431\n",
      "Number of jokes: 431\n",
      "Number of jokes: 431\n",
      "Number of jokes: 431\n",
      "Number of jokes: 431\n",
      "Number of jokes: 431\n",
      "Number of jokes: 431\n",
      "Number of jokes: 431\n",
      "Number of jokes: 431\n",
      "Number of jokes: 431\n",
      "Number of jokes: 431\n",
      "Number of jokes: 431\n",
      "Number of jokes: 431\n",
      "Number of jokes: 431\n",
      "Number of jokes: 431\n",
      "Number of jokes: 443\n",
      "Number of jokes: 455\n",
      "Number of jokes: 467\n",
      "Number of jokes: 479\n",
      "Number of jokes: 491\n",
      "Number of jokes: 503\n",
      "Number of jokes: 515\n",
      "Number of jokes: 516\n",
      "Number of jokes: 523\n",
      "Number of jokes: 535\n",
      "Number of jokes: 547\n",
      "Number of jokes: 559\n",
      "Number of jokes: 571\n",
      "Number of jokes: 583\n",
      "Number of jokes: 595\n",
      "Number of jokes: 607\n",
      "Number of jokes: 619\n",
      "Number of jokes: 629\n",
      "Number of jokes: 639\n",
      "Number of jokes: 650\n",
      "Number of jokes: 660\n",
      "Number of jokes: 671\n",
      "Number of jokes: 683\n",
      "Number of jokes: 688\n",
      "Number of jokes: 688\n",
      "Number of jokes: 688\n",
      "Number of jokes: 688\n",
      "Number of jokes: 688\n",
      "Number of jokes: 688\n",
      "Number of jokes: 688\n",
      "Number of jokes: 689\n",
      "Number of jokes: 689\n",
      "Number of jokes: 689\n",
      "Number of jokes: 689\n",
      "Number of jokes: 689\n",
      "Number of jokes: 690\n",
      "Number of jokes: 702\n",
      "Number of jokes: 714\n",
      "Number of jokes: 725\n",
      "Number of jokes: 737\n",
      "Number of jokes: 749\n",
      "Number of jokes: 761\n",
      "Number of jokes: 773\n",
      "Number of jokes: 785\n",
      "Number of jokes: 797\n",
      "Number of jokes: 809\n",
      "Number of jokes: 821\n",
      "Number of jokes: 833\n",
      "Number of jokes: 845\n",
      "Number of jokes: 857\n",
      "Number of jokes: 869\n",
      "Number of jokes: 881\n",
      "Number of jokes: 892\n",
      "Number of jokes: 903\n",
      "Number of jokes: 915\n",
      "Number of jokes: 927\n",
      "Number of jokes: 939\n",
      "Number of jokes: 951\n",
      "Number of jokes: 963\n",
      "Number of jokes: 975\n",
      "Number of jokes: 977\n",
      "Number of jokes: 977\n",
      "Number of jokes: 977\n",
      "Number of jokes: 977\n",
      "Number of jokes: 977\n",
      "Number of jokes: 977\n",
      "Number of jokes: 977\n",
      "Number of jokes: 977\n",
      "Number of jokes: 977\n",
      "Number of jokes: 977\n",
      "Number of jokes: 978\n",
      "Number of jokes: 978\n",
      "Number of jokes: 978\n",
      "Number of jokes: 978\n",
      "Number of jokes: 979\n",
      "Number of jokes: 981\n",
      "Number of jokes: 982\n",
      "Number of jokes: 982\n",
      "Number of jokes: 982\n",
      "Number of jokes: 982\n",
      "Number of jokes: 982\n",
      "Number of jokes: 984\n",
      "Number of jokes: 984\n",
      "Number of jokes: 984\n",
      "Number of jokes: 984\n",
      "Number of jokes: 984\n",
      "Number of jokes: 984\n",
      "Number of jokes: 984\n",
      "Number of jokes: 984\n",
      "Number of jokes: 984\n",
      "Number of jokes: 984\n",
      "Number of jokes: 984\n",
      "Number of jokes: 984\n",
      "Number of jokes: 984\n",
      "Number of jokes: 984\n",
      "Number of jokes: 984\n",
      "Number of jokes: 984\n",
      "Number of jokes: 984\n",
      "Number of jokes: 984\n",
      "Number of jokes: 984\n",
      "Number of jokes: 984\n",
      "Number of jokes: 984\n",
      "Number of jokes: 984\n",
      "Number of jokes: 984\n",
      "Number of jokes: 984\n",
      "Number of jokes: 984\n",
      "Number of jokes: 984\n",
      "Number of jokes: 984\n",
      "Number of jokes: 984\n",
      "Number of jokes: 984\n",
      "Number of jokes: 984\n",
      "Number of jokes: 984\n",
      "Number of jokes: 984\n",
      "Number of jokes: 984\n",
      "Number of jokes: 984\n",
      "Number of jokes: 984\n",
      "Number of jokes: 984\n",
      "Number of jokes: 984\n",
      "Number of jokes: 984\n",
      "Number of jokes: 984\n",
      "Number of jokes: 984\n",
      "Number of jokes: 984\n",
      "Number of jokes: 984\n",
      "Number of jokes: 984\n",
      "Number of jokes: 984\n",
      "Number of jokes: 984\n",
      "Number of jokes: 984\n",
      "Number of jokes: 984\n",
      "Number of jokes: 984\n",
      "Number of jokes: 984\n",
      "Number of jokes: 984\n",
      "Number of jokes: 984\n",
      "Number of jokes: 984\n",
      "Number of jokes: 984\n",
      "Number of jokes: 984\n",
      "Number of jokes: 984\n",
      "Number of jokes: 984\n",
      "Number of jokes: 984\n",
      "Number of jokes: 984\n",
      "Number of jokes: 985\n",
      "Number of jokes: 985\n",
      "Number of jokes: 985\n",
      "Number of jokes: 985\n",
      "Number of jokes: 985\n",
      "Number of jokes: 985\n",
      "Number of jokes: 985\n",
      "Number of jokes: 985\n",
      "Number of jokes: 985\n",
      "Number of jokes: 985\n"
     ]
    },
    {
     "ename": "KeyboardInterrupt",
     "evalue": "",
     "output_type": "error",
     "traceback": [
      "\u001B[0;31m----------------------------------------------\u001B[0m",
      "\u001B[0;31mKeyboardInterrupt\u001B[0mTraceback (most recent call last)",
      "\u001B[0;32m<ipython-input-31-e375766d6159>\u001B[0m in \u001B[0;36m<module>\u001B[0;34m\u001B[0m\n\u001B[1;32m     13\u001B[0m         \u001B[0mdriver\u001B[0m\u001B[0;34m.\u001B[0m\u001B[0mexecute_script\u001B[0m\u001B[0;34m(\u001B[0m\u001B[0;34m\"arguments[0].scrollIntoView();\"\u001B[0m\u001B[0;34m,\u001B[0m \u001B[0mjoke_element\u001B[0m\u001B[0;34m)\u001B[0m\u001B[0;34m\u001B[0m\u001B[0;34m\u001B[0m\u001B[0m\n\u001B[1;32m     14\u001B[0m         \u001B[0mjoke_text\u001B[0m \u001B[0;34m=\u001B[0m \u001B[0mjoke_element\u001B[0m\u001B[0;34m.\u001B[0m\u001B[0mfind_element_by_class_name\u001B[0m\u001B[0;34m(\u001B[0m\u001B[0;34m'humor_text'\u001B[0m\u001B[0;34m)\u001B[0m\u001B[0;34m.\u001B[0m\u001B[0mtext\u001B[0m\u001B[0;34m\u001B[0m\u001B[0;34m\u001B[0m\u001B[0m\n\u001B[0;32m---> 15\u001B[0;31m         \u001B[0mjoke_author\u001B[0m \u001B[0;34m=\u001B[0m \u001B[0mjoke_element\u001B[0m\u001B[0;34m.\u001B[0m\u001B[0mfind_element_by_css_selector\u001B[0m\u001B[0;34m(\u001B[0m\u001B[0;34m'.bold.font_12_1'\u001B[0m\u001B[0;34m)\u001B[0m\u001B[0;34m.\u001B[0m\u001B[0mtext\u001B[0m\u001B[0;34m\u001B[0m\u001B[0;34m\u001B[0m\u001B[0m\n\u001B[0m\u001B[1;32m     16\u001B[0m \u001B[0;34m\u001B[0m\u001B[0m\n\u001B[1;32m     17\u001B[0m         \u001B[0;32mif\u001B[0m \u001B[0mjoke_text\u001B[0m \u001B[0;32mnot\u001B[0m \u001B[0;32min\u001B[0m \u001B[0mjoke_set\u001B[0m\u001B[0;34m:\u001B[0m\u001B[0;34m\u001B[0m\u001B[0;34m\u001B[0m\u001B[0m\n",
      "\u001B[0;32m~/Documents/programs/venv/lib/python3.9/site-packages/selenium/webdriver/remote/webelement.py\u001B[0m in \u001B[0;36mfind_element_by_css_selector\u001B[0;34m(self, css_selector)\u001B[0m\n\u001B[1;32m    483\u001B[0m         \"\"\"\n\u001B[1;32m    484\u001B[0m         \u001B[0mwarnings\u001B[0m\u001B[0;34m.\u001B[0m\u001B[0mwarn\u001B[0m\u001B[0;34m(\u001B[0m\u001B[0;34m\"find_element_by_* commands are deprecated. Please use find_element() instead\"\u001B[0m\u001B[0;34m)\u001B[0m\u001B[0;34m\u001B[0m\u001B[0;34m\u001B[0m\u001B[0m\n\u001B[0;32m--> 485\u001B[0;31m         \u001B[0;32mreturn\u001B[0m \u001B[0mself\u001B[0m\u001B[0;34m.\u001B[0m\u001B[0mfind_element\u001B[0m\u001B[0;34m(\u001B[0m\u001B[0mby\u001B[0m\u001B[0;34m=\u001B[0m\u001B[0mBy\u001B[0m\u001B[0;34m.\u001B[0m\u001B[0mCSS_SELECTOR\u001B[0m\u001B[0;34m,\u001B[0m \u001B[0mvalue\u001B[0m\u001B[0;34m=\u001B[0m\u001B[0mcss_selector\u001B[0m\u001B[0;34m)\u001B[0m\u001B[0;34m\u001B[0m\u001B[0;34m\u001B[0m\u001B[0m\n\u001B[0m\u001B[1;32m    486\u001B[0m \u001B[0;34m\u001B[0m\u001B[0m\n\u001B[1;32m    487\u001B[0m     \u001B[0;32mdef\u001B[0m \u001B[0mfind_elements_by_css_selector\u001B[0m\u001B[0;34m(\u001B[0m\u001B[0mself\u001B[0m\u001B[0;34m,\u001B[0m \u001B[0mcss_selector\u001B[0m\u001B[0;34m)\u001B[0m\u001B[0;34m:\u001B[0m\u001B[0;34m\u001B[0m\u001B[0;34m\u001B[0m\u001B[0m\n",
      "\u001B[0;32m~/Documents/programs/venv/lib/python3.9/site-packages/selenium/webdriver/remote/webelement.py\u001B[0m in \u001B[0;36mfind_element\u001B[0;34m(self, by, value)\u001B[0m\n\u001B[1;32m    733\u001B[0m             \u001B[0mvalue\u001B[0m \u001B[0;34m=\u001B[0m \u001B[0;34m'[name=\"%s\"]'\u001B[0m \u001B[0;34m%\u001B[0m \u001B[0mvalue\u001B[0m\u001B[0;34m\u001B[0m\u001B[0;34m\u001B[0m\u001B[0m\n\u001B[1;32m    734\u001B[0m \u001B[0;34m\u001B[0m\u001B[0m\n\u001B[0;32m--> 735\u001B[0;31m         return self._execute(Command.FIND_CHILD_ELEMENT,\n\u001B[0m\u001B[1;32m    736\u001B[0m                              {\"using\": by, \"value\": value})['value']\n\u001B[1;32m    737\u001B[0m \u001B[0;34m\u001B[0m\u001B[0m\n",
      "\u001B[0;32m~/Documents/programs/venv/lib/python3.9/site-packages/selenium/webdriver/remote/webelement.py\u001B[0m in \u001B[0;36m_execute\u001B[0;34m(self, command, params)\u001B[0m\n\u001B[1;32m    708\u001B[0m             \u001B[0mparams\u001B[0m \u001B[0;34m=\u001B[0m \u001B[0;34m{\u001B[0m\u001B[0;34m}\u001B[0m\u001B[0;34m\u001B[0m\u001B[0;34m\u001B[0m\u001B[0m\n\u001B[1;32m    709\u001B[0m         \u001B[0mparams\u001B[0m\u001B[0;34m[\u001B[0m\u001B[0;34m'id'\u001B[0m\u001B[0;34m]\u001B[0m \u001B[0;34m=\u001B[0m \u001B[0mself\u001B[0m\u001B[0;34m.\u001B[0m\u001B[0m_id\u001B[0m\u001B[0;34m\u001B[0m\u001B[0;34m\u001B[0m\u001B[0m\n\u001B[0;32m--> 710\u001B[0;31m         \u001B[0;32mreturn\u001B[0m \u001B[0mself\u001B[0m\u001B[0;34m.\u001B[0m\u001B[0m_parent\u001B[0m\u001B[0;34m.\u001B[0m\u001B[0mexecute\u001B[0m\u001B[0;34m(\u001B[0m\u001B[0mcommand\u001B[0m\u001B[0;34m,\u001B[0m \u001B[0mparams\u001B[0m\u001B[0;34m)\u001B[0m\u001B[0;34m\u001B[0m\u001B[0;34m\u001B[0m\u001B[0m\n\u001B[0m\u001B[1;32m    711\u001B[0m \u001B[0;34m\u001B[0m\u001B[0m\n\u001B[1;32m    712\u001B[0m     \u001B[0;32mdef\u001B[0m \u001B[0mfind_element\u001B[0m\u001B[0;34m(\u001B[0m\u001B[0mself\u001B[0m\u001B[0;34m,\u001B[0m \u001B[0mby\u001B[0m\u001B[0;34m=\u001B[0m\u001B[0mBy\u001B[0m\u001B[0;34m.\u001B[0m\u001B[0mID\u001B[0m\u001B[0;34m,\u001B[0m \u001B[0mvalue\u001B[0m\u001B[0;34m=\u001B[0m\u001B[0;32mNone\u001B[0m\u001B[0;34m)\u001B[0m\u001B[0;34m:\u001B[0m\u001B[0;34m\u001B[0m\u001B[0;34m\u001B[0m\u001B[0m\n",
      "\u001B[0;32m~/Documents/programs/venv/lib/python3.9/site-packages/selenium/webdriver/remote/webdriver.py\u001B[0m in \u001B[0;36mexecute\u001B[0;34m(self, driver_command, params)\u001B[0m\n\u001B[1;32m    420\u001B[0m \u001B[0;34m\u001B[0m\u001B[0m\n\u001B[1;32m    421\u001B[0m         \u001B[0mparams\u001B[0m \u001B[0;34m=\u001B[0m \u001B[0mself\u001B[0m\u001B[0;34m.\u001B[0m\u001B[0m_wrap_value\u001B[0m\u001B[0;34m(\u001B[0m\u001B[0mparams\u001B[0m\u001B[0;34m)\u001B[0m\u001B[0;34m\u001B[0m\u001B[0;34m\u001B[0m\u001B[0m\n\u001B[0;32m--> 422\u001B[0;31m         \u001B[0mresponse\u001B[0m \u001B[0;34m=\u001B[0m \u001B[0mself\u001B[0m\u001B[0;34m.\u001B[0m\u001B[0mcommand_executor\u001B[0m\u001B[0;34m.\u001B[0m\u001B[0mexecute\u001B[0m\u001B[0;34m(\u001B[0m\u001B[0mdriver_command\u001B[0m\u001B[0;34m,\u001B[0m \u001B[0mparams\u001B[0m\u001B[0;34m)\u001B[0m\u001B[0;34m\u001B[0m\u001B[0;34m\u001B[0m\u001B[0m\n\u001B[0m\u001B[1;32m    423\u001B[0m         \u001B[0;32mif\u001B[0m \u001B[0mresponse\u001B[0m\u001B[0;34m:\u001B[0m\u001B[0;34m\u001B[0m\u001B[0;34m\u001B[0m\u001B[0m\n\u001B[1;32m    424\u001B[0m             \u001B[0mself\u001B[0m\u001B[0;34m.\u001B[0m\u001B[0merror_handler\u001B[0m\u001B[0;34m.\u001B[0m\u001B[0mcheck_response\u001B[0m\u001B[0;34m(\u001B[0m\u001B[0mresponse\u001B[0m\u001B[0;34m)\u001B[0m\u001B[0;34m\u001B[0m\u001B[0;34m\u001B[0m\u001B[0m\n",
      "\u001B[0;32m~/Documents/programs/venv/lib/python3.9/site-packages/selenium/webdriver/remote/remote_connection.py\u001B[0m in \u001B[0;36mexecute\u001B[0;34m(self, command, params)\u001B[0m\n\u001B[1;32m    419\u001B[0m         \u001B[0mdata\u001B[0m \u001B[0;34m=\u001B[0m \u001B[0mutils\u001B[0m\u001B[0;34m.\u001B[0m\u001B[0mdump_json\u001B[0m\u001B[0;34m(\u001B[0m\u001B[0mparams\u001B[0m\u001B[0;34m)\u001B[0m\u001B[0;34m\u001B[0m\u001B[0;34m\u001B[0m\u001B[0m\n\u001B[1;32m    420\u001B[0m         \u001B[0murl\u001B[0m \u001B[0;34m=\u001B[0m \u001B[0;34mf\"{self._url}{path}\"\u001B[0m\u001B[0;34m\u001B[0m\u001B[0;34m\u001B[0m\u001B[0m\n\u001B[0;32m--> 421\u001B[0;31m         \u001B[0;32mreturn\u001B[0m \u001B[0mself\u001B[0m\u001B[0;34m.\u001B[0m\u001B[0m_request\u001B[0m\u001B[0;34m(\u001B[0m\u001B[0mcommand_info\u001B[0m\u001B[0;34m[\u001B[0m\u001B[0;36m0\u001B[0m\u001B[0;34m]\u001B[0m\u001B[0;34m,\u001B[0m \u001B[0murl\u001B[0m\u001B[0;34m,\u001B[0m \u001B[0mbody\u001B[0m\u001B[0;34m=\u001B[0m\u001B[0mdata\u001B[0m\u001B[0;34m)\u001B[0m\u001B[0;34m\u001B[0m\u001B[0;34m\u001B[0m\u001B[0m\n\u001B[0m\u001B[1;32m    422\u001B[0m \u001B[0;34m\u001B[0m\u001B[0m\n\u001B[1;32m    423\u001B[0m     \u001B[0;32mdef\u001B[0m \u001B[0m_request\u001B[0m\u001B[0;34m(\u001B[0m\u001B[0mself\u001B[0m\u001B[0;34m,\u001B[0m \u001B[0mmethod\u001B[0m\u001B[0;34m,\u001B[0m \u001B[0murl\u001B[0m\u001B[0;34m,\u001B[0m \u001B[0mbody\u001B[0m\u001B[0;34m=\u001B[0m\u001B[0;32mNone\u001B[0m\u001B[0;34m)\u001B[0m\u001B[0;34m:\u001B[0m\u001B[0;34m\u001B[0m\u001B[0;34m\u001B[0m\u001B[0m\n",
      "\u001B[0;32m~/Documents/programs/venv/lib/python3.9/site-packages/selenium/webdriver/remote/remote_connection.py\u001B[0m in \u001B[0;36m_request\u001B[0;34m(self, method, url, body)\u001B[0m\n\u001B[1;32m    441\u001B[0m \u001B[0;34m\u001B[0m\u001B[0m\n\u001B[1;32m    442\u001B[0m         \u001B[0;32mif\u001B[0m \u001B[0mself\u001B[0m\u001B[0;34m.\u001B[0m\u001B[0mkeep_alive\u001B[0m\u001B[0;34m:\u001B[0m\u001B[0;34m\u001B[0m\u001B[0;34m\u001B[0m\u001B[0m\n\u001B[0;32m--> 443\u001B[0;31m             \u001B[0mresp\u001B[0m \u001B[0;34m=\u001B[0m \u001B[0mself\u001B[0m\u001B[0;34m.\u001B[0m\u001B[0m_conn\u001B[0m\u001B[0;34m.\u001B[0m\u001B[0mrequest\u001B[0m\u001B[0;34m(\u001B[0m\u001B[0mmethod\u001B[0m\u001B[0;34m,\u001B[0m \u001B[0murl\u001B[0m\u001B[0;34m,\u001B[0m \u001B[0mbody\u001B[0m\u001B[0;34m=\u001B[0m\u001B[0mbody\u001B[0m\u001B[0;34m,\u001B[0m \u001B[0mheaders\u001B[0m\u001B[0;34m=\u001B[0m\u001B[0mheaders\u001B[0m\u001B[0;34m)\u001B[0m\u001B[0;34m\u001B[0m\u001B[0;34m\u001B[0m\u001B[0m\n\u001B[0m\u001B[1;32m    444\u001B[0m             \u001B[0mstatuscode\u001B[0m \u001B[0;34m=\u001B[0m \u001B[0mresp\u001B[0m\u001B[0;34m.\u001B[0m\u001B[0mstatus\u001B[0m\u001B[0;34m\u001B[0m\u001B[0;34m\u001B[0m\u001B[0m\n\u001B[1;32m    445\u001B[0m         \u001B[0;32melse\u001B[0m\u001B[0;34m:\u001B[0m\u001B[0;34m\u001B[0m\u001B[0;34m\u001B[0m\u001B[0m\n",
      "\u001B[0;32m~/Documents/programs/venv/lib/python3.9/site-packages/urllib3/request.py\u001B[0m in \u001B[0;36mrequest\u001B[0;34m(self, method, url, fields, headers, **urlopen_kw)\u001B[0m\n\u001B[1;32m     76\u001B[0m             )\n\u001B[1;32m     77\u001B[0m         \u001B[0;32melse\u001B[0m\u001B[0;34m:\u001B[0m\u001B[0;34m\u001B[0m\u001B[0;34m\u001B[0m\u001B[0m\n\u001B[0;32m---> 78\u001B[0;31m             return self.request_encode_body(\n\u001B[0m\u001B[1;32m     79\u001B[0m                 \u001B[0mmethod\u001B[0m\u001B[0;34m,\u001B[0m \u001B[0murl\u001B[0m\u001B[0;34m,\u001B[0m \u001B[0mfields\u001B[0m\u001B[0;34m=\u001B[0m\u001B[0mfields\u001B[0m\u001B[0;34m,\u001B[0m \u001B[0mheaders\u001B[0m\u001B[0;34m=\u001B[0m\u001B[0mheaders\u001B[0m\u001B[0;34m,\u001B[0m \u001B[0;34m**\u001B[0m\u001B[0murlopen_kw\u001B[0m\u001B[0;34m\u001B[0m\u001B[0;34m\u001B[0m\u001B[0m\n\u001B[1;32m     80\u001B[0m             )\n",
      "\u001B[0;32m~/Documents/programs/venv/lib/python3.9/site-packages/urllib3/request.py\u001B[0m in \u001B[0;36mrequest_encode_body\u001B[0;34m(self, method, url, fields, headers, encode_multipart, multipart_boundary, **urlopen_kw)\u001B[0m\n\u001B[1;32m    168\u001B[0m         \u001B[0mextra_kw\u001B[0m\u001B[0;34m.\u001B[0m\u001B[0mupdate\u001B[0m\u001B[0;34m(\u001B[0m\u001B[0murlopen_kw\u001B[0m\u001B[0;34m)\u001B[0m\u001B[0;34m\u001B[0m\u001B[0;34m\u001B[0m\u001B[0m\n\u001B[1;32m    169\u001B[0m \u001B[0;34m\u001B[0m\u001B[0m\n\u001B[0;32m--> 170\u001B[0;31m         \u001B[0;32mreturn\u001B[0m \u001B[0mself\u001B[0m\u001B[0;34m.\u001B[0m\u001B[0murlopen\u001B[0m\u001B[0;34m(\u001B[0m\u001B[0mmethod\u001B[0m\u001B[0;34m,\u001B[0m \u001B[0murl\u001B[0m\u001B[0;34m,\u001B[0m \u001B[0;34m**\u001B[0m\u001B[0mextra_kw\u001B[0m\u001B[0;34m)\u001B[0m\u001B[0;34m\u001B[0m\u001B[0;34m\u001B[0m\u001B[0m\n\u001B[0m",
      "\u001B[0;32m~/Documents/programs/venv/lib/python3.9/site-packages/urllib3/poolmanager.py\u001B[0m in \u001B[0;36murlopen\u001B[0;34m(self, method, url, redirect, **kw)\u001B[0m\n\u001B[1;32m    373\u001B[0m             \u001B[0mresponse\u001B[0m \u001B[0;34m=\u001B[0m \u001B[0mconn\u001B[0m\u001B[0;34m.\u001B[0m\u001B[0murlopen\u001B[0m\u001B[0;34m(\u001B[0m\u001B[0mmethod\u001B[0m\u001B[0;34m,\u001B[0m \u001B[0murl\u001B[0m\u001B[0;34m,\u001B[0m \u001B[0;34m**\u001B[0m\u001B[0mkw\u001B[0m\u001B[0;34m)\u001B[0m\u001B[0;34m\u001B[0m\u001B[0;34m\u001B[0m\u001B[0m\n\u001B[1;32m    374\u001B[0m         \u001B[0;32melse\u001B[0m\u001B[0;34m:\u001B[0m\u001B[0;34m\u001B[0m\u001B[0;34m\u001B[0m\u001B[0m\n\u001B[0;32m--> 375\u001B[0;31m             \u001B[0mresponse\u001B[0m \u001B[0;34m=\u001B[0m \u001B[0mconn\u001B[0m\u001B[0;34m.\u001B[0m\u001B[0murlopen\u001B[0m\u001B[0;34m(\u001B[0m\u001B[0mmethod\u001B[0m\u001B[0;34m,\u001B[0m \u001B[0mu\u001B[0m\u001B[0;34m.\u001B[0m\u001B[0mrequest_uri\u001B[0m\u001B[0;34m,\u001B[0m \u001B[0;34m**\u001B[0m\u001B[0mkw\u001B[0m\u001B[0;34m)\u001B[0m\u001B[0;34m\u001B[0m\u001B[0;34m\u001B[0m\u001B[0m\n\u001B[0m\u001B[1;32m    376\u001B[0m \u001B[0;34m\u001B[0m\u001B[0m\n\u001B[1;32m    377\u001B[0m         \u001B[0mredirect_location\u001B[0m \u001B[0;34m=\u001B[0m \u001B[0mredirect\u001B[0m \u001B[0;32mand\u001B[0m \u001B[0mresponse\u001B[0m\u001B[0;34m.\u001B[0m\u001B[0mget_redirect_location\u001B[0m\u001B[0;34m(\u001B[0m\u001B[0;34m)\u001B[0m\u001B[0;34m\u001B[0m\u001B[0;34m\u001B[0m\u001B[0m\n",
      "\u001B[0;32m~/Documents/programs/venv/lib/python3.9/site-packages/urllib3/connectionpool.py\u001B[0m in \u001B[0;36murlopen\u001B[0;34m(self, method, url, body, headers, retries, redirect, assert_same_host, timeout, pool_timeout, release_conn, chunked, body_pos, **response_kw)\u001B[0m\n\u001B[1;32m    697\u001B[0m \u001B[0;34m\u001B[0m\u001B[0m\n\u001B[1;32m    698\u001B[0m             \u001B[0;31m# Make the request on the httplib connection object.\u001B[0m\u001B[0;34m\u001B[0m\u001B[0;34m\u001B[0m\u001B[0;34m\u001B[0m\u001B[0m\n\u001B[0;32m--> 699\u001B[0;31m             httplib_response = self._make_request(\n\u001B[0m\u001B[1;32m    700\u001B[0m                 \u001B[0mconn\u001B[0m\u001B[0;34m,\u001B[0m\u001B[0;34m\u001B[0m\u001B[0;34m\u001B[0m\u001B[0m\n\u001B[1;32m    701\u001B[0m                 \u001B[0mmethod\u001B[0m\u001B[0;34m,\u001B[0m\u001B[0;34m\u001B[0m\u001B[0;34m\u001B[0m\u001B[0m\n",
      "\u001B[0;32m~/Documents/programs/venv/lib/python3.9/site-packages/urllib3/connectionpool.py\u001B[0m in \u001B[0;36m_make_request\u001B[0;34m(self, conn, method, url, timeout, chunked, **httplib_request_kw)\u001B[0m\n\u001B[1;32m    450\u001B[0m         \u001B[0;31m# AppEngine doesn't have a version attr.\u001B[0m\u001B[0;34m\u001B[0m\u001B[0;34m\u001B[0m\u001B[0;34m\u001B[0m\u001B[0m\n\u001B[1;32m    451\u001B[0m         \u001B[0mhttp_version\u001B[0m \u001B[0;34m=\u001B[0m \u001B[0mgetattr\u001B[0m\u001B[0;34m(\u001B[0m\u001B[0mconn\u001B[0m\u001B[0;34m,\u001B[0m \u001B[0;34m\"_http_vsn_str\"\u001B[0m\u001B[0;34m,\u001B[0m \u001B[0;34m\"HTTP/?\"\u001B[0m\u001B[0;34m)\u001B[0m\u001B[0;34m\u001B[0m\u001B[0;34m\u001B[0m\u001B[0m\n\u001B[0;32m--> 452\u001B[0;31m         log.debug(\n\u001B[0m\u001B[1;32m    453\u001B[0m             \u001B[0;34m'%s://%s:%s \"%s %s %s\" %s %s'\u001B[0m\u001B[0;34m,\u001B[0m\u001B[0;34m\u001B[0m\u001B[0;34m\u001B[0m\u001B[0m\n\u001B[1;32m    454\u001B[0m             \u001B[0mself\u001B[0m\u001B[0;34m.\u001B[0m\u001B[0mscheme\u001B[0m\u001B[0;34m,\u001B[0m\u001B[0;34m\u001B[0m\u001B[0;34m\u001B[0m\u001B[0m\n",
      "\u001B[0;31mKeyboardInterrupt\u001B[0m: "
     ]
    }
   ],
   "source": [
    "joke_set = set()\n",
    "joke_list = []\n",
    "initial_i = 0\n",
    "\n",
    "while True:\n",
    "    jokes_box = driver.find_element_by_css_selector('.humor_box.font_14')\n",
    "    jokes_elements = jokes_box.find_elements_by_css_selector('.humor_item.bottom_bord.p_rel')\n",
    "    print(f'Number of jokes: {len(joke_set)}')\n",
    "    for i  in range(initial_i, len(jokes_elements)):\n",
    "        \n",
    "        joke_element = jokes_elements[i]\n",
    "        \n",
    "        driver.execute_script(\"arguments[0].scrollIntoView();\", joke_element)\n",
    "        joke_text = joke_element.find_element_by_class_name('humor_text').text\n",
    "        joke_author = joke_element.find_element_by_css_selector('.bold.font_12_1').text\n",
    "        \n",
    "        if joke_text not in joke_set:\n",
    "            joke_set.add(joke_text)\n",
    "            joke_list.append((joke_text, joke_author))\n",
    "    \n",
    "    initial_i = i - 1\n",
    "    \n",
    "#     sleep(0.5)\n",
    "    body.send_keys(Keys.PAGE_DOWN)"
   ]
  },
  {
   "cell_type": "code",
   "execution_count": 36,
   "id": "98b62655",
   "metadata": {
    "hidden": true,
    "pycharm": {
     "name": "#%%\n"
    }
   },
   "outputs": [],
   "source": [
    "df = pd.DataFrame(joke_list, columns=['joke_text', 'joke_author'])"
   ]
  },
  {
   "cell_type": "code",
   "execution_count": 38,
   "id": "f4b5cfc8",
   "metadata": {
    "hidden": true,
    "pycharm": {
     "name": "#%%\n"
    }
   },
   "outputs": [],
   "source": [
    "df.to_csv('/Users/naltukhov/Documents/programs/jokes-generator/kvn_dataset.tsv', sep='\\t', index=False)"
   ]
  },
  {
   "cell_type": "code",
   "execution_count": 37,
   "id": "7796bd6f",
   "metadata": {
    "hidden": true,
    "pycharm": {
     "name": "#%%\n"
    }
   },
   "outputs": [
    {
     "data": {
      "text/plain": [
       "array(['шоу-группа \"Broadway\"', 'Город 313', 'ЧП',\n",
       "       'Меган Фокс РЭУ им. Г .В. Плеханова', 'Плюшки им. Ярослава Гашека',\n",
       "       'Попурри, БГУКИ, Минск', 'Не такая',\n",
       "       'Сборная Большого Московского Государственного Цирка',\n",
       "       'Первая Олимпийская', 'Сборная Связистов России (экс \"На Связи\")',\n",
       "       'Без дам', 'ШиК г. Пятигорск', 'Фирма, РЭУ им. Г.В. Плеханова',\n",
       "       'Сборная юрфака МГУ «План Б»', 'Сборная города Королева',\n",
       "       'Сборная Южного Подмосковья', 'ЭлектроШок',\n",
       "       'Миусский парк, Москва',\n",
       "       '\"Георгий Валентиныч\" РЭУ им. Г. В. Плеханова',\n",
       "       'Женская версия, ГУУ', 'Сборная Первого Меда',\n",
       "       'Сборная факультета журналистики МГУ', 'Доброжелательный Роман',\n",
       "       'Сборная МЭИ по КВН', 'В объективе', 'Ассортимент, Москва',\n",
       "       'Квартира №7', 'В активном поиске', '4 слова, НИУ ВШЭ',\n",
       "       'Бомбиты, ГУУ', 'PEOPLE', 'Эта тета, НИЯУ МИФИ',\n",
       "       'Институт Туризма', '\"Так и пишется\"',\n",
       "       'Юра, ФУ при Правительстве РФ', 'Улица Казакова ГУЗ',\n",
       "       'Сборная РПА Минюста России', 'Cборная БашГУ, Уфа',\n",
       "       'Привет от Кена Кизи, Москва', 'Парни, Москва', 'ДК, РГУП',\n",
       "       'Свободный полёт', 'Иван да Марья, РГСУ', 'Just',\n",
       "       'Гвозди РГАУ-МСХА Институт механики имени В.П. Горячкина',\n",
       "       'Минздрав предупреждал, РНИМУ', 'Сборная РТА, Люберцы',\n",
       "       'Шальная, МЭСИ', 'Антракт, ИСИ',\n",
       "       '«СУГА (Сборная Университета гражданской авиации)», МГТУГА',\n",
       "       'Сборная факультета журналистики, МГУ им. М.В. Ломоносова',\n",
       "       '«Особый случай», ГУУ',\n",
       "       'Институт Туризма ГАОУ ВПО МГИИТ им. Ю.А. Сенкевича',\n",
       "       'Сборная Камызякского края по КВНу',\n",
       "       'Детективное агентство «Лунный свет»', 'Кефир'], dtype=object)"
      ]
     },
     "execution_count": 37,
     "metadata": {},
     "output_type": "execute_result"
    }
   ],
   "source": [
    "df.joke_author.unique()"
   ]
  },
  {
   "cell_type": "markdown",
   "id": "12ba54a6",
   "metadata": {
    "pycharm": {
     "name": "#%% md\n"
    }
   },
   "source": [
    "## Anecdotes"
   ]
  },
  {
   "cell_type": "code",
   "execution_count": 103,
   "id": "c67b86a0",
   "metadata": {
    "pycharm": {
     "name": "#%%\n"
    }
   },
   "outputs": [],
   "source": [
    "driver = webdriver.Chrome('/Users/naltukhov/Documents/programs/jokes-generator/selenium/chromedriver')\n",
    "action = webdriver.ActionChains(driver)\n",
    "driver.get('https://nekdo.ru/random/')\n",
    "\n",
    "body = driver.find_element_by_css_selector('body')"
   ]
  },
  {
   "cell_type": "code",
   "execution_count": 104,
   "id": "ba6a937f",
   "metadata": {
    "pycharm": {
     "name": "#%%\n"
    }
   },
   "outputs": [
    {
     "data": {
      "text/plain": [
       "(78585, 2)"
      ]
     },
     "execution_count": 104,
     "metadata": {},
     "output_type": "execute_result"
    }
   ],
   "source": [
    "df = pd.read_csv('/Users/naltukhov/Documents/programs/jokes-generator/anekdot-dataset/anekdot_dataset.tsv', \n",
    "                     sep='\\t')\n",
    "df.shape"
   ]
  },
  {
   "cell_type": "code",
   "execution_count": 105,
   "id": "6d280357",
   "metadata": {
    "pycharm": {
     "name": "#%%\n"
    }
   },
   "outputs": [],
   "source": [
    "jokes_set = set(df.joke_text.unique())\n",
    "jokes_list = []"
   ]
  },
  {
   "cell_type": "code",
   "execution_count": 106,
   "id": "53997bd6",
   "metadata": {
    "scrolled": true,
    "pycharm": {
     "name": "#%%\n"
    }
   },
   "outputs": [
    {
     "name": "stdout",
     "output_type": "stream",
     "text": [
      "Number of jokes: 78585\n",
      "Number of jokes: 78595\n",
      "Number of jokes: 78608\n",
      "Number of jokes: 78622\n",
      "Number of jokes: 78635\n",
      "Number of jokes: 78650\n",
      "Number of jokes: 78659\n",
      "Number of jokes: 78672\n",
      "Number of jokes: 78685\n",
      "Number of jokes: 78696\n",
      "Number of jokes: 78705\n",
      "Number of jokes: 78721\n",
      "Number of jokes: 78726\n",
      "Number of jokes: 78738\n",
      "Number of jokes: 78749\n",
      "Number of jokes: 78761\n",
      "Number of jokes: 78769\n",
      "Number of jokes: 78782\n",
      "Number of jokes: 78799\n",
      "Number of jokes: 78809\n",
      "Number of jokes: 78818\n",
      "Number of jokes: 78826\n",
      "Number of jokes: 78841\n",
      "Number of jokes: 78851\n",
      "Number of jokes: 78864\n",
      "Number of jokes: 78875\n",
      "Number of jokes: 78886\n",
      "Number of jokes: 78893\n",
      "Number of jokes: 78901\n",
      "Number of jokes: 78907\n",
      "Number of jokes: 78915\n",
      "Number of jokes: 78928\n",
      "Number of jokes: 78942\n",
      "Number of jokes: 78950\n",
      "Number of jokes: 78965\n",
      "Number of jokes: 78972\n",
      "Number of jokes: 78989\n",
      "Number of jokes: 78998\n",
      "Number of jokes: 79008\n",
      "Number of jokes: 79022\n",
      "Number of jokes: 79031\n",
      "Number of jokes: 79044\n",
      "Number of jokes: 79056\n",
      "Number of jokes: 79071\n",
      "Number of jokes: 79082\n",
      "Number of jokes: 79093\n",
      "Number of jokes: 79102\n",
      "Number of jokes: 79114\n",
      "Number of jokes: 79128\n",
      "Number of jokes: 79137\n",
      "Number of jokes: 79148\n",
      "Number of jokes: 79155\n",
      "Number of jokes: 79161\n",
      "Number of jokes: 79170\n",
      "Number of jokes: 79181\n",
      "Number of jokes: 79195\n",
      "Number of jokes: 79207\n",
      "Number of jokes: 79215\n",
      "Number of jokes: 79225\n",
      "Number of jokes: 79240\n",
      "Number of jokes: 79255\n",
      "Number of jokes: 79264\n",
      "Number of jokes: 79272\n",
      "Number of jokes: 79285\n",
      "Number of jokes: 79298\n",
      "Number of jokes: 79308\n",
      "Number of jokes: 79321\n",
      "Number of jokes: 79333\n",
      "Number of jokes: 79342\n",
      "Number of jokes: 79352\n",
      "Number of jokes: 79363\n",
      "Number of jokes: 79374\n",
      "Number of jokes: 79383\n",
      "Number of jokes: 79391\n",
      "Number of jokes: 79406\n",
      "Number of jokes: 79418\n",
      "Number of jokes: 79432\n",
      "Number of jokes: 79445\n",
      "Number of jokes: 79459\n",
      "Number of jokes: 79472\n",
      "Number of jokes: 79481\n",
      "Number of jokes: 79491\n",
      "Number of jokes: 79504\n",
      "Number of jokes: 79513\n",
      "Number of jokes: 79524\n",
      "Number of jokes: 79537\n",
      "Number of jokes: 79552\n",
      "Number of jokes: 79561\n",
      "Number of jokes: 79571\n",
      "Number of jokes: 79581\n",
      "Number of jokes: 79587\n",
      "Number of jokes: 79602\n",
      "Number of jokes: 79618\n",
      "Number of jokes: 79634\n",
      "Number of jokes: 79648\n",
      "Number of jokes: 79658\n",
      "Number of jokes: 79669\n",
      "Number of jokes: 79686\n",
      "Number of jokes: 79694\n",
      "Number of jokes: 79704\n",
      "Number of jokes: 79713\n",
      "Number of jokes: 79721\n",
      "Number of jokes: 79731\n",
      "Number of jokes: 79740\n",
      "Number of jokes: 79747\n",
      "Number of jokes: 79763\n",
      "Number of jokes: 79775\n",
      "Number of jokes: 79787\n",
      "Number of jokes: 79799\n",
      "Number of jokes: 79811\n",
      "Number of jokes: 79823\n",
      "Number of jokes: 79835\n",
      "Number of jokes: 79844\n",
      "Number of jokes: 79851\n",
      "Number of jokes: 79860\n",
      "Number of jokes: 79869\n",
      "Number of jokes: 79877\n",
      "Number of jokes: 79889\n",
      "Number of jokes: 79900\n",
      "Number of jokes: 79908\n",
      "Number of jokes: 79920\n",
      "Number of jokes: 79935\n",
      "Number of jokes: 79945\n",
      "Number of jokes: 79956\n",
      "Number of jokes: 79971\n",
      "Number of jokes: 79985\n",
      "Number of jokes: 79998\n",
      "Number of jokes: 80009\n",
      "Number of jokes: 80022\n",
      "Number of jokes: 80035\n",
      "Number of jokes: 80045\n",
      "Number of jokes: 80053\n",
      "Number of jokes: 80064\n",
      "Number of jokes: 80076\n",
      "Number of jokes: 80084\n",
      "Number of jokes: 80094\n",
      "Number of jokes: 80104\n",
      "Number of jokes: 80119\n",
      "Number of jokes: 80130\n",
      "Number of jokes: 80135\n",
      "Number of jokes: 80149\n",
      "Number of jokes: 80162\n",
      "Number of jokes: 80175\n",
      "Number of jokes: 80182\n",
      "Number of jokes: 80191\n",
      "Number of jokes: 80203\n",
      "Number of jokes: 80209\n",
      "Number of jokes: 80221\n",
      "Number of jokes: 80231\n",
      "Number of jokes: 80241\n",
      "Number of jokes: 80249\n",
      "Number of jokes: 80261\n",
      "Number of jokes: 80271\n",
      "Number of jokes: 80278\n",
      "Number of jokes: 80287\n",
      "Number of jokes: 80295\n",
      "Number of jokes: 80307\n",
      "Number of jokes: 80314\n",
      "Number of jokes: 80322\n",
      "Number of jokes: 80333\n",
      "Number of jokes: 80339\n",
      "Number of jokes: 80351\n",
      "Number of jokes: 80363\n",
      "Number of jokes: 80377\n",
      "Number of jokes: 80390\n",
      "Number of jokes: 80403\n",
      "Number of jokes: 80416\n",
      "Number of jokes: 80426\n",
      "Number of jokes: 80437\n",
      "Number of jokes: 80448\n",
      "Number of jokes: 80463\n",
      "Number of jokes: 80471\n",
      "Number of jokes: 80481\n",
      "Number of jokes: 80495\n",
      "Number of jokes: 80504\n",
      "Number of jokes: 80517\n",
      "Number of jokes: 80525\n",
      "Number of jokes: 80534\n",
      "Number of jokes: 80548\n",
      "Number of jokes: 80556\n",
      "Number of jokes: 80563\n",
      "Number of jokes: 80580\n",
      "Number of jokes: 80592\n",
      "Number of jokes: 80604\n",
      "Number of jokes: 80618\n",
      "Number of jokes: 80630\n",
      "Number of jokes: 80644\n",
      "Number of jokes: 80653\n",
      "Number of jokes: 80662\n",
      "Number of jokes: 80671\n",
      "Number of jokes: 80685\n",
      "Number of jokes: 80698\n",
      "Number of jokes: 80708\n",
      "Number of jokes: 80725\n",
      "Number of jokes: 80738\n",
      "Number of jokes: 80749\n",
      "Number of jokes: 80761\n",
      "Number of jokes: 80773\n",
      "Number of jokes: 80785\n",
      "Number of jokes: 80796\n",
      "Number of jokes: 80808\n",
      "Number of jokes: 80821\n",
      "Number of jokes: 80837\n",
      "Number of jokes: 80846\n",
      "Number of jokes: 80853\n",
      "Number of jokes: 80865\n",
      "Number of jokes: 80876\n",
      "Number of jokes: 80884\n",
      "Number of jokes: 80893\n",
      "Number of jokes: 80903\n",
      "Number of jokes: 80908\n",
      "Number of jokes: 80912\n",
      "Number of jokes: 80922\n",
      "Number of jokes: 80931\n",
      "Number of jokes: 80944\n",
      "Number of jokes: 80956\n",
      "Number of jokes: 80966\n",
      "Number of jokes: 80977\n",
      "Number of jokes: 80987\n",
      "Number of jokes: 80999\n",
      "Number of jokes: 81008\n",
      "Number of jokes: 81017\n",
      "Number of jokes: 81026\n",
      "Number of jokes: 81038\n",
      "Number of jokes: 81045\n",
      "Number of jokes: 81055\n",
      "Number of jokes: 81066\n",
      "Number of jokes: 81077\n",
      "Number of jokes: 81087\n",
      "Number of jokes: 81098\n",
      "Number of jokes: 81110\n",
      "Number of jokes: 81124\n",
      "Number of jokes: 81136\n",
      "Number of jokes: 81150\n",
      "Number of jokes: 81163\n",
      "Number of jokes: 81173\n",
      "Number of jokes: 81187\n",
      "Number of jokes: 81194\n",
      "Number of jokes: 81202\n",
      "Number of jokes: 81215\n",
      "Number of jokes: 81228\n",
      "Number of jokes: 81236\n",
      "Number of jokes: 81250\n",
      "Number of jokes: 81261\n",
      "Number of jokes: 81270\n",
      "Number of jokes: 81277\n",
      "Number of jokes: 81289\n",
      "Number of jokes: 81302\n",
      "Number of jokes: 81310\n",
      "Number of jokes: 81323\n",
      "Number of jokes: 81330\n",
      "Number of jokes: 81341\n",
      "Number of jokes: 81349\n",
      "Number of jokes: 81356\n",
      "Number of jokes: 81365\n",
      "Number of jokes: 81371\n",
      "Number of jokes: 81382\n",
      "Number of jokes: 81396\n",
      "Number of jokes: 81404\n",
      "Number of jokes: 81413\n",
      "Number of jokes: 81425\n",
      "Number of jokes: 81435\n",
      "Number of jokes: 81443\n",
      "Number of jokes: 81451\n",
      "Number of jokes: 81460\n",
      "Number of jokes: 81472\n",
      "Number of jokes: 81487\n",
      "Number of jokes: 81492\n",
      "Number of jokes: 81505\n",
      "Number of jokes: 81523\n",
      "Number of jokes: 81535\n",
      "Number of jokes: 81542\n",
      "Number of jokes: 81552\n",
      "Number of jokes: 81563\n",
      "Number of jokes: 81578\n",
      "Number of jokes: 81590\n",
      "Number of jokes: 81604\n",
      "Number of jokes: 81614\n",
      "Number of jokes: 81628\n",
      "Number of jokes: 81640\n",
      "Number of jokes: 81648\n",
      "Number of jokes: 81665\n",
      "Number of jokes: 81677\n",
      "Number of jokes: 81693\n",
      "Number of jokes: 81707\n",
      "Number of jokes: 81717\n",
      "Number of jokes: 81727\n",
      "Number of jokes: 81735\n",
      "Number of jokes: 81744\n",
      "Number of jokes: 81753\n",
      "Number of jokes: 81762\n",
      "Number of jokes: 81777\n",
      "Number of jokes: 81785\n",
      "Number of jokes: 81797\n",
      "Number of jokes: 81812\n",
      "Number of jokes: 81823\n",
      "Number of jokes: 81833\n",
      "Number of jokes: 81842\n",
      "Number of jokes: 81850\n",
      "Number of jokes: 81859\n",
      "Number of jokes: 81869\n",
      "Number of jokes: 81874\n",
      "Number of jokes: 81886\n",
      "Number of jokes: 81896\n",
      "Number of jokes: 81907\n",
      "Number of jokes: 81919\n",
      "Number of jokes: 81932\n",
      "Number of jokes: 81940\n",
      "Number of jokes: 81949\n",
      "Number of jokes: 81963\n",
      "Number of jokes: 81973\n",
      "Number of jokes: 81983\n",
      "Number of jokes: 81997\n",
      "Number of jokes: 82006\n",
      "Number of jokes: 82017\n",
      "Number of jokes: 82026\n",
      "Number of jokes: 82040\n",
      "Number of jokes: 82054\n",
      "Number of jokes: 82067\n",
      "Number of jokes: 82075\n",
      "Number of jokes: 82080\n",
      "Number of jokes: 82093\n",
      "Number of jokes: 82103\n",
      "Number of jokes: 82115\n",
      "Number of jokes: 82127\n",
      "Number of jokes: 82137\n",
      "Number of jokes: 82141\n",
      "Number of jokes: 82155\n",
      "Number of jokes: 82164\n",
      "Number of jokes: 82176\n",
      "Number of jokes: 82185\n",
      "Number of jokes: 82191\n",
      "Number of jokes: 82201\n",
      "Number of jokes: 82215\n",
      "Number of jokes: 82224\n",
      "Number of jokes: 82236\n",
      "Number of jokes: 82248\n",
      "Number of jokes: 82258\n",
      "Number of jokes: 82271\n",
      "Number of jokes: 82284\n",
      "Number of jokes: 82299\n",
      "Number of jokes: 82307\n",
      "Number of jokes: 82313\n",
      "Number of jokes: 82325\n",
      "Number of jokes: 82339\n",
      "Number of jokes: 82350\n",
      "Number of jokes: 82361\n",
      "Number of jokes: 82370\n",
      "Number of jokes: 82382\n",
      "Number of jokes: 82390\n",
      "Number of jokes: 82405\n",
      "Number of jokes: 82416\n",
      "Number of jokes: 82425\n",
      "Number of jokes: 82436\n",
      "Number of jokes: 82444\n",
      "Number of jokes: 82457\n",
      "Number of jokes: 82468\n"
     ]
    },
    {
     "name": "stdout",
     "output_type": "stream",
     "text": [
      "Number of jokes: 82477\n",
      "Number of jokes: 82489\n",
      "Number of jokes: 82499\n",
      "Number of jokes: 82506\n",
      "Number of jokes: 82515\n",
      "Number of jokes: 82523\n",
      "Number of jokes: 82535\n",
      "Number of jokes: 82544\n",
      "Number of jokes: 82556\n",
      "Number of jokes: 82569\n",
      "Number of jokes: 82580\n",
      "Number of jokes: 82592\n",
      "Number of jokes: 82597\n",
      "Number of jokes: 82607\n",
      "Number of jokes: 82616\n",
      "Number of jokes: 82629\n",
      "Number of jokes: 82637\n",
      "Number of jokes: 82643\n",
      "Number of jokes: 82654\n",
      "Number of jokes: 82667\n",
      "Number of jokes: 82680\n",
      "Number of jokes: 82688\n",
      "Number of jokes: 82698\n",
      "Number of jokes: 82706\n",
      "Number of jokes: 82715\n",
      "Number of jokes: 82723\n",
      "Number of jokes: 82734\n",
      "Number of jokes: 82746\n",
      "Number of jokes: 82755\n",
      "Number of jokes: 82769\n",
      "Number of jokes: 82778\n",
      "Number of jokes: 82786\n",
      "Number of jokes: 82797\n",
      "Number of jokes: 82805\n",
      "Number of jokes: 82818\n",
      "Number of jokes: 82827\n",
      "Number of jokes: 82839\n",
      "Number of jokes: 82849\n",
      "Number of jokes: 82856\n",
      "Number of jokes: 82865\n",
      "Number of jokes: 82872\n",
      "Number of jokes: 82882\n",
      "Number of jokes: 82892\n",
      "Number of jokes: 82900\n"
     ]
    },
    {
     "ename": "TimeoutException",
     "evalue": "Message: \nStacktrace:\n0   chromedriver                        0x000000010e083b59 chromedriver + 2595673\n1   chromedriver                        0x000000010e737b33 chromedriver + 9624371\n2   chromedriver                        0x000000010de33773 chromedriver + 169843\n3   chromedriver                        0x000000010de63acd chromedriver + 367309\n4   chromedriver                        0x000000010de909c4 chromedriver + 551364\n5   chromedriver                        0x000000010de7f72d chromedriver + 481069\n6   chromedriver                        0x000000010de8ec46 chromedriver + 543814\n7   chromedriver                        0x000000010de7f9f3 chromedriver + 481779\n8   chromedriver                        0x000000010de59cd6 chromedriver + 326870\n9   chromedriver                        0x000000010de5aba7 chromedriver + 330663\n10  chromedriver                        0x000000010e051b09 chromedriver + 2390793\n11  chromedriver                        0x000000010e05ebcc chromedriver + 2444236\n12  chromedriver                        0x000000010e05e6ee chromedriver + 2442990\n13  chromedriver                        0x000000010e038832 chromedriver + 2287666\n14  chromedriver                        0x000000010e05f63f chromedriver + 2446911\n15  chromedriver                        0x000000010e047299 chromedriver + 2347673\n16  chromedriver                        0x000000010e0768b9 chromedriver + 2541753\n17  chromedriver                        0x000000010e089008 chromedriver + 2617352\n18  libsystem_pthread.dylib             0x00007fff203d6954 _pthread_start + 224\n19  libsystem_pthread.dylib             0x00007fff203d24a7 thread_start + 15\n",
     "output_type": "error",
     "traceback": [
      "\u001B[0;31m----------------------------------------------\u001B[0m",
      "\u001B[0;31mTimeoutException\u001B[0mTraceback (most recent call last)",
      "\u001B[0;32m<ipython-input-106-9678ee00d29d>\u001B[0m in \u001B[0;36m<module>\u001B[0;34m\u001B[0m\n\u001B[1;32m      1\u001B[0m \u001B[0;32mwhile\u001B[0m \u001B[0;32mTrue\u001B[0m\u001B[0;34m:\u001B[0m\u001B[0;34m\u001B[0m\u001B[0;34m\u001B[0m\u001B[0m\n\u001B[1;32m      2\u001B[0m     \u001B[0mprint\u001B[0m\u001B[0;34m(\u001B[0m\u001B[0;34mf'Number of jokes: {len(jokes_set)}'\u001B[0m\u001B[0;34m)\u001B[0m\u001B[0;34m\u001B[0m\u001B[0;34m\u001B[0m\u001B[0m\n\u001B[0;32m----> 3\u001B[0;31m     \u001B[0mWebDriverWait\u001B[0m\u001B[0;34m(\u001B[0m\u001B[0mdriver\u001B[0m\u001B[0;34m,\u001B[0m \u001B[0;36m5\u001B[0m\u001B[0;34m)\u001B[0m\u001B[0;34m.\u001B[0m\u001B[0muntil\u001B[0m\u001B[0;34m(\u001B[0m\u001B[0mEC\u001B[0m\u001B[0;34m.\u001B[0m\u001B[0mpresence_of_element_located\u001B[0m\u001B[0;34m(\u001B[0m\u001B[0;34m(\u001B[0m\u001B[0mBy\u001B[0m\u001B[0;34m.\u001B[0m\u001B[0mCLASS_NAME\u001B[0m\u001B[0;34m,\u001B[0m \u001B[0;34m'content'\u001B[0m\u001B[0;34m)\u001B[0m\u001B[0;34m)\u001B[0m\u001B[0;34m)\u001B[0m\u001B[0;34m\u001B[0m\u001B[0;34m\u001B[0m\u001B[0m\n\u001B[0m\u001B[1;32m      4\u001B[0m     \u001B[0mcontent_box\u001B[0m \u001B[0;34m=\u001B[0m \u001B[0mdriver\u001B[0m\u001B[0;34m.\u001B[0m\u001B[0mfind_element_by_class_name\u001B[0m\u001B[0;34m(\u001B[0m\u001B[0;34m'content'\u001B[0m\u001B[0;34m)\u001B[0m\u001B[0;34m\u001B[0m\u001B[0;34m\u001B[0m\u001B[0m\n\u001B[1;32m      5\u001B[0m \u001B[0;34m\u001B[0m\u001B[0m\n",
      "\u001B[0;32m~/Documents/programs/venv/lib/python3.9/site-packages/selenium/webdriver/support/wait.py\u001B[0m in \u001B[0;36muntil\u001B[0;34m(self, method, message)\u001B[0m\n\u001B[1;32m     87\u001B[0m             \u001B[0;32mif\u001B[0m \u001B[0mtime\u001B[0m\u001B[0;34m.\u001B[0m\u001B[0mtime\u001B[0m\u001B[0;34m(\u001B[0m\u001B[0;34m)\u001B[0m \u001B[0;34m>\u001B[0m \u001B[0mend_time\u001B[0m\u001B[0;34m:\u001B[0m\u001B[0;34m\u001B[0m\u001B[0;34m\u001B[0m\u001B[0m\n\u001B[1;32m     88\u001B[0m                 \u001B[0;32mbreak\u001B[0m\u001B[0;34m\u001B[0m\u001B[0;34m\u001B[0m\u001B[0m\n\u001B[0;32m---> 89\u001B[0;31m         \u001B[0;32mraise\u001B[0m \u001B[0mTimeoutException\u001B[0m\u001B[0;34m(\u001B[0m\u001B[0mmessage\u001B[0m\u001B[0;34m,\u001B[0m \u001B[0mscreen\u001B[0m\u001B[0;34m,\u001B[0m \u001B[0mstacktrace\u001B[0m\u001B[0;34m)\u001B[0m\u001B[0;34m\u001B[0m\u001B[0;34m\u001B[0m\u001B[0m\n\u001B[0m\u001B[1;32m     90\u001B[0m \u001B[0;34m\u001B[0m\u001B[0m\n\u001B[1;32m     91\u001B[0m     \u001B[0;32mdef\u001B[0m \u001B[0muntil_not\u001B[0m\u001B[0;34m(\u001B[0m\u001B[0mself\u001B[0m\u001B[0;34m,\u001B[0m \u001B[0mmethod\u001B[0m\u001B[0;34m,\u001B[0m \u001B[0mmessage\u001B[0m\u001B[0;34m=\u001B[0m\u001B[0;34m''\u001B[0m\u001B[0;34m)\u001B[0m\u001B[0;34m:\u001B[0m\u001B[0;34m\u001B[0m\u001B[0;34m\u001B[0m\u001B[0m\n",
      "\u001B[0;31mTimeoutException\u001B[0m: Message: \nStacktrace:\n0   chromedriver                        0x000000010e083b59 chromedriver + 2595673\n1   chromedriver                        0x000000010e737b33 chromedriver + 9624371\n2   chromedriver                        0x000000010de33773 chromedriver + 169843\n3   chromedriver                        0x000000010de63acd chromedriver + 367309\n4   chromedriver                        0x000000010de909c4 chromedriver + 551364\n5   chromedriver                        0x000000010de7f72d chromedriver + 481069\n6   chromedriver                        0x000000010de8ec46 chromedriver + 543814\n7   chromedriver                        0x000000010de7f9f3 chromedriver + 481779\n8   chromedriver                        0x000000010de59cd6 chromedriver + 326870\n9   chromedriver                        0x000000010de5aba7 chromedriver + 330663\n10  chromedriver                        0x000000010e051b09 chromedriver + 2390793\n11  chromedriver                        0x000000010e05ebcc chromedriver + 2444236\n12  chromedriver                        0x000000010e05e6ee chromedriver + 2442990\n13  chromedriver                        0x000000010e038832 chromedriver + 2287666\n14  chromedriver                        0x000000010e05f63f chromedriver + 2446911\n15  chromedriver                        0x000000010e047299 chromedriver + 2347673\n16  chromedriver                        0x000000010e0768b9 chromedriver + 2541753\n17  chromedriver                        0x000000010e089008 chromedriver + 2617352\n18  libsystem_pthread.dylib             0x00007fff203d6954 _pthread_start + 224\n19  libsystem_pthread.dylib             0x00007fff203d24a7 thread_start + 15\n"
     ]
    }
   ],
   "source": [
    "while True:\n",
    "    print(f'Number of jokes: {len(jokes_set)}')\n",
    "    WebDriverWait(driver, 5).until(EC.presence_of_element_located((By.CLASS_NAME, 'content')))\n",
    "    content_box = driver.find_element_by_class_name('content')\n",
    "\n",
    "    dates_elements = content_box.find_elements_by_class_name('date')\n",
    "    jokes_elements = content_box.find_elements_by_class_name('text')\n",
    "\n",
    "    for (date_element, jokes_element) in zip(dates_elements, jokes_elements):\n",
    "        likes = date_element.find_element_by_class_name('like').text\n",
    "        joke_text = jokes_element.text\n",
    "\n",
    "        if joke_text not in jokes_set:\n",
    "            jokes_set.add(joke_text)\n",
    "            jokes_list.append((joke_text, likes))\n",
    "    \n",
    "    driver.refresh()\n",
    "    sleep(random.random())"
   ]
  },
  {
   "cell_type": "code",
   "execution_count": 107,
   "id": "23bb63da",
   "metadata": {
    "pycharm": {
     "name": "#%%\n"
    }
   },
   "outputs": [
    {
     "data": {
      "text/plain": [
       "(4315, 2)"
      ]
     },
     "execution_count": 107,
     "metadata": {},
     "output_type": "execute_result"
    }
   ],
   "source": [
    "new_df = pd.DataFrame(jokes_list, columns=['joke_text', 'likes'])\n",
    "new_df.likes = new_df.likes.astype(int)\n",
    "new_df.shape"
   ]
  },
  {
   "cell_type": "code",
   "execution_count": 108,
   "id": "f11b2944",
   "metadata": {
    "pycharm": {
     "name": "#%%\n"
    }
   },
   "outputs": [
    {
     "data": {
      "text/plain": [
       "(82900, 2)"
      ]
     },
     "execution_count": 108,
     "metadata": {},
     "output_type": "execute_result"
    }
   ],
   "source": [
    "df = df.append(new_df).drop_duplicates()\n",
    "df.shape"
   ]
  },
  {
   "cell_type": "code",
   "execution_count": 109,
   "id": "7a90e82a",
   "metadata": {
    "pycharm": {
     "name": "#%%\n"
    }
   },
   "outputs": [],
   "source": [
    "df.to_csv('/Users/naltukhov/Documents/programs/jokes-generator/anekdot-dataset/anekdot_dataset.tsv', \n",
    "          sep='\\t', index=False)"
   ]
  },
  {
   "cell_type": "code",
   "execution_count": 110,
   "id": "fc3b772d",
   "metadata": {
    "pycharm": {
     "name": "#%%\n"
    }
   },
   "outputs": [
    {
     "data": {
      "text/plain": [
       "(82900, 2)"
      ]
     },
     "execution_count": 110,
     "metadata": {},
     "output_type": "execute_result"
    }
   ],
   "source": [
    "df.shape"
   ]
  },
  {
   "cell_type": "code",
   "execution_count": 111,
   "id": "58f761e4",
   "metadata": {
    "pycharm": {
     "name": "#%%\n"
    }
   },
   "outputs": [
    {
     "data": {
      "text/plain": [
       "array([['- Да пошел ты на восемь букв!\\n- Это куда?!\\n- В п#зду.\\n- Так там же пять букв.\\n- В п#зде остальные три и найдешь!',\n",
       "        61]], dtype=object)"
      ]
     },
     "execution_count": 111,
     "metadata": {},
     "output_type": "execute_result"
    }
   ],
   "source": [
    "df.loc[df.likes > 50].sample().values"
   ]
  },
  {
   "cell_type": "code",
   "execution_count": 112,
   "id": "df04f371",
   "metadata": {
    "scrolled": true,
    "pycharm": {
     "name": "#%%\n"
    }
   },
   "outputs": [
    {
     "data": {
      "text/plain": [
       "<AxesSubplot:>"
      ]
     },
     "execution_count": 112,
     "metadata": {},
     "output_type": "execute_result"
    },
    {
     "data": {
      "image/png": "[encoded data removed]",
      "text/plain": [
       "<Figure size 432x288 with 1 Axes>"
      ]
     },
     "metadata": {
      "needs_background": "light"
     },
     "output_type": "display_data"
    }
   ],
   "source": [
    "df.joke_text.apply(len).hist()"
   ]
  },
  {
   "cell_type": "code",
   "execution_count": null,
   "outputs": [],
   "source": [],
   "metadata": {
    "collapsed": false,
    "pycharm": {
     "name": "#%%\n"
    }
   }
  }
 ],
 "metadata": {
  "kernelspec": {
   "display_name": "Python 3",
   "language": "python",
   "name": "python3"
  },
  "language_info": {
   "codemirror_mode": {
    "name": "ipython",
    "version": 3
   },
   "file_extension": ".py",
   "mimetype": "text/x-python",
   "name": "python",
   "nbconvert_exporter": "python",
   "pygments_lexer": "ipython3",
   "version": "3.9.4"
  }
 },
 "nbformat": 4,
 "nbformat_minor": 5
}