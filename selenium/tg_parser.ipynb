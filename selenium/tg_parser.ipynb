{
 "cells": [
  {
   "cell_type": "code",
   "execution_count": 1,
   "id": "9c3174f6",
   "metadata": {
    "pycharm": {
     "name": "#%%\n"
    }
   },
   "outputs": [],
   "source": [
    "import re\n",
    "from time import sleep\n",
    "import random\n",
    "\n",
    "import warnings\n",
    "warnings.filterwarnings(\"ignore\")"
   ]
  },
  {
   "cell_type": "code",
   "execution_count": 79,
   "id": "b357edce",
   "metadata": {
    "pycharm": {
     "name": "#%%\n"
    }
   },
   "outputs": [],
   "source": [
    "import selenium\n",
    "from selenium import webdriver\n",
    "from selenium.common.exceptions import (NoSuchElementException,\n",
    "                                        StaleElementReferenceException)\n",
    "from selenium.webdriver.common.action_chains import ActionChains"
   ]
  },
  {
   "cell_type": "code",
   "execution_count": 82,
   "id": "e464cff9",
   "metadata": {
    "pycharm": {
     "name": "#%%\n"
    }
   },
   "outputs": [],
   "source": [
    "def remove_time(text):\n",
    "    return re.sub(r\"\\n(edited\\s)?\\d\\d:\\d\\d\", '', text)\n",
    "\n",
    "def check_punch(punch_element):\n",
    "    try:\n",
    "        author_element = punch_element.find_element_by_class_name(\"message-title\")\n",
    "    except (NoSuchElementException, StaleElementReferenceException):\n",
    "        print('Punch passed!')\n",
    "        return False\n",
    "    else:\n",
    "        return author_element != ''"
   ]
  },
  {
   "cell_type": "code",
   "execution_count": 86,
   "id": "db4d992a",
   "metadata": {
    "scrolled": true,
    "pycharm": {
     "name": "#%%\n"
    }
   },
   "outputs": [
    {
     "name": "stdout",
     "output_type": "stream",
     "text": [
      "Got 160 punches\n",
      "Punch passed!\n",
      "Punch passed!\n",
      "Punch passed!\n",
      "Punch passed!\n",
      "Punch passed!\n",
      "Punch passed!\n",
      "Punch passed!\n",
      "Punch passed!\n",
      "Punch passed!\n",
      "Punch passed!\n",
      "Punch passed!\n",
      "Punch passed!\n",
      "Punch passed!\n",
      "Punch passed!\n",
      "Punch passed!\n",
      "Punch passed!\n",
      "Punch passed!\n",
      "Punch passed!\n",
      "Punch passed!\n",
      "Punch passed!\n",
      "Punch passed!\n",
      "Punch passed!\n",
      "Punch passed!\n",
      "Punch passed!\n",
      "Punch passed!\n",
      "Punch passed!\n",
      "Punch passed!\n",
      "Punch passed!\n",
      "Punch passed!\n",
      "Punch passed!\n",
      "Punch passed!\n",
      "Punch passed!\n",
      "Punch passed!\n",
      "Punch passed!\n",
      "Punch passed!\n",
      "Punch passed!\n",
      "Punch passed!\n",
      "Punch passed!\n",
      "Punch passed!\n",
      "Punch passed!\n",
      "Punch passed!\n",
      "Punch passed!\n",
      "Punch passed!\n",
      "Punch passed!\n",
      "Punch passed!\n",
      "Punch passed!\n",
      "Punch passed!\n",
      "Punch passed!\n",
      "Punch passed!\n",
      "Punch passed!\n",
      "Punch passed!\n",
      "Punch passed!\n",
      "Punch passed!\n",
      "Punch passed!\n",
      "Punch passed!\n",
      "Punch passed!\n",
      "Punch passed!\n",
      "Punch passed!\n",
      "Punch passed!\n",
      "Punch passed!\n",
      "Punch passed!\n",
      "Punch passed!\n",
      "Punch passed!\n",
      "Punch passed!\n",
      "Punch passed!\n",
      "Punch passed!\n",
      "Punch passed!\n",
      "Punch passed!\n",
      "Punch passed!\n",
      "Punch passed!\n",
      "Punch passed!\n",
      "Punch passed!\n",
      "Punch passed!\n",
      "Punch passed!\n",
      "Punch passed!\n",
      "Punch passed!\n",
      "Punch passed!\n",
      "Punch passed!\n",
      "Punch passed!\n",
      "Punch passed!\n",
      "Punch passed!\n",
      "Punch passed!\n",
      "Punch passed!\n",
      "Punch passed!\n",
      "Punch passed!\n",
      "Punch passed!\n",
      "Punch passed!\n",
      "Punch passed!\n",
      "Punch passed!\n",
      "Punch passed!\n",
      "Punch passed!\n",
      "Punch passed!\n",
      "Punch passed!\n",
      "Punch passed!\n",
      "Punch passed!\n",
      "Punch passed!\n",
      "Punch passed!\n",
      "Punch passed!\n",
      "Punch passed!\n",
      "Punch passed!\n",
      "Punch passed!\n",
      "Punch passed!\n",
      "Punch passed!\n",
      "Punch passed!\n",
      "Punch passed!\n",
      "Punch passed!\n",
      "Punch passed!\n",
      "Punch passed!\n",
      "Punch passed!\n",
      "Punch passed!\n",
      "Punch passed!\n",
      "Punch passed!\n",
      "Punch passed!\n",
      "Punch passed!\n",
      "Punch passed!\n",
      "Punch passed!\n",
      "Punch passed!\n",
      "Punch passed!\n",
      "Punch passed!\n",
      "Got 160 punches\n",
      "Punch passed!\n",
      "Punch passed!\n",
      "Punch passed!\n",
      "Punch passed!\n",
      "Punch passed!\n",
      "Punch passed!\n",
      "Punch passed!\n",
      "Punch passed!\n",
      "Punch passed!\n",
      "Punch passed!\n",
      "Punch passed!\n",
      "Punch passed!\n",
      "Punch passed!\n",
      "Punch passed!\n",
      "Punch passed!\n",
      "Punch passed!\n",
      "Punch passed!\n",
      "Punch passed!\n",
      "Punch passed!\n",
      "Punch passed!\n",
      "Punch passed!\n",
      "Punch passed!\n",
      "Punch passed!\n",
      "Punch passed!\n",
      "Punch passed!\n",
      "Punch passed!\n",
      "Punch passed!\n",
      "Punch passed!\n",
      "Punch passed!\n",
      "Punch passed!\n",
      "Punch passed!\n",
      "Punch passed!\n",
      "Punch passed!\n",
      "Punch passed!\n",
      "Punch passed!\n",
      "Punch passed!\n",
      "Punch passed!\n",
      "Punch passed!\n",
      "Punch passed!\n",
      "Punch passed!\n",
      "Punch passed!\n",
      "Punch passed!\n",
      "Punch passed!\n",
      "Punch passed!\n",
      "Punch passed!\n",
      "Punch passed!\n",
      "Punch passed!\n",
      "Punch passed!\n",
      "Punch passed!\n",
      "Punch passed!\n",
      "Punch passed!\n",
      "Punch passed!\n",
      "Punch passed!\n",
      "Punch passed!\n",
      "Punch passed!\n",
      "Punch passed!\n",
      "Punch passed!\n",
      "Punch passed!\n",
      "Punch passed!\n",
      "Punch passed!\n",
      "Punch passed!\n",
      "Punch passed!\n",
      "Punch passed!\n",
      "Punch passed!\n",
      "Punch passed!\n",
      "Punch passed!\n",
      "Punch passed!\n",
      "Punch passed!\n",
      "Punch passed!\n",
      "Punch passed!\n",
      "Punch passed!\n",
      "Punch passed!\n",
      "Punch passed!\n",
      "Punch passed!\n",
      "Punch passed!\n",
      "Punch passed!\n",
      "Punch passed!\n",
      "Punch passed!\n",
      "Punch passed!\n",
      "Punch passed!\n",
      "Punch passed!\n",
      "Punch passed!\n",
      "Punch passed!\n",
      "Punch passed!\n",
      "Punch passed!\n",
      "Punch passed!\n",
      "Punch passed!\n",
      "Punch passed!\n",
      "Punch passed!\n",
      "Punch passed!\n",
      "Punch passed!\n",
      "Punch passed!\n",
      "Punch passed!\n",
      "Punch passed!\n",
      "Punch passed!\n",
      "Punch passed!\n",
      "Punch passed!\n",
      "Punch passed!\n",
      "Punch passed!\n",
      "Punch passed!\n",
      "Punch passed!\n",
      "Punch passed!\n",
      "Punch passed!\n",
      "Punch passed!\n",
      "Punch passed!\n",
      "Punch passed!\n",
      "Punch passed!\n",
      "Punch passed!\n",
      "Punch passed!\n",
      "Punch passed!\n",
      "Punch passed!\n",
      "Punch passed!\n",
      "Punch passed!\n",
      "Punch passed!\n",
      "Punch passed!\n",
      "Punch passed!\n",
      "Punch passed!\n",
      "Punch passed!\n",
      "Punch passed!\n",
      "Number of punches: 38\n"
     ]
    }
   ],
   "source": [
    "punches = []\n",
    "unique_punches = set()\n",
    "no_new_punches_exist = False\n",
    "while not no_new_punches_exist:\n",
    "    \n",
    "    punch_element_list = driver.find_elements_by_css_selector('.Message.message-list-item')\n",
    "    print(f\"Got {len(punch_element_list)} punches\")\n",
    "\n",
    "    no_new_punches_exist = True\n",
    "\n",
    "    for punch_element in reversed(punch_element_list):\n",
    "\n",
    "        if not check_punch(punch_element) or punch_element.text == '':\n",
    "            continue\n",
    "            \n",
    "        # Scroll to element\n",
    "        driver.execute_script(\"arguments[0].scrollIntoView();\", punch_element)\n",
    "\n",
    "        sleep(random.random() / 10)\n",
    "\n",
    "        # Get punch info\n",
    "        punch_id = punch_element.get_attribute('data-message-id')\n",
    "        punch_author = punch_element.find_element_by_class_name(\"message-title\").text.strip()\n",
    "        punch_text = punch_element.find_element_by_css_selector(\".text-content.with-meta\").text.strip()\n",
    "        punch_text = remove_time(punch_text)\n",
    "\n",
    "        # Calculate mark\n",
    "        punch_marks_elements = punch_element.find_elements_by_css_selector(\".Button\")\n",
    "        punch_likes_num = 0\n",
    "        for punch_mark_element in punch_marks_elements:\n",
    "            try:\n",
    "                punch_mark = int(punch_mark_element.text)\n",
    "            except ValueError:\n",
    "                # No marks num, just avatars which could contain text\n",
    "                punch_mark = len(punch_mark_element.find_elements_by_css_selector('.Avatar'))\n",
    "                redundant_text = punch_mark_element.find_element_by_class_name('avatars').text\n",
    "                punch_text = punch_text.replace(redundant_text, '').strip()\n",
    "            else:\n",
    "                # Number of marks as number\n",
    "                punch_text = punch_text.replace(punch_mark_element.text, '').strip()\n",
    "            punch_likes_num += punch_mark\n",
    "\n",
    "        if punch_text not in unique_punches:\n",
    "#             print(punch_author, punch_text, punch_likes_num, sep=',')\n",
    "            punches.append((punch_author, punch_text, punch_likes_num))\n",
    "            unique_punches.add(punch_text)\n",
    "            no_new_punches_exist = False\n",
    "    \n",
    "    sleep(4)\n",
    "\n",
    "print(f'Number of punches: {len(punches)}')"
   ]
  },
  {
   "cell_type": "code",
   "execution_count": 75,
   "id": "1a5dd517",
   "metadata": {
    "pycharm": {
     "name": "#%%\n"
    }
   },
   "outputs": [
    {
     "data": {
      "text/plain": [
       "('Лёша Шальнов', 'Глава ритуальной Фирмы - школьник.', 3)"
      ]
     },
     "execution_count": 75,
     "metadata": {},
     "output_type": "execute_result"
    }
   ],
   "source": [
    "punches[-1]"
   ]
  },
  {
   "cell_type": "code",
   "execution_count": 43,
   "id": "6306d125",
   "metadata": {
    "pycharm": {
     "name": "#%%\n"
    }
   },
   "outputs": [],
   "source": [
    "driver.execute_script('window.scrollTo(0, 1000);')"
   ]
  },
  {
   "cell_type": "code",
   "execution_count": null,
   "id": "bfb10d0c",
   "metadata": {
    "pycharm": {
     "name": "#%%\n"
    }
   },
   "outputs": [],
   "source": [
    "get_punches()"
   ]
  },
  {
   "cell_type": "code",
   "execution_count": 3,
   "id": "c50c48e5",
   "metadata": {
    "pycharm": {
     "name": "#%%\n"
    }
   },
   "outputs": [],
   "source": [
    "driver = webdriver.Chrome('/Users/naltukhov/Documents/programs/selenium/chromedriver')\n",
    "action = webdriver.ActionChains(driver)\n",
    "driver.get('https://web.telegram.org/z/#242001496')"
   ]
  },
  {
   "cell_type": "code",
   "execution_count": null,
   "id": "611d7bc6",
   "metadata": {
    "pycharm": {
     "name": "#%%\n"
    }
   },
   "outputs": [],
   "source": [
    "# Sign in, open channel"
   ]
  },
  {
   "cell_type": "code",
   "execution_count": null,
   "id": "8a7fc414",
   "metadata": {
    "pycharm": {
     "name": "#%%\n"
    }
   },
   "outputs": [],
   "source": [
    "# Scroll up messages manually to start from the begginig"
   ]
  },
  {
   "cell_type": "code",
   "execution_count": 32,
   "id": "410e8197",
   "metadata": {
    "pycharm": {
     "name": "#%%\n"
    }
   },
   "outputs": [
    {
     "name": "stdout",
     "output_type": "stream",
     "text": [
      "Новость.\n",
      "Мужчина ограбил магазин интимных товаров в Подмосковье.\n",
      "441\n",
      ".\n",
      "11:08\n",
      "Aleksey Emelyanov,Следующее ограбление он уже делал синими ,желтыми,красными ограбление будет с пристрастием,0\n",
      "Антон Головин,Когда его поймали, у него изъяли 15 кг товара в дрочиловом эквиваленте,0\n",
      "Aleksey Emelyanov,Но с легкостью произвел сбыт товара в Москве,0\n",
      "Evgeniy Tsoy,Сеть магазинов «Мир кожи и меха» начала агрессивно устранять конкурентов,0\n",
      "Сергей Нерсесьян,Был осужден по одной статье: «грабеж», но в ад попал за два греха: «не укради» и «не прелюбодействуй».,3\n",
      "Роман,Продавщица описала нападавшего, как «типичный гандон»,0\n",
      "Рома Шляк,Парадокс. Грабил магазин ИнТима, но работал не в команде.,1\n",
      "Aleksandr Scheglov,Вот она, анонимность и уважение к клиенту! Человек, хоть и украл, а имя его всё равно не сообщают!,3\n",
      "Егор Гуляев,В тюрьме стул точно не с пиками выберет,0\n",
      "Кирилл Шуклин,При задержании у него обнаружили маслянный фильтр, омывашку и генератор, по его словам он грабил магазин автозапчастей, там просто вывеску не сменили,0\n",
      "Жмыхов Андрей,«Хуёвый инцидент»,0\n",
      "Влад Сухарев,Новость.\n",
      "Мужчина ограбил магазин интимных товаров в Подмосковье.\n",
      "И попал в просак.,1\n",
      "Salavat,Мужчина ограбил магазин интимных товаров в Подмосковье.\n",
      "«Человек из Подольска - 2»,1\n",
      "Андрей Тарасов,Теперь может сесть не за хуй собачий.,0\n",
      "Vlad Patop,Директор уволил продавщицу, теперь ей нечем выдавать зарплату,0\n",
      "Сергей Ужахов,Ну, он и сам оттуда. Че ему ехать куда-то,1\n",
      "Сергей Фролов,Преступника не нашли, ведь он был в костюме феминистки, а там пойми где её, а где награбленное.,0\n",
      "Влад Иль,И сделал пугало в огород, больше не беспокоят вороны, соседи, родственники... ведь из далека выглядит как удивлённый гаишник,0\n",
      "Влад Сухарев,Новость.\n",
      "Мужчина ограбил магазин интимных товаров в Подмосковье.\n",
      "Ему удалось скрыться через шоколадный вход. Ещё два сообщника ушли через парадный.,0\n",
      "Яна Лютая,Мужчина ограбил магазин интимных товаров в Подмосковье.\n",
      "Полиция вышла на поиски по липким следам,0\n",
      "Антон Козополянский,Грабителя уже задержали, им оказался некий Арс Арутюнян\n",
      "Со слов задержанного: «у меня просто на этот случай была великолепная резина»,7\n",
      "Виктор Федькин,И сделал подмосковных женщин чуточку красивее, ведь теперь они все ходили в бусах.,0\n",
      "Влад Сухарев,Новость.\n",
      "Мужчина ограбил магазин интимных товаров в Подмосковье.\n",
      "Личность преступника установлена. Им оказался простой русский крестьянин Грэев,0\n",
      "Vlad Patop,Новость перестаёт быть забавной, если добавить «теперь под угрозой женщины и дети»,1\n",
      "Мишаня Гришин,Ну кто-то же должен пополнять коробку с подарками в ЧБД,1\n",
      "Daniil Ivanov,И почему-то никого не интересует сколько денег он украл,0\n",
      "Даня Казаков,Вор исчез с концами,5\n",
      "Мишаня Гришин,Ну все, ждём этого преступника на интервью у Собчак, а что, она в первую очередь женщина.,0\n",
      "Антон Мезинов,Убегая он прокричал «не посадите-сам сяду»,0\n",
      "Elzar Azhibaev,Его помогли найти сейсмологи, такой вибрации в Подмосковье ещё не было,3\n",
      "Витя Алексеев,Следствие подозревает, что он любитель БДСМ, ведь он украл только бланки, в которых прописаны законы о повышении пенсионного возраста.,1\n",
      "Марина,«Пусть в столице остаётся Московское центральное кольцо, зато у меня - эрекционное!», - прокомментировал мужчина.,0\n",
      "Александр Серебряков,Ну устал человек носить обычные, медицинские маски, ну можно понять,0\n",
      "Даня Казаков,Песня про подмосковные вечера ещё никогда не была так актуальна,0\n",
      "Андрей Колесниченко,Не совсем правильно понял фразу от девушки: «Возьми чего-нибудь вкусненького»,0\n",
      "Игорь Шайда,А в новостях сказали-что он вандал из Казахстана.,1\n",
      "Bogdan Chernov,Оперативники отказываются идти по горячим следам.,0\n",
      "Владислав Васильев,Но его быстро нашли по следам от смазки,0\n",
      "Игорь Решетов,Полиция ищет огромную прикроватную тумбочку,2\n",
      "Salavat,Мужчина ограбил магазин интимных товаров в Подмосковье.\n",
      "Такого обновления товаров в электричке Москва-Петушки не ожидал никто.,2\n",
      "Reload\n"
     ]
    },
    {
     "ename": "StaleElementReferenceException",
     "evalue": "Message: stale element reference: element is not attached to the page document\n  (Session info: chrome=89.0.4389.90)\nStacktrace:\n0   chromedriver                        0x0000000100370b59 chromedriver + 2595673\n1   chromedriver                        0x0000000100a24b33 chromedriver + 9624371\n2   chromedriver                        0x0000000100120773 chromedriver + 169843\n3   chromedriver                        0x0000000100123531 chromedriver + 181553\n4   chromedriver                        0x00000001001233a6 chromedriver + 181158\n5   chromedriver                        0x0000000100123e42 chromedriver + 183874\n6   chromedriver                        0x000000010017c605 chromedriver + 546309\n7   chromedriver                        0x000000010016c6e2 chromedriver + 480994\n8   chromedriver                        0x000000010017bc46 chromedriver + 543814\n9   chromedriver                        0x000000010016c9f3 chromedriver + 481779\n10  chromedriver                        0x0000000100146cd6 chromedriver + 326870\n11  chromedriver                        0x0000000100147ba7 chromedriver + 330663\n12  chromedriver                        0x000000010033eb09 chromedriver + 2390793\n13  chromedriver                        0x000000010034bbcc chromedriver + 2444236\n14  chromedriver                        0x000000010034b6ee chromedriver + 2442990\n15  chromedriver                        0x0000000100325832 chromedriver + 2287666\n16  chromedriver                        0x000000010034c63f chromedriver + 2446911\n17  chromedriver                        0x0000000100334299 chromedriver + 2347673\n18  chromedriver                        0x00000001003638b9 chromedriver + 2541753\n19  chromedriver                        0x0000000100376008 chromedriver + 2617352\n20  libsystem_pthread.dylib             0x00007fff203d6954 _pthread_start + 224\n21  libsystem_pthread.dylib             0x00007fff203d24a7 thread_start + 15\n",
     "output_type": "error",
     "traceback": [
      "\u001B[0;31m----------------------------------------------\u001B[0m",
      "\u001B[0;31mStaleElementReferenceException\u001B[0mTraceback (most recent call last)",
      "\u001B[0;32m<ipython-input-32-7b6bd54207b6>\u001B[0m in \u001B[0;36m<module>\u001B[0;34m\u001B[0m\n\u001B[1;32m     25\u001B[0m         \u001B[0msleep\u001B[0m\u001B[0;34m(\u001B[0m\u001B[0;36m2\u001B[0m \u001B[0;34m+\u001B[0m \u001B[0mrandom\u001B[0m\u001B[0;34m.\u001B[0m\u001B[0mrandom\u001B[0m\u001B[0;34m(\u001B[0m\u001B[0;34m)\u001B[0m\u001B[0;34m)\u001B[0m\u001B[0;34m\u001B[0m\u001B[0;34m\u001B[0m\u001B[0m\n\u001B[1;32m     26\u001B[0m \u001B[0;34m\u001B[0m\u001B[0m\n\u001B[0;32m---> 27\u001B[0;31m         \u001B[0mpunches_list\u001B[0m \u001B[0;34m=\u001B[0m \u001B[0mget_punches\u001B[0m\u001B[0;34m(\u001B[0m\u001B[0;34m)\u001B[0m\u001B[0;34m\u001B[0m\u001B[0;34m\u001B[0m\u001B[0m\n\u001B[0m\u001B[1;32m     28\u001B[0m         \u001B[0;31m# TODO: Join to setup and save\u001B[0m\u001B[0;34m\u001B[0m\u001B[0;34m\u001B[0m\u001B[0;34m\u001B[0m\u001B[0m\n\u001B[1;32m     29\u001B[0m \u001B[0;34m\u001B[0m\u001B[0m\n",
      "\u001B[0;32m<ipython-input-30-826c5a104dea>\u001B[0m in \u001B[0;36mget_punches\u001B[0;34m()\u001B[0m\n\u001B[1;32m     23\u001B[0m \u001B[0;34m\u001B[0m\u001B[0m\n\u001B[1;32m     24\u001B[0m             \u001B[0;31m# Scroll to element\u001B[0m\u001B[0;34m\u001B[0m\u001B[0;34m\u001B[0m\u001B[0;34m\u001B[0m\u001B[0m\n\u001B[0;32m---> 25\u001B[0;31m             \u001B[0mdriver\u001B[0m\u001B[0;34m.\u001B[0m\u001B[0mexecute_script\u001B[0m\u001B[0;34m(\u001B[0m\u001B[0;34m\"arguments[0].scrollIntoView();\"\u001B[0m\u001B[0;34m,\u001B[0m \u001B[0mpunch_element\u001B[0m\u001B[0;34m)\u001B[0m\u001B[0;34m\u001B[0m\u001B[0;34m\u001B[0m\u001B[0m\n\u001B[0m\u001B[1;32m     26\u001B[0m \u001B[0;34m\u001B[0m\u001B[0m\n\u001B[1;32m     27\u001B[0m             \u001B[0;32mif\u001B[0m \u001B[0;32mnot\u001B[0m \u001B[0mcheck_punch\u001B[0m\u001B[0;34m(\u001B[0m\u001B[0mpunch_element\u001B[0m\u001B[0;34m)\u001B[0m\u001B[0;34m:\u001B[0m\u001B[0;34m\u001B[0m\u001B[0;34m\u001B[0m\u001B[0m\n",
      "\u001B[0;32m~/Documents/programs/venv/lib/python3.9/site-packages/selenium/webdriver/remote/webdriver.py\u001B[0m in \u001B[0;36mexecute_script\u001B[0;34m(self, script, *args)\u001B[0m\n\u001B[1;32m    876\u001B[0m         \u001B[0mcommand\u001B[0m \u001B[0;34m=\u001B[0m \u001B[0mCommand\u001B[0m\u001B[0;34m.\u001B[0m\u001B[0mW3C_EXECUTE_SCRIPT\u001B[0m\u001B[0;34m\u001B[0m\u001B[0;34m\u001B[0m\u001B[0m\n\u001B[1;32m    877\u001B[0m \u001B[0;34m\u001B[0m\u001B[0m\n\u001B[0;32m--> 878\u001B[0;31m         return self.execute(command, {\n\u001B[0m\u001B[1;32m    879\u001B[0m             \u001B[0;34m'script'\u001B[0m\u001B[0;34m:\u001B[0m \u001B[0mscript\u001B[0m\u001B[0;34m,\u001B[0m\u001B[0;34m\u001B[0m\u001B[0;34m\u001B[0m\u001B[0m\n\u001B[1;32m    880\u001B[0m             'args': converted_args})['value']\n",
      "\u001B[0;32m~/Documents/programs/venv/lib/python3.9/site-packages/selenium/webdriver/remote/webdriver.py\u001B[0m in \u001B[0;36mexecute\u001B[0;34m(self, driver_command, params)\u001B[0m\n\u001B[1;32m    422\u001B[0m         \u001B[0mresponse\u001B[0m \u001B[0;34m=\u001B[0m \u001B[0mself\u001B[0m\u001B[0;34m.\u001B[0m\u001B[0mcommand_executor\u001B[0m\u001B[0;34m.\u001B[0m\u001B[0mexecute\u001B[0m\u001B[0;34m(\u001B[0m\u001B[0mdriver_command\u001B[0m\u001B[0;34m,\u001B[0m \u001B[0mparams\u001B[0m\u001B[0;34m)\u001B[0m\u001B[0;34m\u001B[0m\u001B[0;34m\u001B[0m\u001B[0m\n\u001B[1;32m    423\u001B[0m         \u001B[0;32mif\u001B[0m \u001B[0mresponse\u001B[0m\u001B[0;34m:\u001B[0m\u001B[0;34m\u001B[0m\u001B[0;34m\u001B[0m\u001B[0m\n\u001B[0;32m--> 424\u001B[0;31m             \u001B[0mself\u001B[0m\u001B[0;34m.\u001B[0m\u001B[0merror_handler\u001B[0m\u001B[0;34m.\u001B[0m\u001B[0mcheck_response\u001B[0m\u001B[0;34m(\u001B[0m\u001B[0mresponse\u001B[0m\u001B[0;34m)\u001B[0m\u001B[0;34m\u001B[0m\u001B[0;34m\u001B[0m\u001B[0m\n\u001B[0m\u001B[1;32m    425\u001B[0m             response['value'] = self._unwrap_value(\n\u001B[1;32m    426\u001B[0m                 response.get('value', None))\n",
      "\u001B[0;32m~/Documents/programs/venv/lib/python3.9/site-packages/selenium/webdriver/remote/errorhandler.py\u001B[0m in \u001B[0;36mcheck_response\u001B[0;34m(self, response)\u001B[0m\n\u001B[1;32m    245\u001B[0m                 \u001B[0malert_text\u001B[0m \u001B[0;34m=\u001B[0m \u001B[0mvalue\u001B[0m\u001B[0;34m[\u001B[0m\u001B[0;34m'alert'\u001B[0m\u001B[0;34m]\u001B[0m\u001B[0;34m.\u001B[0m\u001B[0mget\u001B[0m\u001B[0;34m(\u001B[0m\u001B[0;34m'text'\u001B[0m\u001B[0;34m)\u001B[0m\u001B[0;34m\u001B[0m\u001B[0;34m\u001B[0m\u001B[0m\n\u001B[1;32m    246\u001B[0m             \u001B[0;32mraise\u001B[0m \u001B[0mexception_class\u001B[0m\u001B[0;34m(\u001B[0m\u001B[0mmessage\u001B[0m\u001B[0;34m,\u001B[0m \u001B[0mscreen\u001B[0m\u001B[0;34m,\u001B[0m \u001B[0mstacktrace\u001B[0m\u001B[0;34m,\u001B[0m \u001B[0malert_text\u001B[0m\u001B[0;34m)\u001B[0m  \u001B[0;31m# type: ignore[call-arg]  # mypy is not smart enough here\u001B[0m\u001B[0;34m\u001B[0m\u001B[0;34m\u001B[0m\u001B[0m\n\u001B[0;32m--> 247\u001B[0;31m         \u001B[0;32mraise\u001B[0m \u001B[0mexception_class\u001B[0m\u001B[0;34m(\u001B[0m\u001B[0mmessage\u001B[0m\u001B[0;34m,\u001B[0m \u001B[0mscreen\u001B[0m\u001B[0;34m,\u001B[0m \u001B[0mstacktrace\u001B[0m\u001B[0;34m)\u001B[0m\u001B[0;34m\u001B[0m\u001B[0;34m\u001B[0m\u001B[0m\n\u001B[0m\u001B[1;32m    248\u001B[0m \u001B[0;34m\u001B[0m\u001B[0m\n\u001B[1;32m    249\u001B[0m     \u001B[0;32mdef\u001B[0m \u001B[0m_value_or_default\u001B[0m\u001B[0;34m(\u001B[0m\u001B[0mself\u001B[0m\u001B[0;34m,\u001B[0m \u001B[0mobj\u001B[0m\u001B[0;34m:\u001B[0m \u001B[0mMapping\u001B[0m\u001B[0;34m[\u001B[0m\u001B[0m_KT\u001B[0m\u001B[0;34m,\u001B[0m \u001B[0m_VT\u001B[0m\u001B[0;34m]\u001B[0m\u001B[0;34m,\u001B[0m \u001B[0mkey\u001B[0m\u001B[0;34m:\u001B[0m \u001B[0m_KT\u001B[0m\u001B[0;34m,\u001B[0m \u001B[0mdefault\u001B[0m\u001B[0;34m:\u001B[0m \u001B[0m_VT\u001B[0m\u001B[0;34m)\u001B[0m \u001B[0;34m->\u001B[0m \u001B[0m_VT\u001B[0m\u001B[0;34m:\u001B[0m\u001B[0;34m\u001B[0m\u001B[0;34m\u001B[0m\u001B[0m\n",
      "\u001B[0;31mStaleElementReferenceException\u001B[0m: Message: stale element reference: element is not attached to the page document\n  (Session info: chrome=89.0.4389.90)\nStacktrace:\n0   chromedriver                        0x0000000100370b59 chromedriver + 2595673\n1   chromedriver                        0x0000000100a24b33 chromedriver + 9624371\n2   chromedriver                        0x0000000100120773 chromedriver + 169843\n3   chromedriver                        0x0000000100123531 chromedriver + 181553\n4   chromedriver                        0x00000001001233a6 chromedriver + 181158\n5   chromedriver                        0x0000000100123e42 chromedriver + 183874\n6   chromedriver                        0x000000010017c605 chromedriver + 546309\n7   chromedriver                        0x000000010016c6e2 chromedriver + 480994\n8   chromedriver                        0x000000010017bc46 chromedriver + 543814\n9   chromedriver                        0x000000010016c9f3 chromedriver + 481779\n10  chromedriver                        0x0000000100146cd6 chromedriver + 326870\n11  chromedriver                        0x0000000100147ba7 chromedriver + 330663\n12  chromedriver                        0x000000010033eb09 chromedriver + 2390793\n13  chromedriver                        0x000000010034bbcc chromedriver + 2444236\n14  chromedriver                        0x000000010034b6ee chromedriver + 2442990\n15  chromedriver                        0x0000000100325832 chromedriver + 2287666\n16  chromedriver                        0x000000010034c63f chromedriver + 2446911\n17  chromedriver                        0x0000000100334299 chromedriver + 2347673\n18  chromedriver                        0x00000001003638b9 chromedriver + 2541753\n19  chromedriver                        0x0000000100376008 chromedriver + 2617352\n20  libsystem_pthread.dylib             0x00007fff203d6954 _pthread_start + 224\n21  libsystem_pthread.dylib             0x00007fff203d24a7 thread_start + 15\n"
     ]
    }
   ],
   "source": [
    "no_new_setups_exist = False\n",
    "unique_setups = set()\n",
    "while not no_new_setups_exist:\n",
    "    \n",
    "    # Get list of setups\n",
    "    setup_elements = driver.find_elements_by_css_selector('.Message.message-list-item.first-in-group')\n",
    "\n",
    "    no_new_setups_exist = True\n",
    "    for setup_element in setup_elements:\n",
    "        \n",
    "        sleep(random.random())\n",
    "        \n",
    "        setup_text = setup_element.find_element_by_css_selector('.content-inner').text\n",
    "\n",
    "        if 'Новость.' not in setup_text:\n",
    "            continue\n",
    "            \n",
    "        if setup_text in unique_setups:\n",
    "            continue\n",
    "            \n",
    "        print(setup_text)\n",
    "\n",
    "        setup_comment_button = setup_element.find_element_by_class_name('CommentButton')\n",
    "        setup_comment_button.click()\n",
    "        sleep(2 + random.random())\n",
    "        \n",
    "        punches_list = get_punches()\n",
    "        # TODO: Join to setup and save\n",
    "        \n",
    "        # Click back button\n",
    "        back_button_element = driver.find_elements_by_class_name('back-button')[-1]\n",
    "        back_button_element.click()\n",
    "        \n",
    "        unique_setups.add(setup_text)\n",
    "        no_new_setups_exist = False"
   ]
  },
  {
   "cell_type": "code",
   "execution_count": null,
   "id": "f9858bee",
   "metadata": {
    "pycharm": {
     "name": "#%%\n"
    }
   },
   "outputs": [],
   "source": []
  },
  {
   "cell_type": "code",
   "execution_count": 27,
   "id": "ae744393",
   "metadata": {
    "pycharm": {
     "name": "#%%\n"
    }
   },
   "outputs": [],
   "source": []
  },
  {
   "cell_type": "code",
   "execution_count": 28,
   "id": "6ff06768",
   "metadata": {
    "pycharm": {
     "name": "#%%\n"
    }
   },
   "outputs": [],
   "source": [
    "back_button_element.click()"
   ]
  },
  {
   "cell_type": "code",
   "execution_count": 25,
   "id": "974dcabe",
   "metadata": {
    "pycharm": {
     "name": "#%%\n"
    }
   },
   "outputs": [
    {
     "ename": "ElementNotInteractableException",
     "evalue": "Message: element not interactable: [object HTMLDivElement] has no size and location\n  (Session info: chrome=89.0.4389.90)\nStacktrace:\n0   chromedriver                        0x0000000100370b59 chromedriver + 2595673\n1   chromedriver                        0x0000000100a24b33 chromedriver + 9624371\n2   chromedriver                        0x0000000100120773 chromedriver + 169843\n3   chromedriver                        0x0000000100123531 chromedriver + 181553\n4   chromedriver                        0x00000001001233a6 chromedriver + 181158\n5   chromedriver                        0x00000001001235cc chromedriver + 181708\n6   chromedriver                        0x000000010015557e chromedriver + 386430\n7   chromedriver                        0x0000000100154d92 chromedriver + 384402\n8   chromedriver                        0x0000000100183880 chromedriver + 575616\n9   chromedriver                        0x000000010016c6e2 chromedriver + 480994\n10  chromedriver                        0x000000010017bc46 chromedriver + 543814\n11  chromedriver                        0x000000010016c9f3 chromedriver + 481779\n12  chromedriver                        0x0000000100146cd6 chromedriver + 326870\n13  chromedriver                        0x0000000100147ba7 chromedriver + 330663\n14  chromedriver                        0x000000010033eb09 chromedriver + 2390793\n15  chromedriver                        0x000000010034bbcc chromedriver + 2444236\n16  chromedriver                        0x000000010034b6ee chromedriver + 2442990\n17  chromedriver                        0x0000000100325832 chromedriver + 2287666\n18  chromedriver                        0x000000010034c63f chromedriver + 2446911\n19  chromedriver                        0x0000000100334299 chromedriver + 2347673\n20  chromedriver                        0x00000001003638b9 chromedriver + 2541753\n21  chromedriver                        0x0000000100376008 chromedriver + 2617352\n22  libsystem_pthread.dylib             0x00007fff203d6954 _pthread_start + 224\n23  libsystem_pthread.dylib             0x00007fff203d24a7 thread_start + 15\n",
     "output_type": "error",
     "traceback": [
      "\u001B[0;31m----------------------------------------------\u001B[0m",
      "\u001B[0;31mElementNotInteractableException\u001B[0mTraceback (most recent call last)",
      "\u001B[0;32m<ipython-input-25-16a8e126c06a>\u001B[0m in \u001B[0;36m<module>\u001B[0;34m\u001B[0m\n\u001B[1;32m      1\u001B[0m \u001B[0mback_button_element\u001B[0m \u001B[0;34m=\u001B[0m \u001B[0mdriver\u001B[0m\u001B[0;34m.\u001B[0m\u001B[0mfind_element_by_css_selector\u001B[0m\u001B[0;34m(\u001B[0m\u001B[0;34m'.animated-close-icon.state-back'\u001B[0m\u001B[0;34m)\u001B[0m\u001B[0;34m\u001B[0m\u001B[0;34m\u001B[0m\u001B[0m\n\u001B[0;32m----> 2\u001B[0;31m \u001B[0maction\u001B[0m\u001B[0;34m.\u001B[0m\u001B[0mmove_to_element\u001B[0m\u001B[0;34m(\u001B[0m\u001B[0mback_button_element\u001B[0m\u001B[0;34m)\u001B[0m\u001B[0;34m.\u001B[0m\u001B[0mperform\u001B[0m\u001B[0;34m(\u001B[0m\u001B[0;34m)\u001B[0m\u001B[0;34m\u001B[0m\u001B[0;34m\u001B[0m\u001B[0m\n\u001B[0m",
      "\u001B[0;32m~/Documents/programs/venv/lib/python3.9/site-packages/selenium/webdriver/common/action_chains.py\u001B[0m in \u001B[0;36mperform\u001B[0;34m(self)\u001B[0m\n\u001B[1;32m     73\u001B[0m         \u001B[0mPerforms\u001B[0m \u001B[0mall\u001B[0m \u001B[0mstored\u001B[0m \u001B[0mactions\u001B[0m\u001B[0;34m.\u001B[0m\u001B[0;34m\u001B[0m\u001B[0;34m\u001B[0m\u001B[0m\n\u001B[1;32m     74\u001B[0m         \"\"\"\n\u001B[0;32m---> 75\u001B[0;31m         \u001B[0mself\u001B[0m\u001B[0;34m.\u001B[0m\u001B[0mw3c_actions\u001B[0m\u001B[0;34m.\u001B[0m\u001B[0mperform\u001B[0m\u001B[0;34m(\u001B[0m\u001B[0;34m)\u001B[0m\u001B[0;34m\u001B[0m\u001B[0;34m\u001B[0m\u001B[0m\n\u001B[0m\u001B[1;32m     76\u001B[0m \u001B[0;34m\u001B[0m\u001B[0m\n\u001B[1;32m     77\u001B[0m     \u001B[0;32mdef\u001B[0m \u001B[0mreset_actions\u001B[0m\u001B[0;34m(\u001B[0m\u001B[0mself\u001B[0m\u001B[0;34m)\u001B[0m\u001B[0;34m:\u001B[0m\u001B[0;34m\u001B[0m\u001B[0;34m\u001B[0m\u001B[0m\n",
      "\u001B[0;32m~/Documents/programs/venv/lib/python3.9/site-packages/selenium/webdriver/common/actions/action_builder.py\u001B[0m in \u001B[0;36mperform\u001B[0;34m(self)\u001B[0m\n\u001B[1;32m     75\u001B[0m                 \u001B[0menc\u001B[0m\u001B[0;34m[\u001B[0m\u001B[0;34m\"actions\"\u001B[0m\u001B[0;34m]\u001B[0m\u001B[0;34m.\u001B[0m\u001B[0mappend\u001B[0m\u001B[0;34m(\u001B[0m\u001B[0mencoded\u001B[0m\u001B[0;34m)\u001B[0m\u001B[0;34m\u001B[0m\u001B[0;34m\u001B[0m\u001B[0m\n\u001B[1;32m     76\u001B[0m                 \u001B[0mdevice\u001B[0m\u001B[0;34m.\u001B[0m\u001B[0mactions\u001B[0m \u001B[0;34m=\u001B[0m \u001B[0;34m[\u001B[0m\u001B[0;34m]\u001B[0m\u001B[0;34m\u001B[0m\u001B[0;34m\u001B[0m\u001B[0m\n\u001B[0;32m---> 77\u001B[0;31m         \u001B[0mself\u001B[0m\u001B[0;34m.\u001B[0m\u001B[0mdriver\u001B[0m\u001B[0;34m.\u001B[0m\u001B[0mexecute\u001B[0m\u001B[0;34m(\u001B[0m\u001B[0mCommand\u001B[0m\u001B[0;34m.\u001B[0m\u001B[0mW3C_ACTIONS\u001B[0m\u001B[0;34m,\u001B[0m \u001B[0menc\u001B[0m\u001B[0;34m)\u001B[0m\u001B[0;34m\u001B[0m\u001B[0;34m\u001B[0m\u001B[0m\n\u001B[0m\u001B[1;32m     78\u001B[0m \u001B[0;34m\u001B[0m\u001B[0m\n\u001B[1;32m     79\u001B[0m     \u001B[0;32mdef\u001B[0m \u001B[0mclear_actions\u001B[0m\u001B[0;34m(\u001B[0m\u001B[0mself\u001B[0m\u001B[0;34m)\u001B[0m\u001B[0;34m:\u001B[0m\u001B[0;34m\u001B[0m\u001B[0;34m\u001B[0m\u001B[0m\n",
      "\u001B[0;32m~/Documents/programs/venv/lib/python3.9/site-packages/selenium/webdriver/remote/webdriver.py\u001B[0m in \u001B[0;36mexecute\u001B[0;34m(self, driver_command, params)\u001B[0m\n\u001B[1;32m    422\u001B[0m         \u001B[0mresponse\u001B[0m \u001B[0;34m=\u001B[0m \u001B[0mself\u001B[0m\u001B[0;34m.\u001B[0m\u001B[0mcommand_executor\u001B[0m\u001B[0;34m.\u001B[0m\u001B[0mexecute\u001B[0m\u001B[0;34m(\u001B[0m\u001B[0mdriver_command\u001B[0m\u001B[0;34m,\u001B[0m \u001B[0mparams\u001B[0m\u001B[0;34m)\u001B[0m\u001B[0;34m\u001B[0m\u001B[0;34m\u001B[0m\u001B[0m\n\u001B[1;32m    423\u001B[0m         \u001B[0;32mif\u001B[0m \u001B[0mresponse\u001B[0m\u001B[0;34m:\u001B[0m\u001B[0;34m\u001B[0m\u001B[0;34m\u001B[0m\u001B[0m\n\u001B[0;32m--> 424\u001B[0;31m             \u001B[0mself\u001B[0m\u001B[0;34m.\u001B[0m\u001B[0merror_handler\u001B[0m\u001B[0;34m.\u001B[0m\u001B[0mcheck_response\u001B[0m\u001B[0;34m(\u001B[0m\u001B[0mresponse\u001B[0m\u001B[0;34m)\u001B[0m\u001B[0;34m\u001B[0m\u001B[0;34m\u001B[0m\u001B[0m\n\u001B[0m\u001B[1;32m    425\u001B[0m             response['value'] = self._unwrap_value(\n\u001B[1;32m    426\u001B[0m                 response.get('value', None))\n",
      "\u001B[0;32m~/Documents/programs/venv/lib/python3.9/site-packages/selenium/webdriver/remote/errorhandler.py\u001B[0m in \u001B[0;36mcheck_response\u001B[0;34m(self, response)\u001B[0m\n\u001B[1;32m    245\u001B[0m                 \u001B[0malert_text\u001B[0m \u001B[0;34m=\u001B[0m \u001B[0mvalue\u001B[0m\u001B[0;34m[\u001B[0m\u001B[0;34m'alert'\u001B[0m\u001B[0;34m]\u001B[0m\u001B[0;34m.\u001B[0m\u001B[0mget\u001B[0m\u001B[0;34m(\u001B[0m\u001B[0;34m'text'\u001B[0m\u001B[0;34m)\u001B[0m\u001B[0;34m\u001B[0m\u001B[0;34m\u001B[0m\u001B[0m\n\u001B[1;32m    246\u001B[0m             \u001B[0;32mraise\u001B[0m \u001B[0mexception_class\u001B[0m\u001B[0;34m(\u001B[0m\u001B[0mmessage\u001B[0m\u001B[0;34m,\u001B[0m \u001B[0mscreen\u001B[0m\u001B[0;34m,\u001B[0m \u001B[0mstacktrace\u001B[0m\u001B[0;34m,\u001B[0m \u001B[0malert_text\u001B[0m\u001B[0;34m)\u001B[0m  \u001B[0;31m# type: ignore[call-arg]  # mypy is not smart enough here\u001B[0m\u001B[0;34m\u001B[0m\u001B[0;34m\u001B[0m\u001B[0m\n\u001B[0;32m--> 247\u001B[0;31m         \u001B[0;32mraise\u001B[0m \u001B[0mexception_class\u001B[0m\u001B[0;34m(\u001B[0m\u001B[0mmessage\u001B[0m\u001B[0;34m,\u001B[0m \u001B[0mscreen\u001B[0m\u001B[0;34m,\u001B[0m \u001B[0mstacktrace\u001B[0m\u001B[0;34m)\u001B[0m\u001B[0;34m\u001B[0m\u001B[0;34m\u001B[0m\u001B[0m\n\u001B[0m\u001B[1;32m    248\u001B[0m \u001B[0;34m\u001B[0m\u001B[0m\n\u001B[1;32m    249\u001B[0m     \u001B[0;32mdef\u001B[0m \u001B[0m_value_or_default\u001B[0m\u001B[0;34m(\u001B[0m\u001B[0mself\u001B[0m\u001B[0;34m,\u001B[0m \u001B[0mobj\u001B[0m\u001B[0;34m:\u001B[0m \u001B[0mMapping\u001B[0m\u001B[0;34m[\u001B[0m\u001B[0m_KT\u001B[0m\u001B[0;34m,\u001B[0m \u001B[0m_VT\u001B[0m\u001B[0;34m]\u001B[0m\u001B[0;34m,\u001B[0m \u001B[0mkey\u001B[0m\u001B[0;34m:\u001B[0m \u001B[0m_KT\u001B[0m\u001B[0;34m,\u001B[0m \u001B[0mdefault\u001B[0m\u001B[0;34m:\u001B[0m \u001B[0m_VT\u001B[0m\u001B[0;34m)\u001B[0m \u001B[0;34m->\u001B[0m \u001B[0m_VT\u001B[0m\u001B[0;34m:\u001B[0m\u001B[0;34m\u001B[0m\u001B[0;34m\u001B[0m\u001B[0m\n",
      "\u001B[0;31mElementNotInteractableException\u001B[0m: Message: element not interactable: [object HTMLDivElement] has no size and location\n  (Session info: chrome=89.0.4389.90)\nStacktrace:\n0   chromedriver                        0x0000000100370b59 chromedriver + 2595673\n1   chromedriver                        0x0000000100a24b33 chromedriver + 9624371\n2   chromedriver                        0x0000000100120773 chromedriver + 169843\n3   chromedriver                        0x0000000100123531 chromedriver + 181553\n4   chromedriver                        0x00000001001233a6 chromedriver + 181158\n5   chromedriver                        0x00000001001235cc chromedriver + 181708\n6   chromedriver                        0x000000010015557e chromedriver + 386430\n7   chromedriver                        0x0000000100154d92 chromedriver + 384402\n8   chromedriver                        0x0000000100183880 chromedriver + 575616\n9   chromedriver                        0x000000010016c6e2 chromedriver + 480994\n10  chromedriver                        0x000000010017bc46 chromedriver + 543814\n11  chromedriver                        0x000000010016c9f3 chromedriver + 481779\n12  chromedriver                        0x0000000100146cd6 chromedriver + 326870\n13  chromedriver                        0x0000000100147ba7 chromedriver + 330663\n14  chromedriver                        0x000000010033eb09 chromedriver + 2390793\n15  chromedriver                        0x000000010034bbcc chromedriver + 2444236\n16  chromedriver                        0x000000010034b6ee chromedriver + 2442990\n17  chromedriver                        0x0000000100325832 chromedriver + 2287666\n18  chromedriver                        0x000000010034c63f chromedriver + 2446911\n19  chromedriver                        0x0000000100334299 chromedriver + 2347673\n20  chromedriver                        0x00000001003638b9 chromedriver + 2541753\n21  chromedriver                        0x0000000100376008 chromedriver + 2617352\n22  libsystem_pthread.dylib             0x00007fff203d6954 _pthread_start + 224\n23  libsystem_pthread.dylib             0x00007fff203d24a7 thread_start + 15\n"
     ]
    }
   ],
   "source": [
    "back_button_element = driver.find_element_by_class_name('back-button')\n",
    "action.move_to_element(back_button_element).perform()"
   ]
  },
  {
   "cell_type": "code",
   "execution_count": null,
   "id": "a4db5d61",
   "metadata": {
    "pycharm": {
     "name": "#%%\n"
    }
   },
   "outputs": [],
   "source": [
    "back_button_element.click()"
   ]
  },
  {
   "cell_type": "code",
   "execution_count": 23,
   "id": "9d8dd211",
   "metadata": {
    "pycharm": {
     "name": "#%%\n"
    }
   },
   "outputs": [
    {
     "ename": "ElementNotInteractableException",
     "evalue": "Message: element not interactable\n  (Session info: chrome=89.0.4389.90)\nStacktrace:\n0   chromedriver                        0x0000000100370b59 chromedriver + 2595673\n1   chromedriver                        0x0000000100a24b33 chromedriver + 9624371\n2   chromedriver                        0x000000010012060a chromedriver + 169482\n3   chromedriver                        0x0000000100151946 chromedriver + 371014\n4   chromedriver                        0x00000001001482ca chromedriver + 332490\n5   chromedriver                        0x000000010016c7d2 chromedriver + 481234\n6   chromedriver                        0x0000000100148045 chromedriver + 331845\n7   chromedriver                        0x000000010016ca4e chromedriver + 481870\n8   chromedriver                        0x000000010017bc46 chromedriver + 543814\n9   chromedriver                        0x000000010016c9f3 chromedriver + 481779\n10  chromedriver                        0x0000000100146cd6 chromedriver + 326870\n11  chromedriver                        0x0000000100147ba7 chromedriver + 330663\n12  chromedriver                        0x000000010033eb09 chromedriver + 2390793\n13  chromedriver                        0x000000010034bbcc chromedriver + 2444236\n14  chromedriver                        0x000000010034b6ee chromedriver + 2442990\n15  chromedriver                        0x0000000100325832 chromedriver + 2287666\n16  chromedriver                        0x000000010034c63f chromedriver + 2446911\n17  chromedriver                        0x0000000100334299 chromedriver + 2347673\n18  chromedriver                        0x00000001003638b9 chromedriver + 2541753\n19  chromedriver                        0x0000000100376008 chromedriver + 2617352\n20  libsystem_pthread.dylib             0x00007fff203d6954 _pthread_start + 224\n21  libsystem_pthread.dylib             0x00007fff203d24a7 thread_start + 15\n",
     "output_type": "error",
     "traceback": [
      "\u001B[0;31m----------------------------------------------\u001B[0m",
      "\u001B[0;31mElementNotInteractableException\u001B[0mTraceback (most recent call last)",
      "\u001B[0;32m<ipython-input-23-9600f1de1f56>\u001B[0m in \u001B[0;36m<module>\u001B[0;34m\u001B[0m\n\u001B[1;32m      1\u001B[0m \u001B[0mback_button_element\u001B[0m \u001B[0;34m=\u001B[0m \u001B[0mdriver\u001B[0m\u001B[0;34m.\u001B[0m\u001B[0mfind_element_by_class_name\u001B[0m\u001B[0;34m(\u001B[0m\u001B[0;34m'back-button'\u001B[0m\u001B[0;34m)\u001B[0m\u001B[0;34m\u001B[0m\u001B[0;34m\u001B[0m\u001B[0m\n\u001B[0;32m----> 2\u001B[0;31m \u001B[0mback_button_element\u001B[0m\u001B[0;34m.\u001B[0m\u001B[0mfind_element_by_css_selector\u001B[0m\u001B[0;34m(\u001B[0m\u001B[0;34m'.Button.smaller.translucent.round'\u001B[0m\u001B[0;34m)\u001B[0m\u001B[0;34m.\u001B[0m\u001B[0mclick\u001B[0m\u001B[0;34m(\u001B[0m\u001B[0;34m)\u001B[0m\u001B[0;34m\u001B[0m\u001B[0;34m\u001B[0m\u001B[0m\n\u001B[0m",
      "\u001B[0;32m~/Documents/programs/venv/lib/python3.9/site-packages/selenium/webdriver/remote/webelement.py\u001B[0m in \u001B[0;36mclick\u001B[0;34m(self)\u001B[0m\n\u001B[1;32m     79\u001B[0m     \u001B[0;32mdef\u001B[0m \u001B[0mclick\u001B[0m\u001B[0;34m(\u001B[0m\u001B[0mself\u001B[0m\u001B[0;34m)\u001B[0m \u001B[0;34m->\u001B[0m \u001B[0;32mNone\u001B[0m\u001B[0;34m:\u001B[0m\u001B[0;34m\u001B[0m\u001B[0;34m\u001B[0m\u001B[0m\n\u001B[1;32m     80\u001B[0m         \u001B[0;34m\"\"\"Clicks the element.\"\"\"\u001B[0m\u001B[0;34m\u001B[0m\u001B[0;34m\u001B[0m\u001B[0m\n\u001B[0;32m---> 81\u001B[0;31m         \u001B[0mself\u001B[0m\u001B[0;34m.\u001B[0m\u001B[0m_execute\u001B[0m\u001B[0;34m(\u001B[0m\u001B[0mCommand\u001B[0m\u001B[0;34m.\u001B[0m\u001B[0mCLICK_ELEMENT\u001B[0m\u001B[0;34m)\u001B[0m\u001B[0;34m\u001B[0m\u001B[0;34m\u001B[0m\u001B[0m\n\u001B[0m\u001B[1;32m     82\u001B[0m \u001B[0;34m\u001B[0m\u001B[0m\n\u001B[1;32m     83\u001B[0m     \u001B[0;32mdef\u001B[0m \u001B[0msubmit\u001B[0m\u001B[0;34m(\u001B[0m\u001B[0mself\u001B[0m\u001B[0;34m)\u001B[0m\u001B[0;34m:\u001B[0m\u001B[0;34m\u001B[0m\u001B[0;34m\u001B[0m\u001B[0m\n",
      "\u001B[0;32m~/Documents/programs/venv/lib/python3.9/site-packages/selenium/webdriver/remote/webelement.py\u001B[0m in \u001B[0;36m_execute\u001B[0;34m(self, command, params)\u001B[0m\n\u001B[1;32m    708\u001B[0m             \u001B[0mparams\u001B[0m \u001B[0;34m=\u001B[0m \u001B[0;34m{\u001B[0m\u001B[0;34m}\u001B[0m\u001B[0;34m\u001B[0m\u001B[0;34m\u001B[0m\u001B[0m\n\u001B[1;32m    709\u001B[0m         \u001B[0mparams\u001B[0m\u001B[0;34m[\u001B[0m\u001B[0;34m'id'\u001B[0m\u001B[0;34m]\u001B[0m \u001B[0;34m=\u001B[0m \u001B[0mself\u001B[0m\u001B[0;34m.\u001B[0m\u001B[0m_id\u001B[0m\u001B[0;34m\u001B[0m\u001B[0;34m\u001B[0m\u001B[0m\n\u001B[0;32m--> 710\u001B[0;31m         \u001B[0;32mreturn\u001B[0m \u001B[0mself\u001B[0m\u001B[0;34m.\u001B[0m\u001B[0m_parent\u001B[0m\u001B[0;34m.\u001B[0m\u001B[0mexecute\u001B[0m\u001B[0;34m(\u001B[0m\u001B[0mcommand\u001B[0m\u001B[0;34m,\u001B[0m \u001B[0mparams\u001B[0m\u001B[0;34m)\u001B[0m\u001B[0;34m\u001B[0m\u001B[0;34m\u001B[0m\u001B[0m\n\u001B[0m\u001B[1;32m    711\u001B[0m \u001B[0;34m\u001B[0m\u001B[0m\n\u001B[1;32m    712\u001B[0m     \u001B[0;32mdef\u001B[0m \u001B[0mfind_element\u001B[0m\u001B[0;34m(\u001B[0m\u001B[0mself\u001B[0m\u001B[0;34m,\u001B[0m \u001B[0mby\u001B[0m\u001B[0;34m=\u001B[0m\u001B[0mBy\u001B[0m\u001B[0;34m.\u001B[0m\u001B[0mID\u001B[0m\u001B[0;34m,\u001B[0m \u001B[0mvalue\u001B[0m\u001B[0;34m=\u001B[0m\u001B[0;32mNone\u001B[0m\u001B[0;34m)\u001B[0m\u001B[0;34m:\u001B[0m\u001B[0;34m\u001B[0m\u001B[0;34m\u001B[0m\u001B[0m\n",
      "\u001B[0;32m~/Documents/programs/venv/lib/python3.9/site-packages/selenium/webdriver/remote/webdriver.py\u001B[0m in \u001B[0;36mexecute\u001B[0;34m(self, driver_command, params)\u001B[0m\n\u001B[1;32m    422\u001B[0m         \u001B[0mresponse\u001B[0m \u001B[0;34m=\u001B[0m \u001B[0mself\u001B[0m\u001B[0;34m.\u001B[0m\u001B[0mcommand_executor\u001B[0m\u001B[0;34m.\u001B[0m\u001B[0mexecute\u001B[0m\u001B[0;34m(\u001B[0m\u001B[0mdriver_command\u001B[0m\u001B[0;34m,\u001B[0m \u001B[0mparams\u001B[0m\u001B[0;34m)\u001B[0m\u001B[0;34m\u001B[0m\u001B[0;34m\u001B[0m\u001B[0m\n\u001B[1;32m    423\u001B[0m         \u001B[0;32mif\u001B[0m \u001B[0mresponse\u001B[0m\u001B[0;34m:\u001B[0m\u001B[0;34m\u001B[0m\u001B[0;34m\u001B[0m\u001B[0m\n\u001B[0;32m--> 424\u001B[0;31m             \u001B[0mself\u001B[0m\u001B[0;34m.\u001B[0m\u001B[0merror_handler\u001B[0m\u001B[0;34m.\u001B[0m\u001B[0mcheck_response\u001B[0m\u001B[0;34m(\u001B[0m\u001B[0mresponse\u001B[0m\u001B[0;34m)\u001B[0m\u001B[0;34m\u001B[0m\u001B[0;34m\u001B[0m\u001B[0m\n\u001B[0m\u001B[1;32m    425\u001B[0m             response['value'] = self._unwrap_value(\n\u001B[1;32m    426\u001B[0m                 response.get('value', None))\n",
      "\u001B[0;32m~/Documents/programs/venv/lib/python3.9/site-packages/selenium/webdriver/remote/errorhandler.py\u001B[0m in \u001B[0;36mcheck_response\u001B[0;34m(self, response)\u001B[0m\n\u001B[1;32m    245\u001B[0m                 \u001B[0malert_text\u001B[0m \u001B[0;34m=\u001B[0m \u001B[0mvalue\u001B[0m\u001B[0;34m[\u001B[0m\u001B[0;34m'alert'\u001B[0m\u001B[0;34m]\u001B[0m\u001B[0;34m.\u001B[0m\u001B[0mget\u001B[0m\u001B[0;34m(\u001B[0m\u001B[0;34m'text'\u001B[0m\u001B[0;34m)\u001B[0m\u001B[0;34m\u001B[0m\u001B[0;34m\u001B[0m\u001B[0m\n\u001B[1;32m    246\u001B[0m             \u001B[0;32mraise\u001B[0m \u001B[0mexception_class\u001B[0m\u001B[0;34m(\u001B[0m\u001B[0mmessage\u001B[0m\u001B[0;34m,\u001B[0m \u001B[0mscreen\u001B[0m\u001B[0;34m,\u001B[0m \u001B[0mstacktrace\u001B[0m\u001B[0;34m,\u001B[0m \u001B[0malert_text\u001B[0m\u001B[0;34m)\u001B[0m  \u001B[0;31m# type: ignore[call-arg]  # mypy is not smart enough here\u001B[0m\u001B[0;34m\u001B[0m\u001B[0;34m\u001B[0m\u001B[0m\n\u001B[0;32m--> 247\u001B[0;31m         \u001B[0;32mraise\u001B[0m \u001B[0mexception_class\u001B[0m\u001B[0;34m(\u001B[0m\u001B[0mmessage\u001B[0m\u001B[0;34m,\u001B[0m \u001B[0mscreen\u001B[0m\u001B[0;34m,\u001B[0m \u001B[0mstacktrace\u001B[0m\u001B[0;34m)\u001B[0m\u001B[0;34m\u001B[0m\u001B[0;34m\u001B[0m\u001B[0m\n\u001B[0m\u001B[1;32m    248\u001B[0m \u001B[0;34m\u001B[0m\u001B[0m\n\u001B[1;32m    249\u001B[0m     \u001B[0;32mdef\u001B[0m \u001B[0m_value_or_default\u001B[0m\u001B[0;34m(\u001B[0m\u001B[0mself\u001B[0m\u001B[0;34m,\u001B[0m \u001B[0mobj\u001B[0m\u001B[0;34m:\u001B[0m \u001B[0mMapping\u001B[0m\u001B[0;34m[\u001B[0m\u001B[0m_KT\u001B[0m\u001B[0;34m,\u001B[0m \u001B[0m_VT\u001B[0m\u001B[0;34m]\u001B[0m\u001B[0;34m,\u001B[0m \u001B[0mkey\u001B[0m\u001B[0;34m:\u001B[0m \u001B[0m_KT\u001B[0m\u001B[0;34m,\u001B[0m \u001B[0mdefault\u001B[0m\u001B[0;34m:\u001B[0m \u001B[0m_VT\u001B[0m\u001B[0;34m)\u001B[0m \u001B[0;34m->\u001B[0m \u001B[0m_VT\u001B[0m\u001B[0;34m:\u001B[0m\u001B[0;34m\u001B[0m\u001B[0;34m\u001B[0m\u001B[0m\n",
      "\u001B[0;31mElementNotInteractableException\u001B[0m: Message: element not interactable\n  (Session info: chrome=89.0.4389.90)\nStacktrace:\n0   chromedriver                        0x0000000100370b59 chromedriver + 2595673\n1   chromedriver                        0x0000000100a24b33 chromedriver + 9624371\n2   chromedriver                        0x000000010012060a chromedriver + 169482\n3   chromedriver                        0x0000000100151946 chromedriver + 371014\n4   chromedriver                        0x00000001001482ca chromedriver + 332490\n5   chromedriver                        0x000000010016c7d2 chromedriver + 481234\n6   chromedriver                        0x0000000100148045 chromedriver + 331845\n7   chromedriver                        0x000000010016ca4e chromedriver + 481870\n8   chromedriver                        0x000000010017bc46 chromedriver + 543814\n9   chromedriver                        0x000000010016c9f3 chromedriver + 481779\n10  chromedriver                        0x0000000100146cd6 chromedriver + 326870\n11  chromedriver                        0x0000000100147ba7 chromedriver + 330663\n12  chromedriver                        0x000000010033eb09 chromedriver + 2390793\n13  chromedriver                        0x000000010034bbcc chromedriver + 2444236\n14  chromedriver                        0x000000010034b6ee chromedriver + 2442990\n15  chromedriver                        0x0000000100325832 chromedriver + 2287666\n16  chromedriver                        0x000000010034c63f chromedriver + 2446911\n17  chromedriver                        0x0000000100334299 chromedriver + 2347673\n18  chromedriver                        0x00000001003638b9 chromedriver + 2541753\n19  chromedriver                        0x0000000100376008 chromedriver + 2617352\n20  libsystem_pthread.dylib             0x00007fff203d6954 _pthread_start + 224\n21  libsystem_pthread.dylib             0x00007fff203d24a7 thread_start + 15\n"
     ]
    }
   ],
   "source": [
    "back_button_element = driver.find_element_by_class_name('back-button')\n",
    "back_button_element.find_element_by_css_selector('.Button.smaller.translucent.round').click()"
   ]
  },
  {
   "cell_type": "code",
   "execution_count": null,
   "id": "913d44ce",
   "metadata": {
    "pycharm": {
     "name": "#%%\n"
    }
   },
   "outputs": [],
   "source": []
  }
 ],
 "metadata": {
  "kernelspec": {
   "display_name": "Python 3",
   "language": "python",
   "name": "python3"
  },
  "language_info": {
   "codemirror_mode": {
    "name": "ipython",
    "version": 3
   },
   "file_extension": ".py",
   "mimetype": "text/x-python",
   "name": "python",
   "nbconvert_exporter": "python",
   "pygments_lexer": "ipython3",
   "version": "3.9.4"
  }
 },
 "nbformat": 4,
 "nbformat_minor": 5
}