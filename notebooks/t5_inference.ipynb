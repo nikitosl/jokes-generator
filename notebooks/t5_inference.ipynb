{
 "cells": [
  {
   "cell_type": "code",
   "execution_count": null,
   "outputs": [],
   "source": [
    "from typing import List, Dict, Tuple\n",
    "from transformers import T5Tokenizer, T5ForConditionalGeneration\n",
    "import pandas as pd"
   ],
   "metadata": {
    "collapsed": false,
    "pycharm": {
     "name": "#%%\n"
    }
   }
  },
  {
   "cell_type": "code",
   "execution_count": null,
   "outputs": [],
   "source": [
    "# model_name, model_type = \"sberbank-ai/ruT5-base\", \"pytorch\"\n",
    "model_name, model_type = \"naltukhov/joke-generator-t5-rus-finetune\", \"flax\"\n",
    "tokenizer = T5Tokenizer.from_pretrained(model_name, from_flax=model_type == \"flax\",\n",
    "                                        force_download=True, use_auth_token=True)\n",
    "model = T5ForConditionalGeneration.from_pretrained(model_name, from_flax=model_type == \"flax\",\n",
    "                                                   force_download=True, use_auth_token=True)\n",
    "print(f'Loaded model {model_name}')\n",
    "\n",
    "inspiration_prefix = 'Сгенерировать вдохновение: '\n",
    "mark_prefix = 'Сгенерировать оценку: '\n",
    "punch_prefix = 'Сгенерировать шутку: '"
   ],
   "metadata": {
    "collapsed": false,
    "pycharm": {
     "name": "#%%\n"
    }
   }
  },
  {
   "cell_type": "code",
   "execution_count": null,
   "outputs": [],
   "source": [
    "def generate_inspirations(setup, num_return_sequences=5, temperature=1):\n",
    "    \n",
    "    # Generate inspirations\n",
    "    setup_ids = tokenizer(inspiration_prefix + setup, return_tensors=\"pt\").input_ids\n",
    "    predict_inspiration_ids = model.generate(setup_ids,\n",
    "                                             top_k=20,\n",
    "                                             do_sample=True,\n",
    "                                             max_length=50,\n",
    "                                             no_repeat_ngram_size=2,\n",
    "                                             temperature=temperature,\n",
    "                                             num_return_sequences=num_return_sequences).tolist()\n",
    "    predict_inspirations = [tokenizer.decode(p, skip_special_tokens=True) for p in predict_inspiration_ids]\n",
    "    return predict_inspirations"
   ],
   "metadata": {
    "collapsed": false,
    "pycharm": {
     "name": "#%%\n"
    }
   }
  },
  {
   "cell_type": "code",
   "execution_count": null,
   "outputs": [],
   "source": [
    "def generate_punches(setup, inspiration, num_return_sequences=5, temperature=1):\n",
    "    input_ids = tokenizer(punch_prefix + inspiration + '|' + setup, return_tensors=\"pt\").input_ids\n",
    "    predict_punches_ids = model.generate(input_ids,\n",
    "                                         do_sample=True,\n",
    "                                         top_k=20,\n",
    "                                         max_length=50,\n",
    "                                         no_repeat_ngram_size=2,\n",
    "                                         temperature=temperature,\n",
    "                                         num_return_sequences=num_return_sequences).tolist()\n",
    "    predict_punches = [tokenizer.decode(p, skip_special_tokens=True) for p in predict_punches_ids]\n",
    "    return predict_punches"
   ],
   "metadata": {
    "collapsed": false,
    "pycharm": {
     "name": "#%%\n"
    }
   }
  },
  {
   "cell_type": "code",
   "execution_count": null,
   "outputs": [],
   "source": [
    "def generate_mark(joke):\n",
    "    input_ids = tokenizer(mark_prefix + joke, return_tensors=\"pt\").input_ids\n",
    "    predict_mark_ids = model.generate(input_ids).tolist()\n",
    "    predict_mark = tokenizer.decode(predict_mark_ids[0], skip_special_tokens=True)\n",
    "    return predict_mark"
   ],
   "metadata": {
    "collapsed": false,
    "pycharm": {
     "name": "#%%\n"
    }
   }
  },
  {
   "cell_type": "code",
   "execution_count": null,
   "outputs": [],
   "source": [
    "def inference(setup, inspirations: List=None, \n",
    "              num_return_sequences: int=5, \n",
    "              temperature: int=1) -> List[Tuple[str, str, str, str]]:\n",
    "    result_list = list()\n",
    "    if not inspirations:\n",
    "        # Generate inspirations\n",
    "        inspirations = generate_inspirations(setup, \n",
    "                                             num_return_sequences=num_return_sequences,\n",
    "                                             temperature=temperature,)\n",
    "    for inspiration in inspirations:\n",
    "        # Generate punches\n",
    "        punches = generate_punches(setup, \n",
    "                                   inspiration, \n",
    "                                   num_return_sequences=num_return_sequences,\n",
    "                                   temperature=temperature)\n",
    "        for punch in punches:\n",
    "            joke = setup + punch\n",
    "            mark = generate_mark(joke)\n",
    "            result_list.append((setup, inspiration, punch, mark))\n",
    "    return result_list"
   ],
   "metadata": {
    "collapsed": false,
    "pycharm": {
     "name": "#%%\n"
    }
   }
  },
  {
   "cell_type": "code",
   "execution_count": null,
   "outputs": [],
   "source": [
    "setup = 'Российские войска ведут штурм и наступают на двух направлениях'\n",
    "setup = 'Медведев приехал на церемонию прощания с Горбачевым'\n",
    "# setup = 'Я плохой рассказчик'\n",
    "# setup = 'Медведь шёл по лесу'\n",
    "\n",
    "predicts = inference(setup, \n",
    "                     num_return_sequences=3, \n",
    "                     temperature=0.7)"
   ],
   "metadata": {
    "collapsed": false,
    "pycharm": {
     "name": "#%%\n"
    }
   }
  },
  {
   "cell_type": "code",
   "execution_count": null,
   "outputs": [],
   "source": [
    "predicts_df = pd.DataFrame(predicts, columns=['setup', 'inspiration', 'punch', 'mark'])\n",
    "predicts_df.to_dict(orient='records')"
   ],
   "metadata": {
    "collapsed": false,
    "pycharm": {
     "name": "#%%\n"
    }
   }
  },
  {
   "cell_type": "code",
   "execution_count": 51,
   "metadata": {
    "pycharm": {
     "name": "#%%\n"
    }
   },
   "outputs": [],
   "source": [
    "def generate_inspirations(setup, num_return_sequences=5, temperature=1):\n",
    "    \n",
    "    # Generate inspirations\n",
    "    setup_ids = tokenizer(inspiration_prefix + setup, return_tensors=\"pt\").input_ids\n",
    "    predict_inspiration_ids = model.generate(setup_ids,\n",
    "                                             top_k=20,\n",
    "                                             do_sample=True,\n",
    "                                             max_length=50,\n",
    "                                             no_repeat_ngram_size=2,\n",
    "                                             temperature=temperature,\n",
    "                                             num_return_sequences=num_return_sequences).tolist()\n",
    "    predict_inspirations = [tokenizer.decode(p, skip_special_tokens=True) for p in predict_inspiration_ids]\n",
    "    return predict_inspirations"
   ]
  },
  {
   "cell_type": "code",
   "execution_count": 52,
   "metadata": {
    "pycharm": {
     "name": "#%%\n"
    }
   },
   "outputs": [],
   "source": [
    "def generate_punches(setup, inspiration, num_return_sequences=5, temperature=1):\n",
    "    input_ids = tokenizer(punch_prefix + inspiration + '|' + setup, return_tensors=\"pt\").input_ids\n",
    "    predict_punches_ids = model.generate(input_ids,\n",
    "                                         do_sample=True,\n",
    "                                         top_k=20,\n",
    "                                         max_length=50,\n",
    "                                         no_repeat_ngram_size=2,\n",
    "                                         temperature=temperature,\n",
    "                                         num_return_sequences=num_return_sequences).tolist()\n",
    "    predict_punches = [tokenizer.decode(p, skip_special_tokens=True) for p in predict_punches_ids]\n",
    "    return predict_punches"
   ]
  },
  {
   "cell_type": "code",
   "execution_count": 53,
   "metadata": {
    "pycharm": {
     "name": "#%%\n"
    }
   },
   "outputs": [],
   "source": [
    "def generate_mark(joke):\n",
    "    input_ids = tokenizer(mark_prefix + joke, return_tensors=\"pt\").input_ids\n",
    "    predict_mark_ids = model.generate(input_ids).tolist()\n",
    "    predict_mark = tokenizer.decode(predict_mark_ids[0], skip_special_tokens=True)\n",
    "    return predict_mark"
   ]
  },
  {
   "cell_type": "code",
   "execution_count": 60,
   "metadata": {
    "collapsed": false,
    "jupyter": {
     "outputs_hidden": false
    },
    "pycharm": {
     "name": "#%%\n"
    }
   },
   "outputs": [],
   "source": [
    "def inference(setup, inspirations: List=None, \n",
    "              num_return_sequences: int=5, \n",
    "              temperature: int=1) -> List[Tuple[str, str, str, str]]:\n",
    "    result_list = list()\n",
    "    if not inspirations:\n",
    "        # Generate inspirations\n",
    "        inspirations = generate_inspirations(setup, \n",
    "                                             num_return_sequences=num_return_sequences,\n",
    "                                             temperature=temperature,)\n",
    "    for inspiration in inspirations:\n",
    "        # Generate punches\n",
    "        punches = generate_punches(setup, \n",
    "                                   inspiration, \n",
    "                                   num_return_sequences=num_return_sequences,\n",
    "                                   temperature=temperature)\n",
    "        for punch in punches:\n",
    "            joke = setup + punch\n",
    "            mark = generate_mark(joke)\n",
    "            result_list.append((setup, inspiration, punch, mark))\n",
    "    return result_list"
   ]
  },
  {
   "cell_type": "code",
   "execution_count": 75,
   "metadata": {
    "pycharm": {
     "name": "#%%\n"
    }
   },
   "outputs": [],
   "source": [
    "setup = 'Российские войска ведут штурм и наступают на двух направлениях'\n",
    "setup = 'Медведев приехал на церемонию прощания с Горбачевым'\n",
    "# setup = 'Я плохой рассказчик'\n",
    "# setup = 'Медведь шёл по лесу'\n",
    "\n",
    "predicts = inference(setup, \n",
    "                     num_return_sequences=3, \n",
    "                     temperature=0.7)"
   ]
  },
  {
   "cell_type": "code",
   "execution_count": 76,
   "metadata": {
    "pycharm": {
     "name": "#%%\n"
    }
   },
   "outputs": [
    {
     "data": {
      "text/plain": [
       "[{'setup': 'Медведев приехал на церемонию прощания с Горбачевым',\n",
       "  'inspiration': 'деньга натёр',\n",
       "  'punch': 'Он узнал, что деньги натёр и не погасился',\n",
       "  'mark': 'плохо'},\n",
       " {'setup': 'Медведев приехал на церемонию прощания с Горбачевым',\n",
       "  'inspiration': 'деньга натёр',\n",
       "  'punch': 'Деньги натёр он',\n",
       "  'mark': 'плохо'},\n",
       " {'setup': 'Медведев приехал на церемонию прощания с Горбачевым',\n",
       "  'inspiration': 'деньга натёр',\n",
       "  'punch': 'Деньги натёр он и пырнулнул в экстазе',\n",
       "  'mark': 'плохо'},\n",
       " {'setup': 'Медведев приехал на церемонию прощания с Горбачевым',\n",
       "  'inspiration': 'поблагодарить коллега',\n",
       "  'punch': 'А он поблагодарил коллегу за поддержку',\n",
       "  'mark': 'плохо'},\n",
       " {'setup': 'Медведев приехал на церемонию прощания с Горбачевым',\n",
       "  'inspiration': 'поблагодарить коллега',\n",
       "  'punch': 'Он поблагодарил коллегу за поздравления',\n",
       "  'mark': 'плохо'},\n",
       " {'setup': 'Медведев приехал на церемонию прощания с Горбачевым',\n",
       "  'inspiration': 'поблагодарить коллега',\n",
       "  'punch': 'В благодарность коллеге, он взял делегат для голосования',\n",
       "  'mark': 'плохо'},\n",
       " {'setup': 'Медведев приехал на церемонию прощания с Горбачевым',\n",
       "  'inspiration': 'владимир вольфович',\n",
       "  'punch': 'Владимир Вольфович не растерялся и взял ипотеку',\n",
       "  'mark': 'плохо'},\n",
       " {'setup': 'Медведев приехал на церемонию прощания с Горбачевым',\n",
       "  'inspiration': 'владимир вольфович',\n",
       "  'punch': 'Он искренне поблагодарил коллегу за поздравления с Владимиром Вольфовичем',\n",
       "  'mark': 'плохо'},\n",
       " {'setup': 'Медведев приехал на церемонию прощания с Горбачевым',\n",
       "  'inspiration': 'владимир вольфович',\n",
       "  'punch': 'Теперь он сам понимаю, что Владимир Вольфович не дурак, а депутат',\n",
       "  'mark': 'плохо'}]"
      ]
     },
     "execution_count": 76,
     "metadata": {},
     "output_type": "execute_result"
    }
   ],
   "source": [
    "predicts_df = pd.DataFrame(predicts, columns=['setup', 'inspiration', 'punch', 'mark'])\n",
    "predicts_df.to_dict(orient='records')"
   ]
  },
  {
   "cell_type": "code",
   "execution_count": null,
   "outputs": [],
   "source": [
    "# Punch generation\n",
    "df = pd.read_csv('data/agg-generation-dataset/agg-generation-dataset-test.csv')\n",
    "df = df.loc[df.input.str.startswith(punch_prefix)]\n",
    "for i in range(10):\n",
    "    input, output = df.sample().values[0]\n",
    "    print(f'\\tExample {i + 1}:')\n",
    "\n",
    "    predicts = inference(input)\n",
    "    print(*predicts)\n"
   ],
   "metadata": {
    "collapsed": false,
    "pycharm": {
     "name": "#%%\n"
    }
   }
  }
 ],
 "metadata": {
  "kernelspec": {
   "display_name": "Python 3 (ipykernel)",
   "language": "python",
   "name": "python3"
  },
  "language_info": {
   "codemirror_mode": {
    "name": "ipython",
    "version": 3
   },
   "file_extension": ".py",
   "mimetype": "text/x-python",
   "name": "python",
   "nbconvert_exporter": "python",
   "pygments_lexer": "ipython3",
   "version": "3.8.10"
  }
 },
 "nbformat": 4,
 "nbformat_minor": 4
}