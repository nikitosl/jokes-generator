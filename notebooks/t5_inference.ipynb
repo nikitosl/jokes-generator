{
 "cells": [
  {
   "cell_type": "code",
   "execution_count": 41,
   "metadata": {
    "collapsed": false,
    "jupyter": {
     "outputs_hidden": false
    },
    "pycharm": {
     "name": "#%%\n"
    }
   },
   "outputs": [],
   "source": [
    "from typing import List, Dict, Tuple\n",
    "from transformers import T5Tokenizer, T5ForConditionalGeneration\n",
    "import pandas as pd\n",
    "\n",
    "def generate_inspirations(setup, num_return_sequences=5, temperature=1):\n",
    "    \n",
    "    # Generate inspirations\n",
    "    setup_ids = tokenizer(inspiration_prefix + setup, return_tensors=\"pt\").input_ids\n",
    "    predict_inspiration_ids = model.generate(setup_ids,\n",
    "                                             top_k=20,\n",
    "                                             do_sample=True,\n",
    "                                             max_length=50,\n",
    "                                             no_repeat_ngram_size=2,\n",
    "                                             temperature=temperature,\n",
    "                                             num_return_sequences=num_return_sequences).tolist()\n",
    "    predict_inspirations = [tokenizer.decode(p, skip_special_tokens=True) for p in predict_inspiration_ids]\n",
    "    return predict_inspirations\n",
    "\n",
    "def generate_punches(setup, inspiration, num_return_sequences=5, temperature=1):\n",
    "    input_ids = tokenizer(punch_prefix + inspiration + '|' + setup, return_tensors=\"pt\").input_ids\n",
    "    predict_punches_ids = model.generate(input_ids,\n",
    "                                         do_sample=True,\n",
    "                                         top_k=20,\n",
    "                                         max_length=50,\n",
    "                                         no_repeat_ngram_size=2,\n",
    "                                         temperature=temperature,\n",
    "                                         num_return_sequences=num_return_sequences).tolist()\n",
    "    predict_punches = [tokenizer.decode(p, skip_special_tokens=True) for p in predict_punches_ids]\n",
    "    return predict_punches\n",
    "\n",
    "def generate_mark(joke):\n",
    "    input_ids = tokenizer(mark_prefix + joke, return_tensors=\"pt\").input_ids\n",
    "    predict_mark_ids = model.generate(input_ids).tolist()\n",
    "    predict_mark = tokenizer.decode(predict_mark_ids[0], skip_special_tokens=True)\n",
    "    return predict_mark\n",
    "\n",
    "def inference(setup, inspirations: List=None, \n",
    "              num_return_sequences: int=5, \n",
    "              temperature: int=1) -> List[Tuple[str, str, str, str]]:\n",
    "    result_list = list()\n",
    "    if not inspirations:\n",
    "        # Generate inspirations\n",
    "        inspirations = generate_inspirations(setup, \n",
    "                                             num_return_sequences=num_return_sequences,\n",
    "                                             temperature=temperature,)\n",
    "    for inspiration in inspirations:\n",
    "        # Generate punches\n",
    "        punches = generate_punches(setup, \n",
    "                                   inspiration, \n",
    "                                   num_return_sequences=num_return_sequences,\n",
    "                                   temperature=temperature)\n",
    "        for punch in punches:\n",
    "            joke = setup + punch\n",
    "            mark = generate_mark(joke)\n",
    "            result_list.append((setup, inspiration, punch, mark))\n",
    "    return result_list"
   ]
  },
  {
   "cell_type": "code",
   "execution_count": 3,
   "metadata": {},
   "outputs": [],
   "source": [
    "# Models\n",
    "\n",
    "# Default sberbank model used for finetune\n",
    "# model_name, model_type = \"sberbank-ai/ruT5-large\", \"pytorch\"\n",
    "\n",
    "# Model finetuned on span masks task\n",
    "# model_name, model_type = \"naltukhov/joke-generator-t5-rus\", \"flax\"\n",
    "\n",
    "# Model finetuned on span masks task and generation task\n",
    "model_name, model_type = \"naltukhov/joke-generator-t5-rus-finetune\", \"flax\""
   ]
  },
  {
   "cell_type": "code",
   "execution_count": 50,
   "metadata": {},
   "outputs": [],
   "source": [
    "# Versions\n",
    "\n",
    "# Last\n",
    "revision = None\n",
    "\n",
    "# Model with inspirations on small dataset (first success workflow)\n",
    "# For naltukhov/joke-generator-t5-rus-finetune model\n",
    "revision = \"159b2223b230be99faa5f9d661996c757f58d66a\"  # 26\n",
    "# revision = \"9aaf18df0cb1dc5de2480222e52f504837306048\"  # 27\n",
    "\n",
    "\n"
   ]
  },
  {
   "cell_type": "code",
   "execution_count": 51,
   "metadata": {
    "pycharm": {
     "name": "#%%\n"
    },
    "tags": []
   },
   "outputs": [
    {
     "name": "stderr",
     "output_type": "stream",
     "text": [
      "Downloading: 100%|██████████| 980k/980k [00:00<00:00, 33.9MB/s]\n",
      "Downloading: 100%|██████████| 1.74k/1.74k [00:00<00:00, 677kB/s]\n",
      "Downloading: 100%|██████████| 1.90k/1.90k [00:00<00:00, 781kB/s]\n",
      "Downloading: 100%|██████████| 1.39k/1.39k [00:00<00:00, 686kB/s]\n",
      "Downloading: 100%|██████████| 2.75G/2.75G [00:38<00:00, 76.5MB/s]\n",
      "All Flax model weights were used when initializing T5ForConditionalGeneration.\n",
      "\n",
      "Some weights of T5ForConditionalGeneration were not initialized from the Flax model and are newly initialized: ['encoder.embed_tokens.weight', 'lm_head.weight', 'decoder.embed_tokens.weight']\n",
      "You should probably TRAIN this model on a down-stream task to be able to use it for predictions and inference.\n"
     ]
    },
    {
     "name": "stdout",
     "output_type": "stream",
     "text": [
      "Loaded model naltukhov/joke-generator-t5-rus-finetune\n"
     ]
    }
   ],
   "source": [
    "tokenizer = T5Tokenizer.from_pretrained(model_name, from_flax=model_type == \"flax\",\n",
    "                                        force_download=True, use_auth_token=True, revision=revision)\n",
    "model = T5ForConditionalGeneration.from_pretrained(model_name, from_flax=model_type == \"flax\",\n",
    "                                                   force_download=True, use_auth_token=True, revision=revision)\n",
    "print(f'Loaded model {model_name}')\n",
    "\n",
    "inspiration_prefix = 'Сгенерировать вдохновение: '\n",
    "mark_prefix = 'Сгенерировать оценку: '\n",
    "punch_prefix = 'Сгенерировать шутку: '"
   ]
  },
  {
   "cell_type": "code",
   "execution_count": 54,
   "metadata": {
    "collapsed": false,
    "jupyter": {
     "outputs_hidden": false
    },
    "pycharm": {
     "name": "#%%\n"
    }
   },
   "outputs": [],
   "source": [
    "setup = 'Российские войска ведут штурм и наступают на двух направлениях'\n",
    "# setup = 'Медведев приехал на церемонию прощания с Горбачевым'\n",
    "# setup = 'Я плохой рассказчик'\n",
    "setup = 'Медведь шёл по лесу'\n",
    "\n",
    "predicts = inference(setup, \n",
    "                     num_return_sequences=3, \n",
    "                     temperature=0.6)"
   ]
  },
  {
   "cell_type": "code",
   "execution_count": 55,
   "metadata": {
    "collapsed": false,
    "jupyter": {
     "outputs_hidden": false
    },
    "pycharm": {
     "name": "#%%\n"
    }
   },
   "outputs": [
    {
     "data": {
      "text/plain": [
       "[{'setup': 'Медведь шёл по лесу',\n",
       "  'inspiration': 'невольно возникать подозрение',\n",
       "  'punch': 'Осторожно возникает подозрение, что он просто хотел поработать в другой стране',\n",
       "  'mark': 'плохо'},\n",
       " {'setup': 'Медведь шёл по лесу',\n",
       "  'inspiration': 'невольно возникать подозрение',\n",
       "  'punch': 'По привычке решил, что это тараканы в его лесу, но в итоге он сам поехал в зоопарк',\n",
       "  'mark': 'плохо'},\n",
       " {'setup': 'Медведь шёл по лесу',\n",
       "  'inspiration': 'невольно возникать подозрение',\n",
       "  'punch': 'По привычке решил, что это его лучшая лучшая в мире, и вдруг подумалось подозрение о возможном преемнике',\n",
       "  'mark': 'плохо'},\n",
       " {'setup': 'Медведь шёл по лесу',\n",
       "  'inspiration': 'медведь зимовать',\n",
       "  'punch': 'Медведь зимовал за ним',\n",
       "  'mark': 'плохо'},\n",
       " {'setup': 'Медведь шёл по лесу',\n",
       "  'inspiration': 'медведь зимовать',\n",
       "  'punch': 'Медведь зимовал его за рога',\n",
       "  'mark': 'плохо'},\n",
       " {'setup': 'Медведь шёл по лесу',\n",
       "  'inspiration': 'медведь зимовать',\n",
       "  'punch': 'Медведь зимовал за ним, пока не напьётся',\n",
       "  'mark': 'плохо'},\n",
       " {'setup': 'Медведь шёл по лесу',\n",
       "  'inspiration': 'медведь',\n",
       "  'punch': 'Медведь до сих пор жив игорь николаев',\n",
       "  'mark': 'плохо'},\n",
       " {'setup': 'Медведь шёл по лесу',\n",
       "  'inspiration': 'медведь',\n",
       "  'punch': 'Медведь до сих пор жив',\n",
       "  'mark': 'плохо'},\n",
       " {'setup': 'Медведь шёл по лесу',\n",
       "  'inspiration': 'медведь',\n",
       "  'punch': 'Медведь до сих пор жив',\n",
       "  'mark': 'плохо'}]"
      ]
     },
     "execution_count": 55,
     "metadata": {},
     "output_type": "execute_result"
    }
   ],
   "source": [
    "predicts_df = pd.DataFrame(predicts, columns=['setup', 'inspiration', 'punch', 'mark'])\n",
    "predicts_df.to_dict(orient='records')"
   ]
  },
  {
   "cell_type": "code",
   "execution_count": null,
   "metadata": {
    "collapsed": false,
    "jupyter": {
     "outputs_hidden": false
    },
    "pycharm": {
     "name": "#%%\n"
    }
   },
   "outputs": [],
   "source": [
    "# Punch generation\n",
    "df = pd.read_csv('data/agg-generation-dataset/agg-generation-dataset-test.csv')\n",
    "df = df.loc[df.input.str.startswith(punch_prefix)]\n",
    "for i in range(10):\n",
    "    input, output = df.sample().values[0]\n",
    "    print(f'\\tExample {i + 1}:')\n",
    "\n",
    "    predicts = inference(input)\n",
    "    print(*predicts)\n"
   ]
  }
 ],
 "metadata": {
  "kernelspec": {
   "display_name": "Python 3 (ipykernel)",
   "language": "python",
   "name": "python3"
  },
  "language_info": {
   "codemirror_mode": {
    "name": "ipython",
    "version": 3
   },
   "file_extension": ".py",
   "mimetype": "text/x-python",
   "name": "python",
   "nbconvert_exporter": "python",
   "pygments_lexer": "ipython3",
   "version": "3.8.10"
  }
 },
 "nbformat": 4,
 "nbformat_minor": 4
}
