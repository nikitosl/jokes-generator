{
 "cells": [
  {
   "cell_type": "markdown",
   "source": [
    "All marks in range(0, 9)"
   ],
   "metadata": {
    "collapsed": false,
    "pycharm": {
     "name": "#%% md\n"
    }
   }
  },
  {
   "cell_type": "markdown",
   "source": [
    "# Single datasets preprocessing"
   ],
   "metadata": {
    "collapsed": false,
    "pycharm": {
     "name": "#%% md\n"
    }
   }
  },
  {
   "cell_type": "markdown",
   "id": "efa05cae",
   "metadata": {
    "pycharm": {
     "name": "#%% md\n"
    }
   },
   "source": [
    "## Tg comedy dataset"
   ]
  },
  {
   "cell_type": "markdown",
   "source": [
    "Dataset built manually from telegram comedy channel. It contains setups and different punches from different autors.\n",
    "Every punch has number of likes, which tell us about it quality."
   ],
   "metadata": {
    "collapsed": false,
    "pycharm": {
     "name": "#%% md\n"
    }
   }
  },
  {
   "cell_type": "code",
   "execution_count": 3,
   "id": "4d6f7807",
   "metadata": {
    "pycharm": {
     "name": "#%%\n"
    }
   },
   "outputs": [],
   "source": [
    "import os\n",
    "from glob import glob\n",
    "import re\n",
    "import pandas as pd\n",
    "\n",
    "from tqdm import tqdm\n",
    "tqdm.pandas()"
   ]
  },
  {
   "cell_type": "markdown",
   "id": "89ec6312",
   "metadata": {
    "heading_collapsed": true,
    "pycharm": {
     "name": "#%% md\n"
    }
   },
   "source": [
    "### Create .txt files"
   ]
  },
  {
   "cell_type": "markdown",
   "id": "7f524b3f",
   "metadata": {
    "heading_collapsed": true,
    "pycharm": {
     "name": "#%% md\n"
    }
   },
   "source": [
    "### Convert .txt files to .tsv"
   ]
  },
  {
   "cell_type": "code",
   "execution_count": 32,
   "id": "ae68be54",
   "metadata": {
    "hidden": true,
    "pycharm": {
     "name": "#%%\n"
    }
   },
   "outputs": [
    {
     "name": "stdout",
     "output_type": "stream",
     "text": [
      "comedy-news-tg-dataset/jokes79.txt, size: 128\n",
      "comedy-news-tg-dataset/jokes78.txt, size: 123\n",
      "comedy-news-tg-dataset/jokes57.txt, size: 165\n",
      "comedy-news-tg-dataset/jokes80.txt, size: 134\n",
      "comedy-news-tg-dataset/jokes81.txt, size: 134\n",
      "comedy-news-tg-dataset/jokes56.txt, size: 141\n",
      "comedy-news-tg-dataset/jokes68.txt, size: 141\n",
      "comedy-news-tg-dataset/jokes83.txt, size: 133\n",
      "comedy-news-tg-dataset/jokes82.txt, size: 102\n",
      "comedy-news-tg-dataset/jokes69.txt, size: 126\n",
      "comedy-news-tg-dataset/jokes64.txt, size: 198\n",
      "comedy-news-tg-dataset/jokes70.txt, size: 111\n",
      "comedy-news-tg-dataset/jokes58.txt, size: 135\n",
      "comedy-news-tg-dataset/jokes59.txt, size: 178\n",
      "comedy-news-tg-dataset/jokes71.txt, size: 127\n",
      "comedy-news-tg-dataset/jokes65.txt, size: 137\n",
      "comedy-news-tg-dataset/jokes73.txt, size: 137\n",
      "comedy-news-tg-dataset/jokes67.txt, size: 130\n",
      "comedy-news-tg-dataset/jokes66.txt, size: 132\n",
      "comedy-news-tg-dataset/jokes72.txt, size: 131\n",
      "comedy-news-tg-dataset/jokes76.txt, size: 102\n",
      "comedy-news-tg-dataset/jokes62.txt, size: 119\n",
      "comedy-news-tg-dataset/jokes63.txt, size: 108\n",
      "comedy-news-tg-dataset/jokes77.txt, size: 93\n",
      "comedy-news-tg-dataset/jokes61.txt, size: 119\n",
      "comedy-news-tg-dataset/jokes75.txt, size: 130\n",
      "comedy-news-tg-dataset/jokes74.txt, size: 131\n",
      "comedy-news-tg-dataset/jokes60.txt, size: 110\n"
     ]
    }
   ],
   "source": [
    "df = pd.DataFrame()\n",
    "pattern = r\"(.+)\\,\\s\\[.*\\]\\:\\n(.+)\"\n",
    "\n",
    "for filepath in glob('data/comedy-news-tg-dataset/jokes*.txt'):\n",
    "    \n",
    "    if os.path.getsize(filepath) == 0:\n",
    "        continue\n",
    "        \n",
    "    filenum = re.search('\\d+', filepath)[0]\n",
    "    print(filepath, end=', size: ')\n",
    "    \n",
    "    with open(filepath) as f:\n",
    "        setup = f.readline().replace('\\xa0', ' ').strip()[:-1]\n",
    "        \n",
    "        raw_jokes = f.read().replace('\\xa0', ' ').strip()\n",
    "        raw_jokes = re.sub(r'(Н|н)овость(\\W|\\n)*', '', raw_jokes)\n",
    "        raw_jokes = re.sub(f'{setup}(\\W|\\n)*', '', raw_jokes)\n",
    "        \n",
    "    parsed = re.findall(pattern, raw_jokes)\n",
    "    temp_df = pd.DataFrame(parsed, columns=['author', 'punch'])\n",
    "    temp_df['setup'] = setup\n",
    "    temp_df['mark'] = None\n",
    "    \n",
    "    temp_df = temp_df[['setup', 'author', 'punch', 'mark']]\n",
    "    \n",
    "    temp_df.to_csv(f'comedy-news-tg-dataset/tg_{filenum}.tsv', sep='\\t', index=False)\n",
    "    \n",
    "    print(temp_df.shape[0])\n",
    "    df = df.append(temp_df)"
   ]
  },
  {
   "cell_type": "markdown",
   "id": "9b399cd9",
   "metadata": {
    "pycharm": {
     "name": "#%% md\n"
    }
   },
   "source": [
    "### Join chunks to single dataset"
   ]
  },
  {
   "cell_type": "code",
   "execution_count": 4,
   "id": "e1754249",
   "metadata": {
    "pycharm": {
     "name": "#%%\n"
    }
   },
   "outputs": [],
   "source": [
    "# glob.glob('data/comedy-news-tg-dataset/*.tsv')\n",
    "get_filenum = lambda t: int(re.search('\\d+', t)[0])"
   ]
  },
  {
   "cell_type": "code",
   "execution_count": 7,
   "id": "90879e48",
   "metadata": {
    "scrolled": true,
    "pycharm": {
     "name": "#%%\n"
    }
   },
   "outputs": [
    {
     "name": "stdout",
     "output_type": "stream",
     "text": [
      "Семилетняя россиянка Анастасия Радзинская вошла в десятку самых высокооплачиваемых блогеров в мире 179\n",
      "YouTube откажется от производства оригинальных шоу и сериалов 109\n",
      "В Испании молодежи помогут переехать от родителей 105\n",
      "Хабиб Нурмагомедов создаст свою сеть ресторанов быстрого питания 185\n",
      "Versace представил мешки для сбора собачьих фекалий за 20 тысяч рублей 137\n",
      "В РПЦ составили молитву об одержимых компьютерной страстью 216\n",
      "За год блогеры из TikTok заработали больше, чем главы Starbucks, McDonald’s 164\n",
      "В Китае снимут ремейк фильма Холоп 111\n",
      "Российский футболист рассказал об отказе Месси дать ему автограф 187\n",
      "В Ростовской области в ЗАГСах запретили смеяться 157\n",
      "Телефонные мошенники начали представляться сотрудниками «Госуслуг» и красть данные через QR-код 120\n",
      "Половина россиян испытывают негатив, когда сидят в соцсетях. Треть из них считают себя зависимыми 119\n",
      "Экономная женщина заставила семью использовать многоразовую туалетную бумагу 155\n",
      "Ритуальная фирма в Омске предложила засыпать прах усопших в петарды 248\n",
      "Мессенджер Viber открыл представительство в России 125\n",
      "Эксперт заявил о готовности TikTok соблюдать требования российских властей 94\n",
      "Ученые придумали электронную сигарету с кокаином 129\n",
      "Продюсер «Холостяка» опроверг информацию об участии Давы и Гусейна Гасанова в проекте 112\n",
      "Instagram тестирует функцию платных подписок 124\n",
      "На Шри-Ланке троих россиян оштрафовали на 3,3 миллиона рублей по делу о незаконном сборе насекомых 128\n",
      "Елизавета II запустила собственный бренд кетчупа 168\n",
      "Полиция США арестовала 60 наркоторговцев с помощью приложений для гей-знакомств 138\n",
      "Ксения Собчак раскритиковала Шнурова за клип «Шмарафон» с намеком на себя 85\n",
      "В Петербурге горожанам будут платить, чтобы они сами убрали снег у себя во дворах 240\n",
      "Фёдор Смолов перешел в «Динамо» 209\n",
      "В России создадут аппарат для борьбы с космическим мусором 123\n",
      "Apple подала в суд на украинского режиссёра из-за названия фильма Apple-Man 111\n",
      "Швейцарец сменил пол, чтобы выйти на пенсию на год раньше 119\n",
      "Tinder обвинили в дискриминации людей старше 30 лет. Платные услуги для них дороже 106\n",
      "Ольга Бузова подарила гостям своего дня рождения набор для утреннего похмелья 124\n",
      "По указу минспорта России, киберспортсмены будут обязаны сдавать нормативы по бегу 3 км, приседания и растяжку 161\n",
      "Tesla эксклюзивно для Китая выпустила микрофон TeslaMic для пения караоке в машине 135\n",
      "На суде в Красноярском крае гособвинение запросило реальные сроки для подростков, которые хотели взорвать здание ФСБ в игре Minecraft 97\n",
      "Burger King попросил разрешить ввоз импортных сыров в Россию 106\n",
      "Мировой чарт Netflix возглавил южнокорейский сериал о зомби‑апокалипсисе 88\n",
      "В Таиланде задумали ввести курортный сбор с иностранных туристов 159\n",
      "Tinder впервые обошёл «Одноклассники» по тратам россиян в сервисах знакомств 149\n",
      "В России на 50% выросли продажи эзотерической литературы — о предсказаниях, духовных практиках и позитивном мышлении 124\n",
      "Даня Милохин получил свою первую серьёзную роль в сериале на СТС 120\n",
      "Россияне запасаются попкорном: продажи снека в России за год выросли почти на 30% 92\n",
      "Суд в Воронеже постановил отправить трансгендерного мужчину в женскую колонию 112\n",
      "В России собираются запретить криптовалюту 118\n",
      "Крупнейшим покупателем российского мороженого в 2021 году стали США 108\n",
      "TikTok создал личный кабинет на сайте Роскомнадзора 91\n",
      "Министерство культуры предложило снизить налоги для креативных индустрий 100\n",
      "Оксимирон завел себе аккаунт в TikTok и сразу записал 3-х минутное видео 117\n",
      "Футбольный клуб «Спартак» запустит свою криптовалюту 128\n",
      "Блогер Дмитрий Масленников сообщил, что стал ведущим проекта на одном из федеральных телеканалов 98\n",
      "Джонни Депп продаст 11 111 NFT-портретов своих друзей и людей, которые его вдохновляют 106\n",
      "Канье Уэст приедет в Россию, чтобы встретиться с Путиным и провести шоу Sunday Service 224\n",
      "Мужчина ограбил магазин интимных товаров в Подмосковье 296\n",
      "19-летний студент изобрел бот, который отслеживает джеты миллиардеров, в том числе Илона Маска 82\n",
      "В Москве мужчина выпрыгнул из окна, потому что девушка заставляла его убраться дома 139\n",
      "Павел Дуров сообщил о том, что WhatsApp небезопасен для пользователей 112\n",
      "В Чите на железнодорожном вокзале местный губернатор торжественно открыл часы 154\n",
      "Россия стала мировым лидером по числу утечек паролей 139\n",
      "Капитан ФСБ зарегистрировал в своей московской квартире сотни людей 128\n",
      "Исследование: Агрессивность русскоязычных пользователей в социальных медиа снизилась 102\n",
      "В Хакасии терапевт предлагал пациентам лечиться от ковида «мертвой водой» и не мыться неделю 120\n",
      "Согласно данным Visa, почти треть россиян полностью отказались от наличных 115\n",
      "В Петербурге судья, прокурор и конвоиры не смогли попасть на заседание из-за неубранного снега 116\n",
      "Александр Ревва сообщил об открытии собственной сети доставки роллов «REVVAROLLS» 144\n",
      "В Бельгии начнут выдавать паспорта с картинками из комиксов 149\n",
      "В России начали возводить районы с напечатанными домами 130\n"
     ]
    },
    {
     "name": "stderr",
     "output_type": "stream",
     "text": [
      "/var/folders/td/4g0swlbs5yg351q8l_8q7zt59mjw37/T/ipykernel_11990/1601564059.py:7: FutureWarning: The frame.append method is deprecated and will be removed from pandas in a future version. Use pandas.concat instead.\n",
      "  df = df.append(temp_df)\n",
      "/var/folders/td/4g0swlbs5yg351q8l_8q7zt59mjw37/T/ipykernel_11990/1601564059.py:7: FutureWarning: The frame.append method is deprecated and will be removed from pandas in a future version. Use pandas.concat instead.\n",
      "  df = df.append(temp_df)\n",
      "/var/folders/td/4g0swlbs5yg351q8l_8q7zt59mjw37/T/ipykernel_11990/1601564059.py:7: FutureWarning: The frame.append method is deprecated and will be removed from pandas in a future version. Use pandas.concat instead.\n",
      "  df = df.append(temp_df)\n",
      "/var/folders/td/4g0swlbs5yg351q8l_8q7zt59mjw37/T/ipykernel_11990/1601564059.py:7: FutureWarning: The frame.append method is deprecated and will be removed from pandas in a future version. Use pandas.concat instead.\n",
      "  df = df.append(temp_df)\n",
      "/var/folders/td/4g0swlbs5yg351q8l_8q7zt59mjw37/T/ipykernel_11990/1601564059.py:7: FutureWarning: The frame.append method is deprecated and will be removed from pandas in a future version. Use pandas.concat instead.\n",
      "  df = df.append(temp_df)\n",
      "/var/folders/td/4g0swlbs5yg351q8l_8q7zt59mjw37/T/ipykernel_11990/1601564059.py:7: FutureWarning: The frame.append method is deprecated and will be removed from pandas in a future version. Use pandas.concat instead.\n",
      "  df = df.append(temp_df)\n",
      "/var/folders/td/4g0swlbs5yg351q8l_8q7zt59mjw37/T/ipykernel_11990/1601564059.py:7: FutureWarning: The frame.append method is deprecated and will be removed from pandas in a future version. Use pandas.concat instead.\n",
      "  df = df.append(temp_df)\n",
      "/var/folders/td/4g0swlbs5yg351q8l_8q7zt59mjw37/T/ipykernel_11990/1601564059.py:7: FutureWarning: The frame.append method is deprecated and will be removed from pandas in a future version. Use pandas.concat instead.\n",
      "  df = df.append(temp_df)\n",
      "/var/folders/td/4g0swlbs5yg351q8l_8q7zt59mjw37/T/ipykernel_11990/1601564059.py:7: FutureWarning: The frame.append method is deprecated and will be removed from pandas in a future version. Use pandas.concat instead.\n",
      "  df = df.append(temp_df)\n",
      "/var/folders/td/4g0swlbs5yg351q8l_8q7zt59mjw37/T/ipykernel_11990/1601564059.py:7: FutureWarning: The frame.append method is deprecated and will be removed from pandas in a future version. Use pandas.concat instead.\n",
      "  df = df.append(temp_df)\n",
      "/var/folders/td/4g0swlbs5yg351q8l_8q7zt59mjw37/T/ipykernel_11990/1601564059.py:7: FutureWarning: The frame.append method is deprecated and will be removed from pandas in a future version. Use pandas.concat instead.\n",
      "  df = df.append(temp_df)\n",
      "/var/folders/td/4g0swlbs5yg351q8l_8q7zt59mjw37/T/ipykernel_11990/1601564059.py:7: FutureWarning: The frame.append method is deprecated and will be removed from pandas in a future version. Use pandas.concat instead.\n",
      "  df = df.append(temp_df)\n",
      "/var/folders/td/4g0swlbs5yg351q8l_8q7zt59mjw37/T/ipykernel_11990/1601564059.py:7: FutureWarning: The frame.append method is deprecated and will be removed from pandas in a future version. Use pandas.concat instead.\n",
      "  df = df.append(temp_df)\n",
      "/var/folders/td/4g0swlbs5yg351q8l_8q7zt59mjw37/T/ipykernel_11990/1601564059.py:7: FutureWarning: The frame.append method is deprecated and will be removed from pandas in a future version. Use pandas.concat instead.\n",
      "  df = df.append(temp_df)\n",
      "/var/folders/td/4g0swlbs5yg351q8l_8q7zt59mjw37/T/ipykernel_11990/1601564059.py:7: FutureWarning: The frame.append method is deprecated and will be removed from pandas in a future version. Use pandas.concat instead.\n",
      "  df = df.append(temp_df)\n",
      "/var/folders/td/4g0swlbs5yg351q8l_8q7zt59mjw37/T/ipykernel_11990/1601564059.py:7: FutureWarning: The frame.append method is deprecated and will be removed from pandas in a future version. Use pandas.concat instead.\n",
      "  df = df.append(temp_df)\n",
      "/var/folders/td/4g0swlbs5yg351q8l_8q7zt59mjw37/T/ipykernel_11990/1601564059.py:7: FutureWarning: The frame.append method is deprecated and will be removed from pandas in a future version. Use pandas.concat instead.\n",
      "  df = df.append(temp_df)\n",
      "/var/folders/td/4g0swlbs5yg351q8l_8q7zt59mjw37/T/ipykernel_11990/1601564059.py:7: FutureWarning: The frame.append method is deprecated and will be removed from pandas in a future version. Use pandas.concat instead.\n",
      "  df = df.append(temp_df)\n",
      "/var/folders/td/4g0swlbs5yg351q8l_8q7zt59mjw37/T/ipykernel_11990/1601564059.py:7: FutureWarning: The frame.append method is deprecated and will be removed from pandas in a future version. Use pandas.concat instead.\n",
      "  df = df.append(temp_df)\n",
      "/var/folders/td/4g0swlbs5yg351q8l_8q7zt59mjw37/T/ipykernel_11990/1601564059.py:7: FutureWarning: The frame.append method is deprecated and will be removed from pandas in a future version. Use pandas.concat instead.\n",
      "  df = df.append(temp_df)\n",
      "/var/folders/td/4g0swlbs5yg351q8l_8q7zt59mjw37/T/ipykernel_11990/1601564059.py:7: FutureWarning: The frame.append method is deprecated and will be removed from pandas in a future version. Use pandas.concat instead.\n",
      "  df = df.append(temp_df)\n",
      "/var/folders/td/4g0swlbs5yg351q8l_8q7zt59mjw37/T/ipykernel_11990/1601564059.py:7: FutureWarning: The frame.append method is deprecated and will be removed from pandas in a future version. Use pandas.concat instead.\n",
      "  df = df.append(temp_df)\n",
      "/var/folders/td/4g0swlbs5yg351q8l_8q7zt59mjw37/T/ipykernel_11990/1601564059.py:7: FutureWarning: The frame.append method is deprecated and will be removed from pandas in a future version. Use pandas.concat instead.\n",
      "  df = df.append(temp_df)\n",
      "/var/folders/td/4g0swlbs5yg351q8l_8q7zt59mjw37/T/ipykernel_11990/1601564059.py:7: FutureWarning: The frame.append method is deprecated and will be removed from pandas in a future version. Use pandas.concat instead.\n",
      "  df = df.append(temp_df)\n",
      "/var/folders/td/4g0swlbs5yg351q8l_8q7zt59mjw37/T/ipykernel_11990/1601564059.py:7: FutureWarning: The frame.append method is deprecated and will be removed from pandas in a future version. Use pandas.concat instead.\n",
      "  df = df.append(temp_df)\n",
      "/var/folders/td/4g0swlbs5yg351q8l_8q7zt59mjw37/T/ipykernel_11990/1601564059.py:7: FutureWarning: The frame.append method is deprecated and will be removed from pandas in a future version. Use pandas.concat instead.\n",
      "  df = df.append(temp_df)\n",
      "/var/folders/td/4g0swlbs5yg351q8l_8q7zt59mjw37/T/ipykernel_11990/1601564059.py:7: FutureWarning: The frame.append method is deprecated and will be removed from pandas in a future version. Use pandas.concat instead.\n",
      "  df = df.append(temp_df)\n",
      "/var/folders/td/4g0swlbs5yg351q8l_8q7zt59mjw37/T/ipykernel_11990/1601564059.py:7: FutureWarning: The frame.append method is deprecated and will be removed from pandas in a future version. Use pandas.concat instead.\n",
      "  df = df.append(temp_df)\n",
      "/var/folders/td/4g0swlbs5yg351q8l_8q7zt59mjw37/T/ipykernel_11990/1601564059.py:7: FutureWarning: The frame.append method is deprecated and will be removed from pandas in a future version. Use pandas.concat instead.\n",
      "  df = df.append(temp_df)\n",
      "/var/folders/td/4g0swlbs5yg351q8l_8q7zt59mjw37/T/ipykernel_11990/1601564059.py:7: FutureWarning: The frame.append method is deprecated and will be removed from pandas in a future version. Use pandas.concat instead.\n",
      "  df = df.append(temp_df)\n",
      "/var/folders/td/4g0swlbs5yg351q8l_8q7zt59mjw37/T/ipykernel_11990/1601564059.py:7: FutureWarning: The frame.append method is deprecated and will be removed from pandas in a future version. Use pandas.concat instead.\n",
      "  df = df.append(temp_df)\n",
      "/var/folders/td/4g0swlbs5yg351q8l_8q7zt59mjw37/T/ipykernel_11990/1601564059.py:7: FutureWarning: The frame.append method is deprecated and will be removed from pandas in a future version. Use pandas.concat instead.\n",
      "  df = df.append(temp_df)\n",
      "/var/folders/td/4g0swlbs5yg351q8l_8q7zt59mjw37/T/ipykernel_11990/1601564059.py:7: FutureWarning: The frame.append method is deprecated and will be removed from pandas in a future version. Use pandas.concat instead.\n",
      "  df = df.append(temp_df)\n",
      "/var/folders/td/4g0swlbs5yg351q8l_8q7zt59mjw37/T/ipykernel_11990/1601564059.py:7: FutureWarning: The frame.append method is deprecated and will be removed from pandas in a future version. Use pandas.concat instead.\n",
      "  df = df.append(temp_df)\n",
      "/var/folders/td/4g0swlbs5yg351q8l_8q7zt59mjw37/T/ipykernel_11990/1601564059.py:7: FutureWarning: The frame.append method is deprecated and will be removed from pandas in a future version. Use pandas.concat instead.\n",
      "  df = df.append(temp_df)\n",
      "/var/folders/td/4g0swlbs5yg351q8l_8q7zt59mjw37/T/ipykernel_11990/1601564059.py:7: FutureWarning: The frame.append method is deprecated and will be removed from pandas in a future version. Use pandas.concat instead.\n",
      "  df = df.append(temp_df)\n",
      "/var/folders/td/4g0swlbs5yg351q8l_8q7zt59mjw37/T/ipykernel_11990/1601564059.py:7: FutureWarning: The frame.append method is deprecated and will be removed from pandas in a future version. Use pandas.concat instead.\n",
      "  df = df.append(temp_df)\n",
      "/var/folders/td/4g0swlbs5yg351q8l_8q7zt59mjw37/T/ipykernel_11990/1601564059.py:7: FutureWarning: The frame.append method is deprecated and will be removed from pandas in a future version. Use pandas.concat instead.\n",
      "  df = df.append(temp_df)\n",
      "/var/folders/td/4g0swlbs5yg351q8l_8q7zt59mjw37/T/ipykernel_11990/1601564059.py:7: FutureWarning: The frame.append method is deprecated and will be removed from pandas in a future version. Use pandas.concat instead.\n",
      "  df = df.append(temp_df)\n",
      "/var/folders/td/4g0swlbs5yg351q8l_8q7zt59mjw37/T/ipykernel_11990/1601564059.py:7: FutureWarning: The frame.append method is deprecated and will be removed from pandas in a future version. Use pandas.concat instead.\n",
      "  df = df.append(temp_df)\n",
      "/var/folders/td/4g0swlbs5yg351q8l_8q7zt59mjw37/T/ipykernel_11990/1601564059.py:7: FutureWarning: The frame.append method is deprecated and will be removed from pandas in a future version. Use pandas.concat instead.\n",
      "  df = df.append(temp_df)\n",
      "/var/folders/td/4g0swlbs5yg351q8l_8q7zt59mjw37/T/ipykernel_11990/1601564059.py:7: FutureWarning: The frame.append method is deprecated and will be removed from pandas in a future version. Use pandas.concat instead.\n",
      "  df = df.append(temp_df)\n",
      "/var/folders/td/4g0swlbs5yg351q8l_8q7zt59mjw37/T/ipykernel_11990/1601564059.py:7: FutureWarning: The frame.append method is deprecated and will be removed from pandas in a future version. Use pandas.concat instead.\n",
      "  df = df.append(temp_df)\n",
      "/var/folders/td/4g0swlbs5yg351q8l_8q7zt59mjw37/T/ipykernel_11990/1601564059.py:7: FutureWarning: The frame.append method is deprecated and will be removed from pandas in a future version. Use pandas.concat instead.\n",
      "  df = df.append(temp_df)\n",
      "/var/folders/td/4g0swlbs5yg351q8l_8q7zt59mjw37/T/ipykernel_11990/1601564059.py:7: FutureWarning: The frame.append method is deprecated and will be removed from pandas in a future version. Use pandas.concat instead.\n",
      "  df = df.append(temp_df)\n",
      "/var/folders/td/4g0swlbs5yg351q8l_8q7zt59mjw37/T/ipykernel_11990/1601564059.py:7: FutureWarning: The frame.append method is deprecated and will be removed from pandas in a future version. Use pandas.concat instead.\n",
      "  df = df.append(temp_df)\n",
      "/var/folders/td/4g0swlbs5yg351q8l_8q7zt59mjw37/T/ipykernel_11990/1601564059.py:7: FutureWarning: The frame.append method is deprecated and will be removed from pandas in a future version. Use pandas.concat instead.\n",
      "  df = df.append(temp_df)\n",
      "/var/folders/td/4g0swlbs5yg351q8l_8q7zt59mjw37/T/ipykernel_11990/1601564059.py:7: FutureWarning: The frame.append method is deprecated and will be removed from pandas in a future version. Use pandas.concat instead.\n",
      "  df = df.append(temp_df)\n",
      "/var/folders/td/4g0swlbs5yg351q8l_8q7zt59mjw37/T/ipykernel_11990/1601564059.py:7: FutureWarning: The frame.append method is deprecated and will be removed from pandas in a future version. Use pandas.concat instead.\n",
      "  df = df.append(temp_df)\n",
      "/var/folders/td/4g0swlbs5yg351q8l_8q7zt59mjw37/T/ipykernel_11990/1601564059.py:7: FutureWarning: The frame.append method is deprecated and will be removed from pandas in a future version. Use pandas.concat instead.\n",
      "  df = df.append(temp_df)\n",
      "/var/folders/td/4g0swlbs5yg351q8l_8q7zt59mjw37/T/ipykernel_11990/1601564059.py:7: FutureWarning: The frame.append method is deprecated and will be removed from pandas in a future version. Use pandas.concat instead.\n",
      "  df = df.append(temp_df)\n",
      "/var/folders/td/4g0swlbs5yg351q8l_8q7zt59mjw37/T/ipykernel_11990/1601564059.py:7: FutureWarning: The frame.append method is deprecated and will be removed from pandas in a future version. Use pandas.concat instead.\n",
      "  df = df.append(temp_df)\n",
      "/var/folders/td/4g0swlbs5yg351q8l_8q7zt59mjw37/T/ipykernel_11990/1601564059.py:7: FutureWarning: The frame.append method is deprecated and will be removed from pandas in a future version. Use pandas.concat instead.\n",
      "  df = df.append(temp_df)\n",
      "/var/folders/td/4g0swlbs5yg351q8l_8q7zt59mjw37/T/ipykernel_11990/1601564059.py:7: FutureWarning: The frame.append method is deprecated and will be removed from pandas in a future version. Use pandas.concat instead.\n",
      "  df = df.append(temp_df)\n",
      "/var/folders/td/4g0swlbs5yg351q8l_8q7zt59mjw37/T/ipykernel_11990/1601564059.py:7: FutureWarning: The frame.append method is deprecated and will be removed from pandas in a future version. Use pandas.concat instead.\n",
      "  df = df.append(temp_df)\n",
      "/var/folders/td/4g0swlbs5yg351q8l_8q7zt59mjw37/T/ipykernel_11990/1601564059.py:7: FutureWarning: The frame.append method is deprecated and will be removed from pandas in a future version. Use pandas.concat instead.\n",
      "  df = df.append(temp_df)\n",
      "/var/folders/td/4g0swlbs5yg351q8l_8q7zt59mjw37/T/ipykernel_11990/1601564059.py:7: FutureWarning: The frame.append method is deprecated and will be removed from pandas in a future version. Use pandas.concat instead.\n",
      "  df = df.append(temp_df)\n",
      "/var/folders/td/4g0swlbs5yg351q8l_8q7zt59mjw37/T/ipykernel_11990/1601564059.py:7: FutureWarning: The frame.append method is deprecated and will be removed from pandas in a future version. Use pandas.concat instead.\n",
      "  df = df.append(temp_df)\n",
      "/var/folders/td/4g0swlbs5yg351q8l_8q7zt59mjw37/T/ipykernel_11990/1601564059.py:7: FutureWarning: The frame.append method is deprecated and will be removed from pandas in a future version. Use pandas.concat instead.\n",
      "  df = df.append(temp_df)\n",
      "/var/folders/td/4g0swlbs5yg351q8l_8q7zt59mjw37/T/ipykernel_11990/1601564059.py:7: FutureWarning: The frame.append method is deprecated and will be removed from pandas in a future version. Use pandas.concat instead.\n",
      "  df = df.append(temp_df)\n",
      "/var/folders/td/4g0swlbs5yg351q8l_8q7zt59mjw37/T/ipykernel_11990/1601564059.py:7: FutureWarning: The frame.append method is deprecated and will be removed from pandas in a future version. Use pandas.concat instead.\n",
      "  df = df.append(temp_df)\n",
      "/var/folders/td/4g0swlbs5yg351q8l_8q7zt59mjw37/T/ipykernel_11990/1601564059.py:7: FutureWarning: The frame.append method is deprecated and will be removed from pandas in a future version. Use pandas.concat instead.\n",
      "  df = df.append(temp_df)\n",
      "/var/folders/td/4g0swlbs5yg351q8l_8q7zt59mjw37/T/ipykernel_11990/1601564059.py:7: FutureWarning: The frame.append method is deprecated and will be removed from pandas in a future version. Use pandas.concat instead.\n",
      "  df = df.append(temp_df)\n",
      "/var/folders/td/4g0swlbs5yg351q8l_8q7zt59mjw37/T/ipykernel_11990/1601564059.py:7: FutureWarning: The frame.append method is deprecated and will be removed from pandas in a future version. Use pandas.concat instead.\n",
      "  df = df.append(temp_df)\n"
     ]
    },
    {
     "name": "stdout",
     "output_type": "stream",
     "text": [
      "Опрос: россияне в среднем хотят зарабатывать 166 тыс. рублей в месяц. 224\n",
      "Москва стала самым популярным городом для будущего переезда на пенсии 133\n",
      "Apple добавила в новый iOS возможность разблокировать iPhone в маске 114\n",
      "Мэр Красноярска своём Instagram объявил конкурс на лучшее название для уличного пылесоса 111\n",
      "УЕФА подал в суд на пиццерию из-за пиццы «Лига шампиньонов» 88\n",
      "Гвинет Пэлтроу выпустила новую ароматическую свечу Hands Off My Vagina 102\n",
      "Из фильма «Дом Gucci» вырезали постельную сцену с Леди Гагой и Сальмой Хайек 106\n",
      "На Netflix может появиться целая вселенная по «Игре в кальмара» 105\n",
      "В приложении «Яндекс Go» появился индекс спроса, который объясняет, что влияет на цену поездки прямо сейчас 93\n",
      "Марк Цукерберг выбыл из десятки богатейших людей мира 129\n",
      "Россияне стали реже называть высокую зарплату главным критерием идеального работодателя 98\n",
      "В Роттердаме частично разберут старинный мост, чтобы под ним смогла пройти новая яхта Джеффа Безоса 111\n",
      "TikTok тестирует функцию платных подписок 96\n",
      "Канье Уэсту не позволили отредактировать документальный фильм Netflix о нем самом 94\n",
      "Амиран Сардаров разводится с внучкой бывшего-президента Узбекистана 105\n",
      "Каждый третий россиянин считает себя трудоголиком 129\n",
      "Джеки Чан принял участие в эстафете олимпийского огня 146\n",
      "В Англии продажи книг Достоевского взлетели на 400% благодаря пандемии 119\n",
      "Пассажирам электрички в Краснодарском крае пришлось прыгать из вагона в сугроб, выходя на станции 106\n",
      "На юге Красноярского края среди вакцинированных разыграют машину дров 151\n",
      "В Узбекистане предложили полностью заблокировать TikTok 90\n",
      "Футбольный клуб «Челси» впервые испытает робота-рефери, который будет отслеживать движения футболистов с помощью специальных камер 118\n",
      "Глава Роспотребнадзора заявила о появившемся в стране более заразном подвиде омикрона BA. 87\n",
      "В Швеции ворон начали обучать собирать окурки и мелкий мусор с улиц 148\n",
      "Опрос: 78% россиян положительно относятся к четырехдневной рабочей недели 100\n",
      "Анадырь стал самым дорогим городом России для жизни. Москва не вошла и в топ-10 119\n",
      "В Нижнем Новгороде мужчина сбивал сосульки из пневматической винтовки с оптикой 123\n",
      "Опрос: 25% россиян могут прожить без интернета весь день и зайти в соцсети только вечером 117\n",
      "Apple открыла представительство в России 120\n",
      "В России предложили Youtube объяснять причины блокировки или удаления видео 96\n",
      "В Госдуме поддержали запрет на вождение машины после употребления корвалола 93\n",
      "Телезритель потребовал 24 млн рублей от «Муз-ТВ» за появление Киркорова и Давы в образе молодожёнов 176\n",
      "Самыми скачиваемыми приложениями в России в 2021 году стали TikTok, Telegram и «Госуслуги» 106\n",
      "Опрос: 40% работодателей требуют от сотрудников оперативных ответов в мессенджерах 89\n",
      "В Сочи Яндекс.Еда начнет доставлять еду для туристов на сноубордах 124\n",
      "Учёные выяснили, что жизнь без женщины смертельно опасна для мужчины 212\n",
      "Ксения Собчак назвала Домодедово отвратительной помойкой 175\n",
      "Спикер горсовета Новосибирска попросил своего заместителя не разговаривать матом с жителями 179\n",
      "В России решили выпустить ноутбуки с отечественными процессорами 218\n",
      "В России на 40% обрушились продажи презервативов 196\n",
      "Документальный фильм про Алексея Навального выйдет на CNN и HBO Max 217\n",
      "Билл Гейтс предупредил о пандемии страшнее коронавируса 85\n",
      "Мужчина заявил что из-за ковида у него уменьшился пенис 265\n",
      "Брюсу Уиллису выделили целую номинацию на премии «Золотая малина». Она называется «Худшая актёрская игра Брюса Уиллиса в 2021 году» 64\n",
      "В американском университете открылся курс по изучению творчества Тейлор Свифт 110\n",
      "В каннабисе обнаружили блокирующие коронавирус соединения 266\n",
      "Курский депутат рассказал, как прошел в красную зону бе 117\n",
      "Клип на «Baby Shark» стал первым роликом на ютьюбе, набравшим 10 млрд просмотров 172\n",
      "Маколей Калкин запустит документальный сериал о кризисе среднего возраста 111\n",
      "​​Twitter начал тестировать по всему миру функцию понижения рейтинга — аналог дизлайка 81\n",
      "Balenciaga выпустил кроссовки на каблуках почти за 100 тысяч рублей 176\n",
      "(15396, 6)\n"
     ]
    },
    {
     "name": "stderr",
     "output_type": "stream",
     "text": [
      "/var/folders/td/4g0swlbs5yg351q8l_8q7zt59mjw37/T/ipykernel_11990/1601564059.py:7: FutureWarning: The frame.append method is deprecated and will be removed from pandas in a future version. Use pandas.concat instead.\n",
      "  df = df.append(temp_df)\n",
      "/var/folders/td/4g0swlbs5yg351q8l_8q7zt59mjw37/T/ipykernel_11990/1601564059.py:7: FutureWarning: The frame.append method is deprecated and will be removed from pandas in a future version. Use pandas.concat instead.\n",
      "  df = df.append(temp_df)\n",
      "/var/folders/td/4g0swlbs5yg351q8l_8q7zt59mjw37/T/ipykernel_11990/1601564059.py:7: FutureWarning: The frame.append method is deprecated and will be removed from pandas in a future version. Use pandas.concat instead.\n",
      "  df = df.append(temp_df)\n",
      "/var/folders/td/4g0swlbs5yg351q8l_8q7zt59mjw37/T/ipykernel_11990/1601564059.py:7: FutureWarning: The frame.append method is deprecated and will be removed from pandas in a future version. Use pandas.concat instead.\n",
      "  df = df.append(temp_df)\n",
      "/var/folders/td/4g0swlbs5yg351q8l_8q7zt59mjw37/T/ipykernel_11990/1601564059.py:7: FutureWarning: The frame.append method is deprecated and will be removed from pandas in a future version. Use pandas.concat instead.\n",
      "  df = df.append(temp_df)\n",
      "/var/folders/td/4g0swlbs5yg351q8l_8q7zt59mjw37/T/ipykernel_11990/1601564059.py:7: FutureWarning: The frame.append method is deprecated and will be removed from pandas in a future version. Use pandas.concat instead.\n",
      "  df = df.append(temp_df)\n",
      "/var/folders/td/4g0swlbs5yg351q8l_8q7zt59mjw37/T/ipykernel_11990/1601564059.py:7: FutureWarning: The frame.append method is deprecated and will be removed from pandas in a future version. Use pandas.concat instead.\n",
      "  df = df.append(temp_df)\n",
      "/var/folders/td/4g0swlbs5yg351q8l_8q7zt59mjw37/T/ipykernel_11990/1601564059.py:7: FutureWarning: The frame.append method is deprecated and will be removed from pandas in a future version. Use pandas.concat instead.\n",
      "  df = df.append(temp_df)\n",
      "/var/folders/td/4g0swlbs5yg351q8l_8q7zt59mjw37/T/ipykernel_11990/1601564059.py:7: FutureWarning: The frame.append method is deprecated and will be removed from pandas in a future version. Use pandas.concat instead.\n",
      "  df = df.append(temp_df)\n",
      "/var/folders/td/4g0swlbs5yg351q8l_8q7zt59mjw37/T/ipykernel_11990/1601564059.py:7: FutureWarning: The frame.append method is deprecated and will be removed from pandas in a future version. Use pandas.concat instead.\n",
      "  df = df.append(temp_df)\n",
      "/var/folders/td/4g0swlbs5yg351q8l_8q7zt59mjw37/T/ipykernel_11990/1601564059.py:7: FutureWarning: The frame.append method is deprecated and will be removed from pandas in a future version. Use pandas.concat instead.\n",
      "  df = df.append(temp_df)\n",
      "/var/folders/td/4g0swlbs5yg351q8l_8q7zt59mjw37/T/ipykernel_11990/1601564059.py:7: FutureWarning: The frame.append method is deprecated and will be removed from pandas in a future version. Use pandas.concat instead.\n",
      "  df = df.append(temp_df)\n",
      "/var/folders/td/4g0swlbs5yg351q8l_8q7zt59mjw37/T/ipykernel_11990/1601564059.py:7: FutureWarning: The frame.append method is deprecated and will be removed from pandas in a future version. Use pandas.concat instead.\n",
      "  df = df.append(temp_df)\n",
      "/var/folders/td/4g0swlbs5yg351q8l_8q7zt59mjw37/T/ipykernel_11990/1601564059.py:7: FutureWarning: The frame.append method is deprecated and will be removed from pandas in a future version. Use pandas.concat instead.\n",
      "  df = df.append(temp_df)\n",
      "/var/folders/td/4g0swlbs5yg351q8l_8q7zt59mjw37/T/ipykernel_11990/1601564059.py:7: FutureWarning: The frame.append method is deprecated and will be removed from pandas in a future version. Use pandas.concat instead.\n",
      "  df = df.append(temp_df)\n",
      "/var/folders/td/4g0swlbs5yg351q8l_8q7zt59mjw37/T/ipykernel_11990/1601564059.py:7: FutureWarning: The frame.append method is deprecated and will be removed from pandas in a future version. Use pandas.concat instead.\n",
      "  df = df.append(temp_df)\n",
      "/var/folders/td/4g0swlbs5yg351q8l_8q7zt59mjw37/T/ipykernel_11990/1601564059.py:7: FutureWarning: The frame.append method is deprecated and will be removed from pandas in a future version. Use pandas.concat instead.\n",
      "  df = df.append(temp_df)\n",
      "/var/folders/td/4g0swlbs5yg351q8l_8q7zt59mjw37/T/ipykernel_11990/1601564059.py:7: FutureWarning: The frame.append method is deprecated and will be removed from pandas in a future version. Use pandas.concat instead.\n",
      "  df = df.append(temp_df)\n",
      "/var/folders/td/4g0swlbs5yg351q8l_8q7zt59mjw37/T/ipykernel_11990/1601564059.py:7: FutureWarning: The frame.append method is deprecated and will be removed from pandas in a future version. Use pandas.concat instead.\n",
      "  df = df.append(temp_df)\n",
      "/var/folders/td/4g0swlbs5yg351q8l_8q7zt59mjw37/T/ipykernel_11990/1601564059.py:7: FutureWarning: The frame.append method is deprecated and will be removed from pandas in a future version. Use pandas.concat instead.\n",
      "  df = df.append(temp_df)\n",
      "/var/folders/td/4g0swlbs5yg351q8l_8q7zt59mjw37/T/ipykernel_11990/1601564059.py:7: FutureWarning: The frame.append method is deprecated and will be removed from pandas in a future version. Use pandas.concat instead.\n",
      "  df = df.append(temp_df)\n",
      "/var/folders/td/4g0swlbs5yg351q8l_8q7zt59mjw37/T/ipykernel_11990/1601564059.py:7: FutureWarning: The frame.append method is deprecated and will be removed from pandas in a future version. Use pandas.concat instead.\n",
      "  df = df.append(temp_df)\n",
      "/var/folders/td/4g0swlbs5yg351q8l_8q7zt59mjw37/T/ipykernel_11990/1601564059.py:7: FutureWarning: The frame.append method is deprecated and will be removed from pandas in a future version. Use pandas.concat instead.\n",
      "  df = df.append(temp_df)\n",
      "/var/folders/td/4g0swlbs5yg351q8l_8q7zt59mjw37/T/ipykernel_11990/1601564059.py:7: FutureWarning: The frame.append method is deprecated and will be removed from pandas in a future version. Use pandas.concat instead.\n",
      "  df = df.append(temp_df)\n",
      "/var/folders/td/4g0swlbs5yg351q8l_8q7zt59mjw37/T/ipykernel_11990/1601564059.py:7: FutureWarning: The frame.append method is deprecated and will be removed from pandas in a future version. Use pandas.concat instead.\n",
      "  df = df.append(temp_df)\n",
      "/var/folders/td/4g0swlbs5yg351q8l_8q7zt59mjw37/T/ipykernel_11990/1601564059.py:7: FutureWarning: The frame.append method is deprecated and will be removed from pandas in a future version. Use pandas.concat instead.\n",
      "  df = df.append(temp_df)\n",
      "/var/folders/td/4g0swlbs5yg351q8l_8q7zt59mjw37/T/ipykernel_11990/1601564059.py:7: FutureWarning: The frame.append method is deprecated and will be removed from pandas in a future version. Use pandas.concat instead.\n",
      "  df = df.append(temp_df)\n",
      "/var/folders/td/4g0swlbs5yg351q8l_8q7zt59mjw37/T/ipykernel_11990/1601564059.py:7: FutureWarning: The frame.append method is deprecated and will be removed from pandas in a future version. Use pandas.concat instead.\n",
      "  df = df.append(temp_df)\n",
      "/var/folders/td/4g0swlbs5yg351q8l_8q7zt59mjw37/T/ipykernel_11990/1601564059.py:7: FutureWarning: The frame.append method is deprecated and will be removed from pandas in a future version. Use pandas.concat instead.\n",
      "  df = df.append(temp_df)\n",
      "/var/folders/td/4g0swlbs5yg351q8l_8q7zt59mjw37/T/ipykernel_11990/1601564059.py:7: FutureWarning: The frame.append method is deprecated and will be removed from pandas in a future version. Use pandas.concat instead.\n",
      "  df = df.append(temp_df)\n",
      "/var/folders/td/4g0swlbs5yg351q8l_8q7zt59mjw37/T/ipykernel_11990/1601564059.py:7: FutureWarning: The frame.append method is deprecated and will be removed from pandas in a future version. Use pandas.concat instead.\n",
      "  df = df.append(temp_df)\n",
      "/var/folders/td/4g0swlbs5yg351q8l_8q7zt59mjw37/T/ipykernel_11990/1601564059.py:7: FutureWarning: The frame.append method is deprecated and will be removed from pandas in a future version. Use pandas.concat instead.\n",
      "  df = df.append(temp_df)\n",
      "/var/folders/td/4g0swlbs5yg351q8l_8q7zt59mjw37/T/ipykernel_11990/1601564059.py:7: FutureWarning: The frame.append method is deprecated and will be removed from pandas in a future version. Use pandas.concat instead.\n",
      "  df = df.append(temp_df)\n",
      "/var/folders/td/4g0swlbs5yg351q8l_8q7zt59mjw37/T/ipykernel_11990/1601564059.py:7: FutureWarning: The frame.append method is deprecated and will be removed from pandas in a future version. Use pandas.concat instead.\n",
      "  df = df.append(temp_df)\n",
      "/var/folders/td/4g0swlbs5yg351q8l_8q7zt59mjw37/T/ipykernel_11990/1601564059.py:7: FutureWarning: The frame.append method is deprecated and will be removed from pandas in a future version. Use pandas.concat instead.\n",
      "  df = df.append(temp_df)\n",
      "/var/folders/td/4g0swlbs5yg351q8l_8q7zt59mjw37/T/ipykernel_11990/1601564059.py:7: FutureWarning: The frame.append method is deprecated and will be removed from pandas in a future version. Use pandas.concat instead.\n",
      "  df = df.append(temp_df)\n",
      "/var/folders/td/4g0swlbs5yg351q8l_8q7zt59mjw37/T/ipykernel_11990/1601564059.py:7: FutureWarning: The frame.append method is deprecated and will be removed from pandas in a future version. Use pandas.concat instead.\n",
      "  df = df.append(temp_df)\n",
      "/var/folders/td/4g0swlbs5yg351q8l_8q7zt59mjw37/T/ipykernel_11990/1601564059.py:7: FutureWarning: The frame.append method is deprecated and will be removed from pandas in a future version. Use pandas.concat instead.\n",
      "  df = df.append(temp_df)\n",
      "/var/folders/td/4g0swlbs5yg351q8l_8q7zt59mjw37/T/ipykernel_11990/1601564059.py:7: FutureWarning: The frame.append method is deprecated and will be removed from pandas in a future version. Use pandas.concat instead.\n",
      "  df = df.append(temp_df)\n",
      "/var/folders/td/4g0swlbs5yg351q8l_8q7zt59mjw37/T/ipykernel_11990/1601564059.py:7: FutureWarning: The frame.append method is deprecated and will be removed from pandas in a future version. Use pandas.concat instead.\n",
      "  df = df.append(temp_df)\n",
      "/var/folders/td/4g0swlbs5yg351q8l_8q7zt59mjw37/T/ipykernel_11990/1601564059.py:7: FutureWarning: The frame.append method is deprecated and will be removed from pandas in a future version. Use pandas.concat instead.\n",
      "  df = df.append(temp_df)\n",
      "/var/folders/td/4g0swlbs5yg351q8l_8q7zt59mjw37/T/ipykernel_11990/1601564059.py:7: FutureWarning: The frame.append method is deprecated and will be removed from pandas in a future version. Use pandas.concat instead.\n",
      "  df = df.append(temp_df)\n",
      "/var/folders/td/4g0swlbs5yg351q8l_8q7zt59mjw37/T/ipykernel_11990/1601564059.py:7: FutureWarning: The frame.append method is deprecated and will be removed from pandas in a future version. Use pandas.concat instead.\n",
      "  df = df.append(temp_df)\n",
      "/var/folders/td/4g0swlbs5yg351q8l_8q7zt59mjw37/T/ipykernel_11990/1601564059.py:7: FutureWarning: The frame.append method is deprecated and will be removed from pandas in a future version. Use pandas.concat instead.\n",
      "  df = df.append(temp_df)\n",
      "/var/folders/td/4g0swlbs5yg351q8l_8q7zt59mjw37/T/ipykernel_11990/1601564059.py:7: FutureWarning: The frame.append method is deprecated and will be removed from pandas in a future version. Use pandas.concat instead.\n",
      "  df = df.append(temp_df)\n",
      "/var/folders/td/4g0swlbs5yg351q8l_8q7zt59mjw37/T/ipykernel_11990/1601564059.py:7: FutureWarning: The frame.append method is deprecated and will be removed from pandas in a future version. Use pandas.concat instead.\n",
      "  df = df.append(temp_df)\n",
      "/var/folders/td/4g0swlbs5yg351q8l_8q7zt59mjw37/T/ipykernel_11990/1601564059.py:7: FutureWarning: The frame.append method is deprecated and will be removed from pandas in a future version. Use pandas.concat instead.\n",
      "  df = df.append(temp_df)\n",
      "/var/folders/td/4g0swlbs5yg351q8l_8q7zt59mjw37/T/ipykernel_11990/1601564059.py:7: FutureWarning: The frame.append method is deprecated and will be removed from pandas in a future version. Use pandas.concat instead.\n",
      "  df = df.append(temp_df)\n",
      "/var/folders/td/4g0swlbs5yg351q8l_8q7zt59mjw37/T/ipykernel_11990/1601564059.py:7: FutureWarning: The frame.append method is deprecated and will be removed from pandas in a future version. Use pandas.concat instead.\n",
      "  df = df.append(temp_df)\n",
      "/var/folders/td/4g0swlbs5yg351q8l_8q7zt59mjw37/T/ipykernel_11990/1601564059.py:7: FutureWarning: The frame.append method is deprecated and will be removed from pandas in a future version. Use pandas.concat instead.\n",
      "  df = df.append(temp_df)\n",
      "/var/folders/td/4g0swlbs5yg351q8l_8q7zt59mjw37/T/ipykernel_11990/1601564059.py:7: FutureWarning: The frame.append method is deprecated and will be removed from pandas in a future version. Use pandas.concat instead.\n",
      "  df = df.append(temp_df)\n"
     ]
    }
   ],
   "source": [
    "df = pd.DataFrame()\n",
    "for filepath in glob('data/comedy-news-tg-dataset/marked/tg_*.tsv'):\n",
    "    temp_df = pd.read_csv(filepath, sep='\\t')\n",
    "    temp_df['setup_num'] = get_filenum(filepath)\n",
    "    temp_df['punch_num'] = temp_df.index + 1\n",
    "    print(temp_df.setup.values[0], len(temp_df))\n",
    "    df = df.append(temp_df)\n",
    "    \n",
    "df['mark'] = df['mark'].fillna(0).astype(int)\n",
    "print(df.shape)"
   ]
  },
  {
   "cell_type": "code",
   "execution_count": 8,
   "id": "5774d660",
   "metadata": {
    "pycharm": {
     "name": "#%%\n"
    }
   },
   "outputs": [],
   "source": [
    "df.to_csv('data/comedy-news-tg-dataset/marked/complete_dataset.tsv', sep='\\t', index=False)"
   ]
  },
  {
   "cell_type": "code",
   "execution_count": 9,
   "id": "ab5efd99",
   "metadata": {
    "scrolled": false,
    "pycharm": {
     "name": "#%%\n"
    }
   },
   "outputs": [
    {
     "data": {
      "text/html": [
       "<div>\n",
       "<style scoped>\n",
       "    .dataframe tbody tr th:only-of-type {\n",
       "        vertical-align: middle;\n",
       "    }\n",
       "\n",
       "    .dataframe tbody tr th {\n",
       "        vertical-align: top;\n",
       "    }\n",
       "\n",
       "    .dataframe thead th {\n",
       "        text-align: right;\n",
       "    }\n",
       "</style>\n",
       "<table border=\"1\" class=\"dataframe\">\n",
       "  <thead>\n",
       "    <tr style=\"text-align: right;\">\n",
       "      <th></th>\n",
       "      <th>setup</th>\n",
       "      <th>author</th>\n",
       "      <th>punch</th>\n",
       "      <th>mark</th>\n",
       "      <th>setup_num</th>\n",
       "      <th>punch_num</th>\n",
       "    </tr>\n",
       "  </thead>\n",
       "  <tbody>\n",
       "    <tr>\n",
       "      <th>0</th>\n",
       "      <td>Семилетняя россиянка Анастасия Радзинская вошл...</td>\n",
       "      <td>Александр Головко</td>\n",
       "      <td>Ее полное имя Анастасия 1Хbet Радзинская</td>\n",
       "      <td>13</td>\n",
       "      <td>22</td>\n",
       "      <td>1</td>\n",
       "    </tr>\n",
       "    <tr>\n",
       "      <th>1</th>\n",
       "      <td>Семилетняя россиянка Анастасия Радзинская вошл...</td>\n",
       "      <td>Хабиб</td>\n",
       "      <td>Лучший родительский стартап</td>\n",
       "      <td>1</td>\n",
       "      <td>22</td>\n",
       "      <td>2</td>\n",
       "    </tr>\n",
       "    <tr>\n",
       "      <th>2</th>\n",
       "      <td>Семилетняя россиянка Анастасия Радзинская вошл...</td>\n",
       "      <td>Ксения Журавлева</td>\n",
       "      <td>И получила по жопе</td>\n",
       "      <td>2</td>\n",
       "      <td>22</td>\n",
       "      <td>3</td>\n",
       "    </tr>\n",
       "    <tr>\n",
       "      <th>3</th>\n",
       "      <td>Семилетняя россиянка Анастасия Радзинская вошл...</td>\n",
       "      <td>Albert</td>\n",
       "      <td>В десятку за семилетку - такой программе даже ...</td>\n",
       "      <td>5</td>\n",
       "      <td>22</td>\n",
       "      <td>4</td>\n",
       "    </tr>\n",
       "    <tr>\n",
       "      <th>4</th>\n",
       "      <td>Семилетняя россиянка Анастасия Радзинская вошл...</td>\n",
       "      <td>Комар</td>\n",
       "      <td>Ее продюсеру за такое продвижение тоже светит ...</td>\n",
       "      <td>2</td>\n",
       "      <td>22</td>\n",
       "      <td>5</td>\n",
       "    </tr>\n",
       "    <tr>\n",
       "      <th>...</th>\n",
       "      <td>...</td>\n",
       "      <td>...</td>\n",
       "      <td>...</td>\n",
       "      <td>...</td>\n",
       "      <td>...</td>\n",
       "      <td>...</td>\n",
       "    </tr>\n",
       "    <tr>\n",
       "      <th>171</th>\n",
       "      <td>Balenciaga выпустил кроссовки на каблуках почт...</td>\n",
       "      <td>Никита Ватолин</td>\n",
       "      <td>Фабрика \"Сударь\" в ответ традиционно ничего не...</td>\n",
       "      <td>1</td>\n",
       "      <td>13</td>\n",
       "      <td>172</td>\n",
       "    </tr>\n",
       "    <tr>\n",
       "      <th>172</th>\n",
       "      <td>Balenciaga выпустил кроссовки на каблуках почт...</td>\n",
       "      <td>Elizabeth 🦦</td>\n",
       "      <td>Миллениалы изобрели сапоги</td>\n",
       "      <td>0</td>\n",
       "      <td>13</td>\n",
       "      <td>173</td>\n",
       "    </tr>\n",
       "    <tr>\n",
       "      <th>173</th>\n",
       "      <td>Balenciaga выпустил кроссовки на каблуках почт...</td>\n",
       "      <td>Комар</td>\n",
       "      <td>За эти шпили у Лили будут шпилли-вилли</td>\n",
       "      <td>1</td>\n",
       "      <td>13</td>\n",
       "      <td>174</td>\n",
       "    </tr>\n",
       "    <tr>\n",
       "      <th>174</th>\n",
       "      <td>Balenciaga выпустил кроссовки на каблуках почт...</td>\n",
       "      <td>Aleksandr Scheglov</td>\n",
       "      <td>Сразу видно, создатели Balenciaga досмотрели м...</td>\n",
       "      <td>0</td>\n",
       "      <td>13</td>\n",
       "      <td>175</td>\n",
       "    </tr>\n",
       "    <tr>\n",
       "      <th>175</th>\n",
       "      <td>Balenciaga выпустил кроссовки на каблуках почт...</td>\n",
       "      <td>Рома Шляк</td>\n",
       "      <td>Единственные кроссовки, в которых пускают в клуб</td>\n",
       "      <td>4</td>\n",
       "      <td>13</td>\n",
       "      <td>176</td>\n",
       "    </tr>\n",
       "  </tbody>\n",
       "</table>\n",
       "<p>15396 rows × 6 columns</p>\n",
       "</div>"
      ],
      "text/plain": [
       "                                                 setup              author  \\\n",
       "0    Семилетняя россиянка Анастасия Радзинская вошл...   Александр Головко   \n",
       "1    Семилетняя россиянка Анастасия Радзинская вошл...               Хабиб   \n",
       "2    Семилетняя россиянка Анастасия Радзинская вошл...    Ксения Журавлева   \n",
       "3    Семилетняя россиянка Анастасия Радзинская вошл...              Albert   \n",
       "4    Семилетняя россиянка Анастасия Радзинская вошл...               Комар   \n",
       "..                                                 ...                 ...   \n",
       "171  Balenciaga выпустил кроссовки на каблуках почт...      Никита Ватолин   \n",
       "172  Balenciaga выпустил кроссовки на каблуках почт...         Elizabeth 🦦   \n",
       "173  Balenciaga выпустил кроссовки на каблуках почт...               Комар   \n",
       "174  Balenciaga выпустил кроссовки на каблуках почт...  Aleksandr Scheglov   \n",
       "175  Balenciaga выпустил кроссовки на каблуках почт...           Рома Шляк   \n",
       "\n",
       "                                                 punch  mark  setup_num  \\\n",
       "0             Ее полное имя Анастасия 1Хbet Радзинская    13         22   \n",
       "1                          Лучший родительский стартап     1         22   \n",
       "2                                   И получила по жопе     2         22   \n",
       "3    В десятку за семилетку - такой программе даже ...     5         22   \n",
       "4    Ее продюсеру за такое продвижение тоже светит ...     2         22   \n",
       "..                                                 ...   ...        ...   \n",
       "171  Фабрика \"Сударь\" в ответ традиционно ничего не...     1         13   \n",
       "172                         Миллениалы изобрели сапоги     0         13   \n",
       "173             За эти шпили у Лили будут шпилли-вилли     1         13   \n",
       "174  Сразу видно, создатели Balenciaga досмотрели м...     0         13   \n",
       "175   Единственные кроссовки, в которых пускают в клуб     4         13   \n",
       "\n",
       "     punch_num  \n",
       "0            1  \n",
       "1            2  \n",
       "2            3  \n",
       "3            4  \n",
       "4            5  \n",
       "..         ...  \n",
       "171        172  \n",
       "172        173  \n",
       "173        174  \n",
       "174        175  \n",
       "175        176  \n",
       "\n",
       "[15396 rows x 6 columns]"
      ]
     },
     "execution_count": 9,
     "metadata": {},
     "output_type": "execute_result"
    }
   ],
   "source": [
    "df"
   ]
  },
  {
   "cell_type": "markdown",
   "id": "f82345e7",
   "metadata": {
    "heading_collapsed": true,
    "pycharm": {
     "name": "#%% md\n"
    }
   },
   "source": [
    "## English datasets"
   ]
  },
  {
   "cell_type": "markdown",
   "source": [
    "Raw dataset with jokes on English language was found in internet, they are open-source.\n",
    "We want to translate jokes on Russian with google translator."
   ],
   "metadata": {
    "collapsed": false,
    "pycharm": {
     "name": "#%% md\n"
    }
   }
  },
  {
   "cell_type": "code",
   "execution_count": 123,
   "id": "49ce5e4e",
   "metadata": {
    "hidden": true,
    "pycharm": {
     "name": "#%%\n"
    }
   },
   "outputs": [],
   "source": [
    "import json\n",
    "import pandas as pd\n",
    "import re\n",
    "from tqdm import tqdm\n",
    "from tqdm.contrib.concurrent import process_map\n",
    "tqdm.pandas()\n",
    "\n",
    "from deep_translator import GoogleTranslator\n",
    "from deep_translator.exceptions import NotValidPayload"
   ]
  },
  {
   "cell_type": "code",
   "execution_count": 114,
   "id": "371945de",
   "metadata": {
    "hidden": true,
    "pycharm": {
     "name": "#%%\n"
    }
   },
   "outputs": [],
   "source": [
    "translator = GoogleTranslator(source='en', target='ru')\n",
    "def translate_eng2rus(text):\n",
    "    translated = ''\n",
    "    try:\n",
    "        translated =  translator.translate(text)\n",
    "    except NotValidPayload:\n",
    "        print(f'Broken text: {text}')\n",
    "    \n",
    "    return translated"
   ]
  },
  {
   "cell_type": "code",
   "execution_count": 132,
   "id": "edf141f0",
   "metadata": {
    "hidden": true,
    "pycharm": {
     "name": "#%%\n"
    }
   },
   "outputs": [],
   "source": [
    "def remove_special_tokens(text):\n",
    "    result = ''\n",
    "    try:\n",
    "        result = re.sub(r'\\r|\\n|\\t', '', text)\n",
    "    except:\n",
    "        pass\n",
    "    return result"
   ]
  },
  {
   "cell_type": "markdown",
   "id": "7766f730",
   "metadata": {
    "heading_collapsed": true,
    "hidden": true,
    "pycharm": {
     "name": "#%% md\n"
    }
   },
   "source": [
    "### Reddit"
   ]
  },
  {
   "cell_type": "code",
   "execution_count": 105,
   "id": "005d7d33",
   "metadata": {
    "hidden": true,
    "pycharm": {
     "name": "#%%\n"
    }
   },
   "outputs": [],
   "source": [
    "with open('reddit_jokes.json') as f:\n",
    "    reddit_dict = json.load(f)"
   ]
  },
  {
   "cell_type": "code",
   "execution_count": null,
   "outputs": [],
   "source": [
    "reddit_df = pd.DataFrame(reddit_dict) \\\n",
    "    .drop('id', axis=1) \\\n",
    "    .rename(columns={'body': 'punch', \n",
    "                     'title': 'setup', \n",
    "                     'score': 'mark'}) \n",
    "\n",
    "reddit_df.punch = reddit_df.punch.str.replace('\\n', '').replace('\\t', '')\n",
    "reddit_df.setup = reddit_df.setup.str.replace('\\n', '').replace('\\t', '')\n",
    "\n",
    "# Specify len < 500\n",
    "reddit_df = reddit_df.loc[reddit_df.punch.apply(len) <= 500]\n",
    "reddit_df = reddit_df.loc[reddit_df.punch.apply(len) > 5]\n",
    "\n",
    "reddit_df['rus_punch'] = None\n",
    "reddit_df['rus_setup'] = None\n",
    "\n",
    "reddit_df = reddit_df.sort_values('mark', ascending=False) \\\n",
    "    .reset_index(drop=True)"
   ],
   "metadata": {
    "collapsed": false,
    "pycharm": {
     "name": "#%%\n"
    }
   }
  },
  {
   "cell_type": "code",
   "execution_count": 111,
   "id": "5ec90c0c",
   "metadata": {
    "hidden": true,
    "pycharm": {
     "name": "#%%\n"
    }
   },
   "outputs": [
    {
     "name": "stderr",
     "output_type": "stream",
     "text": [
      "/Users/naltukhov/Documents/programs/venv/lib/python3.9/site-packages/IPython/core/interactiveshell.py:3169: DtypeWarning: Columns (1,2,3,4) have mixed types.Specify dtype option on import or set low_memory=False.\n",
      "  has_raised = await self.run_ast_nodes(code_ast.body, cell_name,\n"
     ]
    }
   ],
   "source": [
    "reddit_df = pd.read_csv('data/eng-joke-dataset/reddit-dataset.tsv',\n",
    "                        sep='\\t')"
   ]
  },
  {
   "cell_type": "code",
   "execution_count": 117,
   "id": "0d5f5ba0",
   "metadata": {
    "hidden": true,
    "scrolled": true,
    "pycharm": {
     "name": "#%%\n"
    }
   },
   "outputs": [
    {
     "name": "stderr",
     "output_type": "stream",
     "text": [
      "\r",
      "  0%|          | 0/1000 [00:00<?, ?it/s]"
     ]
    },
    {
     "name": "stdout",
     "output_type": "stream",
     "text": [
      "1185056\n"
     ]
    },
    {
     "name": "stderr",
     "output_type": "stream",
     "text": [
      "100%|██████████| 1000/1000 [14:44<00:00,  1.13it/s]\n",
      "  0%|          | 0/1000 [00:00<?, ?it/s]"
     ]
    },
    {
     "name": "stdout",
     "output_type": "stream",
     "text": [
      "Broken text: nan\n",
      "Broken text: nan\n",
      "Broken text: nan\n",
      "Broken text: nan\n"
     ]
    },
    {
     "name": "stderr",
     "output_type": "stream",
     "text": [
      "100%|██████████| 1000/1000 [14:32<00:00,  1.15it/s]\n",
      "  0%|          | 0/1000 [00:00<?, ?it/s]"
     ]
    },
    {
     "name": "stdout",
     "output_type": "stream",
     "text": [
      "1184056\n"
     ]
    },
    {
     "name": "stderr",
     "output_type": "stream",
     "text": [
      "100%|██████████| 1000/1000 [14:42<00:00,  1.13it/s]\n",
      "100%|██████████| 1000/1000 [13:40<00:00,  1.22it/s]\n",
      "  0%|          | 0/1000 [00:00<?, ?it/s]"
     ]
    },
    {
     "name": "stdout",
     "output_type": "stream",
     "text": [
      "1183056\n"
     ]
    },
    {
     "name": "stderr",
     "output_type": "stream",
     "text": [
      "100%|██████████| 1000/1000 [13:01<00:00,  1.28it/s]\n",
      "  2%|▏         | 17/1000 [00:11<07:03,  2.32it/s]"
     ]
    },
    {
     "name": "stdout",
     "output_type": "stream",
     "text": [
      "Broken text: nan\n"
     ]
    },
    {
     "name": "stderr",
     "output_type": "stream",
     "text": [
      " 86%|████████▌ | 858/1000 [11:59<02:04,  1.14it/s] "
     ]
    },
    {
     "name": "stdout",
     "output_type": "stream",
     "text": [
      "Broken text: 69\n"
     ]
    },
    {
     "name": "stderr",
     "output_type": "stream",
     "text": [
      "100%|██████████| 1000/1000 [13:57<00:00,  1.19it/s]\n",
      "  0%|          | 0/1000 [00:00<?, ?it/s]"
     ]
    },
    {
     "name": "stdout",
     "output_type": "stream",
     "text": [
      "1182056\n"
     ]
    },
    {
     "name": "stderr",
     "output_type": "stream",
     "text": [
      "100%|██████████| 1000/1000 [13:34<00:00,  1.23it/s]\n",
      "  8%|▊         | 76/1000 [01:04<12:32,  1.23it/s]"
     ]
    },
    {
     "name": "stdout",
     "output_type": "stream",
     "text": [
      "Broken text: nan\n",
      "Broken text: nan\n"
     ]
    },
    {
     "name": "stderr",
     "output_type": "stream",
     "text": [
      "100%|██████████| 1000/1000 [14:20<00:00,  1.16it/s]\n",
      "  0%|          | 0/1000 [00:00<?, ?it/s]"
     ]
    },
    {
     "name": "stdout",
     "output_type": "stream",
     "text": [
      "1181056\n"
     ]
    },
    {
     "name": "stderr",
     "output_type": "stream",
     "text": [
      "100%|██████████| 1000/1000 [14:20<00:00,  1.16it/s]\n",
      "100%|██████████| 1000/1000 [13:42<00:00,  1.22it/s]\n",
      "  0%|          | 2/1000 [00:00<00:57, 17.33it/s]"
     ]
    },
    {
     "name": "stdout",
     "output_type": "stream",
     "text": [
      "1180056\n"
     ]
    },
    {
     "name": "stderr",
     "output_type": "stream",
     "text": [
      "100%|██████████| 1000/1000 [14:10<00:00,  1.18it/s] \n",
      "100%|██████████| 1000/1000 [15:06<00:00,  1.10it/s]\n",
      "  0%|          | 0/1000 [00:00<?, ?it/s]"
     ]
    },
    {
     "name": "stdout",
     "output_type": "stream",
     "text": [
      "1179056\n"
     ]
    },
    {
     "name": "stderr",
     "output_type": "stream",
     "text": [
      "100%|██████████| 1000/1000 [13:58<00:00,  1.19it/s] \n",
      "100%|██████████| 1000/1000 [14:36<00:00,  1.14it/s] \n",
      "  0%|          | 0/1000 [00:00<?, ?it/s]"
     ]
    },
    {
     "name": "stdout",
     "output_type": "stream",
     "text": [
      "1178056\n"
     ]
    },
    {
     "name": "stderr",
     "output_type": "stream",
     "text": [
      "100%|██████████| 1000/1000 [13:37<00:00,  1.22it/s]\n",
      "100%|██████████| 1000/1000 [14:44<00:00,  1.13it/s] \n",
      "  0%|          | 0/1000 [00:00<?, ?it/s]"
     ]
    },
    {
     "name": "stdout",
     "output_type": "stream",
     "text": [
      "1177056\n"
     ]
    },
    {
     "name": "stderr",
     "output_type": "stream",
     "text": [
      "100%|██████████| 1000/1000 [13:35<00:00,  1.23it/s]\n",
      "100%|██████████| 1000/1000 [13:57<00:00,  1.19it/s]\n",
      "  0%|          | 0/1000 [00:00<?, ?it/s]"
     ]
    },
    {
     "name": "stdout",
     "output_type": "stream",
     "text": [
      "1176056\n"
     ]
    },
    {
     "name": "stderr",
     "output_type": "stream",
     "text": [
      "100%|██████████| 1000/1000 [13:57<00:00,  1.19it/s]\n",
      "100%|██████████| 1000/1000 [13:32<00:00,  1.23it/s] \n",
      "  0%|          | 0/1000 [00:00<?, ?it/s]"
     ]
    },
    {
     "name": "stdout",
     "output_type": "stream",
     "text": [
      "1175056\n"
     ]
    },
    {
     "name": "stderr",
     "output_type": "stream",
     "text": [
      "100%|██████████| 1000/1000 [13:38<00:00,  1.22it/s]\n",
      " 85%|████████▌ | 850/1000 [11:06<02:13,  1.13it/s]"
     ]
    },
    {
     "name": "stdout",
     "output_type": "stream",
     "text": [
      "Broken text: nan\n",
      "Broken text: nan\n",
      "Broken text: nan\n",
      "Broken text: nan\n"
     ]
    },
    {
     "name": "stderr",
     "output_type": "stream",
     "text": [
      "100%|██████████| 1000/1000 [13:01<00:00,  1.28it/s]\n",
      "  0%|          | 0/1000 [00:00<?, ?it/s]"
     ]
    },
    {
     "name": "stdout",
     "output_type": "stream",
     "text": [
      "1174056\n"
     ]
    },
    {
     "name": "stderr",
     "output_type": "stream",
     "text": [
      "100%|██████████| 1000/1000 [13:08<00:00,  1.27it/s]\n",
      "100%|██████████| 1000/1000 [13:46<00:00,  1.21it/s]\n",
      "  0%|          | 0/1000 [00:00<?, ?it/s]"
     ]
    },
    {
     "name": "stdout",
     "output_type": "stream",
     "text": [
      "1173056\n"
     ]
    },
    {
     "name": "stderr",
     "output_type": "stream",
     "text": [
      "100%|██████████| 1000/1000 [13:30<00:00,  1.23it/s] \n",
      "100%|██████████| 1000/1000 [13:19<00:00,  1.25it/s]\n",
      "  0%|          | 2/1000 [00:00<00:56, 17.55it/s]"
     ]
    },
    {
     "name": "stdout",
     "output_type": "stream",
     "text": [
      "1172056\n"
     ]
    },
    {
     "name": "stderr",
     "output_type": "stream",
     "text": [
      "100%|██████████| 1000/1000 [13:16<00:00,  1.26it/s]\n",
      "100%|██████████| 1000/1000 [14:01<00:00,  1.19it/s] \n",
      "  0%|          | 0/1000 [00:00<?, ?it/s]"
     ]
    },
    {
     "name": "stdout",
     "output_type": "stream",
     "text": [
      "1171056\n"
     ]
    },
    {
     "name": "stderr",
     "output_type": "stream",
     "text": [
      "100%|██████████| 1000/1000 [13:45<00:00,  1.21it/s] \n",
      " 80%|████████  | 803/1000 [10:17<02:28,  1.33it/s]"
     ]
    },
    {
     "name": "stdout",
     "output_type": "stream",
     "text": [
      "Broken text: nan\n",
      "Broken text: nan\n",
      "Broken text: nan\n",
      "Broken text: nan\n",
      "Broken text: nan\n"
     ]
    },
    {
     "name": "stderr",
     "output_type": "stream",
     "text": [
      "100%|██████████| 1000/1000 [12:50<00:00,  1.30it/s]\n",
      "  0%|          | 0/1000 [00:00<?, ?it/s]"
     ]
    },
    {
     "name": "stdout",
     "output_type": "stream",
     "text": [
      "1170056\n"
     ]
    },
    {
     "name": "stderr",
     "output_type": "stream",
     "text": [
      "100%|██████████| 1000/1000 [13:01<00:00,  1.28it/s]\n",
      "100%|██████████| 1000/1000 [13:09<00:00,  1.27it/s] \n",
      "  0%|          | 0/1000 [00:00<?, ?it/s]"
     ]
    },
    {
     "name": "stdout",
     "output_type": "stream",
     "text": [
      "1169056\n"
     ]
    },
    {
     "name": "stderr",
     "output_type": "stream",
     "text": [
      "100%|██████████| 1000/1000 [12:56<00:00,  1.29it/s] \n",
      " 21%|██        | 206/1000 [02:52<09:20,  1.42it/s]"
     ]
    },
    {
     "name": "stdout",
     "output_type": "stream",
     "text": [
      "Broken text: nan\n",
      "Broken text: nan\n",
      "Broken text: nan\n"
     ]
    },
    {
     "name": "stderr",
     "output_type": "stream",
     "text": [
      " 38%|███▊      | 384/1000 [05:06<05:55,  1.73it/s]"
     ]
    },
    {
     "name": "stdout",
     "output_type": "stream",
     "text": [
      "Broken text: nan\n"
     ]
    },
    {
     "name": "stderr",
     "output_type": "stream",
     "text": [
      "100%|██████████| 1000/1000 [13:43<00:00,  1.21it/s]\n",
      "  0%|          | 0/1000 [00:00<?, ?it/s]"
     ]
    },
    {
     "name": "stdout",
     "output_type": "stream",
     "text": [
      "1168056\n"
     ]
    },
    {
     "name": "stderr",
     "output_type": "stream",
     "text": [
      "100%|██████████| 1000/1000 [12:46<00:00,  1.31it/s]\n",
      " 57%|█████▋    | 573/1000 [07:36<03:52,  1.84it/s]"
     ]
    },
    {
     "name": "stdout",
     "output_type": "stream",
     "text": [
      "Broken text: nan\n"
     ]
    },
    {
     "name": "stderr",
     "output_type": "stream",
     "text": [
      "100%|██████████| 1000/1000 [13:39<00:00,  1.22it/s]\n",
      "  0%|          | 0/1000 [00:00<?, ?it/s]"
     ]
    },
    {
     "name": "stdout",
     "output_type": "stream",
     "text": [
      "1167056\n"
     ]
    },
    {
     "name": "stderr",
     "output_type": "stream",
     "text": [
      "100%|██████████| 1000/1000 [12:53<00:00,  1.29it/s] \n",
      "100%|██████████| 1000/1000 [13:51<00:00,  1.20it/s]\n",
      "  0%|          | 0/1000 [00:00<?, ?it/s]"
     ]
    },
    {
     "name": "stdout",
     "output_type": "stream",
     "text": [
      "1166056\n"
     ]
    },
    {
     "name": "stderr",
     "output_type": "stream",
     "text": [
      "100%|██████████| 1000/1000 [13:40<00:00,  1.22it/s]\n",
      "100%|██████████| 1000/1000 [13:44<00:00,  1.21it/s]\n",
      "  0%|          | 0/1000 [00:00<?, ?it/s]"
     ]
    },
    {
     "name": "stdout",
     "output_type": "stream",
     "text": [
      "1165056\n"
     ]
    },
    {
     "name": "stderr",
     "output_type": "stream",
     "text": [
      "100%|██████████| 1000/1000 [13:09<00:00,  1.27it/s] \n",
      " 38%|███▊      | 376/1000 [05:20<08:45,  1.19it/s]  "
     ]
    },
    {
     "name": "stdout",
     "output_type": "stream",
     "text": [
      "Broken text: nan\n"
     ]
    },
    {
     "name": "stderr",
     "output_type": "stream",
     "text": [
      "100%|██████████| 1000/1000 [13:41<00:00,  1.22it/s]\n",
      "  0%|          | 0/1000 [00:00<?, ?it/s]"
     ]
    },
    {
     "name": "stdout",
     "output_type": "stream",
     "text": [
      "1164056\n"
     ]
    },
    {
     "name": "stderr",
     "output_type": "stream",
     "text": [
      " 15%|█▌        | 150/1000 [01:58<10:42,  1.32it/s]"
     ]
    },
    {
     "name": "stdout",
     "output_type": "stream",
     "text": [
      "Broken text:               \n"
     ]
    },
    {
     "name": "stderr",
     "output_type": "stream",
     "text": [
      "100%|██████████| 1000/1000 [13:26<00:00,  1.24it/s]\n",
      "100%|██████████| 1000/1000 [13:31<00:00,  1.23it/s]\n",
      "  0%|          | 0/1000 [00:00<?, ?it/s]"
     ]
    },
    {
     "name": "stdout",
     "output_type": "stream",
     "text": [
      "1163056\n"
     ]
    },
    {
     "name": "stderr",
     "output_type": "stream",
     "text": [
      "100%|██████████| 1000/1000 [13:00<00:00,  1.28it/s] \n",
      " 23%|██▎       | 227/1000 [03:07<06:52,  1.87it/s]"
     ]
    },
    {
     "name": "stdout",
     "output_type": "stream",
     "text": [
      "Broken text: ______________________\n"
     ]
    },
    {
     "name": "stderr",
     "output_type": "stream",
     "text": [
      "100%|██████████| 1000/1000 [13:40<00:00,  1.22it/s]\n",
      "  0%|          | 0/1000 [00:00<?, ?it/s]"
     ]
    },
    {
     "name": "stdout",
     "output_type": "stream",
     "text": [
      "1162056\n"
     ]
    },
    {
     "name": "stderr",
     "output_type": "stream",
     "text": [
      "100%|██████████| 1000/1000 [13:51<00:00,  1.20it/s]\n",
      " 27%|██▋       | 271/1000 [03:35<03:04,  3.95it/s]"
     ]
    },
    {
     "name": "stdout",
     "output_type": "stream",
     "text": [
      "Broken text: nan\n",
      "Broken text: nan\n",
      "Broken text: nan\n",
      "Broken text: nan\n"
     ]
    },
    {
     "name": "stderr",
     "output_type": "stream",
     "text": [
      "100%|██████████| 1000/1000 [13:31<00:00,  1.23it/s]\n",
      "  0%|          | 0/1000 [00:00<?, ?it/s]"
     ]
    },
    {
     "name": "stdout",
     "output_type": "stream",
     "text": [
      "1161056\n"
     ]
    },
    {
     "name": "stderr",
     "output_type": "stream",
     "text": [
      " 52%|█████▏    | 518/1000 [06:57<06:57,  1.15it/s]  "
     ]
    },
    {
     "name": "stdout",
     "output_type": "stream",
     "text": [
      "Broken text:              \n"
     ]
    },
    {
     "name": "stderr",
     "output_type": "stream",
     "text": [
      "100%|██████████| 1000/1000 [13:04<00:00,  1.27it/s]\n",
      "100%|██████████| 1000/1000 [13:16<00:00,  1.26it/s] \n",
      "  0%|          | 0/1000 [00:00<?, ?it/s]"
     ]
    },
    {
     "name": "stdout",
     "output_type": "stream",
     "text": [
      "1160056\n"
     ]
    },
    {
     "name": "stderr",
     "output_type": "stream",
     "text": [
      "100%|██████████| 1000/1000 [13:23<00:00,  1.24it/s]\n",
      "100%|██████████| 1000/1000 [13:20<00:00,  1.25it/s]\n",
      "  0%|          | 0/1000 [00:00<?, ?it/s]"
     ]
    },
    {
     "name": "stdout",
     "output_type": "stream",
     "text": [
      "1159056\n"
     ]
    },
    {
     "name": "stderr",
     "output_type": "stream",
     "text": [
      "100%|██████████| 1000/1000 [12:45<00:00,  1.31it/s]\n",
      "100%|██████████| 1000/1000 [12:54<00:00,  1.29it/s] \n",
      "  0%|          | 0/1000 [00:00<?, ?it/s]"
     ]
    },
    {
     "name": "stdout",
     "output_type": "stream",
     "text": [
      "1158056\n"
     ]
    },
    {
     "name": "stderr",
     "output_type": "stream",
     "text": [
      "100%|██████████| 1000/1000 [13:37<00:00,  1.22it/s] \n",
      " 76%|███████▌  | 758/1000 [10:15<03:02,  1.32it/s]"
     ]
    },
    {
     "name": "stdout",
     "output_type": "stream",
     "text": [
      "Broken text: nan\n"
     ]
    },
    {
     "name": "stderr",
     "output_type": "stream",
     "text": [
      "100%|██████████| 1000/1000 [13:37<00:00,  1.22it/s]\n",
      "  0%|          | 0/1000 [00:00<?, ?it/s]"
     ]
    },
    {
     "name": "stdout",
     "output_type": "stream",
     "text": [
      "1157056\n"
     ]
    },
    {
     "name": "stderr",
     "output_type": "stream",
     "text": [
      " 15%|█▌        | 153/1000 [02:04<09:18,  1.52it/s]"
     ]
    },
    {
     "name": "stdout",
     "output_type": "stream",
     "text": [
      "Broken text: nan\n"
     ]
    },
    {
     "name": "stderr",
     "output_type": "stream",
     "text": [
      " 82%|████████▏ | 817/1000 [11:17<02:03,  1.48it/s]"
     ]
    },
    {
     "name": "stdout",
     "output_type": "stream",
     "text": [
      "Broken text:              \n"
     ]
    },
    {
     "name": "stderr",
     "output_type": "stream",
     "text": [
      "100%|██████████| 1000/1000 [13:31<00:00,  1.23it/s]\n",
      " 15%|█▌        | 152/1000 [02:10<12:59,  1.09it/s]"
     ]
    },
    {
     "name": "stdout",
     "output_type": "stream",
     "text": [
      "Broken text: nan\n"
     ]
    },
    {
     "name": "stderr",
     "output_type": "stream",
     "text": [
      "100%|██████████| 1000/1000 [13:48<00:00,  1.21it/s] \n",
      "  0%|          | 0/1000 [00:00<?, ?it/s]"
     ]
    },
    {
     "name": "stdout",
     "output_type": "stream",
     "text": [
      "1156056\n"
     ]
    },
    {
     "name": "stderr",
     "output_type": "stream",
     "text": [
      "100%|██████████| 1000/1000 [15:29<00:00,  1.08it/s]\n",
      "100%|██████████| 1000/1000 [15:01<00:00,  1.11it/s]\n",
      "  0%|          | 2/1000 [00:00<00:51, 19.23it/s]"
     ]
    },
    {
     "name": "stdout",
     "output_type": "stream",
     "text": [
      "1155056\n"
     ]
    },
    {
     "name": "stderr",
     "output_type": "stream",
     "text": [
      "100%|██████████| 1000/1000 [12:59<00:00,  1.28it/s] \n",
      "  7%|▋         | 69/1000 [00:57<15:20,  1.01it/s]"
     ]
    },
    {
     "name": "stdout",
     "output_type": "stream",
     "text": [
      "Broken text: nan\n"
     ]
    },
    {
     "name": "stderr",
     "output_type": "stream",
     "text": [
      " 91%|█████████ | 909/1000 [12:30<00:39,  2.32it/s]  "
     ]
    },
    {
     "name": "stdout",
     "output_type": "stream",
     "text": [
      "Broken text: 59\n"
     ]
    },
    {
     "name": "stderr",
     "output_type": "stream",
     "text": [
      "100%|██████████| 1000/1000 [14:14<00:00,  1.17it/s]\n",
      "  0%|          | 0/1000 [00:00<?, ?it/s]"
     ]
    },
    {
     "name": "stdout",
     "output_type": "stream",
     "text": [
      "1154056\n"
     ]
    },
    {
     "name": "stderr",
     "output_type": "stream",
     "text": [
      "100%|██████████| 1000/1000 [13:26<00:00,  1.24it/s]\n",
      "100%|██████████| 1000/1000 [13:16<00:00,  1.26it/s]\n",
      "  0%|          | 0/1000 [00:00<?, ?it/s]"
     ]
    },
    {
     "name": "stdout",
     "output_type": "stream",
     "text": [
      "1153056\n"
     ]
    },
    {
     "name": "stderr",
     "output_type": "stream",
     "text": [
      "100%|██████████| 1000/1000 [13:39<00:00,  1.22it/s] \n",
      "100%|██████████| 1000/1000 [13:41<00:00,  1.22it/s]\n",
      "  0%|          | 0/1000 [00:00<?, ?it/s]"
     ]
    },
    {
     "name": "stdout",
     "output_type": "stream",
     "text": [
      "1152056\n"
     ]
    },
    {
     "name": "stderr",
     "output_type": "stream",
     "text": [
      "100%|██████████| 1000/1000 [13:33<00:00,  1.23it/s]\n",
      "100%|██████████| 1000/1000 [13:02<00:00,  1.28it/s]\n",
      "  0%|          | 0/1000 [00:00<?, ?it/s]"
     ]
    },
    {
     "name": "stdout",
     "output_type": "stream",
     "text": [
      "1151056\n"
     ]
    },
    {
     "name": "stderr",
     "output_type": "stream",
     "text": [
      "100%|██████████| 1000/1000 [13:03<00:00,  1.28it/s]\n",
      "100%|██████████| 1000/1000 [13:01<00:00,  1.28it/s] \n",
      "  0%|          | 0/1000 [00:00<?, ?it/s]"
     ]
    },
    {
     "name": "stdout",
     "output_type": "stream",
     "text": [
      "1150056\n"
     ]
    },
    {
     "name": "stderr",
     "output_type": "stream",
     "text": [
      "100%|██████████| 1000/1000 [13:38<00:00,  1.22it/s]\n",
      "100%|██████████| 1000/1000 [12:42<00:00,  1.31it/s]\n",
      "  0%|          | 2/1000 [00:00<00:51, 19.50it/s]"
     ]
    },
    {
     "name": "stdout",
     "output_type": "stream",
     "text": [
      "1149056\n"
     ]
    },
    {
     "name": "stderr",
     "output_type": "stream",
     "text": [
      "100%|██████████| 1000/1000 [13:17<00:00,  1.25it/s]\n",
      "100%|██████████| 1000/1000 [13:48<00:00,  1.21it/s] \n",
      "  0%|          | 0/1000 [00:00<?, ?it/s]"
     ]
    },
    {
     "name": "stdout",
     "output_type": "stream",
     "text": [
      "1148056\n"
     ]
    },
    {
     "name": "stderr",
     "output_type": "stream",
     "text": [
      "100%|██████████| 1000/1000 [13:36<00:00,  1.22it/s]\n",
      "  7%|▋         | 70/1000 [00:55<11:06,  1.40it/s]"
     ]
    },
    {
     "name": "stdout",
     "output_type": "stream",
     "text": [
      "Broken text: nan\n"
     ]
    },
    {
     "name": "stderr",
     "output_type": "stream",
     "text": [
      "100%|██████████| 1000/1000 [14:10<00:00,  1.18it/s] \n",
      "  0%|          | 0/1000 [00:00<?, ?it/s]"
     ]
    },
    {
     "name": "stdout",
     "output_type": "stream",
     "text": [
      "1147057\n"
     ]
    },
    {
     "name": "stderr",
     "output_type": "stream",
     "text": [
      "100%|██████████| 1000/1000 [14:08<00:00,  1.18it/s]\n",
      "100%|██████████| 1000/1000 [14:16<00:00,  1.17it/s]\n",
      "  0%|          | 2/1000 [00:00<00:56, 17.75it/s]"
     ]
    },
    {
     "name": "stdout",
     "output_type": "stream",
     "text": [
      "1146058\n"
     ]
    },
    {
     "name": "stderr",
     "output_type": "stream",
     "text": [
      "100%|██████████| 1000/1000 [13:59<00:00,  1.19it/s] \n",
      " 61%|██████    | 609/1000 [08:37<05:00,  1.30it/s]"
     ]
    },
    {
     "name": "stdout",
     "output_type": "stream",
     "text": [
      "Broken text: __________________________________________\n"
     ]
    },
    {
     "name": "stderr",
     "output_type": "stream",
     "text": [
      "100%|██████████| 1000/1000 [14:04<00:00,  1.18it/s]\n",
      "  0%|          | 2/1000 [00:00<00:59, 16.79it/s]"
     ]
    },
    {
     "name": "stdout",
     "output_type": "stream",
     "text": [
      "1145059\n"
     ]
    },
    {
     "name": "stderr",
     "output_type": "stream",
     "text": [
      "100%|██████████| 1000/1000 [15:18<00:00,  1.09it/s]\n",
      "100%|██████████| 1000/1000 [14:09<00:00,  1.18it/s]\n",
      "  0%|          | 2/1000 [00:00<00:56, 17.60it/s]"
     ]
    },
    {
     "name": "stdout",
     "output_type": "stream",
     "text": [
      "1144060\n"
     ]
    },
    {
     "name": "stderr",
     "output_type": "stream",
     "text": [
      "100%|██████████| 1000/1000 [14:10<00:00,  1.18it/s] \n",
      "100%|██████████| 1000/1000 [14:32<00:00,  1.15it/s] \n",
      "  0%|          | 0/1000 [00:00<?, ?it/s]"
     ]
    },
    {
     "name": "stdout",
     "output_type": "stream",
     "text": [
      "1143061\n"
     ]
    },
    {
     "name": "stderr",
     "output_type": "stream",
     "text": [
      "100%|██████████| 1000/1000 [14:00<00:00,  1.19it/s]\n",
      " 28%|██▊       | 283/1000 [04:13<11:16,  1.06it/s]"
     ]
    },
    {
     "name": "stdout",
     "output_type": "stream",
     "text": [
      "Broken text: nan\n"
     ]
    },
    {
     "name": "stderr",
     "output_type": "stream",
     "text": [
      "100%|██████████| 1000/1000 [14:59<00:00,  1.11it/s]\n",
      "  0%|          | 2/1000 [00:00<00:53, 18.54it/s]"
     ]
    },
    {
     "name": "stdout",
     "output_type": "stream",
     "text": [
      "1142062\n"
     ]
    },
    {
     "name": "stderr",
     "output_type": "stream",
     "text": [
      " 78%|███████▊  | 781/1000 [19:29:25<5:27:55, 89.84s/it]\n"
     ]
    },
    {
     "ename": "KeyboardInterrupt",
     "evalue": "",
     "output_type": "error",
     "traceback": [
      "\u001B[0;31m----------------------------------------------\u001B[0m",
      "\u001B[0;31mKeyboardInterrupt\u001B[0mTraceback (most recent call last)",
      "\u001B[0;32m<ipython-input-117-5a8795dccd22>\u001B[0m in \u001B[0;36m<module>\u001B[0;34m\u001B[0m\n\u001B[1;32m     10\u001B[0m \u001B[0;34m\u001B[0m\u001B[0m\n\u001B[1;32m     11\u001B[0m     \u001B[0mreddit_df\u001B[0m\u001B[0;34m.\u001B[0m\u001B[0mloc\u001B[0m\u001B[0;34m[\u001B[0m\u001B[0mneed_translate_index_sample\u001B[0m\u001B[0;34m,\u001B[0m \u001B[0;34m'rus_punch'\u001B[0m\u001B[0;34m]\u001B[0m \u001B[0;34m=\u001B[0m\u001B[0;31m \u001B[0m\u001B[0;31m\\\u001B[0m\u001B[0;34m\u001B[0m\u001B[0;34m\u001B[0m\u001B[0m\n\u001B[0;32m---> 12\u001B[0;31m         \u001B[0mreddit_df\u001B[0m\u001B[0;34m.\u001B[0m\u001B[0mloc\u001B[0m\u001B[0;34m[\u001B[0m\u001B[0mneed_translate_index_sample\u001B[0m\u001B[0;34m,\u001B[0m \u001B[0;34m'punch'\u001B[0m\u001B[0;34m]\u001B[0m\u001B[0;34m.\u001B[0m\u001B[0mprogress_apply\u001B[0m\u001B[0;34m(\u001B[0m\u001B[0mtranslate_eng2rus\u001B[0m\u001B[0;34m)\u001B[0m\u001B[0;34m\u001B[0m\u001B[0;34m\u001B[0m\u001B[0m\n\u001B[0m\u001B[1;32m     13\u001B[0m \u001B[0;34m\u001B[0m\u001B[0m\n\u001B[1;32m     14\u001B[0m     \u001B[0mreddit_df\u001B[0m\u001B[0;34m.\u001B[0m\u001B[0mloc\u001B[0m\u001B[0;34m[\u001B[0m\u001B[0mneed_translate_index_sample\u001B[0m\u001B[0;34m,\u001B[0m \u001B[0;34m'rus_setup'\u001B[0m\u001B[0;34m]\u001B[0m \u001B[0;34m=\u001B[0m\u001B[0;31m \u001B[0m\u001B[0;31m\\\u001B[0m\u001B[0;34m\u001B[0m\u001B[0;34m\u001B[0m\u001B[0m\n",
      "\u001B[0;32m~/Documents/programs/venv/lib/python3.9/site-packages/tqdm/std.py\u001B[0m in \u001B[0;36minner\u001B[0;34m(df, func, *args, **kwargs)\u001B[0m\n\u001B[1;32m    808\u001B[0m                 \u001B[0;31m# on the df using our wrapper (which provides bar updating)\u001B[0m\u001B[0;34m\u001B[0m\u001B[0;34m\u001B[0m\u001B[0;34m\u001B[0m\u001B[0m\n\u001B[1;32m    809\u001B[0m                 \u001B[0;32mtry\u001B[0m\u001B[0;34m:\u001B[0m\u001B[0;34m\u001B[0m\u001B[0;34m\u001B[0m\u001B[0m\n\u001B[0;32m--> 810\u001B[0;31m                     \u001B[0;32mreturn\u001B[0m \u001B[0mgetattr\u001B[0m\u001B[0;34m(\u001B[0m\u001B[0mdf\u001B[0m\u001B[0;34m,\u001B[0m \u001B[0mdf_function\u001B[0m\u001B[0;34m)\u001B[0m\u001B[0;34m(\u001B[0m\u001B[0mwrapper\u001B[0m\u001B[0;34m,\u001B[0m \u001B[0;34m**\u001B[0m\u001B[0mkwargs\u001B[0m\u001B[0;34m)\u001B[0m\u001B[0;34m\u001B[0m\u001B[0;34m\u001B[0m\u001B[0m\n\u001B[0m\u001B[1;32m    811\u001B[0m                 \u001B[0;32mfinally\u001B[0m\u001B[0;34m:\u001B[0m\u001B[0;34m\u001B[0m\u001B[0;34m\u001B[0m\u001B[0m\n\u001B[1;32m    812\u001B[0m                     \u001B[0mt\u001B[0m\u001B[0;34m.\u001B[0m\u001B[0mclose\u001B[0m\u001B[0;34m(\u001B[0m\u001B[0;34m)\u001B[0m\u001B[0;34m\u001B[0m\u001B[0;34m\u001B[0m\u001B[0m\n",
      "\u001B[0;32m~/Documents/programs/venv/lib/python3.9/site-packages/pandas/core/series.py\u001B[0m in \u001B[0;36mapply\u001B[0;34m(self, func, convert_dtype, args, **kwds)\u001B[0m\n\u001B[1;32m   4136\u001B[0m             \u001B[0;32melse\u001B[0m\u001B[0;34m:\u001B[0m\u001B[0;34m\u001B[0m\u001B[0;34m\u001B[0m\u001B[0m\n\u001B[1;32m   4137\u001B[0m                 \u001B[0mvalues\u001B[0m \u001B[0;34m=\u001B[0m \u001B[0mself\u001B[0m\u001B[0;34m.\u001B[0m\u001B[0mastype\u001B[0m\u001B[0;34m(\u001B[0m\u001B[0mobject\u001B[0m\u001B[0;34m)\u001B[0m\u001B[0;34m.\u001B[0m\u001B[0m_values\u001B[0m\u001B[0;34m\u001B[0m\u001B[0;34m\u001B[0m\u001B[0m\n\u001B[0;32m-> 4138\u001B[0;31m                 \u001B[0mmapped\u001B[0m \u001B[0;34m=\u001B[0m \u001B[0mlib\u001B[0m\u001B[0;34m.\u001B[0m\u001B[0mmap_infer\u001B[0m\u001B[0;34m(\u001B[0m\u001B[0mvalues\u001B[0m\u001B[0;34m,\u001B[0m \u001B[0mf\u001B[0m\u001B[0;34m,\u001B[0m \u001B[0mconvert\u001B[0m\u001B[0;34m=\u001B[0m\u001B[0mconvert_dtype\u001B[0m\u001B[0;34m)\u001B[0m\u001B[0;34m\u001B[0m\u001B[0;34m\u001B[0m\u001B[0m\n\u001B[0m\u001B[1;32m   4139\u001B[0m \u001B[0;34m\u001B[0m\u001B[0m\n\u001B[1;32m   4140\u001B[0m         \u001B[0;32mif\u001B[0m \u001B[0mlen\u001B[0m\u001B[0;34m(\u001B[0m\u001B[0mmapped\u001B[0m\u001B[0;34m)\u001B[0m \u001B[0;32mand\u001B[0m \u001B[0misinstance\u001B[0m\u001B[0;34m(\u001B[0m\u001B[0mmapped\u001B[0m\u001B[0;34m[\u001B[0m\u001B[0;36m0\u001B[0m\u001B[0;34m]\u001B[0m\u001B[0;34m,\u001B[0m \u001B[0mSeries\u001B[0m\u001B[0;34m)\u001B[0m\u001B[0;34m:\u001B[0m\u001B[0;34m\u001B[0m\u001B[0;34m\u001B[0m\u001B[0m\n",
      "\u001B[0;32mpandas/_libs/lib.pyx\u001B[0m in \u001B[0;36mpandas._libs.lib.map_infer\u001B[0;34m()\u001B[0m\n",
      "\u001B[0;32m~/Documents/programs/venv/lib/python3.9/site-packages/tqdm/std.py\u001B[0m in \u001B[0;36mwrapper\u001B[0;34m(*args, **kwargs)\u001B[0m\n\u001B[1;32m    803\u001B[0m                     \u001B[0;31m# take a fast or slow code path; so stop when t.total==t.n\u001B[0m\u001B[0;34m\u001B[0m\u001B[0;34m\u001B[0m\u001B[0;34m\u001B[0m\u001B[0m\n\u001B[1;32m    804\u001B[0m                     \u001B[0mt\u001B[0m\u001B[0;34m.\u001B[0m\u001B[0mupdate\u001B[0m\u001B[0;34m(\u001B[0m\u001B[0mn\u001B[0m\u001B[0;34m=\u001B[0m\u001B[0;36m1\u001B[0m \u001B[0;32mif\u001B[0m \u001B[0;32mnot\u001B[0m \u001B[0mt\u001B[0m\u001B[0;34m.\u001B[0m\u001B[0mtotal\u001B[0m \u001B[0;32mor\u001B[0m \u001B[0mt\u001B[0m\u001B[0;34m.\u001B[0m\u001B[0mn\u001B[0m \u001B[0;34m<\u001B[0m \u001B[0mt\u001B[0m\u001B[0;34m.\u001B[0m\u001B[0mtotal\u001B[0m \u001B[0;32melse\u001B[0m \u001B[0;36m0\u001B[0m\u001B[0;34m)\u001B[0m\u001B[0;34m\u001B[0m\u001B[0;34m\u001B[0m\u001B[0m\n\u001B[0;32m--> 805\u001B[0;31m                     \u001B[0;32mreturn\u001B[0m \u001B[0mfunc\u001B[0m\u001B[0;34m(\u001B[0m\u001B[0;34m*\u001B[0m\u001B[0margs\u001B[0m\u001B[0;34m,\u001B[0m \u001B[0;34m**\u001B[0m\u001B[0mkwargs\u001B[0m\u001B[0;34m)\u001B[0m\u001B[0;34m\u001B[0m\u001B[0;34m\u001B[0m\u001B[0m\n\u001B[0m\u001B[1;32m    806\u001B[0m \u001B[0;34m\u001B[0m\u001B[0m\n\u001B[1;32m    807\u001B[0m                 \u001B[0;31m# Apply the provided function (in **kwargs)\u001B[0m\u001B[0;34m\u001B[0m\u001B[0;34m\u001B[0m\u001B[0;34m\u001B[0m\u001B[0m\n",
      "\u001B[0;32m<ipython-input-114-1cd0f7db0f96>\u001B[0m in \u001B[0;36mtranslate_eng2rus\u001B[0;34m(text)\u001B[0m\n\u001B[1;32m      3\u001B[0m     \u001B[0mtranslated\u001B[0m \u001B[0;34m=\u001B[0m \u001B[0;34m''\u001B[0m\u001B[0;34m\u001B[0m\u001B[0;34m\u001B[0m\u001B[0m\n\u001B[1;32m      4\u001B[0m     \u001B[0;32mtry\u001B[0m\u001B[0;34m:\u001B[0m\u001B[0;34m\u001B[0m\u001B[0;34m\u001B[0m\u001B[0m\n\u001B[0;32m----> 5\u001B[0;31m         \u001B[0mtranslated\u001B[0m \u001B[0;34m=\u001B[0m  \u001B[0mtranslator\u001B[0m\u001B[0;34m.\u001B[0m\u001B[0mtranslate\u001B[0m\u001B[0;34m(\u001B[0m\u001B[0mtext\u001B[0m\u001B[0;34m)\u001B[0m\u001B[0;34m\u001B[0m\u001B[0;34m\u001B[0m\u001B[0m\n\u001B[0m\u001B[1;32m      6\u001B[0m     \u001B[0;32mexcept\u001B[0m \u001B[0mNotValidPayload\u001B[0m\u001B[0;34m:\u001B[0m\u001B[0;34m\u001B[0m\u001B[0;34m\u001B[0m\u001B[0m\n\u001B[1;32m      7\u001B[0m         \u001B[0mprint\u001B[0m\u001B[0;34m(\u001B[0m\u001B[0;34mf'Broken text: {text}'\u001B[0m\u001B[0;34m)\u001B[0m\u001B[0;34m\u001B[0m\u001B[0;34m\u001B[0m\u001B[0m\n",
      "\u001B[0;32m~/Documents/programs/venv/lib/python3.9/site-packages/deep_translator/google_trans.py\u001B[0m in \u001B[0;36mtranslate\u001B[0;34m(self, text, **kwargs)\u001B[0m\n\u001B[1;32m    114\u001B[0m                 \u001B[0mself\u001B[0m\u001B[0;34m.\u001B[0m\u001B[0m_url_params\u001B[0m\u001B[0;34m[\u001B[0m\u001B[0mself\u001B[0m\u001B[0;34m.\u001B[0m\u001B[0mpayload_key\u001B[0m\u001B[0;34m]\u001B[0m \u001B[0;34m=\u001B[0m \u001B[0mtext\u001B[0m\u001B[0;34m\u001B[0m\u001B[0;34m\u001B[0m\u001B[0m\n\u001B[1;32m    115\u001B[0m \u001B[0;34m\u001B[0m\u001B[0m\n\u001B[0;32m--> 116\u001B[0;31m             response = requests.get(self.__base_url,\n\u001B[0m\u001B[1;32m    117\u001B[0m                                     \u001B[0mparams\u001B[0m\u001B[0;34m=\u001B[0m\u001B[0mself\u001B[0m\u001B[0;34m.\u001B[0m\u001B[0m_url_params\u001B[0m\u001B[0;34m,\u001B[0m\u001B[0;34m\u001B[0m\u001B[0;34m\u001B[0m\u001B[0m\n\u001B[1;32m    118\u001B[0m                                     proxies=self.proxies)\n",
      "\u001B[0;32m~/Documents/programs/venv/lib/python3.9/site-packages/requests/api.py\u001B[0m in \u001B[0;36mget\u001B[0;34m(url, params, **kwargs)\u001B[0m\n\u001B[1;32m     73\u001B[0m     \"\"\"\n\u001B[1;32m     74\u001B[0m \u001B[0;34m\u001B[0m\u001B[0m\n\u001B[0;32m---> 75\u001B[0;31m     \u001B[0;32mreturn\u001B[0m \u001B[0mrequest\u001B[0m\u001B[0;34m(\u001B[0m\u001B[0;34m'get'\u001B[0m\u001B[0;34m,\u001B[0m \u001B[0murl\u001B[0m\u001B[0;34m,\u001B[0m \u001B[0mparams\u001B[0m\u001B[0;34m=\u001B[0m\u001B[0mparams\u001B[0m\u001B[0;34m,\u001B[0m \u001B[0;34m**\u001B[0m\u001B[0mkwargs\u001B[0m\u001B[0;34m)\u001B[0m\u001B[0;34m\u001B[0m\u001B[0;34m\u001B[0m\u001B[0m\n\u001B[0m\u001B[1;32m     76\u001B[0m \u001B[0;34m\u001B[0m\u001B[0m\n\u001B[1;32m     77\u001B[0m \u001B[0;34m\u001B[0m\u001B[0m\n",
      "\u001B[0;32m~/Documents/programs/venv/lib/python3.9/site-packages/requests/api.py\u001B[0m in \u001B[0;36mrequest\u001B[0;34m(method, url, **kwargs)\u001B[0m\n\u001B[1;32m     59\u001B[0m     \u001B[0;31m# cases, and look like a memory leak in others.\u001B[0m\u001B[0;34m\u001B[0m\u001B[0;34m\u001B[0m\u001B[0;34m\u001B[0m\u001B[0m\n\u001B[1;32m     60\u001B[0m     \u001B[0;32mwith\u001B[0m \u001B[0msessions\u001B[0m\u001B[0;34m.\u001B[0m\u001B[0mSession\u001B[0m\u001B[0;34m(\u001B[0m\u001B[0;34m)\u001B[0m \u001B[0;32mas\u001B[0m \u001B[0msession\u001B[0m\u001B[0;34m:\u001B[0m\u001B[0;34m\u001B[0m\u001B[0;34m\u001B[0m\u001B[0m\n\u001B[0;32m---> 61\u001B[0;31m         \u001B[0;32mreturn\u001B[0m \u001B[0msession\u001B[0m\u001B[0;34m.\u001B[0m\u001B[0mrequest\u001B[0m\u001B[0;34m(\u001B[0m\u001B[0mmethod\u001B[0m\u001B[0;34m=\u001B[0m\u001B[0mmethod\u001B[0m\u001B[0;34m,\u001B[0m \u001B[0murl\u001B[0m\u001B[0;34m=\u001B[0m\u001B[0murl\u001B[0m\u001B[0;34m,\u001B[0m \u001B[0;34m**\u001B[0m\u001B[0mkwargs\u001B[0m\u001B[0;34m)\u001B[0m\u001B[0;34m\u001B[0m\u001B[0;34m\u001B[0m\u001B[0m\n\u001B[0m\u001B[1;32m     62\u001B[0m \u001B[0;34m\u001B[0m\u001B[0m\n\u001B[1;32m     63\u001B[0m \u001B[0;34m\u001B[0m\u001B[0m\n",
      "\u001B[0;32m~/Documents/programs/venv/lib/python3.9/site-packages/requests/sessions.py\u001B[0m in \u001B[0;36mrequest\u001B[0;34m(self, method, url, params, data, headers, cookies, files, auth, timeout, allow_redirects, proxies, hooks, stream, verify, cert, json)\u001B[0m\n\u001B[1;32m    540\u001B[0m         }\n\u001B[1;32m    541\u001B[0m         \u001B[0msend_kwargs\u001B[0m\u001B[0;34m.\u001B[0m\u001B[0mupdate\u001B[0m\u001B[0;34m(\u001B[0m\u001B[0msettings\u001B[0m\u001B[0;34m)\u001B[0m\u001B[0;34m\u001B[0m\u001B[0;34m\u001B[0m\u001B[0m\n\u001B[0;32m--> 542\u001B[0;31m         \u001B[0mresp\u001B[0m \u001B[0;34m=\u001B[0m \u001B[0mself\u001B[0m\u001B[0;34m.\u001B[0m\u001B[0msend\u001B[0m\u001B[0;34m(\u001B[0m\u001B[0mprep\u001B[0m\u001B[0;34m,\u001B[0m \u001B[0;34m**\u001B[0m\u001B[0msend_kwargs\u001B[0m\u001B[0;34m)\u001B[0m\u001B[0;34m\u001B[0m\u001B[0;34m\u001B[0m\u001B[0m\n\u001B[0m\u001B[1;32m    543\u001B[0m \u001B[0;34m\u001B[0m\u001B[0m\n\u001B[1;32m    544\u001B[0m         \u001B[0;32mreturn\u001B[0m \u001B[0mresp\u001B[0m\u001B[0;34m\u001B[0m\u001B[0;34m\u001B[0m\u001B[0m\n",
      "\u001B[0;32m~/Documents/programs/venv/lib/python3.9/site-packages/requests/sessions.py\u001B[0m in \u001B[0;36msend\u001B[0;34m(self, request, **kwargs)\u001B[0m\n\u001B[1;32m    695\u001B[0m \u001B[0;34m\u001B[0m\u001B[0m\n\u001B[1;32m    696\u001B[0m         \u001B[0;32mif\u001B[0m \u001B[0;32mnot\u001B[0m \u001B[0mstream\u001B[0m\u001B[0;34m:\u001B[0m\u001B[0;34m\u001B[0m\u001B[0;34m\u001B[0m\u001B[0m\n\u001B[0;32m--> 697\u001B[0;31m             \u001B[0mr\u001B[0m\u001B[0;34m.\u001B[0m\u001B[0mcontent\u001B[0m\u001B[0;34m\u001B[0m\u001B[0;34m\u001B[0m\u001B[0m\n\u001B[0m\u001B[1;32m    698\u001B[0m \u001B[0;34m\u001B[0m\u001B[0m\n\u001B[1;32m    699\u001B[0m         \u001B[0;32mreturn\u001B[0m \u001B[0mr\u001B[0m\u001B[0;34m\u001B[0m\u001B[0;34m\u001B[0m\u001B[0m\n",
      "\u001B[0;32m~/Documents/programs/venv/lib/python3.9/site-packages/requests/models.py\u001B[0m in \u001B[0;36mcontent\u001B[0;34m(self)\u001B[0m\n\u001B[1;32m    834\u001B[0m                 \u001B[0mself\u001B[0m\u001B[0;34m.\u001B[0m\u001B[0m_content\u001B[0m \u001B[0;34m=\u001B[0m \u001B[0;32mNone\u001B[0m\u001B[0;34m\u001B[0m\u001B[0;34m\u001B[0m\u001B[0m\n\u001B[1;32m    835\u001B[0m             \u001B[0;32melse\u001B[0m\u001B[0;34m:\u001B[0m\u001B[0;34m\u001B[0m\u001B[0;34m\u001B[0m\u001B[0m\n\u001B[0;32m--> 836\u001B[0;31m                 \u001B[0mself\u001B[0m\u001B[0;34m.\u001B[0m\u001B[0m_content\u001B[0m \u001B[0;34m=\u001B[0m \u001B[0;34mb''\u001B[0m\u001B[0;34m.\u001B[0m\u001B[0mjoin\u001B[0m\u001B[0;34m(\u001B[0m\u001B[0mself\u001B[0m\u001B[0;34m.\u001B[0m\u001B[0miter_content\u001B[0m\u001B[0;34m(\u001B[0m\u001B[0mCONTENT_CHUNK_SIZE\u001B[0m\u001B[0;34m)\u001B[0m\u001B[0;34m)\u001B[0m \u001B[0;32mor\u001B[0m \u001B[0;34mb''\u001B[0m\u001B[0;34m\u001B[0m\u001B[0;34m\u001B[0m\u001B[0m\n\u001B[0m\u001B[1;32m    837\u001B[0m \u001B[0;34m\u001B[0m\u001B[0m\n\u001B[1;32m    838\u001B[0m         \u001B[0mself\u001B[0m\u001B[0;34m.\u001B[0m\u001B[0m_content_consumed\u001B[0m \u001B[0;34m=\u001B[0m \u001B[0;32mTrue\u001B[0m\u001B[0;34m\u001B[0m\u001B[0;34m\u001B[0m\u001B[0m\n",
      "\u001B[0;32m~/Documents/programs/venv/lib/python3.9/site-packages/requests/models.py\u001B[0m in \u001B[0;36mgenerate\u001B[0;34m()\u001B[0m\n\u001B[1;32m    756\u001B[0m             \u001B[0;32mif\u001B[0m \u001B[0mhasattr\u001B[0m\u001B[0;34m(\u001B[0m\u001B[0mself\u001B[0m\u001B[0;34m.\u001B[0m\u001B[0mraw\u001B[0m\u001B[0;34m,\u001B[0m \u001B[0;34m'stream'\u001B[0m\u001B[0;34m)\u001B[0m\u001B[0;34m:\u001B[0m\u001B[0;34m\u001B[0m\u001B[0;34m\u001B[0m\u001B[0m\n\u001B[1;32m    757\u001B[0m                 \u001B[0;32mtry\u001B[0m\u001B[0;34m:\u001B[0m\u001B[0;34m\u001B[0m\u001B[0;34m\u001B[0m\u001B[0m\n\u001B[0;32m--> 758\u001B[0;31m                     \u001B[0;32mfor\u001B[0m \u001B[0mchunk\u001B[0m \u001B[0;32min\u001B[0m \u001B[0mself\u001B[0m\u001B[0;34m.\u001B[0m\u001B[0mraw\u001B[0m\u001B[0;34m.\u001B[0m\u001B[0mstream\u001B[0m\u001B[0;34m(\u001B[0m\u001B[0mchunk_size\u001B[0m\u001B[0;34m,\u001B[0m \u001B[0mdecode_content\u001B[0m\u001B[0;34m=\u001B[0m\u001B[0;32mTrue\u001B[0m\u001B[0;34m)\u001B[0m\u001B[0;34m:\u001B[0m\u001B[0;34m\u001B[0m\u001B[0;34m\u001B[0m\u001B[0m\n\u001B[0m\u001B[1;32m    759\u001B[0m                         \u001B[0;32myield\u001B[0m \u001B[0mchunk\u001B[0m\u001B[0;34m\u001B[0m\u001B[0;34m\u001B[0m\u001B[0m\n\u001B[1;32m    760\u001B[0m                 \u001B[0;32mexcept\u001B[0m \u001B[0mProtocolError\u001B[0m \u001B[0;32mas\u001B[0m \u001B[0me\u001B[0m\u001B[0;34m:\u001B[0m\u001B[0;34m\u001B[0m\u001B[0;34m\u001B[0m\u001B[0m\n",
      "\u001B[0;32m~/Documents/programs/venv/lib/python3.9/site-packages/urllib3/response.py\u001B[0m in \u001B[0;36mstream\u001B[0;34m(self, amt, decode_content)\u001B[0m\n\u001B[1;32m    570\u001B[0m         \"\"\"\n\u001B[1;32m    571\u001B[0m         \u001B[0;32mif\u001B[0m \u001B[0mself\u001B[0m\u001B[0;34m.\u001B[0m\u001B[0mchunked\u001B[0m \u001B[0;32mand\u001B[0m \u001B[0mself\u001B[0m\u001B[0;34m.\u001B[0m\u001B[0msupports_chunked_reads\u001B[0m\u001B[0;34m(\u001B[0m\u001B[0;34m)\u001B[0m\u001B[0;34m:\u001B[0m\u001B[0;34m\u001B[0m\u001B[0;34m\u001B[0m\u001B[0m\n\u001B[0;32m--> 572\u001B[0;31m             \u001B[0;32mfor\u001B[0m \u001B[0mline\u001B[0m \u001B[0;32min\u001B[0m \u001B[0mself\u001B[0m\u001B[0;34m.\u001B[0m\u001B[0mread_chunked\u001B[0m\u001B[0;34m(\u001B[0m\u001B[0mamt\u001B[0m\u001B[0;34m,\u001B[0m \u001B[0mdecode_content\u001B[0m\u001B[0;34m=\u001B[0m\u001B[0mdecode_content\u001B[0m\u001B[0;34m)\u001B[0m\u001B[0;34m:\u001B[0m\u001B[0;34m\u001B[0m\u001B[0;34m\u001B[0m\u001B[0m\n\u001B[0m\u001B[1;32m    573\u001B[0m                 \u001B[0;32myield\u001B[0m \u001B[0mline\u001B[0m\u001B[0;34m\u001B[0m\u001B[0;34m\u001B[0m\u001B[0m\n\u001B[1;32m    574\u001B[0m         \u001B[0;32melse\u001B[0m\u001B[0;34m:\u001B[0m\u001B[0;34m\u001B[0m\u001B[0;34m\u001B[0m\u001B[0m\n",
      "\u001B[0;32m~/Documents/programs/venv/lib/python3.9/site-packages/urllib3/response.py\u001B[0m in \u001B[0;36mread_chunked\u001B[0;34m(self, amt, decode_content)\u001B[0m\n\u001B[1;32m    762\u001B[0m \u001B[0;34m\u001B[0m\u001B[0m\n\u001B[1;32m    763\u001B[0m             \u001B[0;32mwhile\u001B[0m \u001B[0;32mTrue\u001B[0m\u001B[0;34m:\u001B[0m\u001B[0;34m\u001B[0m\u001B[0;34m\u001B[0m\u001B[0m\n\u001B[0;32m--> 764\u001B[0;31m                 \u001B[0mself\u001B[0m\u001B[0;34m.\u001B[0m\u001B[0m_update_chunk_length\u001B[0m\u001B[0;34m(\u001B[0m\u001B[0;34m)\u001B[0m\u001B[0;34m\u001B[0m\u001B[0;34m\u001B[0m\u001B[0m\n\u001B[0m\u001B[1;32m    765\u001B[0m                 \u001B[0;32mif\u001B[0m \u001B[0mself\u001B[0m\u001B[0;34m.\u001B[0m\u001B[0mchunk_left\u001B[0m \u001B[0;34m==\u001B[0m \u001B[0;36m0\u001B[0m\u001B[0;34m:\u001B[0m\u001B[0;34m\u001B[0m\u001B[0;34m\u001B[0m\u001B[0m\n\u001B[1;32m    766\u001B[0m                     \u001B[0;32mbreak\u001B[0m\u001B[0;34m\u001B[0m\u001B[0;34m\u001B[0m\u001B[0m\n",
      "\u001B[0;32m~/Documents/programs/venv/lib/python3.9/site-packages/urllib3/response.py\u001B[0m in \u001B[0;36m_update_chunk_length\u001B[0;34m(self)\u001B[0m\n\u001B[1;32m    692\u001B[0m         \u001B[0;32mif\u001B[0m \u001B[0mself\u001B[0m\u001B[0;34m.\u001B[0m\u001B[0mchunk_left\u001B[0m \u001B[0;32mis\u001B[0m \u001B[0;32mnot\u001B[0m \u001B[0;32mNone\u001B[0m\u001B[0;34m:\u001B[0m\u001B[0;34m\u001B[0m\u001B[0;34m\u001B[0m\u001B[0m\n\u001B[1;32m    693\u001B[0m             \u001B[0;32mreturn\u001B[0m\u001B[0;34m\u001B[0m\u001B[0;34m\u001B[0m\u001B[0m\n\u001B[0;32m--> 694\u001B[0;31m         \u001B[0mline\u001B[0m \u001B[0;34m=\u001B[0m \u001B[0mself\u001B[0m\u001B[0;34m.\u001B[0m\u001B[0m_fp\u001B[0m\u001B[0;34m.\u001B[0m\u001B[0mfp\u001B[0m\u001B[0;34m.\u001B[0m\u001B[0mreadline\u001B[0m\u001B[0;34m(\u001B[0m\u001B[0;34m)\u001B[0m\u001B[0;34m\u001B[0m\u001B[0;34m\u001B[0m\u001B[0m\n\u001B[0m\u001B[1;32m    695\u001B[0m         \u001B[0mline\u001B[0m \u001B[0;34m=\u001B[0m \u001B[0mline\u001B[0m\u001B[0;34m.\u001B[0m\u001B[0msplit\u001B[0m\u001B[0;34m(\u001B[0m\u001B[0;34mb\";\"\u001B[0m\u001B[0;34m,\u001B[0m \u001B[0;36m1\u001B[0m\u001B[0;34m)\u001B[0m\u001B[0;34m[\u001B[0m\u001B[0;36m0\u001B[0m\u001B[0;34m]\u001B[0m\u001B[0;34m\u001B[0m\u001B[0;34m\u001B[0m\u001B[0m\n\u001B[1;32m    696\u001B[0m         \u001B[0;32mtry\u001B[0m\u001B[0;34m:\u001B[0m\u001B[0;34m\u001B[0m\u001B[0;34m\u001B[0m\u001B[0m\n",
      "\u001B[0;32m/usr/local/Cellar/python@3.9/3.9.4/Frameworks/Python.framework/Versions/3.9/lib/python3.9/socket.py\u001B[0m in \u001B[0;36mreadinto\u001B[0;34m(self, b)\u001B[0m\n\u001B[1;32m    702\u001B[0m         \u001B[0;32mwhile\u001B[0m \u001B[0;32mTrue\u001B[0m\u001B[0;34m:\u001B[0m\u001B[0;34m\u001B[0m\u001B[0;34m\u001B[0m\u001B[0m\n\u001B[1;32m    703\u001B[0m             \u001B[0;32mtry\u001B[0m\u001B[0;34m:\u001B[0m\u001B[0;34m\u001B[0m\u001B[0;34m\u001B[0m\u001B[0m\n\u001B[0;32m--> 704\u001B[0;31m                 \u001B[0;32mreturn\u001B[0m \u001B[0mself\u001B[0m\u001B[0;34m.\u001B[0m\u001B[0m_sock\u001B[0m\u001B[0;34m.\u001B[0m\u001B[0mrecv_into\u001B[0m\u001B[0;34m(\u001B[0m\u001B[0mb\u001B[0m\u001B[0;34m)\u001B[0m\u001B[0;34m\u001B[0m\u001B[0;34m\u001B[0m\u001B[0m\n\u001B[0m\u001B[1;32m    705\u001B[0m             \u001B[0;32mexcept\u001B[0m \u001B[0mtimeout\u001B[0m\u001B[0;34m:\u001B[0m\u001B[0;34m\u001B[0m\u001B[0;34m\u001B[0m\u001B[0m\n\u001B[1;32m    706\u001B[0m                 \u001B[0mself\u001B[0m\u001B[0;34m.\u001B[0m\u001B[0m_timeout_occurred\u001B[0m \u001B[0;34m=\u001B[0m \u001B[0;32mTrue\u001B[0m\u001B[0;34m\u001B[0m\u001B[0;34m\u001B[0m\u001B[0m\n",
      "\u001B[0;32m/usr/local/Cellar/python@3.9/3.9.4/Frameworks/Python.framework/Versions/3.9/lib/python3.9/ssl.py\u001B[0m in \u001B[0;36mrecv_into\u001B[0;34m(self, buffer, nbytes, flags)\u001B[0m\n\u001B[1;32m   1239\u001B[0m                   \u001B[0;34m\"non-zero flags not allowed in calls to recv_into() on %s\"\u001B[0m \u001B[0;34m%\u001B[0m\u001B[0;34m\u001B[0m\u001B[0;34m\u001B[0m\u001B[0m\n\u001B[1;32m   1240\u001B[0m                   self.__class__)\n\u001B[0;32m-> 1241\u001B[0;31m             \u001B[0;32mreturn\u001B[0m \u001B[0mself\u001B[0m\u001B[0;34m.\u001B[0m\u001B[0mread\u001B[0m\u001B[0;34m(\u001B[0m\u001B[0mnbytes\u001B[0m\u001B[0;34m,\u001B[0m \u001B[0mbuffer\u001B[0m\u001B[0;34m)\u001B[0m\u001B[0;34m\u001B[0m\u001B[0;34m\u001B[0m\u001B[0m\n\u001B[0m\u001B[1;32m   1242\u001B[0m         \u001B[0;32melse\u001B[0m\u001B[0;34m:\u001B[0m\u001B[0;34m\u001B[0m\u001B[0;34m\u001B[0m\u001B[0m\n\u001B[1;32m   1243\u001B[0m             \u001B[0;32mreturn\u001B[0m \u001B[0msuper\u001B[0m\u001B[0;34m(\u001B[0m\u001B[0;34m)\u001B[0m\u001B[0;34m.\u001B[0m\u001B[0mrecv_into\u001B[0m\u001B[0;34m(\u001B[0m\u001B[0mbuffer\u001B[0m\u001B[0;34m,\u001B[0m \u001B[0mnbytes\u001B[0m\u001B[0;34m,\u001B[0m \u001B[0mflags\u001B[0m\u001B[0;34m)\u001B[0m\u001B[0;34m\u001B[0m\u001B[0;34m\u001B[0m\u001B[0m\n",
      "\u001B[0;32m/usr/local/Cellar/python@3.9/3.9.4/Frameworks/Python.framework/Versions/3.9/lib/python3.9/ssl.py\u001B[0m in \u001B[0;36mread\u001B[0;34m(self, len, buffer)\u001B[0m\n\u001B[1;32m   1097\u001B[0m         \u001B[0;32mtry\u001B[0m\u001B[0;34m:\u001B[0m\u001B[0;34m\u001B[0m\u001B[0;34m\u001B[0m\u001B[0m\n\u001B[1;32m   1098\u001B[0m             \u001B[0;32mif\u001B[0m \u001B[0mbuffer\u001B[0m \u001B[0;32mis\u001B[0m \u001B[0;32mnot\u001B[0m \u001B[0;32mNone\u001B[0m\u001B[0;34m:\u001B[0m\u001B[0;34m\u001B[0m\u001B[0;34m\u001B[0m\u001B[0m\n\u001B[0;32m-> 1099\u001B[0;31m                 \u001B[0;32mreturn\u001B[0m \u001B[0mself\u001B[0m\u001B[0;34m.\u001B[0m\u001B[0m_sslobj\u001B[0m\u001B[0;34m.\u001B[0m\u001B[0mread\u001B[0m\u001B[0;34m(\u001B[0m\u001B[0mlen\u001B[0m\u001B[0;34m,\u001B[0m \u001B[0mbuffer\u001B[0m\u001B[0;34m)\u001B[0m\u001B[0;34m\u001B[0m\u001B[0;34m\u001B[0m\u001B[0m\n\u001B[0m\u001B[1;32m   1100\u001B[0m             \u001B[0;32melse\u001B[0m\u001B[0;34m:\u001B[0m\u001B[0;34m\u001B[0m\u001B[0;34m\u001B[0m\u001B[0m\n\u001B[1;32m   1101\u001B[0m                 \u001B[0;32mreturn\u001B[0m \u001B[0mself\u001B[0m\u001B[0;34m.\u001B[0m\u001B[0m_sslobj\u001B[0m\u001B[0;34m.\u001B[0m\u001B[0mread\u001B[0m\u001B[0;34m(\u001B[0m\u001B[0mlen\u001B[0m\u001B[0;34m)\u001B[0m\u001B[0;34m\u001B[0m\u001B[0;34m\u001B[0m\u001B[0m\n",
      "\u001B[0;31mKeyboardInterrupt\u001B[0m: "
     ]
    }
   ],
   "source": [
    "while True:\n",
    "    need_translate_df = reddit_df.loc[reddit_df['rus_punch'].isna()]\n",
    "    \n",
    "    if len(need_translate_df) == 0:\n",
    "        break\n",
    "        \n",
    "    print(len(need_translate_df))\n",
    "    \n",
    "    need_translate_index_sample = need_translate_df.iloc[0: min(1000, len(need_translate_df))].index\n",
    "    \n",
    "    reddit_df.loc[need_translate_index_sample, 'rus_punch'] = \\\n",
    "        reddit_df.loc[need_translate_index_sample, 'punch'].progress_apply(translate_eng2rus)\n",
    "    \n",
    "    reddit_df.loc[need_translate_index_sample, 'rus_setup'] = \\\n",
    "        reddit_df.loc[need_translate_index_sample, 'setup'].progress_apply(translate_eng2rus)"
   ]
  },
  {
   "cell_type": "code",
   "execution_count": 118,
   "id": "34496ccc",
   "metadata": {
    "hidden": true,
    "pycharm": {
     "name": "#%%\n"
    }
   },
   "outputs": [
    {
     "data": {
      "text/html": [
       "<div>\n",
       "<style scoped>\n",
       "    .dataframe tbody tr th:only-of-type {\n",
       "        vertical-align: middle;\n",
       "    }\n",
       "\n",
       "    .dataframe tbody tr th {\n",
       "        vertical-align: top;\n",
       "    }\n",
       "\n",
       "    .dataframe thead th {\n",
       "        text-align: right;\n",
       "    }\n",
       "</style>\n",
       "<table border=\"1\" class=\"dataframe\">\n",
       "  <thead>\n",
       "    <tr style=\"text-align: right;\">\n",
       "      <th></th>\n",
       "      <th>punch</th>\n",
       "      <th>mark</th>\n",
       "      <th>setup</th>\n",
       "      <th>rus_punch</th>\n",
       "      <th>rus_setup</th>\n",
       "    </tr>\n",
       "  </thead>\n",
       "  <tbody>\n",
       "    <tr>\n",
       "      <th>0</th>\n",
       "      <td>On the condition he gets to install windows.</td>\n",
       "      <td>48526</td>\n",
       "      <td>Breaking News: Bill Gates has agreed to pay fo...</td>\n",
       "      <td>При условии, что он установит окна.</td>\n",
       "      <td>Срочные новости: Билл Гейтс согласился заплати...</td>\n",
       "    </tr>\n",
       "    <tr>\n",
       "      <th>1</th>\n",
       "      <td>/r/Jokes</td>\n",
       "      <td>45500</td>\n",
       "      <td>I found a place where the recycling rate is 98%</td>\n",
       "      <td>/ г / Шутки</td>\n",
       "      <td>Я нашел место, где уровень утилизации составля...</td>\n",
       "    </tr>\n",
       "    <tr>\n",
       "      <th>2</th>\n",
       "      <td>But its a silly comparison really, its like co...</td>\n",
       "      <td>39570</td>\n",
       "      <td>Steve jobs would have been a better president ...</td>\n",
       "      <td>Но на самом деле это глупое сравнение, это как...</td>\n",
       "      <td>Стив Джобс был бы лучшим президентом, чем Дона...</td>\n",
       "    </tr>\n",
       "    <tr>\n",
       "      <th>3</th>\n",
       "      <td>We went and had some drinks. Cool guy. Wants t...</td>\n",
       "      <td>36421</td>\n",
       "      <td>My girlfriend told me to take the spider out i...</td>\n",
       "      <td>Мы пошли и выпили. Клевый парень. Хочет быть в...</td>\n",
       "      <td>Моя девушка посоветовала мне вытащить паука, а...</td>\n",
       "    </tr>\n",
       "    <tr>\n",
       "      <th>4</th>\n",
       "      <td>Please don't upvote. Her strap-on is huge.</td>\n",
       "      <td>35772</td>\n",
       "      <td>For every upvote this gets, my girlfriend and ...</td>\n",
       "      <td>Пожалуйста, не голосуйте. Ее страпон огромен.</td>\n",
       "      <td>На каждый положительный голос мы с моей девушк...</td>\n",
       "    </tr>\n",
       "  </tbody>\n",
       "</table>\n",
       "</div>"
      ],
      "text/plain": [
       "                                               punch   mark  \\\n",
       "0       On the condition he gets to install windows.  48526   \n",
       "1                                           /r/Jokes  45500   \n",
       "2  But its a silly comparison really, its like co...  39570   \n",
       "3  We went and had some drinks. Cool guy. Wants t...  36421   \n",
       "4        Please don't upvote. Her strap-on is huge.   35772   \n",
       "\n",
       "                                               setup  \\\n",
       "0  Breaking News: Bill Gates has agreed to pay fo...   \n",
       "1    I found a place where the recycling rate is 98%   \n",
       "2  Steve jobs would have been a better president ...   \n",
       "3  My girlfriend told me to take the spider out i...   \n",
       "4  For every upvote this gets, my girlfriend and ...   \n",
       "\n",
       "                                           rus_punch  \\\n",
       "0                При условии, что он установит окна.   \n",
       "1                                        / г / Шутки   \n",
       "2  Но на самом деле это глупое сравнение, это как...   \n",
       "3  Мы пошли и выпили. Клевый парень. Хочет быть в...   \n",
       "4      Пожалуйста, не голосуйте. Ее страпон огромен.   \n",
       "\n",
       "                                           rus_setup  \n",
       "0  Срочные новости: Билл Гейтс согласился заплати...  \n",
       "1  Я нашел место, где уровень утилизации составля...  \n",
       "2  Стив Джобс был бы лучшим президентом, чем Дона...  \n",
       "3  Моя девушка посоветовала мне вытащить паука, а...  \n",
       "4  На каждый положительный голос мы с моей девушк...  "
      ]
     },
     "execution_count": 118,
     "metadata": {},
     "output_type": "execute_result"
    }
   ],
   "source": [
    "reddit_df.head()"
   ]
  },
  {
   "cell_type": "code",
   "execution_count": 119,
   "id": "0d277cc2",
   "metadata": {
    "hidden": true,
    "pycharm": {
     "name": "#%%\n"
    }
   },
   "outputs": [],
   "source": [
    "reddit_df.to_csv('data/eng-joke-dataset/reddit-dataset.tsv',\n",
    "                 sep='\\t', index=False)"
   ]
  },
  {
   "cell_type": "code",
   "execution_count": 135,
   "id": "1b2475f7",
   "metadata": {
    "hidden": true,
    "pycharm": {
     "name": "#%%\n"
    }
   },
   "outputs": [],
   "source": [
    "rus_reddit_df = reddit_df.loc[~reddit_df.rus_punch.isna(), \n",
    "                              ['rus_punch', 'rus_setup', 'mark']]\n",
    "rus_reddit_df.columns = ['punch', 'setup', 'mark']\n",
    "\n",
    "rus_reddit_df.punch = rus_reddit_df.punch.apply(remove_special_tokens)\n",
    "rus_reddit_df.setup = rus_reddit_df.setup.apply(remove_special_tokens)"
   ]
  },
  {
   "cell_type": "code",
   "execution_count": 137,
   "id": "651a17cb",
   "metadata": {
    "hidden": true,
    "pycharm": {
     "name": "#%%\n"
    }
   },
   "outputs": [
    {
     "data": {
      "text/html": [
       "<div>\n",
       "<style scoped>\n",
       "    .dataframe tbody tr th:only-of-type {\n",
       "        vertical-align: middle;\n",
       "    }\n",
       "\n",
       "    .dataframe tbody tr th {\n",
       "        vertical-align: top;\n",
       "    }\n",
       "\n",
       "    .dataframe thead th {\n",
       "        text-align: right;\n",
       "    }\n",
       "</style>\n",
       "<table border=\"1\" class=\"dataframe\">\n",
       "  <thead>\n",
       "    <tr style=\"text-align: right;\">\n",
       "      <th></th>\n",
       "      <th>punch</th>\n",
       "      <th>setup</th>\n",
       "      <th>mark</th>\n",
       "    </tr>\n",
       "  </thead>\n",
       "  <tbody>\n",
       "    <tr>\n",
       "      <th>0</th>\n",
       "      <td>При условии, что он установит окна.</td>\n",
       "      <td>Срочные новости: Билл Гейтс согласился заплати...</td>\n",
       "      <td>48526</td>\n",
       "    </tr>\n",
       "    <tr>\n",
       "      <th>1</th>\n",
       "      <td>/ г / Шутки</td>\n",
       "      <td>Я нашел место, где уровень утилизации составля...</td>\n",
       "      <td>45500</td>\n",
       "    </tr>\n",
       "    <tr>\n",
       "      <th>2</th>\n",
       "      <td>Но на самом деле это глупое сравнение, это как...</td>\n",
       "      <td>Стив Джобс был бы лучшим президентом, чем Дона...</td>\n",
       "      <td>39570</td>\n",
       "    </tr>\n",
       "    <tr>\n",
       "      <th>3</th>\n",
       "      <td>Мы пошли и выпили. Клевый парень. Хочет быть в...</td>\n",
       "      <td>Моя девушка посоветовала мне вытащить паука, а...</td>\n",
       "      <td>36421</td>\n",
       "    </tr>\n",
       "    <tr>\n",
       "      <th>4</th>\n",
       "      <td>Пожалуйста, не голосуйте. Ее страпон огромен.</td>\n",
       "      <td>На каждый положительный голос мы с моей девушк...</td>\n",
       "      <td>35772</td>\n",
       "    </tr>\n",
       "    <tr>\n",
       "      <th>...</th>\n",
       "      <td>...</td>\n",
       "      <td>...</td>\n",
       "      <td>...</td>\n",
       "    </tr>\n",
       "    <tr>\n",
       "      <th>44990</th>\n",
       "      <td>Те, что писают в душе, и лжецы!</td>\n",
       "      <td>В жизни есть два типа людей</td>\n",
       "      <td>11</td>\n",
       "    </tr>\n",
       "    <tr>\n",
       "      <th>44991</th>\n",
       "      <td>Это объясняет, что случилось с теми килограмма...</td>\n",
       "      <td>[Проблема решена] Говорят, когда вы бреете вол...</td>\n",
       "      <td>11</td>\n",
       "    </tr>\n",
       "    <tr>\n",
       "      <th>44992</th>\n",
       "      <td>Мокрый нос.</td>\n",
       "      <td>В чем разница между близоруким и дальнозорким ...</td>\n",
       "      <td>11</td>\n",
       "    </tr>\n",
       "    <tr>\n",
       "      <th>44993</th>\n",
       "      <td>Вытащил мидию!</td>\n",
       "      <td>Только что вернулся с дискотеки с морепродуктами.</td>\n",
       "      <td>11</td>\n",
       "    </tr>\n",
       "    <tr>\n",
       "      <th>44994</th>\n",
       "      <td>Судья сказал, что не может дать развод по прич...</td>\n",
       "      <td>Вы слышали, что Микки Маус подал на развод с М...</td>\n",
       "      <td>11</td>\n",
       "    </tr>\n",
       "  </tbody>\n",
       "</table>\n",
       "<p>44994 rows × 3 columns</p>\n",
       "</div>"
      ],
      "text/plain": [
       "                                                   punch  \\\n",
       "0                    При условии, что он установит окна.   \n",
       "1                                            / г / Шутки   \n",
       "2      Но на самом деле это глупое сравнение, это как...   \n",
       "3      Мы пошли и выпили. Клевый парень. Хочет быть в...   \n",
       "4          Пожалуйста, не голосуйте. Ее страпон огромен.   \n",
       "...                                                  ...   \n",
       "44990                    Те, что писают в душе, и лжецы!   \n",
       "44991  Это объясняет, что случилось с теми килограмма...   \n",
       "44992                                        Мокрый нос.   \n",
       "44993                                     Вытащил мидию!   \n",
       "44994  Судья сказал, что не может дать развод по прич...   \n",
       "\n",
       "                                                   setup   mark  \n",
       "0      Срочные новости: Билл Гейтс согласился заплати...  48526  \n",
       "1      Я нашел место, где уровень утилизации составля...  45500  \n",
       "2      Стив Джобс был бы лучшим президентом, чем Дона...  39570  \n",
       "3      Моя девушка посоветовала мне вытащить паука, а...  36421  \n",
       "4      На каждый положительный голос мы с моей девушк...  35772  \n",
       "...                                                  ...    ...  \n",
       "44990                        В жизни есть два типа людей     11  \n",
       "44991  [Проблема решена] Говорят, когда вы бреете вол...     11  \n",
       "44992  В чем разница между близоруким и дальнозорким ...     11  \n",
       "44993  Только что вернулся с дискотеки с морепродуктами.     11  \n",
       "44994  Вы слышали, что Микки Маус подал на развод с М...     11  \n",
       "\n",
       "[44994 rows x 3 columns]"
      ]
     },
     "execution_count": 137,
     "metadata": {},
     "output_type": "execute_result"
    }
   ],
   "source": [
    "rus_reddit_df"
   ]
  },
  {
   "cell_type": "code",
   "execution_count": 138,
   "id": "fc364935",
   "metadata": {
    "hidden": true,
    "pycharm": {
     "name": "#%%\n"
    }
   },
   "outputs": [],
   "source": [
    "rus_reddit_df.to_csv('data/eng-joke-dataset/reddit-rus-dataset.tsv',\n",
    "                 sep='\\t', index=False)"
   ]
  },
  {
   "cell_type": "markdown",
   "id": "da251e78",
   "metadata": {
    "heading_collapsed": true,
    "hidden": true,
    "pycharm": {
     "name": "#%% md\n"
    }
   },
   "source": [
    "### Wocka"
   ]
  },
  {
   "cell_type": "code",
   "execution_count": 19,
   "id": "a591570c",
   "metadata": {
    "hidden": true,
    "pycharm": {
     "name": "#%%\n"
    }
   },
   "outputs": [],
   "source": [
    "with open('wocka.json') as f:\n",
    "    wocka_dict = json.load(f)"
   ]
  },
  {
   "cell_type": "code",
   "execution_count": 20,
   "id": "45283be0",
   "metadata": {
    "hidden": true,
    "pycharm": {
     "name": "#%%\n"
    }
   },
   "outputs": [
    {
     "data": {
      "text/plain": [
       "{'body': \"What's black and white and red all over?\\r\\n\\r\\nA newspaper.\",\n",
       " 'category': 'Other / Misc',\n",
       " 'id': 4,\n",
       " 'title': 'Black, White and Red'}"
      ]
     },
     "execution_count": 20,
     "metadata": {},
     "output_type": "execute_result"
    }
   ],
   "source": [
    "wocka_dict[2]"
   ]
  },
  {
   "cell_type": "code",
   "execution_count": 25,
   "id": "ad91681b",
   "metadata": {
    "hidden": true,
    "pycharm": {
     "name": "#%%\n"
    }
   },
   "outputs": [],
   "source": [
    "wocka_df = pd.DataFrame(wocka_dict) \\\n",
    "    .drop(['id', 'title'], axis=1) \\\n",
    "    .rename(columns={'body': 'punch'}) \n",
    "\n",
    "wocka_df.punch = wocka_df.punch.str.replace('\\n', '').replace('\\t', '')\n",
    "\n",
    "# Specify len < 500\n",
    "wocka_df = wocka_df.loc[wocka_df.punch.apply(len) <= 500]\n",
    "wocka_df = wocka_df.loc[wocka_df.punch.apply(len) > 5]\n",
    "\n",
    "wocka_df['rus_punch'] = None"
   ]
  },
  {
   "cell_type": "code",
   "execution_count": null,
   "id": "8ce09ac5",
   "metadata": {
    "hidden": true,
    "pycharm": {
     "name": "#%%\n"
    }
   },
   "outputs": [],
   "source": [
    "wocka_df = pd.read_csv('data/eng-joke-dataset/wocka-dataset.tsv',\n",
    "                        sep='\\t')"
   ]
  },
  {
   "cell_type": "code",
   "execution_count": null,
   "id": "eaff6e35",
   "metadata": {
    "hidden": true,
    "pycharm": {
     "name": "#%%\n"
    }
   },
   "outputs": [],
   "source": [
    "while True:\n",
    "    need_translate_df = wocka_df.loc[wocka_df['rus_punch'].isna()]\n",
    "    \n",
    "    if len(need_translate_df) == 0:\n",
    "        break\n",
    "        \n",
    "    print(len(need_translate_df))\n",
    "    \n",
    "    need_translate_index_sample = need_translate_df.iloc[0: min(1000, len(need_translate_df))].index\n",
    "    \n",
    "    wocka_df.loc[need_translate_index_sample, 'rus_punch'] = \\\n",
    "        wocka_df.loc[need_translate_index_sample, 'punch'].progress_apply(translate_eng2rus)"
   ]
  },
  {
   "cell_type": "code",
   "execution_count": null,
   "id": "dfcf482e",
   "metadata": {
    "hidden": true,
    "pycharm": {
     "name": "#%%\n"
    }
   },
   "outputs": [],
   "source": [
    "wocka_df = wocka_df[['rus_punch', 'category']] \\\n",
    "    .rename(columns={'rus_punch': 'joke'})\n",
    "\n",
    "remove_tokens = lambda text: re.sub(r'\\r|\\n|\\t', '', text)\n",
    "\n",
    "wocka_df.joke = wocka_df.joke.apply(remove_tokens)"
   ]
  },
  {
   "cell_type": "code",
   "execution_count": null,
   "id": "19c39a22",
   "metadata": {
    "hidden": true,
    "pycharm": {
     "name": "#%%\n"
    }
   },
   "outputs": [],
   "source": [
    "wocka_df.to_csv('data/eng-joke-dataset/wocka-dataset.tsv',\n",
    "                 sep='\\t', index=False)"
   ]
  },
  {
   "cell_type": "code",
   "execution_count": 28,
   "id": "44884142",
   "metadata": {
    "hidden": true,
    "pycharm": {
     "name": "#%%\n"
    }
   },
   "outputs": [
    {
     "data": {
      "text/html": [
       "<div>\n",
       "<style scoped>\n",
       "    .dataframe tbody tr th:only-of-type {\n",
       "        vertical-align: middle;\n",
       "    }\n",
       "\n",
       "    .dataframe tbody tr th {\n",
       "        vertical-align: top;\n",
       "    }\n",
       "\n",
       "    .dataframe thead th {\n",
       "        text-align: right;\n",
       "    }\n",
       "</style>\n",
       "<table border=\"1\" class=\"dataframe\">\n",
       "  <thead>\n",
       "    <tr style=\"text-align: right;\">\n",
       "      <th></th>\n",
       "      <th>punch</th>\n",
       "      <th>category</th>\n",
       "    </tr>\n",
       "  </thead>\n",
       "  <tbody>\n",
       "    <tr>\n",
       "      <th>0</th>\n",
       "      <td>What do you call a cow with no legs?\\r\\n\\r\\nGr...</td>\n",
       "      <td>Animal</td>\n",
       "    </tr>\n",
       "    <tr>\n",
       "      <th>1</th>\n",
       "      <td>What do you call a cow jumping over a barbed w...</td>\n",
       "      <td>Animal</td>\n",
       "    </tr>\n",
       "    <tr>\n",
       "      <th>2</th>\n",
       "      <td>What's black and white and red all over?\\r\\n\\r...</td>\n",
       "      <td>Other / Misc</td>\n",
       "    </tr>\n",
       "    <tr>\n",
       "      <th>3</th>\n",
       "      <td>So, this guy walks into a bar.\\r\\n\\r\\nAnd says...</td>\n",
       "      <td>Bar</td>\n",
       "    </tr>\n",
       "    <tr>\n",
       "      <th>4</th>\n",
       "      <td>If the opposite of pro is con, isn't the oppos...</td>\n",
       "      <td>One Liners</td>\n",
       "    </tr>\n",
       "    <tr>\n",
       "      <th>...</th>\n",
       "      <td>...</td>\n",
       "      <td>...</td>\n",
       "    </tr>\n",
       "    <tr>\n",
       "      <th>10014</th>\n",
       "      <td>(A man comes to my register with a mint chocol...</td>\n",
       "      <td>Men / Women</td>\n",
       "    </tr>\n",
       "    <tr>\n",
       "      <th>10015</th>\n",
       "      <td>(I am shelving DVDs in a library when a man co...</td>\n",
       "      <td>Children</td>\n",
       "    </tr>\n",
       "    <tr>\n",
       "      <th>10016</th>\n",
       "      <td>Me: \"That will be 17.50, please.\"\\r\\n\\r\\nCusto...</td>\n",
       "      <td>Religious</td>\n",
       "    </tr>\n",
       "    <tr>\n",
       "      <th>10017</th>\n",
       "      <td>Me: \"Sir, would you like to use any coupons to...</td>\n",
       "      <td>At Work</td>\n",
       "    </tr>\n",
       "    <tr>\n",
       "      <th>10018</th>\n",
       "      <td>Customer: \"Are you Hispanic?\"\\r\\n\\r\\nMe: \"No.\"...</td>\n",
       "      <td>Insults</td>\n",
       "    </tr>\n",
       "  </tbody>\n",
       "</table>\n",
       "<p>10019 rows × 2 columns</p>\n",
       "</div>"
      ],
      "text/plain": [
       "                                                   punch      category\n",
       "0      What do you call a cow with no legs?\\r\\n\\r\\nGr...        Animal\n",
       "1      What do you call a cow jumping over a barbed w...        Animal\n",
       "2      What's black and white and red all over?\\r\\n\\r...  Other / Misc\n",
       "3      So, this guy walks into a bar.\\r\\n\\r\\nAnd says...           Bar\n",
       "4      If the opposite of pro is con, isn't the oppos...    One Liners\n",
       "...                                                  ...           ...\n",
       "10014  (A man comes to my register with a mint chocol...   Men / Women\n",
       "10015  (I am shelving DVDs in a library when a man co...      Children\n",
       "10016  Me: \"That will be 17.50, please.\"\\r\\n\\r\\nCusto...     Religious\n",
       "10017  Me: \"Sir, would you like to use any coupons to...       At Work\n",
       "10018  Customer: \"Are you Hispanic?\"\\r\\n\\r\\nMe: \"No.\"...       Insults\n",
       "\n",
       "[10019 rows x 2 columns]"
      ]
     },
     "execution_count": 28,
     "metadata": {},
     "output_type": "execute_result"
    }
   ],
   "source": [
    "wocka_df"
   ]
  },
  {
   "cell_type": "markdown",
   "id": "69cf38ad",
   "metadata": {
    "heading_collapsed": true,
    "pycharm": {
     "name": "#%% md\n"
    }
   },
   "source": [
    "## Twitter dataset"
   ]
  },
  {
   "cell_type": "markdown",
   "source": [
    "Dataset collected in twitter (russian researches which already tried to solve this problem). On russian language. No marks."
   ],
   "metadata": {
    "collapsed": false,
    "pycharm": {
     "name": "#%% md\n"
    }
   }
  },
  {
   "cell_type": "code",
   "execution_count": 58,
   "id": "8dfb3aef",
   "metadata": {
    "hidden": true,
    "pycharm": {
     "name": "#%%\n"
    }
   },
   "outputs": [],
   "source": [
    "import pandas as pd\n",
    "import json"
   ]
  },
  {
   "cell_type": "code",
   "execution_count": 59,
   "id": "d3604e0f",
   "metadata": {
    "hidden": true,
    "pycharm": {
     "name": "#%%\n"
    }
   },
   "outputs": [],
   "source": [
    "with open('data/tweets-dataset/train.json') as f:\n",
    "    train_json = json.load(f)"
   ]
  },
  {
   "cell_type": "code",
   "execution_count": 22,
   "id": "cbdb0b7d",
   "metadata": {
    "hidden": true,
    "pycharm": {
     "name": "#%%\n"
    }
   },
   "outputs": [],
   "source": [
    "with open('data/tweets-dataset/test.json') as f:\n",
    "    test_json = json.load(f)"
   ]
  },
  {
   "cell_type": "code",
   "execution_count": 25,
   "id": "0b14fe8c",
   "metadata": {
    "hidden": true,
    "pycharm": {
     "name": "#%%\n"
    }
   },
   "outputs": [],
   "source": [
    "df = pd.concat([\n",
    "    pd.DataFrame(train_json.items(), columns=['joke', 'is_joke']),\n",
    "    pd.DataFrame(test_json.items(), columns=['joke', 'is_joke']),\n",
    "], axis=0)\n",
    "df = df.loc[df.is_joke == 1][['joke']]"
   ]
  },
  {
   "cell_type": "code",
   "execution_count": 26,
   "id": "de2ca7c2",
   "metadata": {
    "hidden": true,
    "pycharm": {
     "name": "#%%\n"
    }
   },
   "outputs": [],
   "source": [
    "df.to_csv('data/tweets-dataset/tweeter_jokes.tsv', sep='\\t', index=False)"
   ]
  },
  {
   "cell_type": "code",
   "execution_count": 27,
   "id": "3a9cb65f",
   "metadata": {
    "hidden": true,
    "pycharm": {
     "name": "#%%\n"
    }
   },
   "outputs": [
    {
     "data": {
      "text/plain": [
       "(156605, 1)"
      ]
     },
     "execution_count": 27,
     "metadata": {},
     "output_type": "execute_result"
    }
   ],
   "source": [
    "df.shape"
   ]
  },
  {
   "cell_type": "code",
   "execution_count": 28,
   "id": "82b7018b",
   "metadata": {
    "hidden": true,
    "pycharm": {
     "name": "#%%\n"
    }
   },
   "outputs": [
    {
     "data": {
      "text/html": [
       "<div>\n",
       "<style scoped>\n",
       "    .dataframe tbody tr th:only-of-type {\n",
       "        vertical-align: middle;\n",
       "    }\n",
       "\n",
       "    .dataframe tbody tr th {\n",
       "        vertical-align: top;\n",
       "    }\n",
       "\n",
       "    .dataframe thead th {\n",
       "        text-align: right;\n",
       "    }\n",
       "</style>\n",
       "<table border=\"1\" class=\"dataframe\">\n",
       "  <thead>\n",
       "    <tr style=\"text-align: right;\">\n",
       "      <th></th>\n",
       "      <th>joke</th>\n",
       "    </tr>\n",
       "  </thead>\n",
       "  <tbody>\n",
       "    <tr>\n",
       "      <th>68637</th>\n",
       "      <td>- Скажите, Холмс, а почему в Сочи не приедет О...</td>\n",
       "    </tr>\n",
       "  </tbody>\n",
       "</table>\n",
       "</div>"
      ],
      "text/plain": [
       "                                                    joke\n",
       "68637  - Скажите, Холмс, а почему в Сочи не приедет О..."
      ]
     },
     "execution_count": 28,
     "metadata": {},
     "output_type": "execute_result"
    }
   ],
   "source": [
    "df.sample()"
   ]
  },
  {
   "cell_type": "markdown",
   "source": [
    "## Stat parsed dataset"
   ],
   "metadata": {
    "collapsed": false,
    "pycharm": {
     "name": "#%% md\n"
    }
   }
  },
  {
   "cell_type": "markdown",
   "source": [
    "Dataset parsed from stat site from different channels. With mark for each joke."
   ],
   "metadata": {
    "collapsed": false,
    "pycharm": {
     "name": "#%% md\n"
    }
   }
  },
  {
   "cell_type": "code",
   "execution_count": 23,
   "outputs": [],
   "source": [
    "import os\n",
    "from glob import glob\n",
    "import re\n",
    "import pandas as pd\n",
    "\n",
    "from tqdm import tqdm\n",
    "tqdm.pandas()"
   ],
   "metadata": {
    "collapsed": false,
    "pycharm": {
     "name": "#%%\n"
    }
   }
  },
  {
   "cell_type": "code",
   "execution_count": 36,
   "outputs": [
    {
     "data": {
      "text/plain": "'@anekdot18|@AnekdotiRu|Анекдоты🔞|@anekdot_hot|@anekdotitg18|@anekdoti69|Пошлые анекдоты🔞'"
     },
     "execution_count": 36,
     "metadata": {},
     "output_type": "execute_result"
    }
   ],
   "source": [
    "'|'.join(['@anekdot18', '@AnekdotiRu', 'Анекдоты🔞', '@anekdot_hot',\n",
    "                  '@anekdotitg18', '@anekdoti69', 'Пошлые анекдоты🔞'])"
   ],
   "metadata": {
    "collapsed": false,
    "pycharm": {
     "name": "#%%\n"
    }
   }
  },
  {
   "cell_type": "code",
   "execution_count": 33,
   "outputs": [],
   "source": [
    "def remove_stopwords(sr_: pd.Series):\n",
    "    sr = sr_.copy()\n",
    "    stop_words = ['@anekdot18', '@AnekdotiRu', 'Анекдоты🔞', '@anekdot_hot',\n",
    "                  '@anekdotitg18', '@anekdoti69', 'Пошлые анекдоты🔞']\n",
    "    for stop_word in stop_words:\n",
    "        sr = sr.str.replace(stop_word, '')\n",
    "    return sr"
   ],
   "metadata": {
    "collapsed": false,
    "pycharm": {
     "name": "#%%\n"
    }
   }
  },
  {
   "cell_type": "code",
   "execution_count": null,
   "outputs": [],
   "source": [
    "def remove_urls(sr_: pd.Series):\n",
    "    sr = sr_.copy()\n",
    "\n",
    "    re.sub(r'^https?:\\/\\/.*[\\r\\n]*', '', text\n",
    "\n",
    "\n",
    "\n",
    "    return sr"
   ],
   "metadata": {
    "collapsed": false,
    "pycharm": {
     "name": "#%%\n"
    }
   }
  },
  {
   "cell_type": "code",
   "execution_count": 46,
   "outputs": [
    {
     "data": {
      "text/plain": "(44996, 4)"
     },
     "execution_count": 46,
     "metadata": {},
     "output_type": "execute_result"
    }
   ],
   "source": [
    "df = pd.DataFrame()\n",
    "for filepath in glob('data/parsed-stat-dataset/parsed_chunk_*.csv'):\n",
    "    temp_df = pd.read_csv(filepath, sep=';', engine='python')\n",
    "\n",
    "    # Remove stop words\n",
    "    temp_df.joke_text = temp_df.joke_text.replace(r'@anekdot18|@AnekdotiRu|Анекдоты🔞|@anekdot_hot|@anekdotitg18|@anekdoti69|Пошлые анекдоты🔞', '', regex=True)\n",
    "    # Remove urls\n",
    "    temp_df.joke_text = temp_df.joke_text.replace(r'https?:\\/\\/.*[\\r\\n]*', '', regex=True)\n",
    "    # Filter by len\n",
    "    temp_df = temp_df.loc[temp_df.joke_text.str.len() > 10]\n",
    "\n",
    "    # Mark binarization\n",
    "    temp_df.joke_mark = pd.qcut(temp_df.joke_mark, 10, labels=False, duplicates='drop')\n",
    "\n",
    "    # print(temp_df.joke_text.sample(3).values)\n",
    "\n",
    "    df = pd.concat([df, temp_df], axis=0)\n",
    "df.shape"
   ],
   "metadata": {
    "collapsed": false,
    "pycharm": {
     "name": "#%%\n"
    }
   }
  },
  {
   "cell_type": "code",
   "execution_count": 47,
   "outputs": [
    {
     "data": {
      "text/plain": "                                     id  \\\n0  4ef4738c-ce5d-4872-a2fc-56e0f35e0bd1   \n1  9757f6f3-06e0-4cfc-861c-697439c7a31f   \n2  1f4711db-f42d-4adb-96da-82d92b73908d   \n3  efc65564-c5f0-4325-8d48-2ce0ff3e181f   \n4  829ac993-0b70-472e-a76f-e8425b6b0285   \n\n                                           joke_text         joke_date  \\\n0  Однажды учёные решили провести эксперимент, ка...  2022-08-17 23:59   \n1  Два мужика бухают. Закончилась водка, а денег ...  2022-08-17 23:01   \n2  Выпивают три мужика.\\nОдин говорит:\\n— Если мы...  2022-08-17 20:07   \n3  Да ты че не знаешь? Петрович умер...\\n- Да ты ...  2022-08-17 19:07   \n4  У моего парня небольшой, сантиметров 13 где-то...  2022-08-17 18:07   \n\n   joke_mark  \n0          1  \n1          0  \n2          2  \n3          2  \n4          0  ",
      "text/html": "<div>\n<style scoped>\n    .dataframe tbody tr th:only-of-type {\n        vertical-align: middle;\n    }\n\n    .dataframe tbody tr th {\n        vertical-align: top;\n    }\n\n    .dataframe thead th {\n        text-align: right;\n    }\n</style>\n<table border=\"1\" class=\"dataframe\">\n  <thead>\n    <tr style=\"text-align: right;\">\n      <th></th>\n      <th>id</th>\n      <th>joke_text</th>\n      <th>joke_date</th>\n      <th>joke_mark</th>\n    </tr>\n  </thead>\n  <tbody>\n    <tr>\n      <th>0</th>\n      <td>4ef4738c-ce5d-4872-a2fc-56e0f35e0bd1</td>\n      <td>Однажды учёные решили провести эксперимент, ка...</td>\n      <td>2022-08-17 23:59</td>\n      <td>1</td>\n    </tr>\n    <tr>\n      <th>1</th>\n      <td>9757f6f3-06e0-4cfc-861c-697439c7a31f</td>\n      <td>Два мужика бухают. Закончилась водка, а денег ...</td>\n      <td>2022-08-17 23:01</td>\n      <td>0</td>\n    </tr>\n    <tr>\n      <th>2</th>\n      <td>1f4711db-f42d-4adb-96da-82d92b73908d</td>\n      <td>Выпивают три мужика.\\nОдин говорит:\\n— Если мы...</td>\n      <td>2022-08-17 20:07</td>\n      <td>2</td>\n    </tr>\n    <tr>\n      <th>3</th>\n      <td>efc65564-c5f0-4325-8d48-2ce0ff3e181f</td>\n      <td>Да ты че не знаешь? Петрович умер...\\n- Да ты ...</td>\n      <td>2022-08-17 19:07</td>\n      <td>2</td>\n    </tr>\n    <tr>\n      <th>4</th>\n      <td>829ac993-0b70-472e-a76f-e8425b6b0285</td>\n      <td>У моего парня небольшой, сантиметров 13 где-то...</td>\n      <td>2022-08-17 18:07</td>\n      <td>0</td>\n    </tr>\n  </tbody>\n</table>\n</div>"
     },
     "execution_count": 47,
     "metadata": {},
     "output_type": "execute_result"
    }
   ],
   "source": [
    "df.head()"
   ],
   "metadata": {
    "collapsed": false,
    "pycharm": {
     "name": "#%%\n"
    }
   }
  },
  {
   "cell_type": "code",
   "execution_count": 48,
   "outputs": [
    {
     "data": {
      "text/plain": "<AxesSubplot:>"
     },
     "execution_count": 48,
     "metadata": {},
     "output_type": "execute_result"
    },
    {
     "data": {
      "text/plain": "<Figure size 432x288 with 1 Axes>",
      "image/png": "[encoded data removed]"
     },
     "metadata": {
      "needs_background": "light"
     },
     "output_type": "display_data"
    }
   ],
   "source": [
    "df.joke_mark.hist()"
   ],
   "metadata": {
    "collapsed": false,
    "pycharm": {
     "name": "#%%\n"
    }
   }
  },
  {
   "cell_type": "code",
   "execution_count": 49,
   "outputs": [],
   "source": [
    "df.rename(columns={'joke_text': 'joke', 'joke_mark': 'mark'}) \\\n",
    "    [['joke', 'mark']] \\\n",
    "    .to_csv('data/parsed-stat-dataset/stat-dataset.csv', sep=';', index=False)"
   ],
   "metadata": {
    "collapsed": false,
    "pycharm": {
     "name": "#%%\n"
    }
   }
  },
  {
   "cell_type": "markdown",
   "id": "e70ed095",
   "metadata": {
    "heading_collapsed": true,
    "pycharm": {
     "name": "#%% md\n"
    }
   },
   "source": [
    "## Anecdote dataset"
   ]
  },
  {
   "cell_type": "markdown",
   "source": [
    "Anecdotes were parsed with selenium from site. With mark for each joke."
   ],
   "metadata": {
    "collapsed": false,
    "pycharm": {
     "name": "#%% md\n"
    }
   }
  },
  {
   "cell_type": "code",
   "execution_count": 66,
   "id": "34cd6736",
   "metadata": {
    "hidden": true,
    "pycharm": {
     "name": "#%%\n"
    }
   },
   "outputs": [],
   "source": [
    "import pandas as pd"
   ]
  },
  {
   "cell_type": "code",
   "execution_count": 67,
   "id": "876ad800",
   "metadata": {
    "hidden": true,
    "pycharm": {
     "name": "#%%\n"
    }
   },
   "outputs": [
    {
     "data": {
      "text/plain": "(82900, 2)"
     },
     "execution_count": 67,
     "metadata": {},
     "output_type": "execute_result"
    }
   ],
   "source": [
    "df = pd.read_csv('data/anecdote-dataset/anecdote_dataset.tsv', sep='\\t')\n",
    "# Mark binarization\n",
    "df.likes = pd.qcut(df.likes, 10, labels=False, duplicates='drop')\n",
    "df.shape"
   ]
  },
  {
   "cell_type": "code",
   "execution_count": 68,
   "id": "3afb5398",
   "metadata": {
    "hidden": true,
    "pycharm": {
     "name": "#%%\n"
    }
   },
   "outputs": [
    {
     "data": {
      "text/plain": "                                           joke_text  likes\n0  - Все проблемы в Думе решит Максим.\\n- Это кто...      8\n1  Муж с женой в постели. Жена спит, мужу не спит...      7\n2  Никогда не забывай свои корни! Постоянно закра...      7\n3  - Скажите, вы - натуральная блондинка?\\n- Ммм....      5\n4  Ходил с друзьями на курсы по избавлению от мат...      5",
      "text/html": "<div>\n<style scoped>\n    .dataframe tbody tr th:only-of-type {\n        vertical-align: middle;\n    }\n\n    .dataframe tbody tr th {\n        vertical-align: top;\n    }\n\n    .dataframe thead th {\n        text-align: right;\n    }\n</style>\n<table border=\"1\" class=\"dataframe\">\n  <thead>\n    <tr style=\"text-align: right;\">\n      <th></th>\n      <th>joke_text</th>\n      <th>likes</th>\n    </tr>\n  </thead>\n  <tbody>\n    <tr>\n      <th>0</th>\n      <td>- Все проблемы в Думе решит Максим.\\n- Это кто...</td>\n      <td>8</td>\n    </tr>\n    <tr>\n      <th>1</th>\n      <td>Муж с женой в постели. Жена спит, мужу не спит...</td>\n      <td>7</td>\n    </tr>\n    <tr>\n      <th>2</th>\n      <td>Никогда не забывай свои корни! Постоянно закра...</td>\n      <td>7</td>\n    </tr>\n    <tr>\n      <th>3</th>\n      <td>- Скажите, вы - натуральная блондинка?\\n- Ммм....</td>\n      <td>5</td>\n    </tr>\n    <tr>\n      <th>4</th>\n      <td>Ходил с друзьями на курсы по избавлению от мат...</td>\n      <td>5</td>\n    </tr>\n  </tbody>\n</table>\n</div>"
     },
     "execution_count": 68,
     "metadata": {},
     "output_type": "execute_result"
    }
   ],
   "source": [
    "df.head()"
   ]
  },
  {
   "cell_type": "code",
   "execution_count": 69,
   "outputs": [
    {
     "data": {
      "text/plain": "<AxesSubplot:>"
     },
     "execution_count": 69,
     "metadata": {},
     "output_type": "execute_result"
    },
    {
     "data": {
      "text/plain": "<Figure size 432x288 with 1 Axes>",
      "image/png": "[encoded data removed]"
     },
     "metadata": {
      "needs_background": "light"
     },
     "output_type": "display_data"
    }
   ],
   "source": [
    "df.likes.hist()"
   ],
   "metadata": {
    "collapsed": false,
    "pycharm": {
     "name": "#%%\n"
    }
   }
  },
  {
   "cell_type": "code",
   "execution_count": 70,
   "outputs": [],
   "source": [
    "df.rename(columns={'joke_text': 'joke', 'likes': 'mark'}) \\\n",
    "    [['joke', 'mark']] \\\n",
    "    .to_csv('data/anecdote-dataset/anecdote_dataset_bin.tsv', sep='\\t', index=False)"
   ],
   "metadata": {
    "collapsed": false,
    "pycharm": {
     "name": "#%%\n"
    }
   }
  },
  {
   "cell_type": "markdown",
   "source": [
    "# Join datasets"
   ],
   "metadata": {
    "collapsed": false,
    "pycharm": {
     "name": "#%% md\n"
    }
   }
  },
  {
   "cell_type": "code",
   "execution_count": 5,
   "outputs": [],
   "source": [
    "import pandas as pd\n",
    "import numpy as np\n",
    "import re\n",
    "import plotly.express as px"
   ],
   "metadata": {
    "collapsed": false,
    "pycharm": {
     "name": "#%%\n"
    }
   }
  },
  {
   "cell_type": "code",
   "execution_count": 6,
   "outputs": [],
   "source": [
    "anecdote_df = pd.read_csv('data/anecdote-dataset/anecdote_dataset_bin.tsv', sep='\\t')[['joke']]\n",
    "kvn_df = pd.read_csv('data/kvn-dataset/kvn_dataset.tsv', sep='\\t') \\\n",
    "    .rename(columns={'joke_text': 'joke'})[['joke']]\n",
    "wocka_df = pd.read_csv('data/eng-joke-dataset/wocka-dataset.tsv', sep='\\t')[['joke']]\n",
    "tweets_df = pd.read_csv('data/tweets-dataset/tweeter_jokes.tsv', sep='\\t')[['joke']]\n",
    "stat_df = pd.read_csv('data/parsed-stat-dataset/stat-dataset.csv', sep=';')[['joke']]"
   ],
   "metadata": {
    "collapsed": false,
    "pycharm": {
     "name": "#%%\n"
    }
   }
  },
  {
   "cell_type": "markdown",
   "id": "5448848f",
   "metadata": {
    "heading_collapsed": true,
    "pycharm": {
     "name": "#%% md\n"
    }
   },
   "source": [
    "## Complete jokes dataset"
   ]
  },
  {
   "cell_type": "markdown",
   "source": [
    "Concatenation of different datasets into one dataset.\n",
    "Trying to split jokes into setup-punch pairs. If split is impossible, then save complete joke."
   ],
   "metadata": {
    "collapsed": false,
    "pycharm": {
     "name": "#%% md\n"
    }
   }
  },
  {
   "cell_type": "code",
   "execution_count": 50,
   "id": "97e0b9ae",
   "metadata": {
    "hidden": true,
    "pycharm": {
     "name": "#%%\n"
    }
   },
   "outputs": [
    {
     "data": {
      "text/plain": "(294195, 1)"
     },
     "execution_count": 50,
     "metadata": {},
     "output_type": "execute_result"
    }
   ],
   "source": [
    "complete_joke_df = pd.concat([stat_df, anecdote_df, kvn_df, wocka_df, tweets_df], axis=0) \\\n",
    "    .reset_index(drop=True)\n",
    "complete_joke_df.shape"
   ]
  },
  {
   "cell_type": "code",
   "execution_count": 51,
   "outputs": [
    {
     "data": {
      "text/plain": "(278181, 1)"
     },
     "execution_count": 51,
     "metadata": {},
     "output_type": "execute_result"
    }
   ],
   "source": [
    "# Clean\n",
    "def remove_special_tokens(text):\n",
    "    result = ''\n",
    "    try:\n",
    "        result = re.sub(r'\\r|\\n|\\t', '', text)\n",
    "    except:\n",
    "        pass\n",
    "    return result\n",
    "\n",
    "complete_joke_df.joke = complete_joke_df.joke.apply(remove_special_tokens)\n",
    "complete_joke_df = complete_joke_df.drop_duplicates(subset=['joke'])\n",
    "complete_joke_df.shape"
   ],
   "metadata": {
    "collapsed": false,
    "pycharm": {
     "name": "#%%\n"
    }
   }
  },
  {
   "cell_type": "code",
   "execution_count": 52,
   "id": "51c2ba77",
   "metadata": {
    "hidden": true,
    "pycharm": {
     "name": "#%%\n"
    }
   },
   "outputs": [
    {
     "data": {
      "text/plain": "                                                     joke\n95794   - \"Кошачий корм стал на 20% вкуснее\". Как они ...\n225143  Муж приходит вечером домой после работы, а его...\n282588  ОБЪЯВЛЕНИЕ Японский ресторан примет на работу ...\n80725   В браке за примерное поведение не отпускают на...\n195894  - Здравствуйте, больной, как там наша нога? - ...",
      "text/html": "<div>\n<style scoped>\n    .dataframe tbody tr th:only-of-type {\n        vertical-align: middle;\n    }\n\n    .dataframe tbody tr th {\n        vertical-align: top;\n    }\n\n    .dataframe thead th {\n        text-align: right;\n    }\n</style>\n<table border=\"1\" class=\"dataframe\">\n  <thead>\n    <tr style=\"text-align: right;\">\n      <th></th>\n      <th>joke</th>\n    </tr>\n  </thead>\n  <tbody>\n    <tr>\n      <th>95794</th>\n      <td>- \"Кошачий корм стал на 20% вкуснее\". Как они ...</td>\n    </tr>\n    <tr>\n      <th>225143</th>\n      <td>Муж приходит вечером домой после работы, а его...</td>\n    </tr>\n    <tr>\n      <th>282588</th>\n      <td>ОБЪЯВЛЕНИЕ Японский ресторан примет на работу ...</td>\n    </tr>\n    <tr>\n      <th>80725</th>\n      <td>В браке за примерное поведение не отпускают на...</td>\n    </tr>\n    <tr>\n      <th>195894</th>\n      <td>- Здравствуйте, больной, как там наша нога? - ...</td>\n    </tr>\n  </tbody>\n</table>\n</div>"
     },
     "execution_count": 52,
     "metadata": {},
     "output_type": "execute_result"
    }
   ],
   "source": [
    "complete_joke_df.sample(5)"
   ]
  },
  {
   "cell_type": "markdown",
   "source": [
    "px.histogram(complete_joke_df.joke.str.len())"
   ],
   "metadata": {
    "collapsed": false,
    "pycharm": {
     "name": "#%% md\n"
    }
   }
  },
  {
   "cell_type": "markdown",
   "id": "ffc49ddb",
   "metadata": {
    "hidden": true,
    "pycharm": {
     "name": "#%% md\n"
    }
   },
   "source": [
    "### Try to find setup and punch in complete joke"
   ]
  },
  {
   "cell_type": "code",
   "execution_count": 53,
   "id": "d4f0e348",
   "metadata": {
    "hidden": true,
    "pycharm": {
     "name": "#%%\n"
    }
   },
   "outputs": [],
   "source": [
    "def setup_punch_split(text):\n",
    "    parts = re.split(r'\\.{3}|\\.|\\?|\\!|:', text)\n",
    "    \n",
    "    if (len(parts) > 3) or (len(parts) < 2):\n",
    "        return None\n",
    "    \n",
    "    if (len(parts[-1]) == 0):\n",
    "        parts = parts[:-1]\n",
    "        \n",
    "    if (len(parts) == 2) and (len(parts[0]) > 10) and (len(parts[1]) > 10):\n",
    "        return (parts[0].strip(), parts[1].strip())"
   ]
  },
  {
   "cell_type": "code",
   "execution_count": 54,
   "id": "28c3f2a5",
   "metadata": {
    "hidden": true,
    "pycharm": {
     "name": "#%%\n"
    }
   },
   "outputs": [
    {
     "data": {
      "text/plain": "(67772, 2)"
     },
     "execution_count": 54,
     "metadata": {},
     "output_type": "execute_result"
    }
   ],
   "source": [
    "punch_setup_df = complete_joke_df.copy()\n",
    "punch_setup_df['setup_punch'] = punch_setup_df.joke.apply(setup_punch_split)\n",
    "punch_setup_df = punch_setup_df.loc[~punch_setup_df.setup_punch.isna()]\n",
    "punch_setup_df.shape"
   ]
  },
  {
   "cell_type": "code",
   "execution_count": 55,
   "id": "203d075a",
   "metadata": {
    "hidden": true,
    "pycharm": {
     "name": "#%%\n"
    }
   },
   "outputs": [],
   "source": [
    "punch_setup_df = pd.DataFrame(punch_setup_df.setup_punch.tolist(), columns=['setup', 'punch'])"
   ]
  },
  {
   "cell_type": "code",
   "execution_count": 56,
   "id": "41a4eda2",
   "metadata": {
    "hidden": true,
    "pycharm": {
     "name": "#%%\n"
    }
   },
   "outputs": [
    {
     "data": {
      "text/plain": "(221115, 1)"
     },
     "execution_count": 56,
     "metadata": {},
     "output_type": "execute_result"
    }
   ],
   "source": [
    "# Remove setup-punch from complete dataset\n",
    "complete_joke_df = complete_joke_df.loc[~complete_joke_df.index.isin(punch_setup_df.index)]\n",
    "complete_joke_df.shape"
   ]
  },
  {
   "cell_type": "code",
   "execution_count": 57,
   "id": "77135dce",
   "metadata": {
    "hidden": true,
    "pycharm": {
     "name": "#%%\n"
    }
   },
   "outputs": [],
   "source": [
    "# Save\n",
    "punch_setup_df.to_csv('data/agg-setup-punch-dataset/setup-punch-from-complete-jokes.csv', index=False)\n",
    "complete_joke_df.to_csv('data/agg-complete-text-dataset/agg-complete-text-dataset.csv', index=False)"
   ]
  },
  {
   "cell_type": "markdown",
   "id": "520e3e87",
   "metadata": {
    "heading_collapsed": true,
    "pycharm": {
     "name": "#%% md\n"
    }
   },
   "source": [
    "## Setup-punch datasets"
   ]
  },
  {
   "cell_type": "markdown",
   "source": [
    "Concatenate setup-punch datasets together and clean text."
   ],
   "metadata": {
    "collapsed": false,
    "pycharm": {
     "name": "#%% md\n"
    }
   }
  },
  {
   "cell_type": "code",
   "execution_count": 58,
   "id": "1ba9b325",
   "metadata": {
    "hidden": true,
    "pycharm": {
     "name": "#%%\n"
    }
   },
   "outputs": [],
   "source": [
    "reddit_df = pd.read_csv('data/eng-joke-dataset/reddit-rus-dataset.tsv', sep='\\t') \\\n",
    "    [['setup', 'punch']]\n",
    "from_complete_df = pd.read_csv('data/agg-setup-punch-dataset/setup-punch-from-complete-jokes.csv', sep=',') \\\n",
    "    [['setup', 'punch']]"
   ]
  },
  {
   "cell_type": "code",
   "execution_count": 59,
   "id": "c3453355",
   "metadata": {
    "hidden": true,
    "pycharm": {
     "name": "#%%\n"
    }
   },
   "outputs": [],
   "source": [
    "setup_punch_df = pd.concat([from_complete_df, reddit_df], axis=0)"
   ]
  },
  {
   "cell_type": "code",
   "execution_count": 81,
   "outputs": [
    {
     "data": {
      "text/plain": "(102987, 2)"
     },
     "execution_count": 81,
     "metadata": {},
     "output_type": "execute_result"
    }
   ],
   "source": [
    "# Clean\n",
    "def remove_special_tokens(text):\n",
    "    result = ''\n",
    "    try:\n",
    "        result = re.sub(r'\\r|\\n|\\t', '', text)\n",
    "    except:\n",
    "        pass\n",
    "    return result\n",
    "\n",
    "setup_punch_df.setup = setup_punch_df.setup.apply(remove_special_tokens)\n",
    "setup_punch_df.punch = setup_punch_df.punch.apply(remove_special_tokens)\n",
    "\n",
    "setup_punch_df = setup_punch_df.drop_duplicates(subset=['setup']).dropna()\n",
    "\n",
    "setup_punch_df = setup_punch_df.loc[setup_punch_df.setup.str.len() > 10]\n",
    "setup_punch_df = setup_punch_df.loc[setup_punch_df.punch.str.len() > 0]\n",
    "\n",
    "setup_punch_df.shape"
   ],
   "metadata": {
    "collapsed": false,
    "pycharm": {
     "name": "#%%\n"
    }
   }
  },
  {
   "cell_type": "code",
   "execution_count": 82,
   "id": "0f7e3b29",
   "metadata": {
    "hidden": true,
    "pycharm": {
     "name": "#%%\n"
    }
   },
   "outputs": [
    {
     "data": {
      "text/plain": "                                                   setup  \\\n32986  Чтобы никто не догадался, что Витя тупой, Витя...   \n20922                             - А вы матом ругаетесь   \n25492                                Финансовая компания   \n27021   Два еврея проходят мимо христианской церкви. . .   \n66528  Возвращаясь поздно со службы и видя недовольно...   \n\n                                                   punch  \n32986                              Но он все равно тупой  \n20922           - Не только ругаюсь, но и похвалить могу  \n25492  проводим мониторинг, маркетинг, факторинг, фор...  \n27021  На двери висит табличка с надписью: «Примите х...  \n66528                       К выносу мозга стоять смирно  ",
      "text/html": "<div>\n<style scoped>\n    .dataframe tbody tr th:only-of-type {\n        vertical-align: middle;\n    }\n\n    .dataframe tbody tr th {\n        vertical-align: top;\n    }\n\n    .dataframe thead th {\n        text-align: right;\n    }\n</style>\n<table border=\"1\" class=\"dataframe\">\n  <thead>\n    <tr style=\"text-align: right;\">\n      <th></th>\n      <th>setup</th>\n      <th>punch</th>\n    </tr>\n  </thead>\n  <tbody>\n    <tr>\n      <th>32986</th>\n      <td>Чтобы никто не догадался, что Витя тупой, Витя...</td>\n      <td>Но он все равно тупой</td>\n    </tr>\n    <tr>\n      <th>20922</th>\n      <td>- А вы матом ругаетесь</td>\n      <td>- Не только ругаюсь, но и похвалить могу</td>\n    </tr>\n    <tr>\n      <th>25492</th>\n      <td>Финансовая компания</td>\n      <td>проводим мониторинг, маркетинг, факторинг, фор...</td>\n    </tr>\n    <tr>\n      <th>27021</th>\n      <td>Два еврея проходят мимо христианской церкви. . .</td>\n      <td>На двери висит табличка с надписью: «Примите х...</td>\n    </tr>\n    <tr>\n      <th>66528</th>\n      <td>Возвращаясь поздно со службы и видя недовольно...</td>\n      <td>К выносу мозга стоять смирно</td>\n    </tr>\n  </tbody>\n</table>\n</div>"
     },
     "execution_count": 82,
     "metadata": {},
     "output_type": "execute_result"
    }
   ],
   "source": [
    "setup_punch_df.sample(5)"
   ]
  },
  {
   "cell_type": "markdown",
   "source": [
    "px.histogram(setup_punch_df.setup.str.len())"
   ],
   "metadata": {
    "collapsed": false,
    "pycharm": {
     "name": "#%% md\n"
    }
   }
  },
  {
   "cell_type": "markdown",
   "source": [
    "px.histogram(setup_punch_df.punch.str.len())"
   ],
   "metadata": {
    "collapsed": false,
    "pycharm": {
     "name": "#%% md\n"
    }
   }
  },
  {
   "cell_type": "code",
   "execution_count": 83,
   "outputs": [],
   "source": [
    "setup_punch_df.to_csv('data/agg-setup-punch-dataset/agg-setup-punch-dataset.csv', index=False)\n",
    "split = np.random.choice([0, 1, 2], p=[0.9, 0.08, 0.02], size=len(setup_punch_df))\n",
    "setup_punch_df.iloc[split == 0].to_csv('data/agg-setup-punch-dataset/agg-setup-punch-dataset-train.csv', index=False)\n",
    "setup_punch_df.iloc[split == 1].to_csv('data/agg-setup-punch-dataset/agg-setup-punch-dataset-valid.csv', index=False)\n",
    "setup_punch_df.iloc[split == 2].to_csv('data/agg-setup-punch-dataset/agg-setup-punch-dataset-test.csv', index=False)"
   ],
   "metadata": {
    "collapsed": false,
    "pycharm": {
     "name": "#%%\n"
    }
   }
  },
  {
   "cell_type": "markdown",
   "source": [
    "## Marked jokes dataset"
   ],
   "metadata": {
    "collapsed": false,
    "pycharm": {
     "name": "#%% md\n"
    }
   }
  },
  {
   "cell_type": "markdown",
   "source": [
    "Concatenation of datasets with joke and mark"
   ],
   "metadata": {
    "collapsed": false,
    "pycharm": {
     "name": "#%% md\n"
    }
   }
  },
  {
   "cell_type": "code",
   "execution_count": 18,
   "outputs": [],
   "source": [
    "import pandas as pd\n",
    "import re"
   ],
   "metadata": {
    "collapsed": false,
    "pycharm": {
     "name": "#%%\n"
    }
   }
  },
  {
   "cell_type": "code",
   "execution_count": 19,
   "outputs": [],
   "source": [
    "anecdote_df = pd.read_csv('data/anecdote-dataset/anecdote_dataset_bin.tsv', sep='\\t')[['joke', 'mark']]\n",
    "stat_df = pd.read_csv('data/parsed-stat-dataset/stat-dataset.csv', sep=';')[['joke', 'mark']]"
   ],
   "metadata": {
    "collapsed": false,
    "pycharm": {
     "name": "#%%\n"
    }
   }
  },
  {
   "cell_type": "code",
   "execution_count": 20,
   "outputs": [
    {
     "data": {
      "text/plain": "(130324, 2)"
     },
     "execution_count": 20,
     "metadata": {},
     "output_type": "execute_result"
    }
   ],
   "source": [
    "marked_joke_df = pd.concat([stat_df, anecdote_df], axis=0) \\\n",
    "    .reset_index(drop=True)\n",
    "marked_joke_df.shape"
   ],
   "metadata": {
    "collapsed": false,
    "pycharm": {
     "name": "#%%\n"
    }
   }
  },
  {
   "cell_type": "code",
   "execution_count": 21,
   "outputs": [
    {
     "data": {
      "text/plain": "(119559, 2)"
     },
     "execution_count": 21,
     "metadata": {},
     "output_type": "execute_result"
    }
   ],
   "source": [
    "# Clean\n",
    "def remove_special_tokens(text):\n",
    "    result = ''\n",
    "    try:\n",
    "        result = re.sub(r'\\r|\\n|\\t', '', text)\n",
    "    except:\n",
    "        pass\n",
    "    return result\n",
    "\n",
    "marked_joke_df.joke = marked_joke_df.joke.apply(remove_special_tokens)\n",
    "marked_joke_df = marked_joke_df.drop_duplicates(subset=['joke']).dropna()\n",
    "marked_joke_df.shape"
   ],
   "metadata": {
    "collapsed": false,
    "pycharm": {
     "name": "#%%\n"
    }
   }
  },
  {
   "cell_type": "code",
   "execution_count": 22,
   "outputs": [
    {
     "data": {
      "text/plain": "                                                     joke  mark\n17290   Два обкуренных наркомана стоят на многоэтажке....     0\n116055  Герасим сходил к логопеду. Теперь четче машет ...     8\n13237   Мужик в публичный дом приходит и спрашивает:— ...     2\n100098  Многие мужья хотели бы, чтобы их жены были пох...     3\n36687   Что сказал муж Галины Ивановой,когда та стала ...     0",
      "text/html": "<div>\n<style scoped>\n    .dataframe tbody tr th:only-of-type {\n        vertical-align: middle;\n    }\n\n    .dataframe tbody tr th {\n        vertical-align: top;\n    }\n\n    .dataframe thead th {\n        text-align: right;\n    }\n</style>\n<table border=\"1\" class=\"dataframe\">\n  <thead>\n    <tr style=\"text-align: right;\">\n      <th></th>\n      <th>joke</th>\n      <th>mark</th>\n    </tr>\n  </thead>\n  <tbody>\n    <tr>\n      <th>17290</th>\n      <td>Два обкуренных наркомана стоят на многоэтажке....</td>\n      <td>0</td>\n    </tr>\n    <tr>\n      <th>116055</th>\n      <td>Герасим сходил к логопеду. Теперь четче машет ...</td>\n      <td>8</td>\n    </tr>\n    <tr>\n      <th>13237</th>\n      <td>Мужик в публичный дом приходит и спрашивает:— ...</td>\n      <td>2</td>\n    </tr>\n    <tr>\n      <th>100098</th>\n      <td>Многие мужья хотели бы, чтобы их жены были пох...</td>\n      <td>3</td>\n    </tr>\n    <tr>\n      <th>36687</th>\n      <td>Что сказал муж Галины Ивановой,когда та стала ...</td>\n      <td>0</td>\n    </tr>\n  </tbody>\n</table>\n</div>"
     },
     "execution_count": 22,
     "metadata": {},
     "output_type": "execute_result"
    }
   ],
   "source": [
    "marked_joke_df.sample(5)"
   ],
   "metadata": {
    "collapsed": false,
    "pycharm": {
     "name": "#%%\n"
    }
   }
  },
  {
   "cell_type": "code",
   "execution_count": 23,
   "outputs": [],
   "source": [
    "marked_joke_df.to_csv('data/agg-marked-joke-dataset/agg-marked-joke-dataset.csv', index=False)\n",
    "split = np.random.choice([0, 1, 2], p=[0.9, 0.08, 0.02], size=len(marked_joke_df))\n",
    "marked_joke_df.iloc[split == 0].to_csv('data/agg-marked-joke-dataset/agg-marked-joke-dataset-train.csv', index=False)\n",
    "marked_joke_df.iloc[split == 1].to_csv('data/agg-marked-joke-dataset/agg-marked-joke-dataset-valid.csv', index=False)\n",
    "marked_joke_df.iloc[split == 2].to_csv('data/agg-marked-joke-dataset/agg-marked-joke-dataset-test.csv', index=False)"
   ],
   "metadata": {
    "collapsed": false,
    "pycharm": {
     "name": "#%%\n"
    }
   }
  }
 ],
 "metadata": {
  "kernelspec": {
   "display_name": "Python 3 (ipykernel)",
   "language": "python",
   "name": "python3"
  },
  "language_info": {
   "codemirror_mode": {
    "name": "ipython",
    "version": 3
   },
   "file_extension": ".py",
   "mimetype": "text/x-python",
   "name": "python",
   "nbconvert_exporter": "python",
   "pygments_lexer": "ipython3",
   "version": "3.8.9"
  }
 },
 "nbformat": 4,
 "nbformat_minor": 5
}