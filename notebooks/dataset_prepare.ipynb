{
 "cells": [
  {
   "cell_type": "markdown",
   "source": [
    "All marks in range(0, 9)"
   ],
   "metadata": {
    "collapsed": false,
    "pycharm": {
     "name": "#%% md\n"
    }
   }
  },
  {
   "cell_type": "markdown",
   "source": [
    "# Single datasets preprocessing"
   ],
   "metadata": {
    "collapsed": false,
    "pycharm": {
     "name": "#%% md\n"
    }
   }
  },
  {
   "cell_type": "markdown",
   "id": "efa05cae",
   "metadata": {
    "pycharm": {
     "name": "#%% md\n"
    }
   },
   "source": [
    "## Tg comedy dataset"
   ]
  },
  {
   "cell_type": "markdown",
   "source": [
    "Dataset built manually from telegram comedy channel. It contains setups and different punches from different autors.\n",
    "Every punch has number of likes, which tell us about it quality."
   ],
   "metadata": {
    "collapsed": false,
    "pycharm": {
     "name": "#%% md\n"
    }
   }
  },
  {
   "cell_type": "code",
   "execution_count": 2,
   "id": "4d6f7807",
   "metadata": {
    "pycharm": {
     "name": "#%%\n"
    }
   },
   "outputs": [],
   "source": [
    "import os\n",
    "from glob import glob\n",
    "import re\n",
    "import pandas as pd\n",
    "\n",
    "from tqdm import tqdm\n",
    "tqdm.pandas()"
   ]
  },
  {
   "cell_type": "markdown",
   "id": "89ec6312",
   "metadata": {
    "heading_collapsed": true,
    "pycharm": {
     "name": "#%% md\n"
    }
   },
   "source": [
    "### Create .txt files"
   ]
  },
  {
   "cell_type": "markdown",
   "id": "7f524b3f",
   "metadata": {
    "heading_collapsed": true,
    "pycharm": {
     "name": "#%% md\n"
    }
   },
   "source": [
    "### Convert .txt files to .tsv"
   ]
  },
  {
   "cell_type": "code",
   "execution_count": null,
   "outputs": [],
   "source": [
    "df = pd.DataFrame()\n",
    "pattern = r\"(.+)\\,\\s\\[.*\\]\\:\\n(.+)\"\n",
    "\n",
    "for filepath in glob('../data/comedy-news-tg-dataset/jokes*.txt'):\n",
    "    \n",
    "    if os.path.getsize(filepath) == 0:\n",
    "        continue\n",
    "        \n",
    "    filenum = re.search('\\d+', filepath)[0]\n",
    "    print(filepath, end=', size: ')\n",
    "    \n",
    "    with open(filepath) as f:\n",
    "        setup = f.readline().replace('\\xa0', ' ').strip()[:-1]\n",
    "        \n",
    "        raw_jokes = f.read().replace('\\xa0', ' ').strip()\n",
    "        raw_jokes = re.sub(r'(Н|н)овость(\\W|\\n)*', '', raw_jokes)\n",
    "        raw_jokes = re.sub(f'{setup}(\\W|\\n)*', '', raw_jokes)\n",
    "        \n",
    "    parsed = re.findall(pattern, raw_jokes)\n",
    "    temp_df = pd.DataFrame(parsed, columns=['author', 'punch'])\n",
    "    temp_df['setup'] = setup\n",
    "    temp_df['mark'] = None\n",
    "    \n",
    "    temp_df = temp_df[['setup', 'author', 'punch', 'mark']]\n",
    "    \n",
    "    temp_df.to_csv(f'../data/comedy-news-tg-dataset/tg_{filenum}.tsv', sep='\\t', index=False)\n",
    "    \n",
    "    print(temp_df.shape[0])\n",
    "    df = df.append(temp_df)"
   ],
   "metadata": {
    "collapsed": false,
    "pycharm": {
     "name": "#%%\n"
    }
   }
  },
  {
   "cell_type": "markdown",
   "id": "9b399cd9",
   "metadata": {
    "pycharm": {
     "name": "#%% md\n"
    }
   },
   "source": [
    "### Join chunks to single dataset"
   ]
  },
  {
   "cell_type": "code",
   "execution_count": 14,
   "id": "e1754249",
   "metadata": {
    "pycharm": {
     "name": "#%%\n"
    }
   },
   "outputs": [],
   "source": [
    "# glob.glob('../data/comedy-news-tg-dataset/*.tsv')\n",
    "get_filenum = lambda t: int(re.search('\\d+', t)[0])"
   ]
  },
  {
   "cell_type": "code",
   "execution_count": 15,
   "id": "90879e48",
   "metadata": {
    "scrolled": true,
    "pycharm": {
     "name": "#%%\n"
    }
   },
   "outputs": [
    {
     "name": "stderr",
     "output_type": "stream",
     "text": [
      "/var/folders/td/4g0swlbs5yg351q8l_8q7zt59mjw37/T/ipykernel_22187/3157274874.py:11: FutureWarning: The frame.append method is deprecated and will be removed from pandas in a future version. Use pandas.concat instead.\n",
      "  df = df.append(temp_df)\n",
      "/var/folders/td/4g0swlbs5yg351q8l_8q7zt59mjw37/T/ipykernel_22187/3157274874.py:11: FutureWarning: The frame.append method is deprecated and will be removed from pandas in a future version. Use pandas.concat instead.\n",
      "  df = df.append(temp_df)\n",
      "/var/folders/td/4g0swlbs5yg351q8l_8q7zt59mjw37/T/ipykernel_22187/3157274874.py:11: FutureWarning: The frame.append method is deprecated and will be removed from pandas in a future version. Use pandas.concat instead.\n",
      "  df = df.append(temp_df)\n",
      "/var/folders/td/4g0swlbs5yg351q8l_8q7zt59mjw37/T/ipykernel_22187/3157274874.py:11: FutureWarning: The frame.append method is deprecated and will be removed from pandas in a future version. Use pandas.concat instead.\n",
      "  df = df.append(temp_df)\n",
      "/var/folders/td/4g0swlbs5yg351q8l_8q7zt59mjw37/T/ipykernel_22187/3157274874.py:11: FutureWarning: The frame.append method is deprecated and will be removed from pandas in a future version. Use pandas.concat instead.\n",
      "  df = df.append(temp_df)\n",
      "/var/folders/td/4g0swlbs5yg351q8l_8q7zt59mjw37/T/ipykernel_22187/3157274874.py:11: FutureWarning: The frame.append method is deprecated and will be removed from pandas in a future version. Use pandas.concat instead.\n",
      "  df = df.append(temp_df)\n",
      "/var/folders/td/4g0swlbs5yg351q8l_8q7zt59mjw37/T/ipykernel_22187/3157274874.py:11: FutureWarning: The frame.append method is deprecated and will be removed from pandas in a future version. Use pandas.concat instead.\n",
      "  df = df.append(temp_df)\n",
      "/var/folders/td/4g0swlbs5yg351q8l_8q7zt59mjw37/T/ipykernel_22187/3157274874.py:11: FutureWarning: The frame.append method is deprecated and will be removed from pandas in a future version. Use pandas.concat instead.\n",
      "  df = df.append(temp_df)\n",
      "/var/folders/td/4g0swlbs5yg351q8l_8q7zt59mjw37/T/ipykernel_22187/3157274874.py:11: FutureWarning: The frame.append method is deprecated and will be removed from pandas in a future version. Use pandas.concat instead.\n",
      "  df = df.append(temp_df)\n",
      "/var/folders/td/4g0swlbs5yg351q8l_8q7zt59mjw37/T/ipykernel_22187/3157274874.py:11: FutureWarning: The frame.append method is deprecated and will be removed from pandas in a future version. Use pandas.concat instead.\n",
      "  df = df.append(temp_df)\n",
      "/var/folders/td/4g0swlbs5yg351q8l_8q7zt59mjw37/T/ipykernel_22187/3157274874.py:11: FutureWarning: The frame.append method is deprecated and will be removed from pandas in a future version. Use pandas.concat instead.\n",
      "  df = df.append(temp_df)\n",
      "/var/folders/td/4g0swlbs5yg351q8l_8q7zt59mjw37/T/ipykernel_22187/3157274874.py:11: FutureWarning: The frame.append method is deprecated and will be removed from pandas in a future version. Use pandas.concat instead.\n",
      "  df = df.append(temp_df)\n",
      "/var/folders/td/4g0swlbs5yg351q8l_8q7zt59mjw37/T/ipykernel_22187/3157274874.py:11: FutureWarning: The frame.append method is deprecated and will be removed from pandas in a future version. Use pandas.concat instead.\n",
      "  df = df.append(temp_df)\n",
      "/var/folders/td/4g0swlbs5yg351q8l_8q7zt59mjw37/T/ipykernel_22187/3157274874.py:11: FutureWarning: The frame.append method is deprecated and will be removed from pandas in a future version. Use pandas.concat instead.\n",
      "  df = df.append(temp_df)\n",
      "/var/folders/td/4g0swlbs5yg351q8l_8q7zt59mjw37/T/ipykernel_22187/3157274874.py:11: FutureWarning: The frame.append method is deprecated and will be removed from pandas in a future version. Use pandas.concat instead.\n",
      "  df = df.append(temp_df)\n",
      "/var/folders/td/4g0swlbs5yg351q8l_8q7zt59mjw37/T/ipykernel_22187/3157274874.py:11: FutureWarning: The frame.append method is deprecated and will be removed from pandas in a future version. Use pandas.concat instead.\n",
      "  df = df.append(temp_df)\n",
      "/var/folders/td/4g0swlbs5yg351q8l_8q7zt59mjw37/T/ipykernel_22187/3157274874.py:11: FutureWarning: The frame.append method is deprecated and will be removed from pandas in a future version. Use pandas.concat instead.\n",
      "  df = df.append(temp_df)\n",
      "/var/folders/td/4g0swlbs5yg351q8l_8q7zt59mjw37/T/ipykernel_22187/3157274874.py:11: FutureWarning: The frame.append method is deprecated and will be removed from pandas in a future version. Use pandas.concat instead.\n",
      "  df = df.append(temp_df)\n",
      "/var/folders/td/4g0swlbs5yg351q8l_8q7zt59mjw37/T/ipykernel_22187/3157274874.py:11: FutureWarning: The frame.append method is deprecated and will be removed from pandas in a future version. Use pandas.concat instead.\n",
      "  df = df.append(temp_df)\n",
      "/var/folders/td/4g0swlbs5yg351q8l_8q7zt59mjw37/T/ipykernel_22187/3157274874.py:11: FutureWarning: The frame.append method is deprecated and will be removed from pandas in a future version. Use pandas.concat instead.\n",
      "  df = df.append(temp_df)\n",
      "/var/folders/td/4g0swlbs5yg351q8l_8q7zt59mjw37/T/ipykernel_22187/3157274874.py:11: FutureWarning: The frame.append method is deprecated and will be removed from pandas in a future version. Use pandas.concat instead.\n",
      "  df = df.append(temp_df)\n",
      "/var/folders/td/4g0swlbs5yg351q8l_8q7zt59mjw37/T/ipykernel_22187/3157274874.py:11: FutureWarning: The frame.append method is deprecated and will be removed from pandas in a future version. Use pandas.concat instead.\n",
      "  df = df.append(temp_df)\n",
      "/var/folders/td/4g0swlbs5yg351q8l_8q7zt59mjw37/T/ipykernel_22187/3157274874.py:11: FutureWarning: The frame.append method is deprecated and will be removed from pandas in a future version. Use pandas.concat instead.\n",
      "  df = df.append(temp_df)\n",
      "/var/folders/td/4g0swlbs5yg351q8l_8q7zt59mjw37/T/ipykernel_22187/3157274874.py:11: FutureWarning: The frame.append method is deprecated and will be removed from pandas in a future version. Use pandas.concat instead.\n",
      "  df = df.append(temp_df)\n",
      "/var/folders/td/4g0swlbs5yg351q8l_8q7zt59mjw37/T/ipykernel_22187/3157274874.py:11: FutureWarning: The frame.append method is deprecated and will be removed from pandas in a future version. Use pandas.concat instead.\n",
      "  df = df.append(temp_df)\n",
      "/var/folders/td/4g0swlbs5yg351q8l_8q7zt59mjw37/T/ipykernel_22187/3157274874.py:11: FutureWarning: The frame.append method is deprecated and will be removed from pandas in a future version. Use pandas.concat instead.\n",
      "  df = df.append(temp_df)\n",
      "/var/folders/td/4g0swlbs5yg351q8l_8q7zt59mjw37/T/ipykernel_22187/3157274874.py:11: FutureWarning: The frame.append method is deprecated and will be removed from pandas in a future version. Use pandas.concat instead.\n",
      "  df = df.append(temp_df)\n",
      "/var/folders/td/4g0swlbs5yg351q8l_8q7zt59mjw37/T/ipykernel_22187/3157274874.py:11: FutureWarning: The frame.append method is deprecated and will be removed from pandas in a future version. Use pandas.concat instead.\n",
      "  df = df.append(temp_df)\n",
      "/var/folders/td/4g0swlbs5yg351q8l_8q7zt59mjw37/T/ipykernel_22187/3157274874.py:11: FutureWarning: The frame.append method is deprecated and will be removed from pandas in a future version. Use pandas.concat instead.\n",
      "  df = df.append(temp_df)\n",
      "/var/folders/td/4g0swlbs5yg351q8l_8q7zt59mjw37/T/ipykernel_22187/3157274874.py:11: FutureWarning: The frame.append method is deprecated and will be removed from pandas in a future version. Use pandas.concat instead.\n",
      "  df = df.append(temp_df)\n",
      "/var/folders/td/4g0swlbs5yg351q8l_8q7zt59mjw37/T/ipykernel_22187/3157274874.py:11: FutureWarning: The frame.append method is deprecated and will be removed from pandas in a future version. Use pandas.concat instead.\n",
      "  df = df.append(temp_df)\n",
      "/var/folders/td/4g0swlbs5yg351q8l_8q7zt59mjw37/T/ipykernel_22187/3157274874.py:11: FutureWarning: The frame.append method is deprecated and will be removed from pandas in a future version. Use pandas.concat instead.\n",
      "  df = df.append(temp_df)\n",
      "/var/folders/td/4g0swlbs5yg351q8l_8q7zt59mjw37/T/ipykernel_22187/3157274874.py:11: FutureWarning: The frame.append method is deprecated and will be removed from pandas in a future version. Use pandas.concat instead.\n",
      "  df = df.append(temp_df)\n",
      "/var/folders/td/4g0swlbs5yg351q8l_8q7zt59mjw37/T/ipykernel_22187/3157274874.py:11: FutureWarning: The frame.append method is deprecated and will be removed from pandas in a future version. Use pandas.concat instead.\n",
      "  df = df.append(temp_df)\n",
      "/var/folders/td/4g0swlbs5yg351q8l_8q7zt59mjw37/T/ipykernel_22187/3157274874.py:11: FutureWarning: The frame.append method is deprecated and will be removed from pandas in a future version. Use pandas.concat instead.\n",
      "  df = df.append(temp_df)\n",
      "/var/folders/td/4g0swlbs5yg351q8l_8q7zt59mjw37/T/ipykernel_22187/3157274874.py:11: FutureWarning: The frame.append method is deprecated and will be removed from pandas in a future version. Use pandas.concat instead.\n",
      "  df = df.append(temp_df)\n",
      "/var/folders/td/4g0swlbs5yg351q8l_8q7zt59mjw37/T/ipykernel_22187/3157274874.py:11: FutureWarning: The frame.append method is deprecated and will be removed from pandas in a future version. Use pandas.concat instead.\n",
      "  df = df.append(temp_df)\n",
      "/var/folders/td/4g0swlbs5yg351q8l_8q7zt59mjw37/T/ipykernel_22187/3157274874.py:11: FutureWarning: The frame.append method is deprecated and will be removed from pandas in a future version. Use pandas.concat instead.\n",
      "  df = df.append(temp_df)\n",
      "/var/folders/td/4g0swlbs5yg351q8l_8q7zt59mjw37/T/ipykernel_22187/3157274874.py:11: FutureWarning: The frame.append method is deprecated and will be removed from pandas in a future version. Use pandas.concat instead.\n",
      "  df = df.append(temp_df)\n",
      "/var/folders/td/4g0swlbs5yg351q8l_8q7zt59mjw37/T/ipykernel_22187/3157274874.py:11: FutureWarning: The frame.append method is deprecated and will be removed from pandas in a future version. Use pandas.concat instead.\n",
      "  df = df.append(temp_df)\n",
      "/var/folders/td/4g0swlbs5yg351q8l_8q7zt59mjw37/T/ipykernel_22187/3157274874.py:11: FutureWarning: The frame.append method is deprecated and will be removed from pandas in a future version. Use pandas.concat instead.\n",
      "  df = df.append(temp_df)\n",
      "/var/folders/td/4g0swlbs5yg351q8l_8q7zt59mjw37/T/ipykernel_22187/3157274874.py:11: FutureWarning: The frame.append method is deprecated and will be removed from pandas in a future version. Use pandas.concat instead.\n",
      "  df = df.append(temp_df)\n",
      "/var/folders/td/4g0swlbs5yg351q8l_8q7zt59mjw37/T/ipykernel_22187/3157274874.py:11: FutureWarning: The frame.append method is deprecated and will be removed from pandas in a future version. Use pandas.concat instead.\n",
      "  df = df.append(temp_df)\n",
      "/var/folders/td/4g0swlbs5yg351q8l_8q7zt59mjw37/T/ipykernel_22187/3157274874.py:11: FutureWarning: The frame.append method is deprecated and will be removed from pandas in a future version. Use pandas.concat instead.\n",
      "  df = df.append(temp_df)\n",
      "/var/folders/td/4g0swlbs5yg351q8l_8q7zt59mjw37/T/ipykernel_22187/3157274874.py:11: FutureWarning: The frame.append method is deprecated and will be removed from pandas in a future version. Use pandas.concat instead.\n",
      "  df = df.append(temp_df)\n",
      "/var/folders/td/4g0swlbs5yg351q8l_8q7zt59mjw37/T/ipykernel_22187/3157274874.py:11: FutureWarning: The frame.append method is deprecated and will be removed from pandas in a future version. Use pandas.concat instead.\n",
      "  df = df.append(temp_df)\n",
      "/var/folders/td/4g0swlbs5yg351q8l_8q7zt59mjw37/T/ipykernel_22187/3157274874.py:11: FutureWarning: The frame.append method is deprecated and will be removed from pandas in a future version. Use pandas.concat instead.\n",
      "  df = df.append(temp_df)\n",
      "/var/folders/td/4g0swlbs5yg351q8l_8q7zt59mjw37/T/ipykernel_22187/3157274874.py:11: FutureWarning: The frame.append method is deprecated and will be removed from pandas in a future version. Use pandas.concat instead.\n",
      "  df = df.append(temp_df)\n",
      "/var/folders/td/4g0swlbs5yg351q8l_8q7zt59mjw37/T/ipykernel_22187/3157274874.py:11: FutureWarning: The frame.append method is deprecated and will be removed from pandas in a future version. Use pandas.concat instead.\n",
      "  df = df.append(temp_df)\n",
      "/var/folders/td/4g0swlbs5yg351q8l_8q7zt59mjw37/T/ipykernel_22187/3157274874.py:11: FutureWarning: The frame.append method is deprecated and will be removed from pandas in a future version. Use pandas.concat instead.\n",
      "  df = df.append(temp_df)\n",
      "/var/folders/td/4g0swlbs5yg351q8l_8q7zt59mjw37/T/ipykernel_22187/3157274874.py:11: FutureWarning: The frame.append method is deprecated and will be removed from pandas in a future version. Use pandas.concat instead.\n",
      "  df = df.append(temp_df)\n",
      "/var/folders/td/4g0swlbs5yg351q8l_8q7zt59mjw37/T/ipykernel_22187/3157274874.py:11: FutureWarning: The frame.append method is deprecated and will be removed from pandas in a future version. Use pandas.concat instead.\n",
      "  df = df.append(temp_df)\n",
      "/var/folders/td/4g0swlbs5yg351q8l_8q7zt59mjw37/T/ipykernel_22187/3157274874.py:11: FutureWarning: The frame.append method is deprecated and will be removed from pandas in a future version. Use pandas.concat instead.\n",
      "  df = df.append(temp_df)\n",
      "/var/folders/td/4g0swlbs5yg351q8l_8q7zt59mjw37/T/ipykernel_22187/3157274874.py:11: FutureWarning: The frame.append method is deprecated and will be removed from pandas in a future version. Use pandas.concat instead.\n",
      "  df = df.append(temp_df)\n",
      "/var/folders/td/4g0swlbs5yg351q8l_8q7zt59mjw37/T/ipykernel_22187/3157274874.py:11: FutureWarning: The frame.append method is deprecated and will be removed from pandas in a future version. Use pandas.concat instead.\n",
      "  df = df.append(temp_df)\n",
      "/var/folders/td/4g0swlbs5yg351q8l_8q7zt59mjw37/T/ipykernel_22187/3157274874.py:11: FutureWarning: The frame.append method is deprecated and will be removed from pandas in a future version. Use pandas.concat instead.\n",
      "  df = df.append(temp_df)\n",
      "/var/folders/td/4g0swlbs5yg351q8l_8q7zt59mjw37/T/ipykernel_22187/3157274874.py:11: FutureWarning: The frame.append method is deprecated and will be removed from pandas in a future version. Use pandas.concat instead.\n",
      "  df = df.append(temp_df)\n",
      "/var/folders/td/4g0swlbs5yg351q8l_8q7zt59mjw37/T/ipykernel_22187/3157274874.py:11: FutureWarning: The frame.append method is deprecated and will be removed from pandas in a future version. Use pandas.concat instead.\n",
      "  df = df.append(temp_df)\n",
      "/var/folders/td/4g0swlbs5yg351q8l_8q7zt59mjw37/T/ipykernel_22187/3157274874.py:11: FutureWarning: The frame.append method is deprecated and will be removed from pandas in a future version. Use pandas.concat instead.\n",
      "  df = df.append(temp_df)\n",
      "/var/folders/td/4g0swlbs5yg351q8l_8q7zt59mjw37/T/ipykernel_22187/3157274874.py:11: FutureWarning: The frame.append method is deprecated and will be removed from pandas in a future version. Use pandas.concat instead.\n",
      "  df = df.append(temp_df)\n",
      "/var/folders/td/4g0swlbs5yg351q8l_8q7zt59mjw37/T/ipykernel_22187/3157274874.py:11: FutureWarning: The frame.append method is deprecated and will be removed from pandas in a future version. Use pandas.concat instead.\n",
      "  df = df.append(temp_df)\n",
      "/var/folders/td/4g0swlbs5yg351q8l_8q7zt59mjw37/T/ipykernel_22187/3157274874.py:11: FutureWarning: The frame.append method is deprecated and will be removed from pandas in a future version. Use pandas.concat instead.\n",
      "  df = df.append(temp_df)\n",
      "/var/folders/td/4g0swlbs5yg351q8l_8q7zt59mjw37/T/ipykernel_22187/3157274874.py:11: FutureWarning: The frame.append method is deprecated and will be removed from pandas in a future version. Use pandas.concat instead.\n",
      "  df = df.append(temp_df)\n",
      "/var/folders/td/4g0swlbs5yg351q8l_8q7zt59mjw37/T/ipykernel_22187/3157274874.py:11: FutureWarning: The frame.append method is deprecated and will be removed from pandas in a future version. Use pandas.concat instead.\n",
      "  df = df.append(temp_df)\n",
      "/var/folders/td/4g0swlbs5yg351q8l_8q7zt59mjw37/T/ipykernel_22187/3157274874.py:11: FutureWarning: The frame.append method is deprecated and will be removed from pandas in a future version. Use pandas.concat instead.\n",
      "  df = df.append(temp_df)\n",
      "/var/folders/td/4g0swlbs5yg351q8l_8q7zt59mjw37/T/ipykernel_22187/3157274874.py:11: FutureWarning: The frame.append method is deprecated and will be removed from pandas in a future version. Use pandas.concat instead.\n",
      "  df = df.append(temp_df)\n",
      "/var/folders/td/4g0swlbs5yg351q8l_8q7zt59mjw37/T/ipykernel_22187/3157274874.py:11: FutureWarning: The frame.append method is deprecated and will be removed from pandas in a future version. Use pandas.concat instead.\n",
      "  df = df.append(temp_df)\n",
      "/var/folders/td/4g0swlbs5yg351q8l_8q7zt59mjw37/T/ipykernel_22187/3157274874.py:11: FutureWarning: The frame.append method is deprecated and will be removed from pandas in a future version. Use pandas.concat instead.\n",
      "  df = df.append(temp_df)\n",
      "/var/folders/td/4g0swlbs5yg351q8l_8q7zt59mjw37/T/ipykernel_22187/3157274874.py:11: FutureWarning: The frame.append method is deprecated and will be removed from pandas in a future version. Use pandas.concat instead.\n",
      "  df = df.append(temp_df)\n",
      "/var/folders/td/4g0swlbs5yg351q8l_8q7zt59mjw37/T/ipykernel_22187/3157274874.py:11: FutureWarning: The frame.append method is deprecated and will be removed from pandas in a future version. Use pandas.concat instead.\n",
      "  df = df.append(temp_df)\n",
      "/var/folders/td/4g0swlbs5yg351q8l_8q7zt59mjw37/T/ipykernel_22187/3157274874.py:11: FutureWarning: The frame.append method is deprecated and will be removed from pandas in a future version. Use pandas.concat instead.\n",
      "  df = df.append(temp_df)\n",
      "/var/folders/td/4g0swlbs5yg351q8l_8q7zt59mjw37/T/ipykernel_22187/3157274874.py:11: FutureWarning: The frame.append method is deprecated and will be removed from pandas in a future version. Use pandas.concat instead.\n",
      "  df = df.append(temp_df)\n",
      "/var/folders/td/4g0swlbs5yg351q8l_8q7zt59mjw37/T/ipykernel_22187/3157274874.py:11: FutureWarning: The frame.append method is deprecated and will be removed from pandas in a future version. Use pandas.concat instead.\n",
      "  df = df.append(temp_df)\n",
      "/var/folders/td/4g0swlbs5yg351q8l_8q7zt59mjw37/T/ipykernel_22187/3157274874.py:11: FutureWarning: The frame.append method is deprecated and will be removed from pandas in a future version. Use pandas.concat instead.\n",
      "  df = df.append(temp_df)\n",
      "/var/folders/td/4g0swlbs5yg351q8l_8q7zt59mjw37/T/ipykernel_22187/3157274874.py:11: FutureWarning: The frame.append method is deprecated and will be removed from pandas in a future version. Use pandas.concat instead.\n",
      "  df = df.append(temp_df)\n",
      "/var/folders/td/4g0swlbs5yg351q8l_8q7zt59mjw37/T/ipykernel_22187/3157274874.py:11: FutureWarning: The frame.append method is deprecated and will be removed from pandas in a future version. Use pandas.concat instead.\n",
      "  df = df.append(temp_df)\n",
      "/var/folders/td/4g0swlbs5yg351q8l_8q7zt59mjw37/T/ipykernel_22187/3157274874.py:11: FutureWarning: The frame.append method is deprecated and will be removed from pandas in a future version. Use pandas.concat instead.\n",
      "  df = df.append(temp_df)\n",
      "/var/folders/td/4g0swlbs5yg351q8l_8q7zt59mjw37/T/ipykernel_22187/3157274874.py:11: FutureWarning: The frame.append method is deprecated and will be removed from pandas in a future version. Use pandas.concat instead.\n",
      "  df = df.append(temp_df)\n",
      "/var/folders/td/4g0swlbs5yg351q8l_8q7zt59mjw37/T/ipykernel_22187/3157274874.py:11: FutureWarning: The frame.append method is deprecated and will be removed from pandas in a future version. Use pandas.concat instead.\n",
      "  df = df.append(temp_df)\n",
      "/var/folders/td/4g0swlbs5yg351q8l_8q7zt59mjw37/T/ipykernel_22187/3157274874.py:11: FutureWarning: The frame.append method is deprecated and will be removed from pandas in a future version. Use pandas.concat instead.\n",
      "  df = df.append(temp_df)\n",
      "/var/folders/td/4g0swlbs5yg351q8l_8q7zt59mjw37/T/ipykernel_22187/3157274874.py:11: FutureWarning: The frame.append method is deprecated and will be removed from pandas in a future version. Use pandas.concat instead.\n",
      "  df = df.append(temp_df)\n",
      "/var/folders/td/4g0swlbs5yg351q8l_8q7zt59mjw37/T/ipykernel_22187/3157274874.py:11: FutureWarning: The frame.append method is deprecated and will be removed from pandas in a future version. Use pandas.concat instead.\n",
      "  df = df.append(temp_df)\n",
      "/var/folders/td/4g0swlbs5yg351q8l_8q7zt59mjw37/T/ipykernel_22187/3157274874.py:11: FutureWarning: The frame.append method is deprecated and will be removed from pandas in a future version. Use pandas.concat instead.\n",
      "  df = df.append(temp_df)\n",
      "/var/folders/td/4g0swlbs5yg351q8l_8q7zt59mjw37/T/ipykernel_22187/3157274874.py:11: FutureWarning: The frame.append method is deprecated and will be removed from pandas in a future version. Use pandas.concat instead.\n",
      "  df = df.append(temp_df)\n",
      "/var/folders/td/4g0swlbs5yg351q8l_8q7zt59mjw37/T/ipykernel_22187/3157274874.py:11: FutureWarning: The frame.append method is deprecated and will be removed from pandas in a future version. Use pandas.concat instead.\n",
      "  df = df.append(temp_df)\n",
      "/var/folders/td/4g0swlbs5yg351q8l_8q7zt59mjw37/T/ipykernel_22187/3157274874.py:11: FutureWarning: The frame.append method is deprecated and will be removed from pandas in a future version. Use pandas.concat instead.\n",
      "  df = df.append(temp_df)\n",
      "/var/folders/td/4g0swlbs5yg351q8l_8q7zt59mjw37/T/ipykernel_22187/3157274874.py:11: FutureWarning: The frame.append method is deprecated and will be removed from pandas in a future version. Use pandas.concat instead.\n",
      "  df = df.append(temp_df)\n",
      "/var/folders/td/4g0swlbs5yg351q8l_8q7zt59mjw37/T/ipykernel_22187/3157274874.py:11: FutureWarning: The frame.append method is deprecated and will be removed from pandas in a future version. Use pandas.concat instead.\n",
      "  df = df.append(temp_df)\n",
      "/var/folders/td/4g0swlbs5yg351q8l_8q7zt59mjw37/T/ipykernel_22187/3157274874.py:11: FutureWarning: The frame.append method is deprecated and will be removed from pandas in a future version. Use pandas.concat instead.\n",
      "  df = df.append(temp_df)\n",
      "/var/folders/td/4g0swlbs5yg351q8l_8q7zt59mjw37/T/ipykernel_22187/3157274874.py:11: FutureWarning: The frame.append method is deprecated and will be removed from pandas in a future version. Use pandas.concat instead.\n",
      "  df = df.append(temp_df)\n",
      "/var/folders/td/4g0swlbs5yg351q8l_8q7zt59mjw37/T/ipykernel_22187/3157274874.py:11: FutureWarning: The frame.append method is deprecated and will be removed from pandas in a future version. Use pandas.concat instead.\n",
      "  df = df.append(temp_df)\n",
      "/var/folders/td/4g0swlbs5yg351q8l_8q7zt59mjw37/T/ipykernel_22187/3157274874.py:11: FutureWarning: The frame.append method is deprecated and will be removed from pandas in a future version. Use pandas.concat instead.\n",
      "  df = df.append(temp_df)\n",
      "/var/folders/td/4g0swlbs5yg351q8l_8q7zt59mjw37/T/ipykernel_22187/3157274874.py:11: FutureWarning: The frame.append method is deprecated and will be removed from pandas in a future version. Use pandas.concat instead.\n",
      "  df = df.append(temp_df)\n",
      "/var/folders/td/4g0swlbs5yg351q8l_8q7zt59mjw37/T/ipykernel_22187/3157274874.py:11: FutureWarning: The frame.append method is deprecated and will be removed from pandas in a future version. Use pandas.concat instead.\n",
      "  df = df.append(temp_df)\n",
      "/var/folders/td/4g0swlbs5yg351q8l_8q7zt59mjw37/T/ipykernel_22187/3157274874.py:11: FutureWarning: The frame.append method is deprecated and will be removed from pandas in a future version. Use pandas.concat instead.\n",
      "  df = df.append(temp_df)\n",
      "/var/folders/td/4g0swlbs5yg351q8l_8q7zt59mjw37/T/ipykernel_22187/3157274874.py:11: FutureWarning: The frame.append method is deprecated and will be removed from pandas in a future version. Use pandas.concat instead.\n",
      "  df = df.append(temp_df)\n",
      "/var/folders/td/4g0swlbs5yg351q8l_8q7zt59mjw37/T/ipykernel_22187/3157274874.py:11: FutureWarning: The frame.append method is deprecated and will be removed from pandas in a future version. Use pandas.concat instead.\n",
      "  df = df.append(temp_df)\n",
      "/var/folders/td/4g0swlbs5yg351q8l_8q7zt59mjw37/T/ipykernel_22187/3157274874.py:11: FutureWarning: The frame.append method is deprecated and will be removed from pandas in a future version. Use pandas.concat instead.\n",
      "  df = df.append(temp_df)\n",
      "/var/folders/td/4g0swlbs5yg351q8l_8q7zt59mjw37/T/ipykernel_22187/3157274874.py:11: FutureWarning: The frame.append method is deprecated and will be removed from pandas in a future version. Use pandas.concat instead.\n",
      "  df = df.append(temp_df)\n",
      "/var/folders/td/4g0swlbs5yg351q8l_8q7zt59mjw37/T/ipykernel_22187/3157274874.py:11: FutureWarning: The frame.append method is deprecated and will be removed from pandas in a future version. Use pandas.concat instead.\n",
      "  df = df.append(temp_df)\n",
      "/var/folders/td/4g0swlbs5yg351q8l_8q7zt59mjw37/T/ipykernel_22187/3157274874.py:11: FutureWarning: The frame.append method is deprecated and will be removed from pandas in a future version. Use pandas.concat instead.\n",
      "  df = df.append(temp_df)\n",
      "/var/folders/td/4g0swlbs5yg351q8l_8q7zt59mjw37/T/ipykernel_22187/3157274874.py:11: FutureWarning: The frame.append method is deprecated and will be removed from pandas in a future version. Use pandas.concat instead.\n",
      "  df = df.append(temp_df)\n",
      "/var/folders/td/4g0swlbs5yg351q8l_8q7zt59mjw37/T/ipykernel_22187/3157274874.py:11: FutureWarning: The frame.append method is deprecated and will be removed from pandas in a future version. Use pandas.concat instead.\n",
      "  df = df.append(temp_df)\n",
      "/var/folders/td/4g0swlbs5yg351q8l_8q7zt59mjw37/T/ipykernel_22187/3157274874.py:11: FutureWarning: The frame.append method is deprecated and will be removed from pandas in a future version. Use pandas.concat instead.\n",
      "  df = df.append(temp_df)\n",
      "/var/folders/td/4g0swlbs5yg351q8l_8q7zt59mjw37/T/ipykernel_22187/3157274874.py:11: FutureWarning: The frame.append method is deprecated and will be removed from pandas in a future version. Use pandas.concat instead.\n",
      "  df = df.append(temp_df)\n",
      "/var/folders/td/4g0swlbs5yg351q8l_8q7zt59mjw37/T/ipykernel_22187/3157274874.py:11: FutureWarning: The frame.append method is deprecated and will be removed from pandas in a future version. Use pandas.concat instead.\n",
      "  df = df.append(temp_df)\n",
      "/var/folders/td/4g0swlbs5yg351q8l_8q7zt59mjw37/T/ipykernel_22187/3157274874.py:11: FutureWarning: The frame.append method is deprecated and will be removed from pandas in a future version. Use pandas.concat instead.\n",
      "  df = df.append(temp_df)\n",
      "/var/folders/td/4g0swlbs5yg351q8l_8q7zt59mjw37/T/ipykernel_22187/3157274874.py:11: FutureWarning: The frame.append method is deprecated and will be removed from pandas in a future version. Use pandas.concat instead.\n",
      "  df = df.append(temp_df)\n",
      "/var/folders/td/4g0swlbs5yg351q8l_8q7zt59mjw37/T/ipykernel_22187/3157274874.py:11: FutureWarning: The frame.append method is deprecated and will be removed from pandas in a future version. Use pandas.concat instead.\n",
      "  df = df.append(temp_df)\n",
      "/var/folders/td/4g0swlbs5yg351q8l_8q7zt59mjw37/T/ipykernel_22187/3157274874.py:11: FutureWarning: The frame.append method is deprecated and will be removed from pandas in a future version. Use pandas.concat instead.\n",
      "  df = df.append(temp_df)\n",
      "/var/folders/td/4g0swlbs5yg351q8l_8q7zt59mjw37/T/ipykernel_22187/3157274874.py:11: FutureWarning: The frame.append method is deprecated and will be removed from pandas in a future version. Use pandas.concat instead.\n",
      "  df = df.append(temp_df)\n",
      "/var/folders/td/4g0swlbs5yg351q8l_8q7zt59mjw37/T/ipykernel_22187/3157274874.py:11: FutureWarning: The frame.append method is deprecated and will be removed from pandas in a future version. Use pandas.concat instead.\n",
      "  df = df.append(temp_df)\n",
      "/var/folders/td/4g0swlbs5yg351q8l_8q7zt59mjw37/T/ipykernel_22187/3157274874.py:11: FutureWarning: The frame.append method is deprecated and will be removed from pandas in a future version. Use pandas.concat instead.\n",
      "  df = df.append(temp_df)\n",
      "/var/folders/td/4g0swlbs5yg351q8l_8q7zt59mjw37/T/ipykernel_22187/3157274874.py:11: FutureWarning: The frame.append method is deprecated and will be removed from pandas in a future version. Use pandas.concat instead.\n",
      "  df = df.append(temp_df)\n",
      "/var/folders/td/4g0swlbs5yg351q8l_8q7zt59mjw37/T/ipykernel_22187/3157274874.py:11: FutureWarning: The frame.append method is deprecated and will be removed from pandas in a future version. Use pandas.concat instead.\n",
      "  df = df.append(temp_df)\n"
     ]
    },
    {
     "name": "stdout",
     "output_type": "stream",
     "text": [
      "(15396, 7)\n"
     ]
    }
   ],
   "source": [
    "df = pd.DataFrame()\n",
    "for filepath in glob('../data/comedy-news-tg-dataset/marked/tg_*.tsv'):\n",
    "    temp_df = pd.read_csv(filepath, sep='\\t')\n",
    "    temp_df['setup_num'] = get_filenum(filepath)\n",
    "    temp_df['punch_num'] = temp_df.index + 1\n",
    "    # print(temp_df.setup.values[0], len(temp_df))\n",
    "\n",
    "    # Mark binarization\n",
    "    temp_df.mark = pd.qcut(temp_df.mark, 10, labels=False, duplicates='drop')\n",
    "\n",
    "    df = df.append(temp_df)\n",
    "    \n",
    "df['mark'] = df['mark'].fillna(0).astype(int)\n",
    "df['joke'] = df['setup'] + \". \" + df['punch']\n",
    "print(df.shape)"
   ]
  },
  {
   "cell_type": "code",
   "execution_count": 19,
   "outputs": [],
   "source": [
    "df[['joke', 'mark']].to_csv('../data/agg-marked-joke-dataset/comedy-news-tg.csv', index=False)\n",
    "df[['setup', 'punch']].to_csv('../data/agg-setup-punch-dataset/comedy-news-tg.csv', index=False)"
   ],
   "metadata": {
    "collapsed": false,
    "pycharm": {
     "name": "#%%\n"
    }
   }
  },
  {
   "cell_type": "markdown",
   "id": "f82345e7",
   "metadata": {
    "heading_collapsed": true,
    "pycharm": {
     "name": "#%% md\n"
    }
   },
   "source": [
    "## English datasets"
   ]
  },
  {
   "cell_type": "markdown",
   "source": [
    "Raw dataset with jokes on English language was found in internet, they are open-source.\n",
    "We want to translate jokes on Russian with google translator."
   ],
   "metadata": {
    "collapsed": false,
    "pycharm": {
     "name": "#%% md\n"
    }
   }
  },
  {
   "cell_type": "code",
   "execution_count": 123,
   "id": "49ce5e4e",
   "metadata": {
    "hidden": true,
    "pycharm": {
     "name": "#%%\n"
    }
   },
   "outputs": [],
   "source": [
    "import json\n",
    "import pandas as pd\n",
    "import re\n",
    "from tqdm import tqdm\n",
    "from tqdm.contrib.concurrent import process_map\n",
    "tqdm.pandas()\n",
    "\n",
    "from deep_translator import GoogleTranslator\n",
    "from deep_translator.exceptions import NotValidPayload"
   ]
  },
  {
   "cell_type": "code",
   "execution_count": 114,
   "id": "371945de",
   "metadata": {
    "hidden": true,
    "pycharm": {
     "name": "#%%\n"
    }
   },
   "outputs": [],
   "source": [
    "translator = GoogleTranslator(source='en', target='ru')\n",
    "def translate_eng2rus(text):\n",
    "    translated = ''\n",
    "    try:\n",
    "        translated =  translator.translate(text)\n",
    "    except NotValidPayload:\n",
    "        print(f'Broken text: {text}')\n",
    "    \n",
    "    return translated"
   ]
  },
  {
   "cell_type": "code",
   "execution_count": 132,
   "id": "edf141f0",
   "metadata": {
    "hidden": true,
    "pycharm": {
     "name": "#%%\n"
    }
   },
   "outputs": [],
   "source": [
    "def remove_special_tokens(text):\n",
    "    result = ''\n",
    "    try:\n",
    "        result = re.sub(r'\\r|\\n|\\t', '', text)\n",
    "    except:\n",
    "        pass\n",
    "    return result"
   ]
  },
  {
   "cell_type": "markdown",
   "id": "7766f730",
   "metadata": {
    "heading_collapsed": true,
    "hidden": true,
    "pycharm": {
     "name": "#%% md\n"
    }
   },
   "source": [
    "### Reddit"
   ]
  },
  {
   "cell_type": "code",
   "execution_count": 105,
   "id": "005d7d33",
   "metadata": {
    "hidden": true,
    "pycharm": {
     "name": "#%%\n"
    }
   },
   "outputs": [],
   "source": [
    "with open('reddit_jokes.json') as f:\n",
    "    reddit_dict = json.load(f)"
   ]
  },
  {
   "cell_type": "code",
   "execution_count": null,
   "outputs": [],
   "source": [
    "reddit_df = pd.DataFrame(reddit_dict) \\\n",
    "    .drop('id', axis=1) \\\n",
    "    .rename(columns={'body': 'punch', \n",
    "                     'title': 'setup', \n",
    "                     'score': 'mark'}) \n",
    "\n",
    "reddit_df.punch = reddit_df.punch.str.replace('\\n', '').replace('\\t', '')\n",
    "reddit_df.setup = reddit_df.setup.str.replace('\\n', '').replace('\\t', '')\n",
    "\n",
    "# Specify len < 500\n",
    "reddit_df = reddit_df.loc[reddit_df.punch.apply(len) <= 500]\n",
    "reddit_df = reddit_df.loc[reddit_df.punch.apply(len) > 5]\n",
    "\n",
    "reddit_df['rus_punch'] = None\n",
    "reddit_df['rus_setup'] = None\n",
    "\n",
    "reddit_df = reddit_df.sort_values('mark', ascending=False) \\\n",
    "    .reset_index(drop=True)"
   ],
   "metadata": {
    "collapsed": false,
    "pycharm": {
     "name": "#%%\n"
    }
   }
  },
  {
   "cell_type": "code",
   "execution_count": 111,
   "id": "5ec90c0c",
   "metadata": {
    "hidden": true,
    "pycharm": {
     "name": "#%%\n"
    }
   },
   "outputs": [
    {
     "name": "stderr",
     "output_type": "stream",
     "text": [
      "/Users/naltukhov/Documents/programs/venv/lib/python3.9/site-packages/IPython/core/interactiveshell.py:3169: DtypeWarning: Columns (1,2,3,4) have mixed types.Specify dtype option on import or set low_memory=False.\n",
      "  has_raised = await self.run_ast_nodes(code_ast.body, cell_name,\n"
     ]
    }
   ],
   "source": [
    "reddit_df = pd.read_csv('../data/eng-joke-dataset/reddit-dataset.tsv',\n",
    "                        sep='\\t')"
   ]
  },
  {
   "cell_type": "code",
   "execution_count": null,
   "outputs": [],
   "source": [
    "while True:\n",
    "    need_translate_df = reddit_df.loc[reddit_df['rus_punch'].isna()]\n",
    "    \n",
    "    if len(need_translate_df) == 0:\n",
    "        break\n",
    "        \n",
    "    print(len(need_translate_df))\n",
    "    \n",
    "    need_translate_index_sample = need_translate_df.iloc[0: min(1000, len(need_translate_df))].index\n",
    "    \n",
    "    reddit_df.loc[need_translate_index_sample, 'rus_punch'] = \\\n",
    "        reddit_df.loc[need_translate_index_sample, 'punch'].progress_apply(translate_eng2rus)\n",
    "    \n",
    "    reddit_df.loc[need_translate_index_sample, 'rus_setup'] = \\\n",
    "        reddit_df.loc[need_translate_index_sample, 'setup'].progress_apply(translate_eng2rus)"
   ],
   "metadata": {
    "collapsed": false,
    "pycharm": {
     "name": "#%%\n"
    }
   }
  },
  {
   "cell_type": "code",
   "execution_count": 118,
   "id": "34496ccc",
   "metadata": {
    "hidden": true,
    "pycharm": {
     "name": "#%%\n"
    }
   },
   "outputs": [
    {
     "data": {
      "text/html": [
       "<div>\n",
       "<style scoped>\n",
       "    .dataframe tbody tr th:only-of-type {\n",
       "        vertical-align: middle;\n",
       "    }\n",
       "\n",
       "    .dataframe tbody tr th {\n",
       "        vertical-align: top;\n",
       "    }\n",
       "\n",
       "    .dataframe thead th {\n",
       "        text-align: right;\n",
       "    }\n",
       "</style>\n",
       "<table border=\"1\" class=\"dataframe\">\n",
       "  <thead>\n",
       "    <tr style=\"text-align: right;\">\n",
       "      <th></th>\n",
       "      <th>punch</th>\n",
       "      <th>mark</th>\n",
       "      <th>setup</th>\n",
       "      <th>rus_punch</th>\n",
       "      <th>rus_setup</th>\n",
       "    </tr>\n",
       "  </thead>\n",
       "  <tbody>\n",
       "    <tr>\n",
       "      <th>0</th>\n",
       "      <td>On the condition he gets to install windows.</td>\n",
       "      <td>48526</td>\n",
       "      <td>Breaking News: Bill Gates has agreed to pay fo...</td>\n",
       "      <td>При условии, что он установит окна.</td>\n",
       "      <td>Срочные новости: Билл Гейтс согласился заплати...</td>\n",
       "    </tr>\n",
       "    <tr>\n",
       "      <th>1</th>\n",
       "      <td>/r/Jokes</td>\n",
       "      <td>45500</td>\n",
       "      <td>I found a place where the recycling rate is 98%</td>\n",
       "      <td>/ г / Шутки</td>\n",
       "      <td>Я нашел место, где уровень утилизации составля...</td>\n",
       "    </tr>\n",
       "    <tr>\n",
       "      <th>2</th>\n",
       "      <td>But its a silly comparison really, its like co...</td>\n",
       "      <td>39570</td>\n",
       "      <td>Steve jobs would have been a better president ...</td>\n",
       "      <td>Но на самом деле это глупое сравнение, это как...</td>\n",
       "      <td>Стив Джобс был бы лучшим президентом, чем Дона...</td>\n",
       "    </tr>\n",
       "    <tr>\n",
       "      <th>3</th>\n",
       "      <td>We went and had some drinks. Cool guy. Wants t...</td>\n",
       "      <td>36421</td>\n",
       "      <td>My girlfriend told me to take the spider out i...</td>\n",
       "      <td>Мы пошли и выпили. Клевый парень. Хочет быть в...</td>\n",
       "      <td>Моя девушка посоветовала мне вытащить паука, а...</td>\n",
       "    </tr>\n",
       "    <tr>\n",
       "      <th>4</th>\n",
       "      <td>Please don't upvote. Her strap-on is huge.</td>\n",
       "      <td>35772</td>\n",
       "      <td>For every upvote this gets, my girlfriend and ...</td>\n",
       "      <td>Пожалуйста, не голосуйте. Ее страпон огромен.</td>\n",
       "      <td>На каждый положительный голос мы с моей девушк...</td>\n",
       "    </tr>\n",
       "  </tbody>\n",
       "</table>\n",
       "</div>"
      ],
      "text/plain": [
       "                                               punch   mark  \\\n",
       "0       On the condition he gets to install windows.  48526   \n",
       "1                                           /r/Jokes  45500   \n",
       "2  But its a silly comparison really, its like co...  39570   \n",
       "3  We went and had some drinks. Cool guy. Wants t...  36421   \n",
       "4        Please don't upvote. Her strap-on is huge.   35772   \n",
       "\n",
       "                                               setup  \\\n",
       "0  Breaking News: Bill Gates has agreed to pay fo...   \n",
       "1    I found a place where the recycling rate is 98%   \n",
       "2  Steve jobs would have been a better president ...   \n",
       "3  My girlfriend told me to take the spider out i...   \n",
       "4  For every upvote this gets, my girlfriend and ...   \n",
       "\n",
       "                                           rus_punch  \\\n",
       "0                При условии, что он установит окна.   \n",
       "1                                        / г / Шутки   \n",
       "2  Но на самом деле это глупое сравнение, это как...   \n",
       "3  Мы пошли и выпили. Клевый парень. Хочет быть в...   \n",
       "4      Пожалуйста, не голосуйте. Ее страпон огромен.   \n",
       "\n",
       "                                           rus_setup  \n",
       "0  Срочные новости: Билл Гейтс согласился заплати...  \n",
       "1  Я нашел место, где уровень утилизации составля...  \n",
       "2  Стив Джобс был бы лучшим президентом, чем Дона...  \n",
       "3  Моя девушка посоветовала мне вытащить паука, а...  \n",
       "4  На каждый положительный голос мы с моей девушк...  "
      ]
     },
     "execution_count": 118,
     "metadata": {},
     "output_type": "execute_result"
    }
   ],
   "source": [
    "reddit_df.head()"
   ]
  },
  {
   "cell_type": "code",
   "execution_count": 119,
   "id": "0d277cc2",
   "metadata": {
    "hidden": true,
    "pycharm": {
     "name": "#%%\n"
    }
   },
   "outputs": [],
   "source": [
    "reddit_df.to_csv('../data/eng-joke-dataset/reddit-dataset.tsv',\n",
    "                 sep='\\t', index=False)"
   ]
  },
  {
   "cell_type": "code",
   "execution_count": 135,
   "id": "1b2475f7",
   "metadata": {
    "hidden": true,
    "pycharm": {
     "name": "#%%\n"
    }
   },
   "outputs": [],
   "source": [
    "rus_reddit_df = reddit_df.loc[~reddit_df.rus_punch.isna(), \n",
    "                              ['rus_punch', 'rus_setup', 'mark']]\n",
    "rus_reddit_df.columns = ['punch', 'setup', 'mark']\n",
    "\n",
    "rus_reddit_df.punch = rus_reddit_df.punch.apply(remove_special_tokens)\n",
    "rus_reddit_df.setup = rus_reddit_df.setup.apply(remove_special_tokens)"
   ]
  },
  {
   "cell_type": "code",
   "execution_count": 137,
   "id": "651a17cb",
   "metadata": {
    "hidden": true,
    "pycharm": {
     "name": "#%%\n"
    }
   },
   "outputs": [
    {
     "data": {
      "text/html": [
       "<div>\n",
       "<style scoped>\n",
       "    .dataframe tbody tr th:only-of-type {\n",
       "        vertical-align: middle;\n",
       "    }\n",
       "\n",
       "    .dataframe tbody tr th {\n",
       "        vertical-align: top;\n",
       "    }\n",
       "\n",
       "    .dataframe thead th {\n",
       "        text-align: right;\n",
       "    }\n",
       "</style>\n",
       "<table border=\"1\" class=\"dataframe\">\n",
       "  <thead>\n",
       "    <tr style=\"text-align: right;\">\n",
       "      <th></th>\n",
       "      <th>punch</th>\n",
       "      <th>setup</th>\n",
       "      <th>mark</th>\n",
       "    </tr>\n",
       "  </thead>\n",
       "  <tbody>\n",
       "    <tr>\n",
       "      <th>0</th>\n",
       "      <td>При условии, что он установит окна.</td>\n",
       "      <td>Срочные новости: Билл Гейтс согласился заплати...</td>\n",
       "      <td>48526</td>\n",
       "    </tr>\n",
       "    <tr>\n",
       "      <th>1</th>\n",
       "      <td>/ г / Шутки</td>\n",
       "      <td>Я нашел место, где уровень утилизации составля...</td>\n",
       "      <td>45500</td>\n",
       "    </tr>\n",
       "    <tr>\n",
       "      <th>2</th>\n",
       "      <td>Но на самом деле это глупое сравнение, это как...</td>\n",
       "      <td>Стив Джобс был бы лучшим президентом, чем Дона...</td>\n",
       "      <td>39570</td>\n",
       "    </tr>\n",
       "    <tr>\n",
       "      <th>3</th>\n",
       "      <td>Мы пошли и выпили. Клевый парень. Хочет быть в...</td>\n",
       "      <td>Моя девушка посоветовала мне вытащить паука, а...</td>\n",
       "      <td>36421</td>\n",
       "    </tr>\n",
       "    <tr>\n",
       "      <th>4</th>\n",
       "      <td>Пожалуйста, не голосуйте. Ее страпон огромен.</td>\n",
       "      <td>На каждый положительный голос мы с моей девушк...</td>\n",
       "      <td>35772</td>\n",
       "    </tr>\n",
       "    <tr>\n",
       "      <th>...</th>\n",
       "      <td>...</td>\n",
       "      <td>...</td>\n",
       "      <td>...</td>\n",
       "    </tr>\n",
       "    <tr>\n",
       "      <th>44990</th>\n",
       "      <td>Те, что писают в душе, и лжецы!</td>\n",
       "      <td>В жизни есть два типа людей</td>\n",
       "      <td>11</td>\n",
       "    </tr>\n",
       "    <tr>\n",
       "      <th>44991</th>\n",
       "      <td>Это объясняет, что случилось с теми килограмма...</td>\n",
       "      <td>[Проблема решена] Говорят, когда вы бреете вол...</td>\n",
       "      <td>11</td>\n",
       "    </tr>\n",
       "    <tr>\n",
       "      <th>44992</th>\n",
       "      <td>Мокрый нос.</td>\n",
       "      <td>В чем разница между близоруким и дальнозорким ...</td>\n",
       "      <td>11</td>\n",
       "    </tr>\n",
       "    <tr>\n",
       "      <th>44993</th>\n",
       "      <td>Вытащил мидию!</td>\n",
       "      <td>Только что вернулся с дискотеки с морепродуктами.</td>\n",
       "      <td>11</td>\n",
       "    </tr>\n",
       "    <tr>\n",
       "      <th>44994</th>\n",
       "      <td>Судья сказал, что не может дать развод по прич...</td>\n",
       "      <td>Вы слышали, что Микки Маус подал на развод с М...</td>\n",
       "      <td>11</td>\n",
       "    </tr>\n",
       "  </tbody>\n",
       "</table>\n",
       "<p>44994 rows × 3 columns</p>\n",
       "</div>"
      ],
      "text/plain": [
       "                                                   punch  \\\n",
       "0                    При условии, что он установит окна.   \n",
       "1                                            / г / Шутки   \n",
       "2      Но на самом деле это глупое сравнение, это как...   \n",
       "3      Мы пошли и выпили. Клевый парень. Хочет быть в...   \n",
       "4          Пожалуйста, не голосуйте. Ее страпон огромен.   \n",
       "...                                                  ...   \n",
       "44990                    Те, что писают в душе, и лжецы!   \n",
       "44991  Это объясняет, что случилось с теми килограмма...   \n",
       "44992                                        Мокрый нос.   \n",
       "44993                                     Вытащил мидию!   \n",
       "44994  Судья сказал, что не может дать развод по прич...   \n",
       "\n",
       "                                                   setup   mark  \n",
       "0      Срочные новости: Билл Гейтс согласился заплати...  48526  \n",
       "1      Я нашел место, где уровень утилизации составля...  45500  \n",
       "2      Стив Джобс был бы лучшим президентом, чем Дона...  39570  \n",
       "3      Моя девушка посоветовала мне вытащить паука, а...  36421  \n",
       "4      На каждый положительный голос мы с моей девушк...  35772  \n",
       "...                                                  ...    ...  \n",
       "44990                        В жизни есть два типа людей     11  \n",
       "44991  [Проблема решена] Говорят, когда вы бреете вол...     11  \n",
       "44992  В чем разница между близоруким и дальнозорким ...     11  \n",
       "44993  Только что вернулся с дискотеки с морепродуктами.     11  \n",
       "44994  Вы слышали, что Микки Маус подал на развод с М...     11  \n",
       "\n",
       "[44994 rows x 3 columns]"
      ]
     },
     "execution_count": 137,
     "metadata": {},
     "output_type": "execute_result"
    }
   ],
   "source": [
    "rus_reddit_df"
   ]
  },
  {
   "cell_type": "code",
   "execution_count": 138,
   "id": "fc364935",
   "metadata": {
    "hidden": true,
    "pycharm": {
     "name": "#%%\n"
    }
   },
   "outputs": [],
   "source": [
    "rus_reddit_df.to_csv('../data/eng-joke-dataset/reddit-rus-dataset.tsv',\n",
    "                 sep='\\t', index=False)"
   ]
  },
  {
   "cell_type": "code",
   "execution_count": 26,
   "outputs": [],
   "source": [
    "df = pd.read_csv('../data/eng-joke-dataset/reddit-rus-dataset.tsv', sep='\\t')\n",
    "df.mark = pd.qcut(df.mark, 10, labels=False, duplicates='drop')\n",
    "df['joke'] = df['setup'] + \". \" + df['punch']\n",
    "df[['joke', 'mark']].to_csv('../data/agg-marked-joke-dataset/reddit-dataset.csv', index=False)\n",
    "df[['setup', 'punch']].to_csv('../data/agg-setup-punch-dataset/reddit-dataset.csv', index=False)\n",
    "df[['joke']].to_csv('../data/agg-complete-text-dataset/reddit-dataset.csv', index=False)"
   ],
   "metadata": {
    "collapsed": false,
    "pycharm": {
     "name": "#%%\n"
    }
   }
  },
  {
   "cell_type": "markdown",
   "id": "da251e78",
   "metadata": {
    "heading_collapsed": true,
    "hidden": true,
    "pycharm": {
     "name": "#%% md\n"
    }
   },
   "source": [
    "### Wocka"
   ]
  },
  {
   "cell_type": "code",
   "execution_count": 19,
   "id": "a591570c",
   "metadata": {
    "hidden": true,
    "pycharm": {
     "name": "#%%\n"
    }
   },
   "outputs": [],
   "source": [
    "with open('wocka.json') as f:\n",
    "    wocka_dict = json.load(f)"
   ]
  },
  {
   "cell_type": "code",
   "execution_count": 20,
   "id": "45283be0",
   "metadata": {
    "hidden": true,
    "pycharm": {
     "name": "#%%\n"
    }
   },
   "outputs": [
    {
     "data": {
      "text/plain": [
       "{'body': \"What's black and white and red all over?\\r\\n\\r\\nA newspaper.\",\n",
       " 'category': 'Other / Misc',\n",
       " 'id': 4,\n",
       " 'title': 'Black, White and Red'}"
      ]
     },
     "execution_count": 20,
     "metadata": {},
     "output_type": "execute_result"
    }
   ],
   "source": [
    "wocka_dict[2]"
   ]
  },
  {
   "cell_type": "code",
   "execution_count": 25,
   "id": "ad91681b",
   "metadata": {
    "hidden": true,
    "pycharm": {
     "name": "#%%\n"
    }
   },
   "outputs": [],
   "source": [
    "wocka_df = pd.DataFrame(wocka_dict) \\\n",
    "    .drop(['id', 'title'], axis=1) \\\n",
    "    .rename(columns={'body': 'punch'}) \n",
    "\n",
    "wocka_df.punch = wocka_df.punch.str.replace('\\n', '').replace('\\t', '')\n",
    "\n",
    "# Specify len < 500\n",
    "wocka_df = wocka_df.loc[wocka_df.punch.apply(len) <= 500]\n",
    "wocka_df = wocka_df.loc[wocka_df.punch.apply(len) > 5]\n",
    "\n",
    "wocka_df['rus_punch'] = None"
   ]
  },
  {
   "cell_type": "code",
   "execution_count": null,
   "id": "8ce09ac5",
   "metadata": {
    "hidden": true,
    "pycharm": {
     "name": "#%%\n"
    }
   },
   "outputs": [],
   "source": [
    "wocka_df = pd.read_csv('../data/eng-joke-dataset/wocka-dataset.tsv',\n",
    "                        sep='\\t')"
   ]
  },
  {
   "cell_type": "code",
   "execution_count": null,
   "id": "eaff6e35",
   "metadata": {
    "hidden": true,
    "pycharm": {
     "name": "#%%\n"
    }
   },
   "outputs": [],
   "source": [
    "while True:\n",
    "    need_translate_df = wocka_df.loc[wocka_df['rus_punch'].isna()]\n",
    "    \n",
    "    if len(need_translate_df) == 0:\n",
    "        break\n",
    "        \n",
    "    print(len(need_translate_df))\n",
    "    \n",
    "    need_translate_index_sample = need_translate_df.iloc[0: min(1000, len(need_translate_df))].index\n",
    "    \n",
    "    wocka_df.loc[need_translate_index_sample, 'rus_punch'] = \\\n",
    "        wocka_df.loc[need_translate_index_sample, 'punch'].progress_apply(translate_eng2rus)"
   ]
  },
  {
   "cell_type": "code",
   "execution_count": null,
   "id": "dfcf482e",
   "metadata": {
    "hidden": true,
    "pycharm": {
     "name": "#%%\n"
    }
   },
   "outputs": [],
   "source": [
    "wocka_df = wocka_df[['rus_punch', 'category']] \\\n",
    "    .rename(columns={'rus_punch': 'joke'})\n",
    "\n",
    "remove_tokens = lambda text: re.sub(r'\\r|\\n|\\t', '', text)\n",
    "\n",
    "wocka_df.joke = wocka_df.joke.apply(remove_tokens)"
   ]
  },
  {
   "cell_type": "code",
   "execution_count": null,
   "id": "19c39a22",
   "metadata": {
    "hidden": true,
    "pycharm": {
     "name": "#%%\n"
    }
   },
   "outputs": [],
   "source": [
    "wocka_df.to_csv('../data/eng-joke-dataset/wocka-dataset.tsv',\n",
    "                 sep='\\t', index=False)"
   ]
  },
  {
   "cell_type": "code",
   "execution_count": 28,
   "id": "44884142",
   "metadata": {
    "hidden": true,
    "pycharm": {
     "name": "#%%\n"
    }
   },
   "outputs": [
    {
     "data": {
      "text/html": [
       "<div>\n",
       "<style scoped>\n",
       "    .dataframe tbody tr th:only-of-type {\n",
       "        vertical-align: middle;\n",
       "    }\n",
       "\n",
       "    .dataframe tbody tr th {\n",
       "        vertical-align: top;\n",
       "    }\n",
       "\n",
       "    .dataframe thead th {\n",
       "        text-align: right;\n",
       "    }\n",
       "</style>\n",
       "<table border=\"1\" class=\"dataframe\">\n",
       "  <thead>\n",
       "    <tr style=\"text-align: right;\">\n",
       "      <th></th>\n",
       "      <th>punch</th>\n",
       "      <th>category</th>\n",
       "    </tr>\n",
       "  </thead>\n",
       "  <tbody>\n",
       "    <tr>\n",
       "      <th>0</th>\n",
       "      <td>What do you call a cow with no legs?\\r\\n\\r\\nGr...</td>\n",
       "      <td>Animal</td>\n",
       "    </tr>\n",
       "    <tr>\n",
       "      <th>1</th>\n",
       "      <td>What do you call a cow jumping over a barbed w...</td>\n",
       "      <td>Animal</td>\n",
       "    </tr>\n",
       "    <tr>\n",
       "      <th>2</th>\n",
       "      <td>What's black and white and red all over?\\r\\n\\r...</td>\n",
       "      <td>Other / Misc</td>\n",
       "    </tr>\n",
       "    <tr>\n",
       "      <th>3</th>\n",
       "      <td>So, this guy walks into a bar.\\r\\n\\r\\nAnd says...</td>\n",
       "      <td>Bar</td>\n",
       "    </tr>\n",
       "    <tr>\n",
       "      <th>4</th>\n",
       "      <td>If the opposite of pro is con, isn't the oppos...</td>\n",
       "      <td>One Liners</td>\n",
       "    </tr>\n",
       "    <tr>\n",
       "      <th>...</th>\n",
       "      <td>...</td>\n",
       "      <td>...</td>\n",
       "    </tr>\n",
       "    <tr>\n",
       "      <th>10014</th>\n",
       "      <td>(A man comes to my register with a mint chocol...</td>\n",
       "      <td>Men / Women</td>\n",
       "    </tr>\n",
       "    <tr>\n",
       "      <th>10015</th>\n",
       "      <td>(I am shelving DVDs in a library when a man co...</td>\n",
       "      <td>Children</td>\n",
       "    </tr>\n",
       "    <tr>\n",
       "      <th>10016</th>\n",
       "      <td>Me: \"That will be 17.50, please.\"\\r\\n\\r\\nCusto...</td>\n",
       "      <td>Religious</td>\n",
       "    </tr>\n",
       "    <tr>\n",
       "      <th>10017</th>\n",
       "      <td>Me: \"Sir, would you like to use any coupons to...</td>\n",
       "      <td>At Work</td>\n",
       "    </tr>\n",
       "    <tr>\n",
       "      <th>10018</th>\n",
       "      <td>Customer: \"Are you Hispanic?\"\\r\\n\\r\\nMe: \"No.\"...</td>\n",
       "      <td>Insults</td>\n",
       "    </tr>\n",
       "  </tbody>\n",
       "</table>\n",
       "<p>10019 rows × 2 columns</p>\n",
       "</div>"
      ],
      "text/plain": [
       "                                                   punch      category\n",
       "0      What do you call a cow with no legs?\\r\\n\\r\\nGr...        Animal\n",
       "1      What do you call a cow jumping over a barbed w...        Animal\n",
       "2      What's black and white and red all over?\\r\\n\\r...  Other / Misc\n",
       "3      So, this guy walks into a bar.\\r\\n\\r\\nAnd says...           Bar\n",
       "4      If the opposite of pro is con, isn't the oppos...    One Liners\n",
       "...                                                  ...           ...\n",
       "10014  (A man comes to my register with a mint chocol...   Men / Women\n",
       "10015  (I am shelving DVDs in a library when a man co...      Children\n",
       "10016  Me: \"That will be 17.50, please.\"\\r\\n\\r\\nCusto...     Religious\n",
       "10017  Me: \"Sir, would you like to use any coupons to...       At Work\n",
       "10018  Customer: \"Are you Hispanic?\"\\r\\n\\r\\nMe: \"No.\"...       Insults\n",
       "\n",
       "[10019 rows x 2 columns]"
      ]
     },
     "execution_count": 28,
     "metadata": {},
     "output_type": "execute_result"
    }
   ],
   "source": [
    "wocka_df"
   ]
  },
  {
   "cell_type": "code",
   "execution_count": 28,
   "outputs": [],
   "source": [
    "df = pd.read_csv('../data/eng-joke-dataset/wocka-dataset.tsv', sep='\\t')\n",
    "df[['joke']].to_csv('../data/agg-complete-text-dataset/wocka-dataset.csv', index=False)"
   ],
   "metadata": {
    "collapsed": false,
    "pycharm": {
     "name": "#%%\n"
    }
   }
  },
  {
   "cell_type": "markdown",
   "id": "69cf38ad",
   "metadata": {
    "heading_collapsed": true,
    "pycharm": {
     "name": "#%% md\n"
    }
   },
   "source": [
    "## Twitter dataset"
   ]
  },
  {
   "cell_type": "markdown",
   "source": [
    "Dataset collected in twitter (russian researches which already tried to solve this problem). On russian language. No marks."
   ],
   "metadata": {
    "collapsed": false,
    "pycharm": {
     "name": "#%% md\n"
    }
   }
  },
  {
   "cell_type": "code",
   "execution_count": 58,
   "id": "8dfb3aef",
   "metadata": {
    "hidden": true,
    "pycharm": {
     "name": "#%%\n"
    }
   },
   "outputs": [],
   "source": [
    "import pandas as pd\n",
    "import json"
   ]
  },
  {
   "cell_type": "code",
   "execution_count": 59,
   "id": "d3604e0f",
   "metadata": {
    "hidden": true,
    "pycharm": {
     "name": "#%%\n"
    }
   },
   "outputs": [],
   "source": [
    "with open('../data/tweets-dataset/train.json') as f:\n",
    "    train_json = json.load(f)"
   ]
  },
  {
   "cell_type": "code",
   "execution_count": 22,
   "id": "cbdb0b7d",
   "metadata": {
    "hidden": true,
    "pycharm": {
     "name": "#%%\n"
    }
   },
   "outputs": [],
   "source": [
    "with open('../data/tweets-dataset/test.json') as f:\n",
    "    test_json = json.load(f)"
   ]
  },
  {
   "cell_type": "code",
   "execution_count": 25,
   "id": "0b14fe8c",
   "metadata": {
    "hidden": true,
    "pycharm": {
     "name": "#%%\n"
    }
   },
   "outputs": [],
   "source": [
    "df = pd.concat([\n",
    "    pd.DataFrame(train_json.items(), columns=['joke', 'is_joke']),\n",
    "    pd.DataFrame(test_json.items(), columns=['joke', 'is_joke']),\n",
    "], axis=0)\n",
    "df = df.loc[df.is_joke == 1][['joke']]"
   ]
  },
  {
   "cell_type": "code",
   "execution_count": 26,
   "id": "de2ca7c2",
   "metadata": {
    "hidden": true,
    "pycharm": {
     "name": "#%%\n"
    }
   },
   "outputs": [],
   "source": [
    "df.to_csv('../data/tweets-dataset/tweeter_jokes.tsv', sep='\\t', index=False)"
   ]
  },
  {
   "cell_type": "code",
   "execution_count": 31,
   "outputs": [],
   "source": [
    "df = pd.read_csv('../data/tweets-dataset/tweeter_jokes.tsv', sep='\\t')\n",
    "df[['joke']].to_csv('../data/agg-complete-text-dataset/tweeter-dataset.csv', index=False)"
   ],
   "metadata": {
    "collapsed": false,
    "pycharm": {
     "name": "#%%\n"
    }
   }
  },
  {
   "cell_type": "markdown",
   "source": [
    "## Stat parsed dataset"
   ],
   "metadata": {
    "collapsed": false,
    "pycharm": {
     "name": "#%% md\n"
    }
   }
  },
  {
   "cell_type": "markdown",
   "source": [
    "Dataset parsed from stat site from different channels. With mark for each joke."
   ],
   "metadata": {
    "collapsed": false,
    "pycharm": {
     "name": "#%% md\n"
    }
   }
  },
  {
   "cell_type": "code",
   "execution_count": 10,
   "outputs": [],
   "source": [
    "import os\n",
    "from glob import glob\n",
    "import re\n",
    "import pandas as pd\n",
    "\n",
    "from tqdm import tqdm\n",
    "tqdm.pandas()"
   ],
   "metadata": {
    "collapsed": false,
    "pycharm": {
     "name": "#%%\n"
    }
   }
  },
  {
   "cell_type": "code",
   "execution_count": 11,
   "outputs": [
    {
     "data": {
      "text/plain": "(44996, 4)"
     },
     "execution_count": 11,
     "metadata": {},
     "output_type": "execute_result"
    }
   ],
   "source": [
    "df = pd.DataFrame()\n",
    "for filepath in glob('../data/parsed-stat-dataset/parsed_chunk_*.csv'):\n",
    "    temp_df = pd.read_csv(filepath, sep=';', engine='python')\n",
    "\n",
    "    # Remove stop words\n",
    "    temp_df.joke_text = temp_df.joke_text.replace(r'@anekdot18|@AnekdotiRu|Анекдоты🔞|@anekdot_hot|@anekdotitg18|@anekdoti69|Пошлые анекдоты🔞', '', regex=True)\n",
    "    # Remove urls\n",
    "    temp_df.joke_text = temp_df.joke_text.replace(r'https?:\\/\\/.*[\\r\\n]*', '', regex=True)\n",
    "    # Filter by len\n",
    "    temp_df = temp_df.loc[temp_df.joke_text.str.len() > 10]\n",
    "\n",
    "    # Mark binarization\n",
    "    temp_df.joke_mark = pd.qcut(temp_df.joke_mark, 10, labels=False, duplicates='drop')\n",
    "\n",
    "    # print(temp_df.joke_text.sample(3).values)\n",
    "\n",
    "    df = pd.concat([df, temp_df], axis=0)\n",
    "df.shape"
   ],
   "metadata": {
    "collapsed": false,
    "pycharm": {
     "name": "#%%\n"
    }
   }
  },
  {
   "cell_type": "code",
   "execution_count": 12,
   "outputs": [
    {
     "data": {
      "text/plain": "                                     id  \\\n0  4ef4738c-ce5d-4872-a2fc-56e0f35e0bd1   \n1  9757f6f3-06e0-4cfc-861c-697439c7a31f   \n2  1f4711db-f42d-4adb-96da-82d92b73908d   \n3  efc65564-c5f0-4325-8d48-2ce0ff3e181f   \n4  829ac993-0b70-472e-a76f-e8425b6b0285   \n\n                                           joke_text         joke_date  \\\n0  Однажды учёные решили провести эксперимент, ка...  2022-08-17 23:59   \n1  Два мужика бухают. Закончилась водка, а денег ...  2022-08-17 23:01   \n2  Выпивают три мужика.\\nОдин говорит:\\n— Если мы...  2022-08-17 20:07   \n3  Да ты че не знаешь? Петрович умер...\\n- Да ты ...  2022-08-17 19:07   \n4  У моего парня небольшой, сантиметров 13 где-то...  2022-08-17 18:07   \n\n   joke_mark  \n0          1  \n1          0  \n2          2  \n3          2  \n4          0  ",
      "text/html": "<div>\n<style scoped>\n    .dataframe tbody tr th:only-of-type {\n        vertical-align: middle;\n    }\n\n    .dataframe tbody tr th {\n        vertical-align: top;\n    }\n\n    .dataframe thead th {\n        text-align: right;\n    }\n</style>\n<table border=\"1\" class=\"dataframe\">\n  <thead>\n    <tr style=\"text-align: right;\">\n      <th></th>\n      <th>id</th>\n      <th>joke_text</th>\n      <th>joke_date</th>\n      <th>joke_mark</th>\n    </tr>\n  </thead>\n  <tbody>\n    <tr>\n      <th>0</th>\n      <td>4ef4738c-ce5d-4872-a2fc-56e0f35e0bd1</td>\n      <td>Однажды учёные решили провести эксперимент, ка...</td>\n      <td>2022-08-17 23:59</td>\n      <td>1</td>\n    </tr>\n    <tr>\n      <th>1</th>\n      <td>9757f6f3-06e0-4cfc-861c-697439c7a31f</td>\n      <td>Два мужика бухают. Закончилась водка, а денег ...</td>\n      <td>2022-08-17 23:01</td>\n      <td>0</td>\n    </tr>\n    <tr>\n      <th>2</th>\n      <td>1f4711db-f42d-4adb-96da-82d92b73908d</td>\n      <td>Выпивают три мужика.\\nОдин говорит:\\n— Если мы...</td>\n      <td>2022-08-17 20:07</td>\n      <td>2</td>\n    </tr>\n    <tr>\n      <th>3</th>\n      <td>efc65564-c5f0-4325-8d48-2ce0ff3e181f</td>\n      <td>Да ты че не знаешь? Петрович умер...\\n- Да ты ...</td>\n      <td>2022-08-17 19:07</td>\n      <td>2</td>\n    </tr>\n    <tr>\n      <th>4</th>\n      <td>829ac993-0b70-472e-a76f-e8425b6b0285</td>\n      <td>У моего парня небольшой, сантиметров 13 где-то...</td>\n      <td>2022-08-17 18:07</td>\n      <td>0</td>\n    </tr>\n  </tbody>\n</table>\n</div>"
     },
     "execution_count": 12,
     "metadata": {},
     "output_type": "execute_result"
    }
   ],
   "source": [
    "df.head()"
   ],
   "metadata": {
    "collapsed": false,
    "pycharm": {
     "name": "#%%\n"
    }
   }
  },
  {
   "cell_type": "code",
   "execution_count": 48,
   "outputs": [
    {
     "data": {
      "text/plain": "<AxesSubplot:>"
     },
     "execution_count": 48,
     "metadata": {},
     "output_type": "execute_result"
    },
    {
     "data": {
      "text/plain": "<Figure size 432x288 with 1 Axes>",
      "image/png": "[encoded data removed]"
     },
     "metadata": {
      "needs_background": "light"
     },
     "output_type": "display_data"
    }
   ],
   "source": [
    "df.joke_mark.hist()"
   ],
   "metadata": {
    "collapsed": false,
    "pycharm": {
     "name": "#%%\n"
    }
   }
  },
  {
   "cell_type": "code",
   "execution_count": 13,
   "outputs": [],
   "source": [
    "df.rename(columns={'joke_text': 'joke', 'joke_mark': 'mark'}) \\\n",
    "    [['joke', 'mark']] \\\n",
    "    .to_csv('../data/parsed-stat-dataset/stat-dataset.csv', sep=';', index=False)"
   ],
   "metadata": {
    "collapsed": false,
    "pycharm": {
     "name": "#%%\n"
    }
   }
  },
  {
   "cell_type": "code",
   "execution_count": 39,
   "outputs": [],
   "source": [
    "df = pd.read_csv('../data/parsed-stat-dataset/stat-dataset.csv', sep=';')\n",
    "df[['joke']].to_csv('../data/agg-complete-text-dataset/stat-dataset.csv', index=False)\n",
    "df[['joke', 'mark']].to_csv('../data/agg-marked-joke-dataset/stat-dataset.csv', index=False)"
   ],
   "metadata": {
    "collapsed": false,
    "pycharm": {
     "name": "#%%\n"
    }
   }
  },
  {
   "cell_type": "markdown",
   "id": "e70ed095",
   "metadata": {
    "heading_collapsed": true,
    "pycharm": {
     "name": "#%% md\n"
    }
   },
   "source": [
    "## Anecdote dataset"
   ]
  },
  {
   "cell_type": "markdown",
   "source": [
    "Anecdotes were parsed with selenium from site. With mark for each joke."
   ],
   "metadata": {
    "collapsed": false,
    "pycharm": {
     "name": "#%% md\n"
    }
   }
  },
  {
   "cell_type": "code",
   "execution_count": 66,
   "id": "34cd6736",
   "metadata": {
    "hidden": true,
    "pycharm": {
     "name": "#%%\n"
    }
   },
   "outputs": [],
   "source": [
    "import pandas as pd"
   ]
  },
  {
   "cell_type": "code",
   "execution_count": 67,
   "id": "876ad800",
   "metadata": {
    "hidden": true,
    "pycharm": {
     "name": "#%%\n"
    }
   },
   "outputs": [
    {
     "data": {
      "text/plain": "(82900, 2)"
     },
     "execution_count": 67,
     "metadata": {},
     "output_type": "execute_result"
    }
   ],
   "source": [
    "df = pd.read_csv('../data/anecdote-dataset/anecdote_dataset.tsv', sep='\\t')\n",
    "# Mark binarization\n",
    "df.likes = pd.qcut(df.likes, 10, labels=False, duplicates='drop')\n",
    "df.shape"
   ]
  },
  {
   "cell_type": "code",
   "execution_count": 68,
   "id": "3afb5398",
   "metadata": {
    "hidden": true,
    "pycharm": {
     "name": "#%%\n"
    }
   },
   "outputs": [
    {
     "data": {
      "text/plain": "                                           joke_text  likes\n0  - Все проблемы в Думе решит Максим.\\n- Это кто...      8\n1  Муж с женой в постели. Жена спит, мужу не спит...      7\n2  Никогда не забывай свои корни! Постоянно закра...      7\n3  - Скажите, вы - натуральная блондинка?\\n- Ммм....      5\n4  Ходил с друзьями на курсы по избавлению от мат...      5",
      "text/html": "<div>\n<style scoped>\n    .dataframe tbody tr th:only-of-type {\n        vertical-align: middle;\n    }\n\n    .dataframe tbody tr th {\n        vertical-align: top;\n    }\n\n    .dataframe thead th {\n        text-align: right;\n    }\n</style>\n<table border=\"1\" class=\"dataframe\">\n  <thead>\n    <tr style=\"text-align: right;\">\n      <th></th>\n      <th>joke_text</th>\n      <th>likes</th>\n    </tr>\n  </thead>\n  <tbody>\n    <tr>\n      <th>0</th>\n      <td>- Все проблемы в Думе решит Максим.\\n- Это кто...</td>\n      <td>8</td>\n    </tr>\n    <tr>\n      <th>1</th>\n      <td>Муж с женой в постели. Жена спит, мужу не спит...</td>\n      <td>7</td>\n    </tr>\n    <tr>\n      <th>2</th>\n      <td>Никогда не забывай свои корни! Постоянно закра...</td>\n      <td>7</td>\n    </tr>\n    <tr>\n      <th>3</th>\n      <td>- Скажите, вы - натуральная блондинка?\\n- Ммм....</td>\n      <td>5</td>\n    </tr>\n    <tr>\n      <th>4</th>\n      <td>Ходил с друзьями на курсы по избавлению от мат...</td>\n      <td>5</td>\n    </tr>\n  </tbody>\n</table>\n</div>"
     },
     "execution_count": 68,
     "metadata": {},
     "output_type": "execute_result"
    }
   ],
   "source": [
    "df.head()"
   ]
  },
  {
   "cell_type": "code",
   "execution_count": 69,
   "outputs": [
    {
     "data": {
      "text/plain": "<AxesSubplot:>"
     },
     "execution_count": 69,
     "metadata": {},
     "output_type": "execute_result"
    },
    {
     "data": {
      "text/plain": "<Figure size 432x288 with 1 Axes>",
      "image/png": "[encoded data removed]"
     },
     "metadata": {
      "needs_background": "light"
     },
     "output_type": "display_data"
    }
   ],
   "source": [
    "df.likes.hist()"
   ],
   "metadata": {
    "collapsed": false,
    "pycharm": {
     "name": "#%%\n"
    }
   }
  },
  {
   "cell_type": "code",
   "execution_count": 70,
   "outputs": [],
   "source": [
    "df.rename(columns={'joke_text': 'joke', 'likes': 'mark'}) \\\n",
    "    [['joke', 'mark']] \\\n",
    "    .to_csv('../data/anecdote-dataset/anecdote_dataset_bin.tsv', sep='\\t', index=False)"
   ],
   "metadata": {
    "collapsed": false,
    "pycharm": {
     "name": "#%%\n"
    }
   }
  },
  {
   "cell_type": "code",
   "execution_count": 40,
   "outputs": [],
   "source": [
    "df = pd.read_csv('../data/anecdote-dataset/anecdote_dataset_bin.tsv', sep='\\t')\n",
    "df[['joke']].to_csv('../data/agg-complete-text-dataset/anecdote-dataset.csv', index=False)\n",
    "df[['joke', 'mark']].to_csv('../data/agg-marked-joke-dataset/anecdote-dataset.csv', index=False)"
   ],
   "metadata": {
    "collapsed": false,
    "pycharm": {
     "name": "#%%\n"
    }
   }
  },
  {
   "cell_type": "markdown",
   "source": [
    "## KVN"
   ],
   "metadata": {
    "collapsed": false,
    "pycharm": {
     "name": "#%% md\n"
    }
   }
  },
  {
   "cell_type": "code",
   "execution_count": 47,
   "outputs": [],
   "source": [
    "df = pd.read_csv('../data/kvn-dataset/kvn_dataset.tsv', sep='\\t')\n",
    "df = df.rename(columns={'joke_text': 'joke'})"
   ],
   "metadata": {
    "collapsed": false,
    "pycharm": {
     "name": "#%%\n"
    }
   }
  },
  {
   "cell_type": "code",
   "execution_count": 49,
   "outputs": [],
   "source": [
    "df[['joke']].to_csv('../data/agg-complete-text-dataset/kvn-dataset.csv', index=False)"
   ],
   "metadata": {
    "collapsed": false,
    "pycharm": {
     "name": "#%%\n"
    }
   }
  },
  {
   "cell_type": "markdown",
   "source": [
    "# Join datasets"
   ],
   "metadata": {
    "collapsed": false,
    "pycharm": {
     "name": "#%% md\n"
    }
   }
  },
  {
   "cell_type": "code",
   "execution_count": 55,
   "outputs": [],
   "source": [
    "import pandas as pd\n",
    "import numpy as np\n",
    "import re\n",
    "import plotly.express as px\n",
    "import glob\n",
    "import os"
   ],
   "metadata": {
    "collapsed": false,
    "pycharm": {
     "name": "#%%\n"
    }
   }
  },
  {
   "cell_type": "markdown",
   "id": "5448848f",
   "metadata": {
    "heading_collapsed": true,
    "pycharm": {
     "name": "#%% md\n"
    }
   },
   "source": [
    "## Complete jokes dataset"
   ]
  },
  {
   "cell_type": "markdown",
   "source": [
    "Concatenation of different datasets into one dataset.\n",
    "Trying to split jokes into setup-punch pairs. If split is impossible, then save complete joke."
   ],
   "metadata": {
    "collapsed": false,
    "pycharm": {
     "name": "#%% md\n"
    }
   }
  },
  {
   "cell_type": "code",
   "execution_count": 81,
   "outputs": [],
   "source": [
    "file_names = ['stat-dataset.csv',\n",
    "              'reddit-dataset.csv',\n",
    "              'anecdote-dataset.csv',\n",
    "              'wocka-dataset.csv',\n",
    "              'tweeter-dataset.csv',\n",
    "              'kvn-dataset.csv']\n",
    "preffix = '../data/agg-complete-text-dataset/'"
   ],
   "metadata": {
    "collapsed": false,
    "pycharm": {
     "name": "#%%\n"
    }
   }
  },
  {
   "cell_type": "code",
   "execution_count": 82,
   "outputs": [
    {
     "data": {
      "text/plain": "(336761, 1)"
     },
     "execution_count": 82,
     "metadata": {},
     "output_type": "execute_result"
    }
   ],
   "source": [
    "complete_joke_df = pd.DataFrame()\n",
    "for file_name in file_names:\n",
    "    file_path = os.path.join(preffix, file_name)\n",
    "    temp_df = pd.read_csv(file_path)\n",
    "    assert 'joke' in temp_df.columns.tolist()\n",
    "    complete_joke_df = pd.concat([complete_joke_df, temp_df], axis=0)\n",
    "complete_joke_df = complete_joke_df.reset_index(drop=True)\n",
    "complete_joke_df.shape"
   ],
   "metadata": {
    "collapsed": false,
    "pycharm": {
     "name": "#%%\n"
    }
   }
  },
  {
   "cell_type": "code",
   "execution_count": 83,
   "outputs": [
    {
     "data": {
      "text/plain": "(317045, 1)"
     },
     "execution_count": 83,
     "metadata": {},
     "output_type": "execute_result"
    }
   ],
   "source": [
    "# Clean\n",
    "def remove_special_tokens(text):\n",
    "    result = ''\n",
    "    try:\n",
    "        result = re.sub(r'\\r|\\n|\\t', '', text)\n",
    "    except:\n",
    "        pass\n",
    "    return result\n",
    "\n",
    "complete_joke_df.joke = complete_joke_df.joke.apply(remove_special_tokens)\n",
    "complete_joke_df = complete_joke_df.drop_duplicates(subset=['joke'])\n",
    "complete_joke_df.shape"
   ],
   "metadata": {
    "collapsed": false,
    "pycharm": {
     "name": "#%%\n"
    }
   }
  },
  {
   "cell_type": "code",
   "execution_count": 84,
   "id": "51c2ba77",
   "metadata": {
    "hidden": true,
    "pycharm": {
     "name": "#%%\n"
    }
   },
   "outputs": [
    {
     "data": {
      "text/plain": "                                                     joke\n140232  Повара в нашей столовой действуют по принципу:...\n146328  - Ну, ты прямо как муравей!- Почему?- Да посто...\n104099  - Ты меня слушаешь? Вот что я сейчас сказала?!...\n30699   У мужика в клетке жил попугай. И вот у этого п...\n140047  Для собственного благополучия надо уметь: закр...",
      "text/html": "<div>\n<style scoped>\n    .dataframe tbody tr th:only-of-type {\n        vertical-align: middle;\n    }\n\n    .dataframe tbody tr th {\n        vertical-align: top;\n    }\n\n    .dataframe thead th {\n        text-align: right;\n    }\n</style>\n<table border=\"1\" class=\"dataframe\">\n  <thead>\n    <tr style=\"text-align: right;\">\n      <th></th>\n      <th>joke</th>\n    </tr>\n  </thead>\n  <tbody>\n    <tr>\n      <th>140232</th>\n      <td>Повара в нашей столовой действуют по принципу:...</td>\n    </tr>\n    <tr>\n      <th>146328</th>\n      <td>- Ну, ты прямо как муравей!- Почему?- Да посто...</td>\n    </tr>\n    <tr>\n      <th>104099</th>\n      <td>- Ты меня слушаешь? Вот что я сейчас сказала?!...</td>\n    </tr>\n    <tr>\n      <th>30699</th>\n      <td>У мужика в клетке жил попугай. И вот у этого п...</td>\n    </tr>\n    <tr>\n      <th>140047</th>\n      <td>Для собственного благополучия надо уметь: закр...</td>\n    </tr>\n  </tbody>\n</table>\n</div>"
     },
     "execution_count": 84,
     "metadata": {},
     "output_type": "execute_result"
    }
   ],
   "source": [
    "complete_joke_df.sample(5)"
   ]
  },
  {
   "cell_type": "markdown",
   "source": [
    "px.histogram(complete_joke_df.joke.str.len())"
   ],
   "metadata": {
    "collapsed": false,
    "pycharm": {
     "name": "#%% md\n"
    }
   }
  },
  {
   "cell_type": "markdown",
   "id": "ffc49ddb",
   "metadata": {
    "hidden": true,
    "pycharm": {
     "name": "#%% md\n"
    }
   },
   "source": [
    "### Try to find setup and punch in complete joke"
   ]
  },
  {
   "cell_type": "code",
   "execution_count": 85,
   "id": "d4f0e348",
   "metadata": {
    "hidden": true,
    "pycharm": {
     "name": "#%%\n"
    }
   },
   "outputs": [],
   "source": [
    "def setup_punch_split(text):\n",
    "    parts = re.split(r'\\.{3}|\\.|\\?|\\!|:', text)\n",
    "    \n",
    "    if (len(parts) > 3) or (len(parts) < 2):\n",
    "        return None\n",
    "    \n",
    "    if (len(parts[-1]) == 0):\n",
    "        parts = parts[:-1]\n",
    "        \n",
    "    if (len(parts) == 2) and (len(parts[0]) > 10) and (len(parts[1]) > 10):\n",
    "        return (parts[0].strip(), parts[1].strip())"
   ]
  },
  {
   "cell_type": "code",
   "execution_count": 86,
   "outputs": [
    {
     "data": {
      "text/plain": "(71505, 2)"
     },
     "execution_count": 86,
     "metadata": {},
     "output_type": "execute_result"
    }
   ],
   "source": [
    "punch_setup_df = complete_joke_df.copy()\n",
    "punch_setup_df['setup_punch'] = punch_setup_df.joke.apply(setup_punch_split)\n",
    "punch_setup_df = punch_setup_df.loc[~punch_setup_df.setup_punch.isna()]\n",
    "punch_setup_df = pd.DataFrame(punch_setup_df.setup_punch.tolist(), columns=['setup', 'punch'])\n",
    "punch_setup_df.shape"
   ],
   "metadata": {
    "collapsed": false,
    "pycharm": {
     "name": "#%%\n"
    }
   }
  },
  {
   "cell_type": "code",
   "execution_count": 87,
   "id": "41a4eda2",
   "metadata": {
    "hidden": true,
    "pycharm": {
     "name": "#%%\n"
    }
   },
   "outputs": [
    {
     "data": {
      "text/plain": "(258887, 1)"
     },
     "execution_count": 87,
     "metadata": {},
     "output_type": "execute_result"
    }
   ],
   "source": [
    "# Remove setup-punch from complete dataset\n",
    "complete_joke_df = complete_joke_df.loc[~complete_joke_df.index.isin(punch_setup_df.index)]\n",
    "complete_joke_df.shape"
   ]
  },
  {
   "cell_type": "code",
   "execution_count": 88,
   "id": "77135dce",
   "metadata": {
    "hidden": true,
    "pycharm": {
     "name": "#%%\n"
    }
   },
   "outputs": [],
   "source": [
    "# Save\n",
    "punch_setup_df.to_csv('../data/agg-setup-punch-dataset/setup-punch-from-complete-jokes.csv', index=False)\n",
    "complete_joke_df.to_csv('../data/agg-complete-text-dataset/agg-complete-text-dataset.csv', index=False)"
   ]
  },
  {
   "cell_type": "markdown",
   "id": "520e3e87",
   "metadata": {
    "heading_collapsed": true,
    "pycharm": {
     "name": "#%% md\n"
    }
   },
   "source": [
    "## Setup-punch datasets"
   ]
  },
  {
   "cell_type": "markdown",
   "source": [
    "Concatenate setup-punch datasets together and clean text."
   ],
   "metadata": {
    "collapsed": false,
    "pycharm": {
     "name": "#%% md\n"
    }
   }
  },
  {
   "cell_type": "code",
   "execution_count": 91,
   "outputs": [],
   "source": [
    "file_names = ['comedy-news-tg.csv',\n",
    "              'setup-punch-from-complete-jokes.csv']\n",
    "preffix = '../data/agg-setup-punch-dataset/'"
   ],
   "metadata": {
    "collapsed": false,
    "pycharm": {
     "name": "#%%\n"
    }
   }
  },
  {
   "cell_type": "code",
   "execution_count": 93,
   "outputs": [
    {
     "data": {
      "text/plain": "(86901, 2)"
     },
     "execution_count": 93,
     "metadata": {},
     "output_type": "execute_result"
    }
   ],
   "source": [
    "setup_punch_df = pd.DataFrame()\n",
    "for file_name in file_names:\n",
    "    file_path = os.path.join(preffix, file_name)\n",
    "    temp_df = pd.read_csv(file_path)\n",
    "    assert 'setup' in temp_df.columns.tolist()\n",
    "    assert 'punch' in temp_df.columns.tolist()\n",
    "    setup_punch_df = pd.concat([setup_punch_df, temp_df], axis=0)\n",
    "setup_punch_df = setup_punch_df.reset_index(drop=True)\n",
    "setup_punch_df.shape"
   ],
   "metadata": {
    "collapsed": false,
    "pycharm": {
     "name": "#%%\n"
    }
   }
  },
  {
   "cell_type": "code",
   "execution_count": 94,
   "outputs": [
    {
     "data": {
      "text/plain": "(67480, 2)"
     },
     "execution_count": 94,
     "metadata": {},
     "output_type": "execute_result"
    }
   ],
   "source": [
    "# Clean\n",
    "def remove_special_tokens(text):\n",
    "    result = ''\n",
    "    try:\n",
    "        result = re.sub(r'\\r|\\n|\\t', '', text)\n",
    "    except:\n",
    "        pass\n",
    "    return result\n",
    "\n",
    "setup_punch_df.setup = setup_punch_df.setup.apply(remove_special_tokens)\n",
    "setup_punch_df.punch = setup_punch_df.punch.apply(remove_special_tokens)\n",
    "\n",
    "setup_punch_df = setup_punch_df.drop_duplicates(subset=['setup']).dropna()\n",
    "\n",
    "setup_punch_df = setup_punch_df.loc[setup_punch_df.setup.str.len() > 10]\n",
    "setup_punch_df = setup_punch_df.loc[setup_punch_df.punch.str.len() > 0]\n",
    "\n",
    "setup_punch_df.shape"
   ],
   "metadata": {
    "collapsed": false,
    "pycharm": {
     "name": "#%%\n"
    }
   }
  },
  {
   "cell_type": "code",
   "execution_count": 95,
   "id": "0f7e3b29",
   "metadata": {
    "hidden": true,
    "pycharm": {
     "name": "#%%\n"
    }
   },
   "outputs": [
    {
     "data": {
      "text/plain": "                                                   setup  \\\n83037  Все такие нежные, как цветочки, или заводные к...   \n79622                                   Жизнь — бумеранг   \n63878   Неважно, господа, обстоят дела у Грузии, неважно   \n83253           Коммунисты согласились похоронить Ленина   \n73950  Продолжает мучить вопрос про футбол, хоккей и ...   \n\n                                                   punch  \n83037  Никого пальцем не тронь, или помнутся, или пол...  \n79622        что запустишь, то и вернётся, ещё и вдвойне  \n63878  Так вслед за двумя тысячами своих вояк выводим...  \n83253    но только вместе со всем Кремлевским комплексом  \n73950  Что-же все-таки нашли - золотую рыбку или волш...  ",
      "text/html": "<div>\n<style scoped>\n    .dataframe tbody tr th:only-of-type {\n        vertical-align: middle;\n    }\n\n    .dataframe tbody tr th {\n        vertical-align: top;\n    }\n\n    .dataframe thead th {\n        text-align: right;\n    }\n</style>\n<table border=\"1\" class=\"dataframe\">\n  <thead>\n    <tr style=\"text-align: right;\">\n      <th></th>\n      <th>setup</th>\n      <th>punch</th>\n    </tr>\n  </thead>\n  <tbody>\n    <tr>\n      <th>83037</th>\n      <td>Все такие нежные, как цветочки, или заводные к...</td>\n      <td>Никого пальцем не тронь, или помнутся, или пол...</td>\n    </tr>\n    <tr>\n      <th>79622</th>\n      <td>Жизнь — бумеранг</td>\n      <td>что запустишь, то и вернётся, ещё и вдвойне</td>\n    </tr>\n    <tr>\n      <th>63878</th>\n      <td>Неважно, господа, обстоят дела у Грузии, неважно</td>\n      <td>Так вслед за двумя тысячами своих вояк выводим...</td>\n    </tr>\n    <tr>\n      <th>83253</th>\n      <td>Коммунисты согласились похоронить Ленина</td>\n      <td>но только вместе со всем Кремлевским комплексом</td>\n    </tr>\n    <tr>\n      <th>73950</th>\n      <td>Продолжает мучить вопрос про футбол, хоккей и ...</td>\n      <td>Что-же все-таки нашли - золотую рыбку или волш...</td>\n    </tr>\n  </tbody>\n</table>\n</div>"
     },
     "execution_count": 95,
     "metadata": {},
     "output_type": "execute_result"
    }
   ],
   "source": [
    "setup_punch_df.sample(5)"
   ]
  },
  {
   "cell_type": "markdown",
   "source": [
    "px.histogram(setup_punch_df.setup.str.len())"
   ],
   "metadata": {
    "collapsed": false,
    "pycharm": {
     "name": "#%% md\n"
    }
   }
  },
  {
   "cell_type": "markdown",
   "source": [
    "px.histogram(setup_punch_df.punch.str.len())"
   ],
   "metadata": {
    "collapsed": false,
    "pycharm": {
     "name": "#%% md\n"
    }
   }
  },
  {
   "cell_type": "code",
   "execution_count": 96,
   "outputs": [],
   "source": [
    "setup_punch_df.to_csv('../data/agg-setup-punch-dataset/agg-setup-punch-dataset.csv', index=False)"
   ],
   "metadata": {
    "collapsed": false,
    "pycharm": {
     "name": "#%%\n"
    }
   }
  },
  {
   "cell_type": "markdown",
   "source": [
    "## Marked jokes dataset"
   ],
   "metadata": {
    "collapsed": false,
    "pycharm": {
     "name": "#%% md\n"
    }
   }
  },
  {
   "cell_type": "code",
   "execution_count": 98,
   "outputs": [],
   "source": [
    "file_names = ['stat-dataset.csv',\n",
    "              'anecdote-dataset.csv',\n",
    "              'comedy-news-tg.csv']\n",
    "preffix = '../data/agg-marked-joke-dataset/'"
   ],
   "metadata": {
    "collapsed": false,
    "pycharm": {
     "name": "#%%\n"
    }
   }
  },
  {
   "cell_type": "code",
   "execution_count": 99,
   "outputs": [
    {
     "data": {
      "text/plain": "(143292, 2)"
     },
     "execution_count": 99,
     "metadata": {},
     "output_type": "execute_result"
    }
   ],
   "source": [
    "marked_joke_df = pd.DataFrame()\n",
    "for file_name in file_names:\n",
    "    file_path = os.path.join(preffix, file_name)\n",
    "    temp_df = pd.read_csv(file_path)\n",
    "    assert 'joke' in temp_df.columns.tolist()\n",
    "    assert 'mark' in temp_df.columns.tolist()\n",
    "    marked_joke_df = pd.concat([marked_joke_df, temp_df], axis=0)\n",
    "marked_joke_df = marked_joke_df.reset_index(drop=True)\n",
    "marked_joke_df.shape"
   ],
   "metadata": {
    "collapsed": false,
    "pycharm": {
     "name": "#%%\n"
    }
   }
  },
  {
   "cell_type": "markdown",
   "source": [
    "Concatenation of datasets with joke and mark"
   ],
   "metadata": {
    "collapsed": false,
    "pycharm": {
     "name": "#%% md\n"
    }
   }
  },
  {
   "cell_type": "code",
   "execution_count": 100,
   "outputs": [
    {
     "data": {
      "text/plain": "(130321, 2)"
     },
     "execution_count": 100,
     "metadata": {},
     "output_type": "execute_result"
    }
   ],
   "source": [
    "# Clean\n",
    "def remove_special_tokens(text):\n",
    "    result = ''\n",
    "    try:\n",
    "        result = re.sub(r'\\r|\\n|\\t', '', text)\n",
    "    except:\n",
    "        pass\n",
    "    return result\n",
    "\n",
    "marked_joke_df.joke = marked_joke_df.joke.apply(remove_special_tokens)\n",
    "marked_joke_df = marked_joke_df.drop_duplicates(subset=['joke']).dropna()\n",
    "marked_joke_df.shape"
   ],
   "metadata": {
    "collapsed": false,
    "pycharm": {
     "name": "#%%\n"
    }
   }
  },
  {
   "cell_type": "code",
   "execution_count": 101,
   "outputs": [
    {
     "data": {
      "text/plain": "                                                     joke  mark\n48471   Найти работу и наладить личную жизнь ты всегда...     7\n31488   Как называется город, где живут одни карлики?S...     0\n141875  Билл Гейтс предупредил о пандемии страшнее кор...     5\n121799  Медицине известен факт, что женатые живут доль...     6\n94161   - Новый год - это же волшебный праздник, ну ка...     0",
      "text/html": "<div>\n<style scoped>\n    .dataframe tbody tr th:only-of-type {\n        vertical-align: middle;\n    }\n\n    .dataframe tbody tr th {\n        vertical-align: top;\n    }\n\n    .dataframe thead th {\n        text-align: right;\n    }\n</style>\n<table border=\"1\" class=\"dataframe\">\n  <thead>\n    <tr style=\"text-align: right;\">\n      <th></th>\n      <th>joke</th>\n      <th>mark</th>\n    </tr>\n  </thead>\n  <tbody>\n    <tr>\n      <th>48471</th>\n      <td>Найти работу и наладить личную жизнь ты всегда...</td>\n      <td>7</td>\n    </tr>\n    <tr>\n      <th>31488</th>\n      <td>Как называется город, где живут одни карлики?S...</td>\n      <td>0</td>\n    </tr>\n    <tr>\n      <th>141875</th>\n      <td>Билл Гейтс предупредил о пандемии страшнее кор...</td>\n      <td>5</td>\n    </tr>\n    <tr>\n      <th>121799</th>\n      <td>Медицине известен факт, что женатые живут доль...</td>\n      <td>6</td>\n    </tr>\n    <tr>\n      <th>94161</th>\n      <td>- Новый год - это же волшебный праздник, ну ка...</td>\n      <td>0</td>\n    </tr>\n  </tbody>\n</table>\n</div>"
     },
     "execution_count": 101,
     "metadata": {},
     "output_type": "execute_result"
    }
   ],
   "source": [
    "marked_joke_df.sample(5)"
   ],
   "metadata": {
    "collapsed": false,
    "pycharm": {
     "name": "#%%\n"
    }
   }
  },
  {
   "cell_type": "code",
   "execution_count": 102,
   "outputs": [],
   "source": [
    "marked_joke_df.to_csv('../data/agg-marked-joke-dataset/agg-marked-joke-dataset.csv', index=False)"
   ],
   "metadata": {
    "collapsed": false,
    "pycharm": {
     "name": "#%%\n"
    }
   }
  },
  {
   "cell_type": "markdown",
   "source": [
    "# Generation dataset"
   ],
   "metadata": {
    "collapsed": false,
    "pycharm": {
     "name": "#%% md\n"
    }
   }
  },
  {
   "cell_type": "code",
   "execution_count": 159,
   "outputs": [],
   "source": [
    "inspiration_prefix = 'Сгенерировать вдохновение: '\n",
    "mark_prefix = 'Сгенерировать оценку: '\n",
    "punch_prefix = 'Сгенерировать шутку: '"
   ],
   "metadata": {
    "collapsed": false,
    "pycharm": {
     "name": "#%%\n"
    }
   }
  },
  {
   "cell_type": "code",
   "execution_count": 160,
   "outputs": [],
   "source": [
    "import pandas as pd\n",
    "import spacy\n",
    "from multi_rake import Rake\n",
    "rake = Rake(language_code='ru')\n",
    "nlp = spacy.load(\"ru_core_news_md\")\n",
    "def get_inspiration(text):\n",
    "    keywords = rake.apply(text)\n",
    "    if len(keywords) == 0:\n",
    "        return ''\n",
    "    keyword = keywords[0][0]\n",
    "    lem_keywords = [token.lemma_ for token in nlp(keyword)]\n",
    "    return ' '.join(lem_keywords)"
   ],
   "metadata": {
    "collapsed": false,
    "pycharm": {
     "name": "#%%\n"
    }
   }
  },
  {
   "cell_type": "code",
   "execution_count": 161,
   "outputs": [],
   "source": [
    "marked_joke_df_ = pd.read_csv('../data/agg-marked-joke-dataset/agg-marked-joke-dataset.csv')\n",
    "setup_punch_df_ = pd.read_csv('../data/agg-setup-punch-dataset/agg-setup-punch-dataset.csv')"
   ],
   "metadata": {
    "collapsed": false,
    "pycharm": {
     "name": "#%%\n"
    }
   }
  },
  {
   "cell_type": "code",
   "execution_count": 162,
   "outputs": [
    {
     "name": "stderr",
     "output_type": "stream",
     "text": [
      "100%|██████████| 67480/67480 [03:18<00:00, 340.52it/s]\n"
     ]
    }
   ],
   "source": [
    "# Generate inspiration\n",
    "setup_punch_df_['inspiration'] = setup_punch_df_['punch'].progress_apply(get_inspiration)"
   ],
   "metadata": {
    "collapsed": false,
    "pycharm": {
     "name": "#%%\n"
    }
   }
  },
  {
   "cell_type": "code",
   "execution_count": 163,
   "outputs": [],
   "source": [
    "# Inspiration\n",
    "inspiration_df = setup_punch_df_.copy()\n",
    "inspiration_df['input'] = inspiration_prefix + inspiration_df['setup']\n",
    "inspiration_df['output'] = inspiration_df['inspiration']\n",
    "\n",
    "# Punch\n",
    "setup_punch_df = setup_punch_df_.copy()\n",
    "setup_punch_df['input'] = punch_prefix + setup_punch_df['inspiration'] + '|' + setup_punch_df['setup']\n",
    "setup_punch_df['output'] = setup_punch_df['punch']\n",
    "\n",
    "# Mark\n",
    "marked_joke_df = marked_joke_df_.copy()\n",
    "marked_joke_df['input'] = mark_prefix + marked_joke_df['joke']\n",
    "marked_joke_df['output'] = marked_joke_df['mark']\n",
    "# Reduce size and simplify task\n",
    "marked_joke_df = marked_joke_df.loc[marked_joke_df.output.isin([0, 1, 8, 9])]\n",
    "marked_joke_df.output = np.where(marked_joke_df.output <= 1, 'плохо', 'хорошо')"
   ],
   "metadata": {
    "collapsed": false,
    "pycharm": {
     "name": "#%%\n"
    }
   }
  },
  {
   "cell_type": "code",
   "execution_count": 164,
   "outputs": [
    {
     "data": {
      "text/plain": "плохо     50373\nхорошо    17645\nName: output, dtype: int64"
     },
     "execution_count": 164,
     "metadata": {},
     "output_type": "execute_result"
    }
   ],
   "source": [
    "marked_joke_df.output.value_counts()"
   ],
   "metadata": {
    "collapsed": false,
    "pycharm": {
     "name": "#%%\n"
    }
   }
  },
  {
   "cell_type": "code",
   "execution_count": 165,
   "outputs": [],
   "source": [
    "generation_df = pd.concat([inspiration_df[['input', 'output']],\n",
    "                           setup_punch_df[['input', 'output']],\n",
    "                           marked_joke_df[['input', 'output']]], axis=0).sample(frac=1)\n",
    "generation_df = generation_df.loc[generation_df.output.str.len() > 0]\n",
    "generation_df = generation_df.loc[generation_df.input.str.len() > 0]"
   ],
   "metadata": {
    "collapsed": false,
    "pycharm": {
     "name": "#%%\n"
    }
   }
  },
  {
   "cell_type": "code",
   "execution_count": 166,
   "outputs": [
    {
     "data": {
      "text/plain": "Сгенерировать оценку         68018\nСгенерировать шутку          67480\nСгенерировать вдохновение    65142\nName: input, dtype: int64"
     },
     "execution_count": 166,
     "metadata": {},
     "output_type": "execute_result"
    }
   ],
   "source": [
    "generation_df.input.str.split(':').str[0].value_counts()"
   ],
   "metadata": {
    "collapsed": false,
    "pycharm": {
     "name": "#%%\n"
    }
   }
  },
  {
   "cell_type": "code",
   "execution_count": 168,
   "outputs": [
    {
     "data": {
      "text/plain": "                                                   input  \\\n32869  Сгенерировать оценку: Человек должен не слышат...   \n61750  Сгенерировать шутку: плохо пошутить|Мы с друзь...   \n82351  Сгенерировать оценку: - Сарочка, скажите, а чт...   \n9622   Сгенерировать вдохновение: Есть два вида перво...   \n7447   Сгенерировать шутку: отделаться шлепок|Садомаз...   \n\n                                                  output  \n32869                                             хорошо  \n61750  Так что, если вы плохо пошутили, то просто гов...  \n82351                                              плохо  \n9622                                             весёлый  \n7447                    он отделался шлепком по запястью  ",
      "text/html": "<div>\n<style scoped>\n    .dataframe tbody tr th:only-of-type {\n        vertical-align: middle;\n    }\n\n    .dataframe tbody tr th {\n        vertical-align: top;\n    }\n\n    .dataframe thead th {\n        text-align: right;\n    }\n</style>\n<table border=\"1\" class=\"dataframe\">\n  <thead>\n    <tr style=\"text-align: right;\">\n      <th></th>\n      <th>input</th>\n      <th>output</th>\n    </tr>\n  </thead>\n  <tbody>\n    <tr>\n      <th>32869</th>\n      <td>Сгенерировать оценку: Человек должен не слышат...</td>\n      <td>хорошо</td>\n    </tr>\n    <tr>\n      <th>61750</th>\n      <td>Сгенерировать шутку: плохо пошутить|Мы с друзь...</td>\n      <td>Так что, если вы плохо пошутили, то просто гов...</td>\n    </tr>\n    <tr>\n      <th>82351</th>\n      <td>Сгенерировать оценку: - Сарочка, скажите, а чт...</td>\n      <td>плохо</td>\n    </tr>\n    <tr>\n      <th>9622</th>\n      <td>Сгенерировать вдохновение: Есть два вида перво...</td>\n      <td>весёлый</td>\n    </tr>\n    <tr>\n      <th>7447</th>\n      <td>Сгенерировать шутку: отделаться шлепок|Садомаз...</td>\n      <td>он отделался шлепком по запястью</td>\n    </tr>\n  </tbody>\n</table>\n</div>"
     },
     "execution_count": 168,
     "metadata": {},
     "output_type": "execute_result"
    }
   ],
   "source": [
    "generation_df.sample(5)"
   ],
   "metadata": {
    "collapsed": false,
    "pycharm": {
     "name": "#%%\n"
    }
   }
  },
  {
   "cell_type": "code",
   "execution_count": 169,
   "outputs": [],
   "source": [
    "generation_df.to_csv('../data/agg-generation-dataset/agg-generation-dataset.csv', index=False)\n",
    "split = np.random.choice([0, 1, 2], p=[0.9, 0.08, 0.02], size=len(generation_df))\n",
    "generation_df.iloc[split == 0].to_csv('../data/agg-generation-dataset/agg-generation-dataset-train.csv', index=False)\n",
    "generation_df.iloc[split == 1].to_csv('../data/agg-generation-dataset/agg-generation-dataset-valid.csv', index=False)\n",
    "generation_df.iloc[split == 2].to_csv('../data/agg-generation-dataset/agg-generation-dataset-test.csv', index=False)"
   ],
   "metadata": {
    "collapsed": false,
    "pycharm": {
     "name": "#%%\n"
    }
   }
  },
  {
   "cell_type": "code",
   "execution_count": null,
   "outputs": [],
   "source": [],
   "metadata": {
    "collapsed": false,
    "pycharm": {
     "name": "#%%\n"
    }
   }
  }
 ],
 "metadata": {
  "kernelspec": {
   "display_name": "Python 3 (ipykernel)",
   "language": "python",
   "name": "python3"
  },
  "language_info": {
   "codemirror_mode": {
    "name": "ipython",
    "version": 3
   },
   "file_extension": ".py",
   "mimetype": "text/x-python",
   "name": "python",
   "nbconvert_exporter": "python",
   "pygments_lexer": "ipython3",
   "version": "3.8.9"
  }
 },
 "nbformat": 4,
 "nbformat_minor": 5
}