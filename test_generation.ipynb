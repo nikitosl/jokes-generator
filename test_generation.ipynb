{
 "cells": [
  {
   "cell_type": "code",
   "execution_count": 46,
   "id": "9aba4707-3b2d-4fbc-b752-77f8a3a39be7",
   "metadata": {
    "pycharm": {
     "name": "#%%\n"
    }
   },
   "outputs": [],
   "source": [
    "from transformers import T5Tokenizer, T5ForConditionalGeneration\n",
    "import pandas as pd"
   ]
  },
  {
   "cell_type": "code",
   "execution_count": 47,
   "id": "c40f4e1e-7b97-44cf-b966-f095061e76e9",
   "metadata": {
    "pycharm": {
     "name": "#%%\n"
    }
   },
   "outputs": [],
   "source": [
    "df = pd.read_csv('data/agg-setup-punch-dataset-test.csv')\n",
    "df['setup'] = 'PunchGeneration:' + df['setup']"
   ]
  },
  {
   "cell_type": "code",
   "execution_count": 44,
   "id": "27082a37-6613-4c82-91f9-0be042089402",
   "metadata": {
    "pycharm": {
     "name": "#%%\n"
    }
   },
   "outputs": [],
   "source": [
    "# model_name, model_type = \"sberbank-ai/ruT5-base\", \"pytorch\"\n",
    "model_name, model_type = \"naltukhov/joke-generator-rus-t5\", \"flax\""
   ]
  },
  {
   "cell_type": "code",
   "execution_count": 45,
   "id": "58ba3fe3-a4cc-42f6-93a7-509e97077cae",
   "metadata": {
    "pycharm": {
     "name": "#%%\n"
    }
   },
   "outputs": [
    {
     "name": "stderr",
     "output_type": "stream",
     "text": [
      "All Flax model weights were used when initializing T5ForConditionalGeneration.\n",
      "\n",
      "Some weights of T5ForConditionalGeneration were not initialized from the Flax model and are newly initialized: ['encoder.embed_tokens.weight', 'lm_head.weight', 'decoder.embed_tokens.weight']\n",
      "You should probably TRAIN this model on a down-stream task to be able to use it for predictions and inference.\n"
     ]
    },
    {
     "name": "stdout",
     "output_type": "stream",
     "text": [
      "Setup: <setup>У министра образования Фурсенко из клетки улетел попугай\n",
      "Punch: В первый же час свободы злостно обгадил памятники Ломоносову, Менделееву, Чернышевскому и Лермонтову\n",
      "Predict: ,,,,,,,,,\n"
     ]
    }
   ],
   "source": [
    "tokenizer = T5Tokenizer.from_pretrained(model_name, from_flax=model_type==\"flax\")\n",
    "model = T5ForConditionalGeneration.from_pretrained(model_name, from_flax=model_type==\"flax\")\n",
    "\n",
    "setup, punch = df.sample().values[0]\n",
    "print('Setup:', setup)\n",
    "print('Punch:', punch)\n",
    "input_ids = tokenizer(setup, return_tensors=\"pt\").input_ids\n",
    "\n",
    "predict_ids = model.generate(input_ids)\n",
    "predict = tokenizer.decode(predict_ids[0], skip_special_tokens=True)\n",
    "print('Predict:', predict)"
   ]
  },
  {
   "cell_type": "code",
   "execution_count": null,
   "id": "84d2f1ed-7220-4cef-937a-f2507c39c40a",
   "metadata": {
    "pycharm": {
     "name": "#%%\n"
    }
   },
   "outputs": [],
   "source": []
  }
 ],
 "metadata": {
  "kernelspec": {
   "display_name": "Python 3 (ipykernel)",
   "language": "python",
   "name": "python3"
  },
  "language_info": {
   "codemirror_mode": {
    "name": "ipython",
    "version": 3
   },
   "file_extension": ".py",
   "mimetype": "text/x-python",
   "name": "python",
   "nbconvert_exporter": "python",
   "pygments_lexer": "ipython3",
   "version": "3.8.10"
  }
 },
 "nbformat": 4,
 "nbformat_minor": 5
}